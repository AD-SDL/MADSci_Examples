{
 "cells": [
  {
   "cell_type": "markdown",
   "metadata": {},
   "source": [
    "# Conducting Automated/Autonomous Experiments with MADSci\n",
    "\n",
    "This aims to teach you how to define and run automated/autonomous Experimental Campaigns using one or more MADSci Workcells.\n",
    "\n",
    "## Goals\n",
    "\n",
    "After completing this notebook, you should understand\n",
    "\n",
    "1. How to leverage a MADSci Experiment Manager via the Experiment Application\n",
    "2. How to define and use MADSci `ExperimentApplication`s to manage data, resources, logging and workflows for you scientific applications. \n"
   ]
  },
  {
   "cell_type": "markdown",
   "metadata": {},
   "source": [
    "## What is an Experiment Application?\n",
    "\n",
    "Once we have established the managers that we will use in our lab, we need an efficient way to interact with and organize the workflows, resources and datapoints that we will use to actually do science. To do this, we need to create an Experiment Application. An Experiment Application is a Python class that inherets from the abstract `ExperimentApplication` class defined in `madsci.client`. It contains an `ExperimentClient`, which communicates with the Experiment Manager. "
   ]
  },
  {
   "cell_type": "code",
   "execution_count": null,
   "metadata": {},
   "outputs": [],
   "source": [
    "# Install dependencies\n",
    "%pip install madsci.client"
   ]
  },
  {
   "cell_type": "code",
   "execution_count": null,
   "metadata": {},
   "outputs": [
    {
     "name": "stdout",
     "output_type": "stream",
     "text": [
      "experiment_name='Example Experiment' experiment_description='An Example Experiment' resource_conditions=[] ownership_info=OwnershipInfo(user_id=None, experiment_id=None, campaign_id=None, project_id=None, node_id=None, workcell_id=None, lab_id=None, step_id=None, workflow_id=None) event_client_config=None\n"
     ]
    }
   ],
   "source": [
    "from madsci.client.experiment_application import ExperimentApplication, ExperimentDesign\n",
    "#Here is the example start of an Experiment Application\n",
    "class ExampleExperimentApplication(ExperimentApplication):\n",
    "    url = \"http://localhost:8002/\"\n",
    "    experiment_design = ExperimentDesign(experiment_name=\"Example Experiment\", experiment_description=\"An Example Experiment\")\n",
    "experiment_application = ExampleExperimentApplication()\n",
    "print(experiment_application.experiment_design)"
   ]
  },
  {
   "cell_type": "markdown",
   "metadata": {},
   "source": [
    "An Experiment Application contains an `ExperimentDesign` object. This can be as simple as the name and description of the experiment, but can also contain checks to ensure that the resources of the lab are in the correct state to begin a run of the experiment, though this functionality is still being tested and refined\n",
    "\n",
    "\n",
    "By inheriting from `ExperimentApplication`, we gain access to several methods that are useful in organizing our experiments. The first one is `start_experiment`."
   ]
  },
  {
   "cell_type": "code",
   "execution_count": 4,
   "metadata": {},
   "outputs": [
    {
     "data": {
      "text/html": [
       "<pre style=\"white-space:pre;overflow-x:auto;line-height:normal;font-family:Menlo,'DejaVu Sans Mono',consolas,'Courier New',monospace\"><span style=\"color: #008080; text-decoration-color: #008080; font-weight: bold\">2025</span>-<span style=\"color: #008080; text-decoration-color: #008080; font-weight: bold\">04</span>-<span style=\"color: #008080; text-decoration-color: #008080; font-weight: bold\">08</span> <span style=\"color: #00ff00; text-decoration-color: #00ff00; font-weight: bold\">12:40:00</span>.<span style=\"color: #008080; text-decoration-color: #008080; font-weight: bold\">614024</span> <span style=\"font-weight: bold\">(</span>log_info<span style=\"font-weight: bold\">)</span>: Started run <span style=\"color: #008000; text-decoration-color: #008000\">'first_example_2025-04-08 12:40:00.589369'</span> \n",
       "<span style=\"font-weight: bold\">(</span>01JRB7SKYHCPCEYRRVR6Q9GAC4<span style=\"font-weight: bold\">)</span> of experiment <span style=\"color: #008000; text-decoration-color: #008000\">'Example Experiment'</span>\n",
       "</pre>\n"
      ],
      "text/plain": [
       "\u001b[1;36m2025\u001b[0m-\u001b[1;36m04\u001b[0m-\u001b[1;36m08\u001b[0m \u001b[1;92m12:40:00\u001b[0m.\u001b[1;36m614024\u001b[0m \u001b[1m(\u001b[0mlog_info\u001b[1m)\u001b[0m: Started run \u001b[32m'first_example_2025-04-08 12:40:00.589369'\u001b[0m \n",
       "\u001b[1m(\u001b[0m01JRB7SKYHCPCEYRRVR6Q9GAC4\u001b[1m)\u001b[0m of experiment \u001b[32m'Example Experiment'\u001b[0m\n"
      ]
     },
     "metadata": {},
     "output_type": "display_data"
    }
   ],
   "source": [
    "experiment_application = ExampleExperimentApplication()\n",
    "\n",
    "import datetime\n",
    "\n",
    "experiment_application.start_experiment_run(run_name='first_example_'+ str(datetime.datetime.now()), run_description=\"a run of my example experiment\")"
   ]
  },
  {
   "cell_type": "markdown",
   "metadata": {},
   "source": [
    "As we can see, this has started a record of our experiment with a specific, timestamped name and a unique id. \n",
    "Once our experiment is finished, we can call `end_experiment_run` to show that we have completed this specific experiment. "
   ]
  },
  {
   "cell_type": "code",
   "execution_count": 5,
   "metadata": {},
   "outputs": [
    {
     "data": {
      "text/html": [
       "<pre style=\"white-space:pre;overflow-x:auto;line-height:normal;font-family:Menlo,'DejaVu Sans Mono',consolas,'Courier New',monospace\"><span style=\"color: #008080; text-decoration-color: #008080; font-weight: bold\">2025</span>-<span style=\"color: #008080; text-decoration-color: #008080; font-weight: bold\">04</span>-<span style=\"color: #008080; text-decoration-color: #008080; font-weight: bold\">08</span> <span style=\"color: #00ff00; text-decoration-color: #00ff00; font-weight: bold\">12:40:00</span>.<span style=\"color: #008080; text-decoration-color: #008080; font-weight: bold\">690396</span> <span style=\"font-weight: bold\">(</span>log_info<span style=\"font-weight: bold\">)</span>: Ended run <span style=\"color: #008000; text-decoration-color: #008000\">'first_example_2025-04-08 12:40:00.589369'</span> \n",
       "<span style=\"font-weight: bold\">(</span>01JRB7SKYHCPCEYRRVR6Q9GAC4<span style=\"font-weight: bold\">)</span> of experiment <span style=\"color: #008000; text-decoration-color: #008000\">'Example Experiment'</span>\n",
       "</pre>\n"
      ],
      "text/plain": [
       "\u001b[1;36m2025\u001b[0m-\u001b[1;36m04\u001b[0m-\u001b[1;36m08\u001b[0m \u001b[1;92m12:40:00\u001b[0m.\u001b[1;36m690396\u001b[0m \u001b[1m(\u001b[0mlog_info\u001b[1m)\u001b[0m: Ended run \u001b[32m'first_example_2025-04-08 12:40:00.589369'\u001b[0m \n",
       "\u001b[1m(\u001b[0m01JRB7SKYHCPCEYRRVR6Q9GAC4\u001b[1m)\u001b[0m of experiment \u001b[32m'Example Experiment'\u001b[0m\n"
      ]
     },
     "metadata": {},
     "output_type": "display_data"
    }
   ],
   "source": [
    "experiment_application.end_experiment()"
   ]
  },
  {
   "cell_type": "markdown",
   "metadata": {},
   "source": [
    "We can also use it as a context manager!"
   ]
  },
  {
   "cell_type": "code",
   "execution_count": null,
   "metadata": {},
   "outputs": [
    {
     "data": {
      "text/html": [
       "<pre style=\"white-space:pre;overflow-x:auto;line-height:normal;font-family:Menlo,'DejaVu Sans Mono',consolas,'Courier New',monospace\"><span style=\"color: #008080; text-decoration-color: #008080; font-weight: bold\">2025</span>-<span style=\"color: #008080; text-decoration-color: #008080; font-weight: bold\">04</span>-<span style=\"color: #008080; text-decoration-color: #008080; font-weight: bold\">08</span> <span style=\"color: #00ff00; text-decoration-color: #00ff00; font-weight: bold\">12:40:00</span>.<span style=\"color: #008080; text-decoration-color: #008080; font-weight: bold\">739647</span> <span style=\"font-weight: bold\">(</span>log_info<span style=\"font-weight: bold\">)</span>: Started run <span style=\"color: #008000; text-decoration-color: #008000\">'first_example_2025-04-08 12:40:00.718377'</span> \n",
       "<span style=\"font-weight: bold\">(</span>01JRB7SM2KN19HTCGK80GDDG8X<span style=\"font-weight: bold\">)</span> of experiment <span style=\"color: #008000; text-decoration-color: #008000\">'Example Experiment'</span>\n",
       "</pre>\n"
      ],
      "text/plain": [
       "\u001b[1;36m2025\u001b[0m-\u001b[1;36m04\u001b[0m-\u001b[1;36m08\u001b[0m \u001b[1;92m12:40:00\u001b[0m.\u001b[1;36m739647\u001b[0m \u001b[1m(\u001b[0mlog_info\u001b[1m)\u001b[0m: Started run \u001b[32m'first_example_2025-04-08 12:40:00.718377'\u001b[0m \n",
       "\u001b[1m(\u001b[0m01JRB7SM2KN19HTCGK80GDDG8X\u001b[1m)\u001b[0m of experiment \u001b[32m'Example Experiment'\u001b[0m\n"
      ]
     },
     "metadata": {},
     "output_type": "display_data"
    },
    {
     "data": {
      "text/html": [
       "<pre style=\"white-space:pre;overflow-x:auto;line-height:normal;font-family:Menlo,'DejaVu Sans Mono',consolas,'Courier New',monospace\">\n",
       "Example Workflow<span style=\"font-weight: bold\">[</span><span style=\"color: #008000; text-decoration-color: #008000\">'Run Liquidhandler'</span><span style=\"font-weight: bold\">]</span>: Queued on step <span style=\"color: #008080; text-decoration-color: #008080; font-weight: bold\">0</span></pre>\n"
      ],
      "text/plain": [
       "\n",
       "Example Workflow\u001b[1m[\u001b[0m\u001b[32m'Run Liquidhandler'\u001b[0m\u001b[1m]\u001b[0m: Queued on step \u001b[1;36m0\u001b[0m"
      ]
     },
     "metadata": {},
     "output_type": "display_data"
    },
    {
     "data": {
      "text/html": [
       "<pre style=\"white-space:pre;overflow-x:auto;line-height:normal;font-family:Menlo,'DejaVu Sans Mono',consolas,'Courier New',monospace\">.</pre>\n"
      ],
      "text/plain": [
       "."
      ]
     },
     "metadata": {},
     "output_type": "display_data"
    },
    {
     "data": {
      "text/html": [
       "<pre style=\"white-space:pre;overflow-x:auto;line-height:normal;font-family:Menlo,'DejaVu Sans Mono',consolas,'Courier New',monospace\">\n",
       "Example Workflow<span style=\"font-weight: bold\">[</span><span style=\"color: #008000; text-decoration-color: #008000\">'Run Liquidhandler'</span><span style=\"font-weight: bold\">]</span>: Running step <span style=\"color: #008080; text-decoration-color: #008080; font-weight: bold\">0</span></pre>\n"
      ],
      "text/plain": [
       "\n",
       "Example Workflow\u001b[1m[\u001b[0m\u001b[32m'Run Liquidhandler'\u001b[0m\u001b[1m]\u001b[0m: Running step \u001b[1;36m0\u001b[0m"
      ]
     },
     "metadata": {},
     "output_type": "display_data"
    },
    {
     "data": {
      "text/html": [
       "<pre style=\"white-space:pre;overflow-x:auto;line-height:normal;font-family:Menlo,'DejaVu Sans Mono',consolas,'Courier New',monospace\">\n",
       "Example Workflow<span style=\"font-weight: bold\">[</span><span style=\"color: #008000; text-decoration-color: #008000\">'Run Liquidhandler'</span><span style=\"font-weight: bold\">]</span>: Completed Successfully</pre>\n"
      ],
      "text/plain": [
       "\n",
       "Example Workflow\u001b[1m[\u001b[0m\u001b[32m'Run Liquidhandler'\u001b[0m\u001b[1m]\u001b[0m: Completed Successfully"
      ]
     },
     "metadata": {},
     "output_type": "display_data"
    },
    {
     "data": {
      "text/html": [
       "<pre style=\"white-space:pre;overflow-x:auto;line-height:normal;font-family:Menlo,'DejaVu Sans Mono',consolas,'Courier New',monospace\">\n",
       "</pre>\n"
      ],
      "text/plain": [
       "\n"
      ]
     },
     "metadata": {},
     "output_type": "display_data"
    },
    {
     "data": {
      "text/html": [
       "<pre style=\"white-space:pre;overflow-x:auto;line-height:normal;font-family:Menlo,'DejaVu Sans Mono',consolas,'Courier New',monospace\"><span style=\"color: #008080; text-decoration-color: #008080; font-weight: bold\">2025</span>-<span style=\"color: #008080; text-decoration-color: #008080; font-weight: bold\">04</span>-<span style=\"color: #008080; text-decoration-color: #008080; font-weight: bold\">08</span> <span style=\"color: #00ff00; text-decoration-color: #00ff00; font-weight: bold\">12:40:04</span>.<span style=\"color: #008080; text-decoration-color: #008080; font-weight: bold\">919368</span> <span style=\"font-weight: bold\">(</span>log_info<span style=\"font-weight: bold\">)</span>: Ended run <span style=\"color: #008000; text-decoration-color: #008000\">'first_example_2025-04-08 12:40:00.718377'</span> \n",
       "<span style=\"font-weight: bold\">(</span>01JRB7SM2KN19HTCGK80GDDG8X<span style=\"font-weight: bold\">)</span> of experiment <span style=\"color: #008000; text-decoration-color: #008000\">'Example Experiment'</span>\n",
       "</pre>\n"
      ],
      "text/plain": [
       "\u001b[1;36m2025\u001b[0m-\u001b[1;36m04\u001b[0m-\u001b[1;36m08\u001b[0m \u001b[1;92m12:40:04\u001b[0m.\u001b[1;36m919368\u001b[0m \u001b[1m(\u001b[0mlog_info\u001b[1m)\u001b[0m: Ended run \u001b[32m'first_example_2025-04-08 12:40:00.718377'\u001b[0m \n",
       "\u001b[1m(\u001b[0m01JRB7SM2KN19HTCGK80GDDG8X\u001b[1m)\u001b[0m of experiment \u001b[32m'Example Experiment'\u001b[0m\n"
      ]
     },
     "metadata": {},
     "output_type": "display_data"
    }
   ],
   "source": [
    "from madsci.common.types.workflow_types import WorkflowDefinition\n",
    "\n",
    "workflow = WorkflowDefinition(name = \"Example Workflow\",\n",
    "    steps = [\n",
    "       {\"name\": \"Run Liquidhandler\",\n",
    "        \"description\" :\"Run the Liquidhandler\",\n",
    "        \"node\": \"liquidhandler_1\",\n",
    "         \"action\": \"run_command\",\n",
    "         \"args\": {\n",
    "             \"command\": \"first_command\"\n",
    "             }\n",
    "       }\n",
    "\n",
    "    ]\n",
    ")\n",
    "\n",
    "with experiment_application.manage_experiment(run_name='first_example_'+ str(datetime.datetime.now()), run_description=\"a run of my example experiment\"):\n",
    "    experiment_application.workcell_client.start_workflow(workflow)"
   ]
  },
  {
   "cell_type": "markdown",
   "metadata": {},
   "source": [
    "### What can we do with an Experiment application?\n",
    "\n",
    "#### We can run workflows!\n",
    "Workflows are a list of ordered steps for different robots that are managed by the workcell manager. Each step contains a specific action for a specific node to run, along with the necessary arguments for that action to run.\n"
   ]
  },
  {
   "cell_type": "code",
   "execution_count": null,
   "metadata": {},
   "outputs": [
    {
     "ename": "HTTPError",
     "evalue": "500 Server Error: Internal Server Error for url: http://localhost:8004/resource/01JR8F3KF3BPZG1BEDK9DKXNWH/pop",
     "output_type": "error",
     "traceback": [
      "\u001b[0;31m---------------------------------------------------------------------------\u001b[0m",
      "\u001b[0;31mHTTPError\u001b[0m                                 Traceback (most recent call last)",
      "Cell \u001b[0;32mIn[13], line 43\u001b[0m\n\u001b[1;32m     40\u001b[0m \u001b[38;5;28;01mfrom\u001b[39;00m \u001b[38;5;21;01mmadsci\u001b[39;00m\u001b[38;5;21;01m.\u001b[39;00m\u001b[38;5;21;01mcommon\u001b[39;00m\u001b[38;5;21;01m.\u001b[39;00m\u001b[38;5;21;01mtypes\u001b[39;00m\u001b[38;5;21;01m.\u001b[39;00m\u001b[38;5;21;01mresource_types\u001b[39;00m \u001b[38;5;28;01mimport\u001b[39;00m Asset\n\u001b[1;32m     42\u001b[0m asset \u001b[38;5;241m=\u001b[39m experiment_application\u001b[38;5;241m.\u001b[39mresource_client\u001b[38;5;241m.\u001b[39madd_resource(Asset(resource_name\u001b[38;5;241m=\u001b[39m\u001b[38;5;124m\"\u001b[39m\u001b[38;5;124mmy_asset\u001b[39m\u001b[38;5;124m\"\u001b[39m,resource_type\u001b[38;5;241m=\u001b[39m\u001b[38;5;124m\"\u001b[39m\u001b[38;5;124mwell_plate\u001b[39m\u001b[38;5;124m\"\u001b[39m)) \u001b[38;5;66;03m#Define a plate \u001b[39;00m\n\u001b[0;32m---> 43\u001b[0m \u001b[43mexperiment_application\u001b[49m\u001b[38;5;241;43m.\u001b[39;49m\u001b[43mresource_client\u001b[49m\u001b[38;5;241;43m.\u001b[39;49m\u001b[43mpop\u001b[49m\u001b[43m(\u001b[49m\u001b[38;5;124;43m\"\u001b[39;49m\u001b[38;5;124;43m01JR8F3KF3BPZG1BEDK9DKXNWH\u001b[39;49m\u001b[38;5;124;43m\"\u001b[39;49m\u001b[43m)\u001b[49m \u001b[38;5;66;03m#clear the resource for location_1\u001b[39;00m\n\u001b[1;32m     44\u001b[0m experiment_application\u001b[38;5;241m.\u001b[39mresource_client\u001b[38;5;241m.\u001b[39mpush(\u001b[38;5;124m\"\u001b[39m\u001b[38;5;124m01JR8F3KF3BPZG1BEDK9DKXNWH\u001b[39m\u001b[38;5;124m\"\u001b[39m, asset) \u001b[38;5;66;03m#Push to the resource for location_1\u001b[39;00m\n\u001b[1;32m     45\u001b[0m \u001b[38;5;28;01mtry\u001b[39;00m:\n",
      "File \u001b[0;32m~/workspace/MADSci/src/madsci_client/madsci/client/resource_client.py:371\u001b[0m, in \u001b[0;36mResourceClient.pop\u001b[0;34m(self, resource)\u001b[0m\n\u001b[1;32m    365\u001b[0m resource_id \u001b[38;5;241m=\u001b[39m (\n\u001b[1;32m    366\u001b[0m     resource\u001b[38;5;241m.\u001b[39mresource_id \u001b[38;5;28;01mif\u001b[39;00m \u001b[38;5;28misinstance\u001b[39m(resource, Resource) \u001b[38;5;28;01melse\u001b[39;00m resource\n\u001b[1;32m    367\u001b[0m )\n\u001b[1;32m    368\u001b[0m response \u001b[38;5;241m=\u001b[39m requests\u001b[38;5;241m.\u001b[39mpost(\n\u001b[1;32m    369\u001b[0m     \u001b[38;5;124mf\u001b[39m\u001b[38;5;124m\"\u001b[39m\u001b[38;5;132;01m{\u001b[39;00m\u001b[38;5;28mself\u001b[39m\u001b[38;5;241m.\u001b[39murl\u001b[38;5;132;01m}\u001b[39;00m\u001b[38;5;124m/resource/\u001b[39m\u001b[38;5;132;01m{\u001b[39;00mresource_id\u001b[38;5;132;01m}\u001b[39;00m\u001b[38;5;124m/pop\u001b[39m\u001b[38;5;124m\"\u001b[39m, timeout\u001b[38;5;241m=\u001b[39m\u001b[38;5;241m10\u001b[39m\n\u001b[1;32m    370\u001b[0m )\n\u001b[0;32m--> 371\u001b[0m \u001b[43mresponse\u001b[49m\u001b[38;5;241;43m.\u001b[39;49m\u001b[43mraise_for_status\u001b[49m\u001b[43m(\u001b[49m\u001b[43m)\u001b[49m\n\u001b[1;32m    372\u001b[0m result \u001b[38;5;241m=\u001b[39m response\u001b[38;5;241m.\u001b[39mjson()\n\u001b[1;32m    373\u001b[0m popped_asset \u001b[38;5;241m=\u001b[39m Resource\u001b[38;5;241m.\u001b[39mdiscriminate(result[\u001b[38;5;241m0\u001b[39m])\n",
      "File \u001b[0;32m~/.local/lib/python3.10/site-packages/requests/models.py:1024\u001b[0m, in \u001b[0;36mResponse.raise_for_status\u001b[0;34m(self)\u001b[0m\n\u001b[1;32m   1019\u001b[0m     http_error_msg \u001b[38;5;241m=\u001b[39m (\n\u001b[1;32m   1020\u001b[0m         \u001b[38;5;124mf\u001b[39m\u001b[38;5;124m\"\u001b[39m\u001b[38;5;132;01m{\u001b[39;00m\u001b[38;5;28mself\u001b[39m\u001b[38;5;241m.\u001b[39mstatus_code\u001b[38;5;132;01m}\u001b[39;00m\u001b[38;5;124m Server Error: \u001b[39m\u001b[38;5;132;01m{\u001b[39;00mreason\u001b[38;5;132;01m}\u001b[39;00m\u001b[38;5;124m for url: \u001b[39m\u001b[38;5;132;01m{\u001b[39;00m\u001b[38;5;28mself\u001b[39m\u001b[38;5;241m.\u001b[39murl\u001b[38;5;132;01m}\u001b[39;00m\u001b[38;5;124m\"\u001b[39m\n\u001b[1;32m   1021\u001b[0m     )\n\u001b[1;32m   1023\u001b[0m \u001b[38;5;28;01mif\u001b[39;00m http_error_msg:\n\u001b[0;32m-> 1024\u001b[0m     \u001b[38;5;28;01mraise\u001b[39;00m HTTPError(http_error_msg, response\u001b[38;5;241m=\u001b[39m\u001b[38;5;28mself\u001b[39m)\n",
      "\u001b[0;31mHTTPError\u001b[0m: 500 Server Error: Internal Server Error for url: http://localhost:8004/resource/01JR8F3KF3BPZG1BEDK9DKXNWH/pop"
     ]
    }
   ],
   "source": [
    "from madsci.common.types.workflow_types import WorkflowDefinition\n",
    "from pathlib import Path\n",
    "with open(Path(\"./protocol.py\").resolve(), 'w') as f:\n",
    "    f.write(\"this is a protocol\")\n",
    "\n",
    "workflow_2 = WorkflowDefinition(name = \"Example Workflow 2\",\n",
    "    steps = [\n",
    "       {\"name\": \"Open Liquidhandler\", # Human legible name of the step\n",
    "        \"description\" :\"Open the Liquidhandler\", #Human legible description of the step\n",
    "        \"node\": \"liquidhandler_1\", # The node to run the step on\n",
    "         \"action\": \"run_command\", # The action to run on the node\n",
    "         \"args\": { # The arguments to that action on the node\n",
    "             \"command\": \"open\"\n",
    "             }\n",
    "\n",
    "       },\n",
    "       {\"name\": \"Run Liquidhandler Protocol\",\n",
    "        \"description\" :\"Run the Liquidhandler\",\n",
    "        \"node\": \"liquidhandler_1\",\n",
    "         \"action\": \"run_protocol\",\n",
    "         \"files\": {\n",
    "            \"protocol\": str(Path(\"./protocol.py\").resolve()) #Some actions require files, these can also be specified in the step\n",
    "         }\n",
    "        },\n",
    "        {\n",
    "        \"name\": \"Transfer from liquid handler\",\n",
    "        \"description\" :\"Transfer an asset from the liquid handler to the plate reader\",\n",
    "        \"node\": \"robotarm_1\",\n",
    "         \"action\": \"transfer\",\n",
    "         \"locations\": {\n",
    "            \"source\": \"location_1\", #Other actions affect objects in locations on the workcell, by specifying\n",
    "            \"target\": \"location_2\" #them as locations, we can use the joint angle information stored in\n",
    "                                    #the workcell manager, and also update the resources associated with\n",
    "            }                       #those locations as they are being affected\n",
    "        }\n",
    "\n",
    "\n",
    "    ]\n",
    ")\n",
    "from madsci.common.types.resource_types import Asset\n",
    "\n",
    "asset = experiment_application.resource_client.add_resource(Asset(resource_name=\"my_asset\",resource_type=\"well_plate\")) #Define a plate\n",
    "try:\n",
    "    experiment_application.resource_client.pop(\"01JR8F3KF3BPZG1BEDK9DKXNWH\") #clear the resource for location_1\n",
    "except:\n",
    "    pass\n",
    "experiment_application.resource_client.push(\"01JR8F3KF3BPZG1BEDK9DKXNWH\", asset) #Push to the resource for location_1\n",
    "try:\n",
    "    experiment_application.resource_client.pop(\"01JR8F3KN3MA49C0HW0H727STM\") #Push to the resource for location_1\n",
    "except:\n",
    "    pass\n",
    "with experiment_application.manage_experiment(run_name='first_example_'+ str(datetime.datetime.now()), run_description=\"a run of my example experiment\"):\n",
    "    experiment_application.workcell_client.start_workflow(workflow_2)\n"
   ]
  },
  {
   "cell_type": "markdown",
   "metadata": {},
   "source": [
    "We can put breakpoints in our experiment that allow us to pause our experiment execution as we see fit. This allows us to pause the experiments execution remotely, in case some conditions arise that require us to pause execution of the workflow. You will have to stop the execution of the below cell, as it will pause itself and get stuck "
   ]
  },
  {
   "cell_type": "code",
   "execution_count": null,
   "metadata": {},
   "outputs": [
    {
     "data": {
      "text/html": [
       "<pre style=\"white-space:pre;overflow-x:auto;line-height:normal;font-family:Menlo,'DejaVu Sans Mono',consolas,'Courier New',monospace\"><span style=\"color: #008080; text-decoration-color: #008080; font-weight: bold\">2025</span>-<span style=\"color: #008080; text-decoration-color: #008080; font-weight: bold\">04</span>-<span style=\"color: #008080; text-decoration-color: #008080; font-weight: bold\">08</span> <span style=\"color: #00ff00; text-decoration-color: #00ff00; font-weight: bold\">10:45:03</span>.<span style=\"color: #008080; text-decoration-color: #008080; font-weight: bold\">411845</span> <span style=\"font-weight: bold\">(</span>log_info<span style=\"font-weight: bold\">)</span>: Started run <span style=\"color: #008000; text-decoration-color: #008000\">'first_example_2025-04-08 10:45:03.397502'</span> \n",
       "<span style=\"font-weight: bold\">(</span>01JRB174DAA114551M0NDEKQQ4<span style=\"font-weight: bold\">)</span> of experiment <span style=\"color: #008000; text-decoration-color: #008000\">'Example Experiment'</span>\n",
       "</pre>\n"
      ],
      "text/plain": [
       "\u001b[1;36m2025\u001b[0m-\u001b[1;36m04\u001b[0m-\u001b[1;36m08\u001b[0m \u001b[1;92m10:45:03\u001b[0m.\u001b[1;36m411845\u001b[0m \u001b[1m(\u001b[0mlog_info\u001b[1m)\u001b[0m: Started run \u001b[32m'first_example_2025-04-08 10:45:03.397502'\u001b[0m \n",
       "\u001b[1m(\u001b[0m01JRB174DAA114551M0NDEKQQ4\u001b[1m)\u001b[0m of experiment \u001b[32m'Example Experiment'\u001b[0m\n"
      ]
     },
     "metadata": {},
     "output_type": "display_data"
    },
    {
     "data": {
      "text/html": [
       "<pre style=\"white-space:pre;overflow-x:auto;line-height:normal;font-family:Menlo,'DejaVu Sans Mono',consolas,'Courier New',monospace\">\n",
       "Example Workflow<span style=\"font-weight: bold\">[</span><span style=\"color: #008000; text-decoration-color: #008000\">'Run Liquidhandler'</span><span style=\"font-weight: bold\">]</span>: Queued on step <span style=\"color: #008080; text-decoration-color: #008080; font-weight: bold\">0</span></pre>\n"
      ],
      "text/plain": [
       "\n",
       "Example Workflow\u001b[1m[\u001b[0m\u001b[32m'Run Liquidhandler'\u001b[0m\u001b[1m]\u001b[0m: Queued on step \u001b[1;36m0\u001b[0m"
      ]
     },
     "metadata": {},
     "output_type": "display_data"
    },
    {
     "data": {
      "text/html": [
       "<pre style=\"white-space:pre;overflow-x:auto;line-height:normal;font-family:Menlo,'DejaVu Sans Mono',consolas,'Courier New',monospace\">\n",
       "Example Workflow<span style=\"font-weight: bold\">[</span><span style=\"color: #008000; text-decoration-color: #008000\">'Run Liquidhandler'</span><span style=\"font-weight: bold\">]</span>: Completed Successfully</pre>\n"
      ],
      "text/plain": [
       "\n",
       "Example Workflow\u001b[1m[\u001b[0m\u001b[32m'Run Liquidhandler'\u001b[0m\u001b[1m]\u001b[0m: Completed Successfully"
      ]
     },
     "metadata": {},
     "output_type": "display_data"
    },
    {
     "data": {
      "text/html": [
       "<pre style=\"white-space:pre;overflow-x:auto;line-height:normal;font-family:Menlo,'DejaVu Sans Mono',consolas,'Courier New',monospace\">\n",
       "</pre>\n"
      ],
      "text/plain": [
       "\n"
      ]
     },
     "metadata": {},
     "output_type": "display_data"
    },
    {
     "data": {
      "text/html": [
       "<pre style=\"white-space:pre;overflow-x:auto;line-height:normal;font-family:Menlo,'DejaVu Sans Mono',consolas,'Courier New',monospace\"><span style=\"color: #008080; text-decoration-color: #008080; font-weight: bold\">2025</span>-<span style=\"color: #008080; text-decoration-color: #008080; font-weight: bold\">04</span>-<span style=\"color: #008080; text-decoration-color: #008080; font-weight: bold\">08</span> <span style=\"color: #00ff00; text-decoration-color: #00ff00; font-weight: bold\">10:45:05</span>.<span style=\"color: #008080; text-decoration-color: #008080; font-weight: bold\">497902</span> <span style=\"font-weight: bold\">(</span>log_warning<span style=\"font-weight: bold\">)</span>: Experiment <span style=\"color: #008000; text-decoration-color: #008000\">'Example Experiment'</span> has been paused.\n",
       "</pre>\n"
      ],
      "text/plain": [
       "\u001b[1;36m2025\u001b[0m-\u001b[1;36m04\u001b[0m-\u001b[1;36m08\u001b[0m \u001b[1;92m10:45:05\u001b[0m.\u001b[1;36m497902\u001b[0m \u001b[1m(\u001b[0mlog_warning\u001b[1m)\u001b[0m: Experiment \u001b[32m'Example Experiment'\u001b[0m has been paused.\n"
      ]
     },
     "metadata": {},
     "output_type": "display_data"
    },
    {
     "data": {
      "text/html": [
       "<pre style=\"white-space:pre;overflow-x:auto;line-height:normal;font-family:Menlo,'DejaVu Sans Mono',consolas,'Courier New',monospace\"><span style=\"color: #008080; text-decoration-color: #008080; font-weight: bold\">2025</span>-<span style=\"color: #008080; text-decoration-color: #008080; font-weight: bold\">04</span>-<span style=\"color: #008080; text-decoration-color: #008080; font-weight: bold\">08</span> <span style=\"color: #00ff00; text-decoration-color: #00ff00; font-weight: bold\">10:45:23</span>.<span style=\"color: #008080; text-decoration-color: #008080; font-weight: bold\">645824</span> <span style=\"font-weight: bold\">(</span>log_info<span style=\"font-weight: bold\">)</span>: Ended run <span style=\"color: #008000; text-decoration-color: #008000\">'first_example_2025-04-08 10:45:03.397502'</span> \n",
       "<span style=\"font-weight: bold\">(</span>01JRB174DAA114551M0NDEKQQ4<span style=\"font-weight: bold\">)</span> of experiment <span style=\"color: #008000; text-decoration-color: #008000\">'Example Experiment'</span>\n",
       "</pre>\n"
      ],
      "text/plain": [
       "\u001b[1;36m2025\u001b[0m-\u001b[1;36m04\u001b[0m-\u001b[1;36m08\u001b[0m \u001b[1;92m10:45:23\u001b[0m.\u001b[1;36m645824\u001b[0m \u001b[1m(\u001b[0mlog_info\u001b[1m)\u001b[0m: Ended run \u001b[32m'first_example_2025-04-08 10:45:03.397502'\u001b[0m \n",
       "\u001b[1m(\u001b[0m01JRB174DAA114551M0NDEKQQ4\u001b[1m)\u001b[0m of experiment \u001b[32m'Example Experiment'\u001b[0m\n"
      ]
     },
     "metadata": {},
     "output_type": "display_data"
    },
    {
     "ename": "KeyboardInterrupt",
     "evalue": "",
     "output_type": "error",
     "traceback": [
      "\u001b[0;31m---------------------------------------------------------------------------\u001b[0m",
      "\u001b[0;31mKeyboardInterrupt\u001b[0m                         Traceback (most recent call last)",
      "Cell \u001b[0;32mIn[9], line 4\u001b[0m\n\u001b[1;32m      2\u001b[0m experiment_application\u001b[38;5;241m.\u001b[39mworkcell_client\u001b[38;5;241m.\u001b[39mstart_workflow(workflow)\n\u001b[1;32m      3\u001b[0m experiment_application\u001b[38;5;241m.\u001b[39mexperiment_client\u001b[38;5;241m.\u001b[39mpause_experiment(experiment_application\u001b[38;5;241m.\u001b[39mexperiment\u001b[38;5;241m.\u001b[39mexperiment_id)\n\u001b[0;32m----> 4\u001b[0m \u001b[43mexperiment_application\u001b[49m\u001b[38;5;241;43m.\u001b[39;49m\u001b[43mcheck_experiment_status\u001b[49m\u001b[43m(\u001b[49m\u001b[43m)\u001b[49m\n\u001b[1;32m      5\u001b[0m experiment_application\u001b[38;5;241m.\u001b[39mworkcell_client\u001b[38;5;241m.\u001b[39mstart_workflow(workflow)\n",
      "File \u001b[0;32m~/workspace/MADSci/src/madsci_client/madsci/client/experiment_application.py:198\u001b[0m, in \u001b[0;36mExperimentApplication.check_experiment_status\u001b[0;34m(self)\u001b[0m\n\u001b[1;32m    194\u001b[0m \u001b[38;5;28mself\u001b[39m\u001b[38;5;241m.\u001b[39mlogger\u001b[38;5;241m.\u001b[39mlog_warning(\n\u001b[1;32m    195\u001b[0m     \u001b[38;5;124mf\u001b[39m\u001b[38;5;124m\"\u001b[39m\u001b[38;5;124mExperiment \u001b[39m\u001b[38;5;124m'\u001b[39m\u001b[38;5;132;01m{\u001b[39;00m\u001b[38;5;28mself\u001b[39m\u001b[38;5;241m.\u001b[39mexperiment\u001b[38;5;241m.\u001b[39mexperiment_design\u001b[38;5;241m.\u001b[39mexperiment_name\u001b[38;5;132;01m}\u001b[39;00m\u001b[38;5;124m'\u001b[39m\u001b[38;5;124m has been paused.\u001b[39m\u001b[38;5;124m\"\u001b[39m\n\u001b[1;32m    196\u001b[0m )\n\u001b[1;32m    197\u001b[0m \u001b[38;5;28;01mwhile\u001b[39;00m \u001b[38;5;28;01mTrue\u001b[39;00m:\n\u001b[0;32m--> 198\u001b[0m     \u001b[43mtime\u001b[49m\u001b[38;5;241;43m.\u001b[39;49m\u001b[43msleep\u001b[49m\u001b[43m(\u001b[49m\u001b[38;5;241;43m5\u001b[39;49m\u001b[43m)\u001b[49m\n\u001b[1;32m    199\u001b[0m     \u001b[38;5;28mself\u001b[39m\u001b[38;5;241m.\u001b[39mexperiment \u001b[38;5;241m=\u001b[39m \u001b[38;5;28mself\u001b[39m\u001b[38;5;241m.\u001b[39mexperiment_client\u001b[38;5;241m.\u001b[39mget_experiment(\n\u001b[1;32m    200\u001b[0m         experiment_id\u001b[38;5;241m=\u001b[39m\u001b[38;5;28mself\u001b[39m\u001b[38;5;241m.\u001b[39mexperiment\u001b[38;5;241m.\u001b[39mexperiment_id\n\u001b[1;32m    201\u001b[0m     )\n\u001b[1;32m    202\u001b[0m     \u001b[38;5;28;01mif\u001b[39;00m \u001b[38;5;28mself\u001b[39m\u001b[38;5;241m.\u001b[39mexperiment\u001b[38;5;241m.\u001b[39mstatus \u001b[38;5;241m!=\u001b[39m ExperimentStatus\u001b[38;5;241m.\u001b[39mPAUSED:\n",
      "\u001b[0;31mKeyboardInterrupt\u001b[0m: "
     ]
    }
   ],
   "source": [
    "\n",
    "with experiment_application.manage_experiment(run_name='first_example_'+ str(datetime.datetime.now()), run_description=\"a run of my example experiment\"):\n",
    "    experiment_application.workcell_client.start_workflow(workflow)\n",
    "    experiment_application.experiment_client.pause_experiment(experiment_application.experiment.experiment_id)\n",
    "    experiment_application.check_experiment_status()\n",
    "    experiment_application.workcell_client.start_workflow(workflow)"
   ]
  },
  {
   "cell_type": "markdown",
   "metadata": {},
   "source": [
    "Eventually, pausing the experiment will pause all running workflows owned by the experiment, and even pause the node executions if the devices are capable of being paused, but we have not implemented this yet. "
   ]
  },
  {
   "cell_type": "markdown",
   "metadata": {},
   "source": [
    "We are also able to specify a set of conditions regarding resources, to be met before the experiment is allowed to proceed. These are detailed in condition types, but a few examples are shown below."
   ]
  },
  {
   "cell_type": "code",
   "execution_count": null,
   "metadata": {},
   "outputs": [
    {
     "data": {
      "text/html": [
       "<pre style=\"white-space:pre;overflow-x:auto;line-height:normal;font-family:Menlo,'DejaVu Sans Mono',consolas,'Courier New',monospace\"><span style=\"color: #008080; text-decoration-color: #008080; font-weight: bold\">2025</span>-<span style=\"color: #008080; text-decoration-color: #008080; font-weight: bold\">04</span>-<span style=\"color: #008080; text-decoration-color: #008080; font-weight: bold\">08</span> <span style=\"color: #00ff00; text-decoration-color: #00ff00; font-weight: bold\">10:48:41</span>.<span style=\"color: #008080; text-decoration-color: #008080; font-weight: bold\">203303</span> <span style=\"font-weight: bold\">(</span>log_info<span style=\"font-weight: bold\">)</span>: Started run <span style=\"color: #008000; text-decoration-color: #008000\">'first_example_2025-04-08 10:48:41.171728'</span> \n",
       "<span style=\"font-weight: bold\">(</span>01JRB1DS2Y0FFD0D2V0Z8DQKF5<span style=\"font-weight: bold\">)</span> of experiment <span style=\"color: #008000; text-decoration-color: #008000\">'Example Experiment'</span>\n",
       "</pre>\n"
      ],
      "text/plain": [
       "\u001b[1;36m2025\u001b[0m-\u001b[1;36m04\u001b[0m-\u001b[1;36m08\u001b[0m \u001b[1;92m10:48:41\u001b[0m.\u001b[1;36m203303\u001b[0m \u001b[1m(\u001b[0mlog_info\u001b[1m)\u001b[0m: Started run \u001b[32m'first_example_2025-04-08 10:48:41.171728'\u001b[0m \n",
       "\u001b[1m(\u001b[0m01JRB1DS2Y0FFD0D2V0Z8DQKF5\u001b[1m)\u001b[0m of experiment \u001b[32m'Example Experiment'\u001b[0m\n"
      ]
     },
     "metadata": {},
     "output_type": "display_data"
    },
    {
     "data": {
      "text/html": [
       "<pre style=\"white-space:pre;overflow-x:auto;line-height:normal;font-family:Menlo,'DejaVu Sans Mono',consolas,'Courier New',monospace\">Check Check that slot_1 has a plate: <span style=\"color: #00ff00; text-decoration-color: #00ff00; font-style: italic\">True</span>\n",
       "</pre>\n"
      ],
      "text/plain": [
       "Check Check that slot_1 has a plate: \u001b[3;92mTrue\u001b[0m\n"
      ]
     },
     "metadata": {},
     "output_type": "display_data"
    },
    {
     "data": {
      "text/html": [
       "<pre style=\"white-space:pre;overflow-x:auto;line-height:normal;font-family:Menlo,'DejaVu Sans Mono',consolas,'Courier New',monospace\">Check Check that the object in slot_1 is a well plate: <span style=\"color: #00ff00; text-decoration-color: #00ff00; font-style: italic\">True</span>\n",
       "</pre>\n"
      ],
      "text/plain": [
       "Check Check that the object in slot_1 is a well plate: \u001b[3;92mTrue\u001b[0m\n"
      ]
     },
     "metadata": {},
     "output_type": "display_data"
    },
    {
     "data": {
      "text/html": [
       "<pre style=\"white-space:pre;overflow-x:auto;line-height:normal;font-family:Menlo,'DejaVu Sans Mono',consolas,'Courier New',monospace\">\n",
       "Example Workflow<span style=\"font-weight: bold\">[</span><span style=\"color: #008000; text-decoration-color: #008000\">'Run Liquidhandler'</span><span style=\"font-weight: bold\">]</span>: Queued on step <span style=\"color: #008080; text-decoration-color: #008080; font-weight: bold\">0</span></pre>\n"
      ],
      "text/plain": [
       "\n",
       "Example Workflow\u001b[1m[\u001b[0m\u001b[32m'Run Liquidhandler'\u001b[0m\u001b[1m]\u001b[0m: Queued on step \u001b[1;36m0\u001b[0m"
      ]
     },
     "metadata": {},
     "output_type": "display_data"
    },
    {
     "data": {
      "text/html": [
       "<pre style=\"white-space:pre;overflow-x:auto;line-height:normal;font-family:Menlo,'DejaVu Sans Mono',consolas,'Courier New',monospace\">\n",
       "Example Workflow<span style=\"font-weight: bold\">[</span><span style=\"color: #008000; text-decoration-color: #008000\">'Run Liquidhandler'</span><span style=\"font-weight: bold\">]</span>: Running step <span style=\"color: #008080; text-decoration-color: #008080; font-weight: bold\">0</span></pre>\n"
      ],
      "text/plain": [
       "\n",
       "Example Workflow\u001b[1m[\u001b[0m\u001b[32m'Run Liquidhandler'\u001b[0m\u001b[1m]\u001b[0m: Running step \u001b[1;36m0\u001b[0m"
      ]
     },
     "metadata": {},
     "output_type": "display_data"
    },
    {
     "data": {
      "text/html": [
       "<pre style=\"white-space:pre;overflow-x:auto;line-height:normal;font-family:Menlo,'DejaVu Sans Mono',consolas,'Courier New',monospace\">\n",
       "Example Workflow<span style=\"font-weight: bold\">[</span><span style=\"color: #008000; text-decoration-color: #008000\">'Run Liquidhandler'</span><span style=\"font-weight: bold\">]</span>: Completed Successfully</pre>\n"
      ],
      "text/plain": [
       "\n",
       "Example Workflow\u001b[1m[\u001b[0m\u001b[32m'Run Liquidhandler'\u001b[0m\u001b[1m]\u001b[0m: Completed Successfully"
      ]
     },
     "metadata": {},
     "output_type": "display_data"
    },
    {
     "data": {
      "text/html": [
       "<pre style=\"white-space:pre;overflow-x:auto;line-height:normal;font-family:Menlo,'DejaVu Sans Mono',consolas,'Courier New',monospace\">\n",
       "</pre>\n"
      ],
      "text/plain": [
       "\n"
      ]
     },
     "metadata": {},
     "output_type": "display_data"
    },
    {
     "data": {
      "text/html": [
       "<pre style=\"white-space:pre;overflow-x:auto;line-height:normal;font-family:Menlo,'DejaVu Sans Mono',consolas,'Courier New',monospace\"><span style=\"color: #008080; text-decoration-color: #008080; font-weight: bold\">2025</span>-<span style=\"color: #008080; text-decoration-color: #008080; font-weight: bold\">04</span>-<span style=\"color: #008080; text-decoration-color: #008080; font-weight: bold\">08</span> <span style=\"color: #00ff00; text-decoration-color: #00ff00; font-weight: bold\">10:48:44</span>.<span style=\"color: #008080; text-decoration-color: #008080; font-weight: bold\">646059</span> <span style=\"font-weight: bold\">(</span>log_info<span style=\"font-weight: bold\">)</span>: Ended run <span style=\"color: #008000; text-decoration-color: #008000\">'first_example_2025-04-08 10:48:41.171728'</span> \n",
       "<span style=\"font-weight: bold\">(</span>01JRB1DS2Y0FFD0D2V0Z8DQKF5<span style=\"font-weight: bold\">)</span> of experiment <span style=\"color: #008000; text-decoration-color: #008000\">'Example Experiment'</span>\n",
       "</pre>\n"
      ],
      "text/plain": [
       "\u001b[1;36m2025\u001b[0m-\u001b[1;36m04\u001b[0m-\u001b[1;36m08\u001b[0m \u001b[1;92m10:48:44\u001b[0m.\u001b[1;36m646059\u001b[0m \u001b[1m(\u001b[0mlog_info\u001b[1m)\u001b[0m: Ended run \u001b[32m'first_example_2025-04-08 10:48:41.171728'\u001b[0m \n",
       "\u001b[1m(\u001b[0m01JRB1DS2Y0FFD0D2V0Z8DQKF5\u001b[1m)\u001b[0m of experiment \u001b[32m'Example Experiment'\u001b[0m\n"
      ]
     },
     "metadata": {},
     "output_type": "display_data"
    }
   ],
   "source": [
    "from madsci.common.types.condition_types import ResourceInLocationCondition, ResourceChildFieldCheckCondition\n",
    "\n",
    "experiment_design = ExperimentDesign(experiment_name=\"Example Experiment\", experiment_description=\"An Example Experiment\",\n",
    "                                     resource_conditions=[\n",
    "                                         ResourceInLocationCondition(condition_name=\"Check that slot_1 has a plate\",\n",
    "                                                                     location_name=\"location_1\"),\n",
    "                                         ResourceChildFieldCheckCondition(condition_name=\"Check that the object in slot_1 is a well plate\",\n",
    "                                                                     resource_name=\"slot_1\",\n",
    "                                                                     field=\"resource_type\",\n",
    "                                                                     operator=\"is_equal_to\",\n",
    "                                                                    target_value=\"well_plate\"\n",
    "\n",
    "\n",
    "                                         )\n",
    "                                     ]\n",
    "\n",
    "                                     )\n",
    "experiment_application.experiment_design = experiment_design\n",
    "with experiment_application.manage_experiment(run_name='first_example_'+ str(datetime.datetime.now()), run_description=\"a run of my example experiment\"):\n",
    "    experiment_application.workcell_client.start_workflow(workflow)"
   ]
  },
  {
   "cell_type": "markdown",
   "metadata": {},
   "source": [
    "Alright, now that we have all of the basics, we are going to write a simple example experiment that shows how we can complete the loop using an Experiment Application"
   ]
  }
 ],
 "metadata": {
  "kernelspec": {
   "display_name": "Python 3",
   "language": "python",
   "name": "python3"
  },
  "language_info": {
   "codemirror_mode": {
    "name": "ipython",
    "version": 3
   },
   "file_extension": ".py",
   "mimetype": "text/x-python",
   "name": "python",
   "nbconvert_exporter": "python",
   "pygments_lexer": "ipython3",
   "version": "3.10.8"
  }
 },
 "nbformat": 4,
 "nbformat_minor": 2
}
