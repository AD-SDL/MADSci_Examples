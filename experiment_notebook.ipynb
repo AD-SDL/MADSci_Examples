{
 "cells": [
  {
   "cell_type": "markdown",
   "metadata": {},
   "source": [
    "# Conducting Automated/Autonomous Experiments with MADSci\n",
    "\n",
    "This aims to teach you how to define and run automated/autonomous Experimental Campaigns using one or more MADSci Workcells.\n",
    "\n",
    "## Goals\n",
    "\n",
    "After completing this notebook, you should understand\n",
    "\n",
    "1. How to leverage a MADSci Experiment Manager via the Experiment Application\n",
    "2. How to define and use MADSci `ExperimentApplication`s to manage data, resources, logging and workflows for you scientific applications. \n"
   ]
  },
  {
   "cell_type": "markdown",
   "metadata": {},
   "source": [
    "## What is an Experiment Application?\n",
    "\n",
    "Once we have established the managers that we will use in our lab, we need an efficient way to interact with and organize the workflows, resources and datapoints that we will use to actually do science. To do this, we need to create an Experiment Application. An Experiment Application is a Python class that inherets from the abstract `ExperimentApplication` class defined in `madsci.client`. It contains an `ExperimentClient`, which communicates with the Experiment Manager. "
   ]
  },
  {
   "cell_type": "code",
   "execution_count": null,
   "metadata": {},
   "outputs": [],
   "source": [
    "# Install dependencies\n",
    "%pip install madsci.client"
   ]
  },
  {
   "cell_type": "code",
   "execution_count": null,
   "metadata": {},
   "outputs": [],
   "source": [
    "from madsci.client.experiment_application import ExperimentApplication, ExperimentDesign\n",
    "\n",
    "\n",
    "# Here is the example start of an Experiment Application\n",
    "class ExampleExperimentApplication(ExperimentApplication):\n",
    "    url = \"http://localhost:8002/\"\n",
    "    experiment_design = ExperimentDesign(\n",
    "        experiment_name=\"Example Experiment\",\n",
    "        experiment_description=\"An Example Experiment\",\n",
    "    )\n",
    "\n",
    "\n",
    "experiment_application = ExampleExperimentApplication()\n",
    "print(experiment_application.experiment_design)"
   ]
  },
  {
   "cell_type": "markdown",
   "metadata": {},
   "source": [
    "An Experiment Application contains an `ExperimentDesign` object. This can be as simple as the name and description of the experiment, but can also contain checks to ensure that the resources of the lab are in the correct state to begin a run of the experiment, though this functionality is still being tested and refined\n",
    "\n",
    "\n",
    "By inheriting from `ExperimentApplication`, we gain access to several methods that are useful in organizing our experiments. The first one is `start_experiment`."
   ]
  },
  {
   "cell_type": "code",
   "execution_count": null,
   "metadata": {},
   "outputs": [],
   "source": [
    "import datetime\n",
    "\n",
    "experiment_application = ExampleExperimentApplication()\n",
    "\n",
    "experiment_application.start_experiment_run(\n",
    "    run_name=\"first_example_\" + str(datetime.datetime.now()),\n",
    "    run_description=\"a run of my example experiment\",\n",
    ")"
   ]
  },
  {
   "cell_type": "markdown",
   "metadata": {},
   "source": [
    "As we can see, this has started a record of our experiment with a specific, timestamped name and a unique id. \n",
    "Once our experiment is finished, we can call `end_experiment_run` to show that we have completed this specific experiment. "
   ]
  },
  {
   "cell_type": "code",
   "execution_count": null,
   "metadata": {},
   "outputs": [],
   "source": [
    "experiment_application.end_experiment()"
   ]
  },
  {
   "cell_type": "markdown",
   "metadata": {},
   "source": [
    "We can also use it as a context manager!"
   ]
  },
  {
   "cell_type": "code",
   "execution_count": null,
   "metadata": {},
   "outputs": [],
   "source": [
    "from madsci.common.types.workflow_types import WorkflowDefinition\n",
    "\n",
    "workflow = WorkflowDefinition(\n",
    "    name=\"Example Workflow\",\n",
    "    steps=[\n",
    "        {\n",
    "            \"name\": \"Run Liquidhandler\",\n",
    "            \"description\": \"Run the Liquidhandler\",\n",
    "            \"node\": \"liquidhandler_1\",\n",
    "            \"action\": \"run_command\",\n",
    "            \"args\": {\"command\": \"first_command\"},\n",
    "        }\n",
    "    ],\n",
    ")\n",
    "\n",
    "with experiment_application.manage_experiment(\n",
    "    run_name=\"first_example_\" + str(datetime.datetime.now()),\n",
    "    run_description=\"a run of my example experiment\",\n",
    "):\n",
    "    experiment_application.workcell_client.start_workflow(workflow)"
   ]
  },
  {
   "cell_type": "markdown",
   "metadata": {},
   "source": [
    "### What can we do with an Experiment application?\n",
    "\n",
    "#### We can run workflows!\n",
    "Workflows are a list of ordered steps for different robots that are managed by the workcell manager. Each step contains a specific action for a specific node to run, along with the necessary arguments for that action to run.\n"
   ]
  },
  {
   "cell_type": "code",
   "execution_count": null,
   "metadata": {},
   "outputs": [],
   "source": [
    "from madsci.common.types.resource_types import Asset\n",
    "from madsci.common.types.workflow_types import WorkflowDefinition\n",
    "from madsci.common.types.step_types import StepDefinition\n",
    "from pathlib import Path\n",
    "\n",
    "with open(Path(\"./protocol.py\").resolve(), \"w\") as f:\n",
    "    f.write(\"this is a protocol\")\n",
    "\n",
    "workflow_2 = WorkflowDefinition(\n",
    "    name=\"Example Workflow 2\",\n",
    "    steps=[\n",
    "        StepDefinition(\n",
    "            name=\"Open Liquidhandler\",\n",
    "            description=\"Open the Liquidhandler\",\n",
    "            node=\"liquidhandler_1\",\n",
    "            action=\"run_command\",\n",
    "            args={\"command\": \"open\"},\n",
    "        ),\n",
    "        StepDefinition(\n",
    "            name=\"Run Liquidhandler Protocol\",\n",
    "            description=\"Run the Liquidhandler\",\n",
    "            node=\"liquidhandler_1\",\n",
    "            action=\"run_protocol\",\n",
    "            files={\"protocol\": str(Path(\"./protocol.py\").resolve())},\n",
    "        ),\n",
    "        StepDefinition(\n",
    "            name=\"Transfer from liquid handler\",\n",
    "            description=\"Transfer an asset from the liquid handler to the plate reader\",\n",
    "            node=\"robotarm_1\",\n",
    "            action=\"transfer\",\n",
    "            locations={\n",
    "                \"source\": \"location_1\",\n",
    "                \"target\": \"location_2\",\n",
    "            },\n",
    "        ),\n",
    "    ],\n",
    ")\n",
    "\n",
    "asset = experiment_application.resource_client.add_resource(\n",
    "    Asset(resource_name=\"my_asset\", resource_type=\"well_plate\")\n",
    ")  # Define a plate\n",
    "try:\n",
    "    experiment_application.resource_client.pop(\n",
    "        \"01JR8F3KF3BPZG1BEDK9DKXNWH\"\n",
    "    )  # clear the resource for location_1\n",
    "except Exception:\n",
    "    pass\n",
    "experiment_application.resource_client.push(\n",
    "    \"01JR8F3KF3BPZG1BEDK9DKXNWH\", asset\n",
    ")  # Push to the resource for location_1\n",
    "try:\n",
    "    experiment_application.resource_client.pop(\n",
    "        \"01JR8F3KN3MA49C0HW0H727STM\"\n",
    "    )  # Push to the resource for location_1\n",
    "except Exception:\n",
    "    pass\n",
    "with experiment_application.manage_experiment(\n",
    "    run_name=\"first_example_\" + str(datetime.datetime.now()),\n",
    "    run_description=\"a run of my example experiment\",\n",
    "):\n",
    "    experiment_application.workcell_client.start_workflow(workflow_2)"
   ]
  },
  {
   "cell_type": "markdown",
   "metadata": {},
   "source": [
    "We can put breakpoints in our experiment that allow us to pause our experiment execution as we see fit. This allows us to pause the experiments execution remotely, in case some conditions arise that require us to pause execution of the workflow. You will have to stop the execution of the below cell, as it will pause itself and get stuck "
   ]
  },
  {
   "cell_type": "code",
   "execution_count": null,
   "metadata": {},
   "outputs": [],
   "source": [
    "with experiment_application.manage_experiment(\n",
    "    run_name=\"first_example_\" + str(datetime.datetime.now()),\n",
    "    run_description=\"a run of my example experiment\",\n",
    "):\n",
    "    experiment_application.workcell_client.start_workflow(workflow)\n",
    "    experiment_application.experiment_client.pause_experiment(\n",
    "        experiment_application.experiment.experiment_id\n",
    "    )\n",
    "    experiment_application.check_experiment_status()\n",
    "    experiment_application.workcell_client.start_workflow(workflow)"
   ]
  },
  {
   "cell_type": "markdown",
   "metadata": {},
   "source": [
    "Eventually, pausing the experiment will pause all running workflows owned by the experiment, and even pause the node executions if the devices are capable of being paused, but we have not implemented this yet. "
   ]
  },
  {
   "cell_type": "markdown",
   "metadata": {},
   "source": [
    "We are also able to specify a set of conditions regarding resources, to be met before the experiment is allowed to proceed. These are detailed in condition types, but a few examples are shown below."
   ]
  },
  {
   "cell_type": "code",
   "execution_count": null,
   "metadata": {},
   "outputs": [],
   "source": [
    "from madsci.common.types.condition_types import (\n",
    "    ResourceInLocationCondition,\n",
    "    ResourceChildFieldCheckCondition,\n",
    ")\n",
    "\n",
    "experiment_design = ExperimentDesign(\n",
    "    experiment_name=\"Example Experiment\",\n",
    "    experiment_description=\"An Example Experiment\",\n",
    "    resource_conditions=[\n",
    "        ResourceInLocationCondition(\n",
    "            condition_name=\"Check that slot_1 has a plate\", location_name=\"location_1\"\n",
    "        ),\n",
    "        ResourceChildFieldCheckCondition(\n",
    "            condition_name=\"Check that the object in slot_1 is a well plate\",\n",
    "            resource_name=\"slot_1\",\n",
    "            field=\"resource_type\",\n",
    "            operator=\"is_equal_to\",\n",
    "            target_value=\"well_plate\",\n",
    "        ),\n",
    "    ],\n",
    ")\n",
    "experiment_application.experiment_design = experiment_design\n",
    "with experiment_application.manage_experiment(\n",
    "    run_name=\"first_example_\" + str(datetime.datetime.now()),\n",
    "    run_description=\"a run of my example experiment\",\n",
    "):\n",
    "    experiment_application.workcell_client.start_workflow(workflow)"
   ]
  },
  {
   "cell_type": "markdown",
   "metadata": {},
   "source": [
    "Alright, now that we have all of the basics, we are going to write a simple example experiment that shows how we can complete the loop using an Experiment Application"
   ]
  }
 ],
 "metadata": {
  "kernelspec": {
   "display_name": "Python 3",
   "language": "python",
   "name": "python3"
  },
  "language_info": {
   "codemirror_mode": {
    "name": "ipython",
    "version": 3
   },
   "file_extension": ".py",
   "mimetype": "text/x-python",
   "name": "python",
   "nbconvert_exporter": "python",
   "pygments_lexer": "ipython3",
   "version": "3.10.8"
  }
 },
 "nbformat": 4,
 "nbformat_minor": 2
}
