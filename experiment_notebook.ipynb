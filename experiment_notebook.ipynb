{
 "cells": [
  {
   "cell_type": "markdown",
   "metadata": {},
   "source": [
    "# Conducting Automated/Autonomous Experiments with MADSci\n",
    "\n",
    "This aims to teach you how to define and run automated/autonomous Experimental Campaigns using one or more MADSci Workcells.\n",
    "\n",
    "## Goals\n"
   ]
  },
  {
   "cell_type": "markdown",
   "metadata": {},
   "source": []
  }
 ],
 "metadata": {
  "language_info": {
   "name": "python"
  }
 },
 "nbformat": 4,
 "nbformat_minor": 2
}
