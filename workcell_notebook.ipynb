{
 "cells": [
  {
   "cell_type": "markdown",
   "metadata": {},
   "source": [
    "# Coordinating Devices with an Automated/Autonomous Workcell\n",
    "\n",
    "This notebook aims to teach you how to leverage devices integrated as MADSci Nodes, to build a \"workcell\". Workcells allow for multiple devices to be used and coordinated as a group to complete experimental workflows.\n",
    "\n",
    "## Goals\n",
    "\n",
    "After completing this notebook, you should understand\n",
    "\n",
    "1. What a Workcell is\n",
    "2. What functionality a MADSci Workcell Manager provides\n",
    "3. How to leverage a MADSci Workcell Manager via the `WorkcellClient`\n",
    "4. How to define and use MADSci `Workflow`s to conduct work across multiple devices\n"
   ]
  },
  {
   "cell_type": "markdown",
   "metadata": {},
   "source": []
  }
 ],
 "metadata": {
  "language_info": {
   "name": "python"
  }
 },
 "nbformat": 4,
 "nbformat_minor": 2
}
