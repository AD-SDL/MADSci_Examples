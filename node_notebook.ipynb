{
 "cells": [
  {
   "cell_type": "markdown",
   "metadata": {},
   "source": [
    "# Integrating your Devices with MADSci Nodes\n",
    "\n",
    "This notebook aims to teach you how to automate and integrate all the devices, instruments, sensors, and robots in your self-driving lab using the MADSci Node standard.\n",
    "\n",
    "## Goals\n",
    "\n",
    "After completing this notebook, you should understand\n",
    "\n",
    "1. What we mean when we talk about a MADSci Node\n",
    "2. The MADSci Node interface standard\n",
    "3. How to integrate and automate a device using the MADSci Node standard\n",
    "4. How to use the `RestNode` python class included in `madsci.node_module` to integrate a MADSci Node\n"
   ]
  },
  {
   "cell_type": "markdown",
   "metadata": {},
   "source": [
    "Outline:\n",
    "\n",
    "- overview of madsci/nodes/terms\n",
    "- dashboard x workcell demo\n",
    "- code deep dive"
   ]
  },
  {
   "cell_type": "markdown",
   "metadata": {},
   "source": [
    "# What is a Node?\n",
    "\n",
    "- In MADSci, a `Node` refers to a single instrument, sensor, robot, or other device, combined with the software needed to control, operate, automate, and integrate it into the Automated or Autonomous Lab as a whole.\n",
    "- Node's take **Action Requests**, and return **Action Results**. They also report **State** and **Status** information, and can optionally manage **Resources**.\n",
    "\n",
    "<img src=\"./assets/mermaid/NodeIO.svg\" width=1000 style=\"background-color: white\"></img>\n",
    "\n",
    "## Anatomy of a Node\n",
    "\n",
    "A `Node` typically consists of the following sub-components:\n",
    "\n",
    "- A physical **device** (robot, instrument, sensor, etc.)\n",
    "- A **driver**, API, library, or software application for communicating with that device, often provided by the hardware vendor\n",
    "- A device **interface** class that handles the neccessary initialization, communication, and cleanup required to use the given device\n",
    "- The **node implementation**, typically a class, which uses the interface to handle the execution of the actions and the lifecycle of the node (state, status, statup, shutdown, etc.).\n",
    "- The **node definition** and **configuration**, which define specific details about a given instance of a node and how it should. We typically implement these as .YAML files\n",
    "- The **node server** and **node client**, which allow for standardized control of nodes. These are implementations of the MADSci Node standard interface, and operate using standard protocols (currently, REST-based HTTP)\n",
    "\n",
    "<img src=\"./assets/mermaid/NodeDiagram.svg\" width=1000></img>"
   ]
  },
  {
   "cell_type": "code",
   "execution_count": null,
   "metadata": {},
   "outputs": [],
   "source": [
    "# Install dependencies\n",
    "%pip install madsci.common madsci.node_module httpx"
   ]
  },
  {
   "cell_type": "code",
   "execution_count": null,
   "metadata": {},
   "outputs": [],
   "source": [
    "from madsci.node_module.rest_node_module import RestNode\n",
    "from madsci.common.types.node_types import NodeDefinition\n",
    "from rich import print"
   ]
  },
  {
   "cell_type": "code",
   "execution_count": null,
   "metadata": {},
   "outputs": [],
   "source": [
    "class ExampleRobotNode(RestNode):\n",
    "    \"\"\"Define an Example Robot Node. It doesn't do anything yet, but it's a good starting point.\"\"\"\n",
    "\n",
    "# In most cases, this node definition is a .yaml file that we pass as the \"--definition\" argument at runtime.\n",
    "node_definition = NodeDefinition(\n",
    "    node_name=\"example_node\",\n",
    "    module_name=\"example_node_module\",\n",
    "    description=\"An example node\",\n",
    ")\n",
    "example_node = ExampleRobotNode(node_definition=node_definition)\n",
    "# Normally, `start_node` starts a web server and listens for incoming requests.\n",
    "# Here, we are just testing the node's functionality, so we set testing=True.\n",
    "# This will run the node in a testing mode, which is useful for debugging.\n",
    "example_node.start_node(testing=True)"
   ]
  },
  {
   "cell_type": "code",
   "execution_count": null,
   "metadata": {},
   "outputs": [],
   "source": [
    "# Demo Magic to avoid having to actually run rest servers\n",
    "import contextlib\n",
    "from fastapi.testclient import TestClient\n",
    "\n",
    "from collections.abc import Generator\n",
    "from typing import Any\n",
    "from unittest.mock import patch\n",
    "\n",
    "from madsci.client.node.rest_node_client import RestNodeClient\n",
    "\n",
    "@contextlib.contextmanager\n",
    "def node_server(node: RestNode) -> Generator[TestClient, None, None]:\n",
    "    \"\"\"Mock server context manager.\"\"\"\n",
    "\n",
    "    test_client = TestClient(node.rest_api)\n",
    "\n",
    "    with test_client as requests:\n",
    "        # Mock the server's behavior\n",
    "        yield requests\n",
    "\n",
    "@contextlib.contextmanager\n",
    "def node_client(node: RestNode, client: RestNodeClient) -> Generator[RestNodeClient, None, None]:\n",
    "    \"\"\"Mock client context manager.\"\"\"\n",
    "\n",
    "    with node_server(node) as requests, patch(\"madsci.client.node.rest_node_client.requests\") as mock_requests:\n",
    "            def post_no_timeout(*args: Any, **kwargs: Any) -> Any:\n",
    "                kwargs.pop(\"timeout\", None)\n",
    "                return requests.post(*args, **kwargs)\n",
    "\n",
    "            mock_requests.post.side_effect = post_no_timeout\n",
    "\n",
    "            def get_no_timeout(*args: Any, **kwargs: Any) -> Any:\n",
    "                kwargs.pop(\"timeout\", None)\n",
    "                return requests.get(*args, **kwargs)\n",
    "\n",
    "            mock_requests.get.side_effect = get_no_timeout\n",
    "\n",
    "            yield client\n"
   ]
  },
  {
   "cell_type": "code",
   "execution_count": null,
   "metadata": {},
   "outputs": [],
   "source": [
    "with node_client(example_node, RestNodeClient(url=\"http://localhost:2000\")) as client:\n",
    "    # Example of a request to the node\n",
    "    print(client.get_info())"
   ]
  },
  {
   "cell_type": "code",
   "execution_count": null,
   "metadata": {},
   "outputs": [],
   "source": [
    "class ExampleNodeWithLifecycle(ExampleRobotNode):\n",
    "    \"\"\"Define an Example Node with a startup and shutdown handlers.\"\"\"\n",
    "\n",
    "    def startup_handler(self) -> None:\n",
    "        \"\"\"Handle the startup event.\"\"\"\n",
    "        self.logger.log_info(\"Node is starting up...\")\n",
    "\n",
    "    def shutdown_handler(self) -> None:\n",
    "        \"\"\"Handle the shutdown event.\"\"\"\n",
    "        self.logger.log_info(\"Node is shutting down...\")\n",
    "\n",
    "node_definition = NodeDefinition(\n",
    "    node_name=\"example_node\",\n",
    "    module_name=\"example_node_module\",\n",
    "    description=\"An example node\",\n",
    ")\n",
    "example_node = ExampleNodeWithLifecycle(node_definition=node_definition)\n",
    "example_node.start_node(testing=True)\n",
    "\n",
    "with node_client(example_node, RestNodeClient(url=\"http://localhost:2000\")) as client:\n",
    "    # Example of a request to the node\n",
    "    print(client.get_status())"
   ]
  },
  {
   "cell_type": "code",
   "execution_count": null,
   "metadata": {},
   "outputs": [],
   "source": [
    "import time\n",
    "\n",
    "class ExampleNodeWithUpdates(ExampleNodeWithLifecycle):\n",
    "    \"\"\"Define an Example Node that periodically updates it's status and public-facing state.\"\"\"\n",
    "\n",
    "    node_state = {\n",
    "        \"some_state_key\": 0,\n",
    "    }\n",
    "\n",
    "    def state_handler(self) -> None:\n",
    "        \"\"\"This is where you can implement logic to periodically update the node's public-facing state information.\"\"\"\n",
    "        self.node_state = {\"some_state_key\": self.node_state[\"some_state_key\"] + 1}\n",
    "\n",
    "    def status_handler(self) -> None:\n",
    "        \"\"\"\n",
    "        This is where you can implement logic to periodically update the node's status information.\n",
    "        \"\"\"\n",
    "        if self.node_state[\"some_state_key\"] % 2 == 0:\n",
    "            self.node_status.busy = True # Illustrative purposes only\n",
    "        else:\n",
    "            self.node_status.busy = False\n",
    "\n",
    "\n",
    "node_definition = NodeDefinition(\n",
    "    node_name=\"example_node\",\n",
    "    module_name=\"example_node_module\",\n",
    "    description=\"An example node\",\n",
    "    config_defaults={\n",
    "        \"state_update_interval\": 2, # Change how frequently, in seconds, the node state is updated\n",
    "        \"status_update_interval\": 0.5, # Change how frequently, in seconds, the node status is updated\n",
    "    }\n",
    ")\n",
    "example_node = ExampleNodeWithUpdates(node_definition=node_definition)\n",
    "example_node.start_node(testing=True)\n",
    "\n",
    "with node_client(example_node, RestNodeClient(url=\"http://localhost:2000\")) as client:\n",
    "    # Example of a request to the node\n",
    "    for i in range(10):\n",
    "        print(client.get_state())\n",
    "        print(client.get_status().busy)\n",
    "        time.sleep(1)"
   ]
  },
  {
   "cell_type": "code",
   "execution_count": null,
   "metadata": {},
   "outputs": [],
   "source": [
    "from madsci.node_module.helpers import action\n",
    "from madsci.common.types.action_types import ActionSucceeded, ActionRequest, ActionFailed\n",
    "from madsci.common.types.node_types import NodeStatus\n",
    "\n",
    "class ExampleNodeWithAction(ExampleNodeWithLifecycle):\n",
    "    \"\"\"Define an example node with an action.\"\"\"\n",
    "\n",
    "    node_status = NodeStatus()\n",
    "\n",
    "    @action(name=\"example_action\")\n",
    "    def example_action(self, arg1: str, arg2: int) -> str:\n",
    "        \"\"\"\n",
    "        An example action that takes two parameters and returns a string.\n",
    "        \"\"\"\n",
    "        self.logger.log(f\"Action called with arg1: {arg1}, arg2: {arg2}\")\n",
    "        if arg2 < 0:\n",
    "            return ActionFailed(errors=[\"arg2 must be non-negative\"])\n",
    "        return ActionSucceeded()\n",
    "\n",
    "\n",
    "node_definition = NodeDefinition(\n",
    "    node_name=\"example_node\",\n",
    "    module_name=\"example_node_module\",\n",
    "    description=\"An example node\",\n",
    ")\n",
    "example_node = ExampleNodeWithAction(node_definition=node_definition)\n",
    "example_node.start_node(testing=True)\n",
    "\n",
    "with node_client(example_node, RestNodeClient(url=\"http://localhost:2000\")) as client:\n",
    "    # Example of a request to the node\n",
    "    time.sleep(1)  # Wait for the node to start\n",
    "    request = ActionRequest(\n",
    "        action_name=\"example_action\",\n",
    "        args={\"arg1\": \"Hello\", \"arg2\": 42},\n",
    "    )\n",
    "    # Send the action request to the node\n",
    "    print(client.send_action(request))"
   ]
  },
  {
   "cell_type": "markdown",
   "metadata": {
    "polyglot_notebook": {
     "kernelName": "mermaid"
    }
   },
   "source": [
    "# Lifecycle of an Action\n",
    "\n",
    "![Action Flow Status](./assets/mermaid/ActionStatusFlow.svg)"
   ]
  },
  {
   "cell_type": "code",
   "execution_count": null,
   "metadata": {},
   "outputs": [],
   "source": [
    "# What if we forget an argument?\n",
    "with node_client(example_node, RestNodeClient(url=\"http://localhost:2000\")) as client:\n",
    "    # Example of a request to the node\n",
    "    time.sleep(1)  # Wait for the node to start\n",
    "    request = ActionRequest(\n",
    "        action_name=\"example_action\",\n",
    "        args={\"arg1\": \"Hello\"},\n",
    "    )\n",
    "    # Send the action request to the node\n",
    "    print(client.send_action(request))"
   ]
  },
  {
   "cell_type": "code",
   "execution_count": null,
   "metadata": {},
   "outputs": [],
   "source": [
    "# What if the action failed?\n",
    "with node_client(example_node, RestNodeClient(url=\"http://localhost:2000\")) as client:\n",
    "    time.sleep(1)  # Wait for the node to start\n",
    "    client.get_status()\n",
    "    request = ActionRequest(\n",
    "        action_name=\"example_action\",\n",
    "        args={\"arg1\": \"Hello\", \"arg2\": -42},\n",
    "    )\n",
    "    # Send the action request to the node\n",
    "    print(client.send_action(request))"
   ]
  },
  {
   "cell_type": "code",
   "execution_count": null,
   "metadata": {},
   "outputs": [],
   "source": [
    "# What does the node info look like?\n",
    "with node_client(example_node, RestNodeClient(url=\"http://localhost:2000\")) as client:\n",
    "    # Example of a request to the node\n",
    "    print(client.get_info())"
   ]
  },
  {
   "cell_type": "code",
   "execution_count": null,
   "metadata": {},
   "outputs": [],
   "source": [
    "# Admin Action Example: Locking and Unlocking the Node\n",
    "with node_client(example_node, RestNodeClient(url=\"http://localhost:2000\")) as client:\n",
    "    # Example of a request to the node\n",
    "    time.sleep(1)  # Wait for the node to start\n",
    "    print(client.send_admin_command(\"lock\"))\n",
    "    request = ActionRequest(\n",
    "        action_name=\"example_action\",\n",
    "        args={\"arg1\": \"Hello\", \"arg2\": 0},\n",
    "    )\n",
    "    # Send the action request to the node\n",
    "    print(client.send_action(request))\n",
    "    print(client.send_admin_command(\"unlock\"))\n",
    "    request = ActionRequest(\n",
    "        action_name=\"example_action\",\n",
    "        args={\"arg1\": \"Hello\", \"arg2\": 0},\n",
    "    )\n",
    "    # Send the action request to the node\n",
    "    print(client.send_action(request))"
   ]
  },
  {
   "cell_type": "code",
   "execution_count": null,
   "metadata": {},
   "outputs": [],
   "source": []
  }
 ],
 "metadata": {
  "kernelspec": {
   "display_name": ".venv",
   "language": "python",
   "name": "python3"
  },
  "language_info": {
   "codemirror_mode": {
    "name": "ipython",
    "version": 3
   },
   "file_extension": ".py",
   "mimetype": "text/x-python",
   "name": "python",
   "nbconvert_exporter": "python",
   "pygments_lexer": "ipython3",
   "version": "3.10.12"
  },
  "polyglot_notebook": {
   "kernelInfo": {
    "defaultKernelName": "csharp",
    "items": [
     {
      "aliases": [],
      "name": "csharp"
     }
    ]
   }
  }
 },
 "nbformat": 4,
 "nbformat_minor": 2
}
