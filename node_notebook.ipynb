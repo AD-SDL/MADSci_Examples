{
 "cells": [
  {
   "cell_type": "markdown",
   "metadata": {},
   "source": [
    "# Integrating your Devices with MADSci Nodes\n",
    "\n",
    "This notebook aims to teach you how to automate and integrate all the devices, instruments, sensors, and robots in your self-driving lab using the MADSci Node standard.\n",
    "\n",
    "## Goals\n",
    "\n",
    "After completing this notebook, you should understand\n",
    "\n",
    "1. What we mean when we talk about a MADSci Node\n",
    "2. The MADSci Node Standard\n",
    "3. How to integrate and automate a device using the MADSci Node standard\n",
    "4. How to use the `RestNode` python class included in `madsci.node_module` to integrate a MADSci Node\n"
   ]
  },
  {
   "cell_type": "markdown",
   "metadata": {},
   "source": [
    "## What is a Node?\n",
    "\n",
    "- In MADSci, a `Node` refers to a single instrument, sensor, robot, or other device, combined with the software needed to control, operate, automate, and integrate it into the Automated or Autonomous Lab as a whole.\n",
    "- Node's take **Action Requests**, and return **Action Results**. They also report **State** and **Status** information, and can optionally manage **Resources**.\n",
    "\n",
    "### Anatomy of a Node\n",
    "\n",
    "A `Node` typically consists of the following sub-components:\n",
    "\n",
    "- A physical **device** (robot, instrument, sensor, etc.)\n",
    "- A **driver**, API, library, or software application for communicating with that device, often provided by the hardware vendor\n",
    "- A device **interface** class that handles the neccessary initialization, communication, and cleanup required to use the given device\n",
    "- The **node implementation**, typically a class, which uses the interface to handle the execution of the actions and the lifecycle of the node (state, status, statup, shutdown, etc.).\n",
    "- The **node definition** and **configuration**, which define specific details about a given instance of a node and how it should. We typically implement these as .YAML files\n",
    "- The **node server** and **node client**, which allow for standardized control of nodes. These are implementations of the MADSci Node standard interface, and operate using standard protocols (currently, REST-based HTTP)\n",
    "\n",
    "<img src=\"./assets/mermaid/NodeDiagram.svg\" width=1000></img>"
   ]
  },
  {
   "cell_type": "code",
   "execution_count": 1,
   "metadata": {},
   "outputs": [
    {
     "name": "stdout",
     "output_type": "stream",
     "text": [
      "/Users/luckierdodge/AD-SDL/MADSci_Examples/.venv/bin/python: No module named pip\n",
      "Note: you may need to restart the kernel to use updated packages.\n"
     ]
    }
   ],
   "source": [
    "# Install dependencies\n",
    "%pip install madsci.common madsci.node_module httpx"
   ]
  },
  {
   "cell_type": "markdown",
   "metadata": {},
   "source": [
    "## Defining A Node\n",
    "\n",
    "While you can build a MADSci compliant Node entirely from scratch, that's a lot of work. To save you some time and effort, we've implemented our own `RestNode` python class that you can inherit from to build your own.\n",
    "\n",
    "In the rest of the notebook, we'll demonstrate an example of integrating a fake \"robot arm\" as a MADSci Node using our `RestNode` class.\n",
    "\n",
    "\n",
    "### Definition Files and Node Class\n",
    "\n",
    "In general, a Node consists of both a `NodeDefinition`, which includes all the configuration and information for a node that controls a **single, specific instance** of a device. We generally store this definition as a `.yaml` file that is then passed as an argument when we start the `Node Class`, which is a (python) class that implements all of the logic for running a Node for **any instance** of that class.\n",
    "\n",
    "In other words, `NodeDefinitions` allow you to easily differentiate between multiple **instances** of a `Node`"
   ]
  },
  {
   "cell_type": "code",
   "execution_count": 2,
   "metadata": {},
   "outputs": [],
   "source": [
    "from madsci.node_module.rest_node_module import RestNode\n",
    "from madsci.common.types.node_types import NodeDefinition\n",
    "from rich import print"
   ]
  },
  {
   "cell_type": "code",
   "execution_count": null,
   "metadata": {},
   "outputs": [
    {
     "data": {
      "text/html": [
       "<pre style=\"white-space:pre;overflow-x:auto;line-height:normal;font-family:Menlo,'DejaVu Sans Mono',consolas,'Courier New',monospace\"><span style=\"color: #800080; text-decoration-color: #800080; font-weight: bold\">NodeDefinition</span><span style=\"font-weight: bold\">(</span>\n",
       "    <span style=\"color: #808000; text-decoration-color: #808000\">node_name</span>=<span style=\"color: #008000; text-decoration-color: #008000\">'example_robot_1'</span>,\n",
       "    <span style=\"color: #808000; text-decoration-color: #808000\">node_id</span>=<span style=\"color: #008000; text-decoration-color: #008000\">'01JRB25AGN8R9GSKHVHM55P36P'</span>,\n",
       "    <span style=\"color: #808000; text-decoration-color: #808000\">node_url</span>=<span style=\"color: #800080; text-decoration-color: #800080; font-style: italic\">None</span>,\n",
       "    <span style=\"color: #808000; text-decoration-color: #808000\">node_description</span>=<span style=\"color: #008000; text-decoration-color: #008000\">'An example node for controlling a fake robot arm.'</span>,\n",
       "    <span style=\"color: #808000; text-decoration-color: #808000\">node_type</span>=<span style=\"color: #800080; text-decoration-color: #800080; font-style: italic\">None</span>,\n",
       "    <span style=\"color: #808000; text-decoration-color: #808000\">module_name</span>=<span style=\"color: #008000; text-decoration-color: #008000\">'example_robot_module'</span>,\n",
       "    <span style=\"color: #808000; text-decoration-color: #808000\">module_version</span>=<span style=\"color: #800080; text-decoration-color: #800080; font-weight: bold\">Version</span><span style=\"font-weight: bold\">(</span><span style=\"color: #808000; text-decoration-color: #808000\">major</span>=<span style=\"color: #008080; text-decoration-color: #008080; font-weight: bold\">0</span>, <span style=\"color: #808000; text-decoration-color: #808000\">minor</span>=<span style=\"color: #008080; text-decoration-color: #008080; font-weight: bold\">0</span>, <span style=\"color: #808000; text-decoration-color: #808000\">patch</span>=<span style=\"color: #008080; text-decoration-color: #008080; font-weight: bold\">1</span>, <span style=\"color: #808000; text-decoration-color: #808000\">prerelease</span>=<span style=\"color: #800080; text-decoration-color: #800080; font-style: italic\">None</span>, <span style=\"color: #808000; text-decoration-color: #808000\">build</span>=<span style=\"color: #800080; text-decoration-color: #800080; font-style: italic\">None</span><span style=\"font-weight: bold\">)</span>,\n",
       "    <span style=\"color: #808000; text-decoration-color: #808000\">capabilities</span>=<span style=\"color: #800080; text-decoration-color: #800080; font-weight: bold\">NodeCapabilities</span><span style=\"font-weight: bold\">(</span>\n",
       "        <span style=\"color: #808000; text-decoration-color: #808000\">get_info</span>=<span style=\"color: #00ff00; text-decoration-color: #00ff00; font-style: italic\">True</span>,\n",
       "        <span style=\"color: #808000; text-decoration-color: #808000\">get_state</span>=<span style=\"color: #00ff00; text-decoration-color: #00ff00; font-style: italic\">True</span>,\n",
       "        <span style=\"color: #808000; text-decoration-color: #808000\">get_status</span>=<span style=\"color: #00ff00; text-decoration-color: #00ff00; font-style: italic\">True</span>,\n",
       "        <span style=\"color: #808000; text-decoration-color: #808000\">send_action</span>=<span style=\"color: #00ff00; text-decoration-color: #00ff00; font-style: italic\">True</span>,\n",
       "        <span style=\"color: #808000; text-decoration-color: #808000\">get_action_result</span>=<span style=\"color: #00ff00; text-decoration-color: #00ff00; font-style: italic\">True</span>,\n",
       "        <span style=\"color: #808000; text-decoration-color: #808000\">get_action_history</span>=<span style=\"color: #00ff00; text-decoration-color: #00ff00; font-style: italic\">True</span>,\n",
       "        <span style=\"color: #808000; text-decoration-color: #808000\">action_files</span>=<span style=\"color: #00ff00; text-decoration-color: #00ff00; font-style: italic\">True</span>,\n",
       "        <span style=\"color: #808000; text-decoration-color: #808000\">send_admin_commands</span>=<span style=\"color: #00ff00; text-decoration-color: #00ff00; font-style: italic\">True</span>,\n",
       "        <span style=\"color: #808000; text-decoration-color: #808000\">set_config</span>=<span style=\"color: #00ff00; text-decoration-color: #00ff00; font-style: italic\">True</span>,\n",
       "        <span style=\"color: #808000; text-decoration-color: #808000\">get_resources</span>=<span style=\"color: #ff0000; text-decoration-color: #ff0000; font-style: italic\">False</span>,\n",
       "        <span style=\"color: #808000; text-decoration-color: #808000\">get_log</span>=<span style=\"color: #00ff00; text-decoration-color: #00ff00; font-style: italic\">True</span>,\n",
       "        <span style=\"color: #808000; text-decoration-color: #808000\">events</span>=<span style=\"color: #800080; text-decoration-color: #800080; font-style: italic\">None</span>,\n",
       "        <span style=\"color: #808000; text-decoration-color: #808000\">resources</span>=<span style=\"color: #800080; text-decoration-color: #800080; font-style: italic\">None</span>,\n",
       "        <span style=\"color: #808000; text-decoration-color: #808000\">admin_commands</span>=<span style=\"font-weight: bold\">{</span>\n",
       "            <span style=\"font-weight: bold\">&lt;</span><span style=\"color: #ff00ff; text-decoration-color: #ff00ff; font-weight: bold\">AdminCommands.LOCK:</span><span style=\"color: #000000; text-decoration-color: #000000\"> </span><span style=\"color: #008000; text-decoration-color: #008000\">'lock'</span><span style=\"color: #000000; text-decoration-color: #000000\">&gt;,</span>\n",
       "<span style=\"color: #000000; text-decoration-color: #000000\">            &lt;AdminCommands.RESET: </span><span style=\"color: #008000; text-decoration-color: #008000\">'reset'</span><span style=\"color: #000000; text-decoration-color: #000000\">&gt;,</span>\n",
       "<span style=\"color: #000000; text-decoration-color: #000000\">            &lt;AdminCommands.UNLOCK: </span><span style=\"color: #008000; text-decoration-color: #008000\">'unlock'</span><span style=\"color: #000000; text-decoration-color: #000000\">&gt;,</span>\n",
       "<span style=\"color: #000000; text-decoration-color: #000000\">            &lt;AdminCommands.SHUTDOWN: </span><span style=\"color: #008000; text-decoration-color: #008000\">'shutdown'</span><span style=\"font-weight: bold\">&gt;</span>\n",
       "        <span style=\"font-weight: bold\">}</span>\n",
       "    <span style=\"font-weight: bold\">)</span>,\n",
       "    <span style=\"color: #808000; text-decoration-color: #808000\">commands</span>=<span style=\"font-weight: bold\">{}</span>,\n",
       "    <span style=\"color: #808000; text-decoration-color: #808000\">is_template</span>=<span style=\"color: #ff0000; text-decoration-color: #ff0000; font-style: italic\">False</span>,\n",
       "    <span style=\"color: #808000; text-decoration-color: #808000\">config_defaults</span>=<span style=\"font-weight: bold\">{}</span>\n",
       "<span style=\"font-weight: bold\">)</span>\n",
       "</pre>\n"
      ],
      "text/plain": [
       "\u001b[1;35mNodeDefinition\u001b[0m\u001b[1m(\u001b[0m\n",
       "    \u001b[33mnode_name\u001b[0m=\u001b[32m'example_robot_1'\u001b[0m,\n",
       "    \u001b[33mnode_id\u001b[0m=\u001b[32m'01JRB25AGN8R9GSKHVHM55P36P'\u001b[0m,\n",
       "    \u001b[33mnode_url\u001b[0m=\u001b[3;35mNone\u001b[0m,\n",
       "    \u001b[33mnode_description\u001b[0m=\u001b[32m'An example node for controlling a fake robot arm.'\u001b[0m,\n",
       "    \u001b[33mnode_type\u001b[0m=\u001b[3;35mNone\u001b[0m,\n",
       "    \u001b[33mmodule_name\u001b[0m=\u001b[32m'example_robot_module'\u001b[0m,\n",
       "    \u001b[33mmodule_version\u001b[0m=\u001b[1;35mVersion\u001b[0m\u001b[1m(\u001b[0m\u001b[33mmajor\u001b[0m=\u001b[1;36m0\u001b[0m, \u001b[33mminor\u001b[0m=\u001b[1;36m0\u001b[0m, \u001b[33mpatch\u001b[0m=\u001b[1;36m1\u001b[0m, \u001b[33mprerelease\u001b[0m=\u001b[3;35mNone\u001b[0m, \u001b[33mbuild\u001b[0m=\u001b[3;35mNone\u001b[0m\u001b[1m)\u001b[0m,\n",
       "    \u001b[33mcapabilities\u001b[0m=\u001b[1;35mNodeCapabilities\u001b[0m\u001b[1m(\u001b[0m\n",
       "        \u001b[33mget_info\u001b[0m=\u001b[3;92mTrue\u001b[0m,\n",
       "        \u001b[33mget_state\u001b[0m=\u001b[3;92mTrue\u001b[0m,\n",
       "        \u001b[33mget_status\u001b[0m=\u001b[3;92mTrue\u001b[0m,\n",
       "        \u001b[33msend_action\u001b[0m=\u001b[3;92mTrue\u001b[0m,\n",
       "        \u001b[33mget_action_result\u001b[0m=\u001b[3;92mTrue\u001b[0m,\n",
       "        \u001b[33mget_action_history\u001b[0m=\u001b[3;92mTrue\u001b[0m,\n",
       "        \u001b[33maction_files\u001b[0m=\u001b[3;92mTrue\u001b[0m,\n",
       "        \u001b[33msend_admin_commands\u001b[0m=\u001b[3;92mTrue\u001b[0m,\n",
       "        \u001b[33mset_config\u001b[0m=\u001b[3;92mTrue\u001b[0m,\n",
       "        \u001b[33mget_resources\u001b[0m=\u001b[3;91mFalse\u001b[0m,\n",
       "        \u001b[33mget_log\u001b[0m=\u001b[3;92mTrue\u001b[0m,\n",
       "        \u001b[33mevents\u001b[0m=\u001b[3;35mNone\u001b[0m,\n",
       "        \u001b[33mresources\u001b[0m=\u001b[3;35mNone\u001b[0m,\n",
       "        \u001b[33madmin_commands\u001b[0m=\u001b[1m{\u001b[0m\n",
       "            \u001b[1m<\u001b[0m\u001b[1;95mAdminCommands.LOCK:\u001b[0m\u001b[39m \u001b[0m\u001b[32m'lock'\u001b[0m\u001b[39m>,\u001b[0m\n",
       "\u001b[39m            <AdminCommands.RESET: \u001b[0m\u001b[32m'reset'\u001b[0m\u001b[39m>,\u001b[0m\n",
       "\u001b[39m            <AdminCommands.UNLOCK: \u001b[0m\u001b[32m'unlock'\u001b[0m\u001b[39m>,\u001b[0m\n",
       "\u001b[39m            <AdminCommands.SHUTDOWN: \u001b[0m\u001b[32m'shutdown'\u001b[0m\u001b[1m>\u001b[0m\n",
       "        \u001b[1m}\u001b[0m\n",
       "    \u001b[1m)\u001b[0m,\n",
       "    \u001b[33mcommands\u001b[0m=\u001b[1m{\u001b[0m\u001b[1m}\u001b[0m,\n",
       "    \u001b[33mis_template\u001b[0m=\u001b[3;91mFalse\u001b[0m,\n",
       "    \u001b[33mconfig_defaults\u001b[0m=\u001b[1m{\u001b[0m\u001b[1m}\u001b[0m\n",
       "\u001b[1m)\u001b[0m\n"
      ]
     },
     "metadata": {},
     "output_type": "display_data"
    }
   ],
   "source": [
    "class ExampleRobotNode(RestNode):\n",
    "    \"\"\"Define an Example Robot Node. It doesn't do anything yet, but it's a good starting point.\"\"\"\n",
    "\n",
    "    pass\n",
    "\n",
    "# In most cases, this node definition is a .yaml file that we pass as the \"--definition\" argument at runtime.\n",
    "node_definition = NodeDefinition(\n",
    "    node_name=\"example_robot_1\",\n",
    "    module_name=\"example_robot_module\",\n",
    "    node_description=\"An example node for controlling a fake robot arm.\",\n",
    ")\n",
    "example_node = ExampleRobotNode(node_definition=node_definition)\n",
    "# Normally, `start_node` starts a web server and listens for incoming requests.\n",
    "# Here, we are just testing the node's functionality, so we set testing=True.\n",
    "# This will run the node in a testing mode, which is useful for debugging.\n",
    "example_node.start_node(testing=True)\n",
    "\n",
    "print(node_definition)"
   ]
  },
  {
   "cell_type": "code",
   "execution_count": 4,
   "metadata": {},
   "outputs": [],
   "source": [
    "# Demo Magic to avoid having to actually run rest servers\n",
    "import contextlib\n",
    "from fastapi.testclient import TestClient\n",
    "\n",
    "from collections.abc import Generator\n",
    "from typing import Any\n",
    "from unittest.mock import patch\n",
    "\n",
    "from madsci.client.node.rest_node_client import RestNodeClient\n",
    "\n",
    "@contextlib.contextmanager\n",
    "def node_server(node: RestNode) -> Generator[TestClient, None, None]:\n",
    "    \"\"\"Mock server context manager.\"\"\"\n",
    "\n",
    "    test_client = TestClient(node.rest_api)\n",
    "\n",
    "    with test_client as requests:\n",
    "        # Mock the server's behavior\n",
    "        yield requests\n",
    "\n",
    "@contextlib.contextmanager\n",
    "def node_client(node: RestNode, client: RestNodeClient) -> Generator[RestNodeClient, None, None]:\n",
    "    \"\"\"Mock client context manager.\"\"\"\n",
    "\n",
    "    with node_server(node) as requests, patch(\"madsci.client.node.rest_node_client.requests\") as mock_requests:\n",
    "            def post_no_timeout(*args: Any, **kwargs: Any) -> Any:\n",
    "                kwargs.pop(\"timeout\", None)\n",
    "                return requests.post(*args, **kwargs)\n",
    "\n",
    "            mock_requests.post.side_effect = post_no_timeout\n",
    "\n",
    "            def get_no_timeout(*args: Any, **kwargs: Any) -> Any:\n",
    "                kwargs.pop(\"timeout\", None)\n",
    "                return requests.get(*args, **kwargs)\n",
    "\n",
    "            mock_requests.get.side_effect = get_no_timeout\n",
    "\n",
    "            yield client\n"
   ]
  },
  {
   "cell_type": "markdown",
   "metadata": {},
   "source": [
    "## Node Info\n",
    "\n",
    "> A node's way of introducing itself\n",
    "\n",
    "A useful part of the MADSci Node Standard is the `NodeInfo`: a description of the node, it's current configuration and capabilites, and just about everything else you might reasonably want to know about it. The `RestNode` python class does it's best to automatically generate as much of the Node Info as possible, so that users, agents, and other components of the system can easily understand what the capabilities and functionality of a given node. "
   ]
  },
  {
   "cell_type": "code",
   "execution_count": 5,
   "metadata": {},
   "outputs": [
    {
     "data": {
      "text/html": [
       "<pre style=\"white-space:pre;overflow-x:auto;line-height:normal;font-family:Menlo,'DejaVu Sans Mono',consolas,'Courier New',monospace\"><span style=\"color: #008080; text-decoration-color: #008080; font-weight: bold\">2025</span>-<span style=\"color: #008080; text-decoration-color: #008080; font-weight: bold\">04</span>-<span style=\"color: #008080; text-decoration-color: #008080; font-weight: bold\">08</span> <span style=\"color: #00ff00; text-decoration-color: #00ff00; font-weight: bold\">10:32:14</span>.<span style=\"color: #008080; text-decoration-color: #008080; font-weight: bold\">936599</span> <span style=\"font-weight: bold\">(</span>EventType.LOG_INFO<span style=\"font-weight: bold\">)</span>: Startup complete for node example_node.\n",
       "</pre>\n"
      ],
      "text/plain": [
       "\u001b[1;36m2025\u001b[0m-\u001b[1;36m04\u001b[0m-\u001b[1;36m08\u001b[0m \u001b[1;92m10:32:14\u001b[0m.\u001b[1;36m936599\u001b[0m \u001b[1m(\u001b[0mEventType.LOG_INFO\u001b[1m)\u001b[0m: Startup complete for node example_node.\n"
      ]
     },
     "metadata": {},
     "output_type": "display_data"
    },
    {
     "data": {
      "text/html": [
       "<pre style=\"white-space:pre;overflow-x:auto;line-height:normal;font-family:Menlo,'DejaVu Sans Mono',consolas,'Courier New',monospace\"><span style=\"color: #800080; text-decoration-color: #800080; font-weight: bold\">NodeInfo</span><span style=\"font-weight: bold\">(</span>\n",
       "    <span style=\"color: #808000; text-decoration-color: #808000\">node_name</span>=<span style=\"color: #008000; text-decoration-color: #008000\">'example_node'</span>,\n",
       "    <span style=\"color: #808000; text-decoration-color: #808000\">node_id</span>=<span style=\"color: #008000; text-decoration-color: #008000\">'01JRB0FNV771F9MWDPZ4GX31A7'</span>,\n",
       "    <span style=\"color: #808000; text-decoration-color: #808000\">node_url</span>=<span style=\"color: #800080; text-decoration-color: #800080; font-weight: bold\">AnyUrl</span><span style=\"font-weight: bold\">(</span><span style=\"color: #008000; text-decoration-color: #008000\">'http://127.0.0.1:8000/'</span><span style=\"font-weight: bold\">)</span>,\n",
       "    <span style=\"color: #808000; text-decoration-color: #808000\">node_description</span>=<span style=\"color: #008000; text-decoration-color: #008000\">'An example node'</span>,\n",
       "    <span style=\"color: #808000; text-decoration-color: #808000\">node_type</span>=<span style=\"color: #800080; text-decoration-color: #800080; font-style: italic\">None</span>,\n",
       "    <span style=\"color: #808000; text-decoration-color: #808000\">module_name</span>=<span style=\"color: #008000; text-decoration-color: #008000\">'example_node_module'</span>,\n",
       "    <span style=\"color: #808000; text-decoration-color: #808000\">module_version</span>=<span style=\"color: #800080; text-decoration-color: #800080; font-weight: bold\">SemanticVersion</span><span style=\"font-weight: bold\">(</span><span style=\"color: #808000; text-decoration-color: #808000\">major</span>=<span style=\"color: #008080; text-decoration-color: #008080; font-weight: bold\">0</span>, <span style=\"color: #808000; text-decoration-color: #808000\">minor</span>=<span style=\"color: #008080; text-decoration-color: #008080; font-weight: bold\">0</span>, <span style=\"color: #808000; text-decoration-color: #808000\">patch</span>=<span style=\"color: #008080; text-decoration-color: #008080; font-weight: bold\">1</span>, <span style=\"color: #808000; text-decoration-color: #808000\">prerelease</span>=<span style=\"color: #800080; text-decoration-color: #800080; font-style: italic\">None</span>, <span style=\"color: #808000; text-decoration-color: #808000\">build</span>=<span style=\"color: #800080; text-decoration-color: #800080; font-style: italic\">None</span><span style=\"font-weight: bold\">)</span>,\n",
       "    <span style=\"color: #808000; text-decoration-color: #808000\">capabilities</span>=<span style=\"color: #800080; text-decoration-color: #800080; font-weight: bold\">NodeCapabilities</span><span style=\"font-weight: bold\">(</span>\n",
       "        <span style=\"color: #808000; text-decoration-color: #808000\">get_info</span>=<span style=\"color: #00ff00; text-decoration-color: #00ff00; font-style: italic\">True</span>,\n",
       "        <span style=\"color: #808000; text-decoration-color: #808000\">get_state</span>=<span style=\"color: #00ff00; text-decoration-color: #00ff00; font-style: italic\">True</span>,\n",
       "        <span style=\"color: #808000; text-decoration-color: #808000\">get_status</span>=<span style=\"color: #00ff00; text-decoration-color: #00ff00; font-style: italic\">True</span>,\n",
       "        <span style=\"color: #808000; text-decoration-color: #808000\">send_action</span>=<span style=\"color: #00ff00; text-decoration-color: #00ff00; font-style: italic\">True</span>,\n",
       "        <span style=\"color: #808000; text-decoration-color: #808000\">get_action_result</span>=<span style=\"color: #00ff00; text-decoration-color: #00ff00; font-style: italic\">True</span>,\n",
       "        <span style=\"color: #808000; text-decoration-color: #808000\">get_action_history</span>=<span style=\"color: #00ff00; text-decoration-color: #00ff00; font-style: italic\">True</span>,\n",
       "        <span style=\"color: #808000; text-decoration-color: #808000\">action_files</span>=<span style=\"color: #00ff00; text-decoration-color: #00ff00; font-style: italic\">True</span>,\n",
       "        <span style=\"color: #808000; text-decoration-color: #808000\">send_admin_commands</span>=<span style=\"color: #00ff00; text-decoration-color: #00ff00; font-style: italic\">True</span>,\n",
       "        <span style=\"color: #808000; text-decoration-color: #808000\">set_config</span>=<span style=\"color: #00ff00; text-decoration-color: #00ff00; font-style: italic\">True</span>,\n",
       "        <span style=\"color: #808000; text-decoration-color: #808000\">get_resources</span>=<span style=\"color: #ff0000; text-decoration-color: #ff0000; font-style: italic\">False</span>,\n",
       "        <span style=\"color: #808000; text-decoration-color: #808000\">get_log</span>=<span style=\"color: #00ff00; text-decoration-color: #00ff00; font-style: italic\">True</span>,\n",
       "        <span style=\"color: #808000; text-decoration-color: #808000\">events</span>=<span style=\"color: #800080; text-decoration-color: #800080; font-style: italic\">None</span>,\n",
       "        <span style=\"color: #808000; text-decoration-color: #808000\">resources</span>=<span style=\"color: #800080; text-decoration-color: #800080; font-style: italic\">None</span>,\n",
       "        <span style=\"color: #808000; text-decoration-color: #808000\">admin_commands</span>=<span style=\"font-weight: bold\">{</span>\n",
       "            <span style=\"font-weight: bold\">&lt;</span><span style=\"color: #ff00ff; text-decoration-color: #ff00ff; font-weight: bold\">AdminCommands.LOCK:</span><span style=\"color: #000000; text-decoration-color: #000000\"> </span><span style=\"color: #008000; text-decoration-color: #008000\">'lock'</span><span style=\"color: #000000; text-decoration-color: #000000\">&gt;,</span>\n",
       "<span style=\"color: #000000; text-decoration-color: #000000\">            &lt;AdminCommands.RESET: </span><span style=\"color: #008000; text-decoration-color: #008000\">'reset'</span><span style=\"color: #000000; text-decoration-color: #000000\">&gt;,</span>\n",
       "<span style=\"color: #000000; text-decoration-color: #000000\">            &lt;AdminCommands.UNLOCK: </span><span style=\"color: #008000; text-decoration-color: #008000\">'unlock'</span><span style=\"color: #000000; text-decoration-color: #000000\">&gt;,</span>\n",
       "<span style=\"color: #000000; text-decoration-color: #000000\">            &lt;AdminCommands.SHUTDOWN: </span><span style=\"color: #008000; text-decoration-color: #008000\">'shutdown'</span><span style=\"font-weight: bold\">&gt;</span>\n",
       "        <span style=\"font-weight: bold\">}</span>\n",
       "    <span style=\"font-weight: bold\">)</span>,\n",
       "    <span style=\"color: #808000; text-decoration-color: #808000\">commands</span>=<span style=\"font-weight: bold\">{}</span>,\n",
       "    <span style=\"color: #808000; text-decoration-color: #808000\">is_template</span>=<span style=\"color: #ff0000; text-decoration-color: #ff0000; font-style: italic\">False</span>,\n",
       "    <span style=\"color: #808000; text-decoration-color: #808000\">config_defaults</span>=<span style=\"font-weight: bold\">{}</span>,\n",
       "    <span style=\"color: #808000; text-decoration-color: #808000\">actions</span>=<span style=\"font-weight: bold\">{}</span>,\n",
       "    <span style=\"color: #808000; text-decoration-color: #808000\">config</span>=<span style=\"font-weight: bold\">{</span>\n",
       "        <span style=\"color: #008000; text-decoration-color: #008000\">'status_update_interval'</span>: <span style=\"color: #008080; text-decoration-color: #008080; font-weight: bold\">2.0</span>,\n",
       "        <span style=\"color: #008000; text-decoration-color: #008000\">'state_update_interval'</span>: <span style=\"color: #008080; text-decoration-color: #008080; font-weight: bold\">2.0</span>,\n",
       "        <span style=\"color: #008000; text-decoration-color: #008000\">'event_client_config'</span>: <span style=\"color: #800080; text-decoration-color: #800080; font-style: italic\">None</span>,\n",
       "        <span style=\"color: #008000; text-decoration-color: #008000\">'resource_server_url'</span>: <span style=\"color: #800080; text-decoration-color: #800080; font-style: italic\">None</span>,\n",
       "        <span style=\"color: #008000; text-decoration-color: #008000\">'host'</span>: <span style=\"color: #008000; text-decoration-color: #008000\">'127.0.0.1'</span>,\n",
       "        <span style=\"color: #008000; text-decoration-color: #008000\">'port'</span>: <span style=\"color: #008080; text-decoration-color: #008080; font-weight: bold\">8000</span>,\n",
       "        <span style=\"color: #008000; text-decoration-color: #008000\">'protocol'</span>: <span style=\"color: #008000; text-decoration-color: #008000\">'http'</span>\n",
       "    <span style=\"font-weight: bold\">}</span>,\n",
       "    <span style=\"color: #808000; text-decoration-color: #808000\">config_schema</span>=<span style=\"font-weight: bold\">{</span>\n",
       "        <span style=\"color: #008000; text-decoration-color: #008000\">'$defs'</span>: <span style=\"font-weight: bold\">{</span>\n",
       "            <span style=\"color: #008000; text-decoration-color: #008000\">'EventClientConfig'</span>: <span style=\"font-weight: bold\">{</span>\n",
       "                <span style=\"color: #008000; text-decoration-color: #008000\">'description'</span>: <span style=\"color: #008000; text-decoration-color: #008000\">'Configuration for an Event Client.'</span>,\n",
       "                <span style=\"color: #008000; text-decoration-color: #008000\">'properties'</span>: <span style=\"font-weight: bold\">{</span>\n",
       "                    <span style=\"color: #008000; text-decoration-color: #008000\">'name'</span>: <span style=\"font-weight: bold\">{</span>\n",
       "                        <span style=\"color: #008000; text-decoration-color: #008000\">'anyOf'</span>: <span style=\"font-weight: bold\">[{</span><span style=\"color: #008000; text-decoration-color: #008000\">'type'</span>: <span style=\"color: #008000; text-decoration-color: #008000\">'string'</span><span style=\"font-weight: bold\">}</span>, <span style=\"font-weight: bold\">{</span><span style=\"color: #008000; text-decoration-color: #008000\">'type'</span>: <span style=\"color: #008000; text-decoration-color: #008000\">'null'</span><span style=\"font-weight: bold\">}]</span>,\n",
       "                        <span style=\"color: #008000; text-decoration-color: #008000\">'default'</span>: <span style=\"color: #800080; text-decoration-color: #800080; font-style: italic\">None</span>,\n",
       "                        <span style=\"color: #008000; text-decoration-color: #008000\">'description'</span>: <span style=\"color: #008000; text-decoration-color: #008000\">'The name of the event client.'</span>,\n",
       "                        <span style=\"color: #008000; text-decoration-color: #008000\">'title'</span>: <span style=\"color: #008000; text-decoration-color: #008000\">'Event Client Name'</span>\n",
       "                    <span style=\"font-weight: bold\">}</span>,\n",
       "                    <span style=\"color: #008000; text-decoration-color: #008000\">'event_server_url'</span>: <span style=\"font-weight: bold\">{</span>\n",
       "                        <span style=\"color: #008000; text-decoration-color: #008000\">'anyOf'</span>: <span style=\"font-weight: bold\">[{</span><span style=\"color: #008000; text-decoration-color: #008000\">'type'</span>: <span style=\"color: #008000; text-decoration-color: #008000\">'string'</span><span style=\"font-weight: bold\">}</span>, <span style=\"font-weight: bold\">{</span><span style=\"color: #008000; text-decoration-color: #008000\">'type'</span>: <span style=\"color: #008000; text-decoration-color: #008000\">'null'</span><span style=\"font-weight: bold\">}]</span>,\n",
       "                        <span style=\"color: #008000; text-decoration-color: #008000\">'default'</span>: <span style=\"color: #800080; text-decoration-color: #800080; font-style: italic\">None</span>,\n",
       "                        <span style=\"color: #008000; text-decoration-color: #008000\">'description'</span>: <span style=\"color: #008000; text-decoration-color: #008000\">'The URL of the event server.'</span>,\n",
       "                        <span style=\"color: #008000; text-decoration-color: #008000\">'title'</span>: <span style=\"color: #008000; text-decoration-color: #008000\">'Event Server URL'</span>\n",
       "                    <span style=\"font-weight: bold\">}</span>,\n",
       "                    <span style=\"color: #008000; text-decoration-color: #008000\">'log_level'</span>: <span style=\"font-weight: bold\">{</span>\n",
       "                        <span style=\"color: #008000; text-decoration-color: #008000\">'default'</span>: <span style=\"color: #008080; text-decoration-color: #008080; font-weight: bold\">20</span>,\n",
       "                        <span style=\"color: #008000; text-decoration-color: #008000\">'description'</span>: <span style=\"color: #008000; text-decoration-color: #008000\">'The log level of the event client.'</span>,\n",
       "                        <span style=\"color: #008000; text-decoration-color: #008000\">'title'</span>: <span style=\"color: #008000; text-decoration-color: #008000\">'Event Client Log Level'</span>,\n",
       "                        <span style=\"color: #008000; text-decoration-color: #008000\">'type'</span>: <span style=\"color: #008000; text-decoration-color: #008000\">'integer'</span>\n",
       "                    <span style=\"font-weight: bold\">}</span>,\n",
       "                    <span style=\"color: #008000; text-decoration-color: #008000\">'source'</span>: <span style=\"font-weight: bold\">{</span>\n",
       "                        <span style=\"color: #008000; text-decoration-color: #008000\">'$ref'</span>: <span style=\"color: #008000; text-decoration-color: #008000\">'#/$defs/OwnershipInfo'</span>,\n",
       "                        <span style=\"color: #008000; text-decoration-color: #008000\">'description'</span>: <span style=\"color: #008000; text-decoration-color: #008000\">'Information about the source of the event client.'</span>,\n",
       "                        <span style=\"color: #008000; text-decoration-color: #008000\">'title'</span>: <span style=\"color: #008000; text-decoration-color: #008000\">'Source'</span>\n",
       "                    <span style=\"font-weight: bold\">}</span>,\n",
       "                    <span style=\"color: #008000; text-decoration-color: #008000\">'log_dir'</span>: <span style=\"font-weight: bold\">{</span>\n",
       "                        <span style=\"color: #008000; text-decoration-color: #008000\">'anyOf'</span>: <span style=\"font-weight: bold\">[{</span><span style=\"color: #008000; text-decoration-color: #008000\">'type'</span>: <span style=\"color: #008000; text-decoration-color: #008000\">'string'</span><span style=\"font-weight: bold\">}</span>, <span style=\"font-weight: bold\">{</span><span style=\"color: #008000; text-decoration-color: #008000\">'format'</span>: <span style=\"color: #008000; text-decoration-color: #008000\">'path'</span>, <span style=\"color: #008000; text-decoration-color: #008000\">'type'</span>: <span style=\"color: #008000; text-decoration-color: #008000\">'string'</span><span style=\"font-weight: bold\">}]</span>,\n",
       "                        <span style=\"color: #008000; text-decoration-color: #008000\">'description'</span>: <span style=\"color: #008000; text-decoration-color: #008000\">'The directory to store logs in.'</span>,\n",
       "                        <span style=\"color: #008000; text-decoration-color: #008000\">'title'</span>: <span style=\"color: #008000; text-decoration-color: #008000\">'Log Directory'</span>\n",
       "                    <span style=\"font-weight: bold\">}</span>\n",
       "                <span style=\"font-weight: bold\">}</span>,\n",
       "                <span style=\"color: #008000; text-decoration-color: #008000\">'title'</span>: <span style=\"color: #008000; text-decoration-color: #008000\">'EventClientConfig'</span>,\n",
       "                <span style=\"color: #008000; text-decoration-color: #008000\">'type'</span>: <span style=\"color: #008000; text-decoration-color: #008000\">'object'</span>\n",
       "            <span style=\"font-weight: bold\">}</span>,\n",
       "            <span style=\"color: #008000; text-decoration-color: #008000\">'OwnershipInfo'</span>: <span style=\"font-weight: bold\">{</span>\n",
       "                <span style=\"color: #008000; text-decoration-color: #008000\">'description'</span>: <span style=\"color: #008000; text-decoration-color: #008000\">'Information about the ownership of a MADSci object.'</span>,\n",
       "                <span style=\"color: #008000; text-decoration-color: #008000\">'properties'</span>: <span style=\"font-weight: bold\">{</span>\n",
       "                    <span style=\"color: #008000; text-decoration-color: #008000\">'user_id'</span>: <span style=\"font-weight: bold\">{</span>\n",
       "                        <span style=\"color: #008000; text-decoration-color: #008000\">'anyOf'</span>: <span style=\"font-weight: bold\">[{</span><span style=\"color: #008000; text-decoration-color: #008000\">'type'</span>: <span style=\"color: #008000; text-decoration-color: #008000\">'string'</span><span style=\"font-weight: bold\">}</span>, <span style=\"font-weight: bold\">{</span><span style=\"color: #008000; text-decoration-color: #008000\">'type'</span>: <span style=\"color: #008000; text-decoration-color: #008000\">'null'</span><span style=\"font-weight: bold\">}]</span>,\n",
       "                        <span style=\"color: #008000; text-decoration-color: #008000\">'default'</span>: <span style=\"color: #800080; text-decoration-color: #800080; font-style: italic\">None</span>,\n",
       "                        <span style=\"color: #008000; text-decoration-color: #008000\">'description'</span>: <span style=\"color: #008000; text-decoration-color: #008000\">'The ID of the user who owns the object.'</span>,\n",
       "                        <span style=\"color: #008000; text-decoration-color: #008000\">'title'</span>: <span style=\"color: #008000; text-decoration-color: #008000\">'User ID'</span>\n",
       "                    <span style=\"font-weight: bold\">}</span>,\n",
       "                    <span style=\"color: #008000; text-decoration-color: #008000\">'experiment_id'</span>: <span style=\"font-weight: bold\">{</span>\n",
       "                        <span style=\"color: #008000; text-decoration-color: #008000\">'anyOf'</span>: <span style=\"font-weight: bold\">[{</span><span style=\"color: #008000; text-decoration-color: #008000\">'type'</span>: <span style=\"color: #008000; text-decoration-color: #008000\">'string'</span><span style=\"font-weight: bold\">}</span>, <span style=\"font-weight: bold\">{</span><span style=\"color: #008000; text-decoration-color: #008000\">'type'</span>: <span style=\"color: #008000; text-decoration-color: #008000\">'null'</span><span style=\"font-weight: bold\">}]</span>,\n",
       "                        <span style=\"color: #008000; text-decoration-color: #008000\">'default'</span>: <span style=\"color: #800080; text-decoration-color: #800080; font-style: italic\">None</span>,\n",
       "                        <span style=\"color: #008000; text-decoration-color: #008000\">'description'</span>: <span style=\"color: #008000; text-decoration-color: #008000\">'The ID of the experiment that owns the object.'</span>,\n",
       "                        <span style=\"color: #008000; text-decoration-color: #008000\">'title'</span>: <span style=\"color: #008000; text-decoration-color: #008000\">'Experiment ID'</span>\n",
       "                    <span style=\"font-weight: bold\">}</span>,\n",
       "                    <span style=\"color: #008000; text-decoration-color: #008000\">'campaign_id'</span>: <span style=\"font-weight: bold\">{</span>\n",
       "                        <span style=\"color: #008000; text-decoration-color: #008000\">'anyOf'</span>: <span style=\"font-weight: bold\">[{</span><span style=\"color: #008000; text-decoration-color: #008000\">'type'</span>: <span style=\"color: #008000; text-decoration-color: #008000\">'string'</span><span style=\"font-weight: bold\">}</span>, <span style=\"font-weight: bold\">{</span><span style=\"color: #008000; text-decoration-color: #008000\">'type'</span>: <span style=\"color: #008000; text-decoration-color: #008000\">'null'</span><span style=\"font-weight: bold\">}]</span>,\n",
       "                        <span style=\"color: #008000; text-decoration-color: #008000\">'default'</span>: <span style=\"color: #800080; text-decoration-color: #800080; font-style: italic\">None</span>,\n",
       "                        <span style=\"color: #008000; text-decoration-color: #008000\">'description'</span>: <span style=\"color: #008000; text-decoration-color: #008000\">'The ID of the campaign that owns the object.'</span>,\n",
       "                        <span style=\"color: #008000; text-decoration-color: #008000\">'title'</span>: <span style=\"color: #008000; text-decoration-color: #008000\">'Campaign ID'</span>\n",
       "                    <span style=\"font-weight: bold\">}</span>,\n",
       "                    <span style=\"color: #008000; text-decoration-color: #008000\">'project_id'</span>: <span style=\"font-weight: bold\">{</span>\n",
       "                        <span style=\"color: #008000; text-decoration-color: #008000\">'anyOf'</span>: <span style=\"font-weight: bold\">[{</span><span style=\"color: #008000; text-decoration-color: #008000\">'type'</span>: <span style=\"color: #008000; text-decoration-color: #008000\">'string'</span><span style=\"font-weight: bold\">}</span>, <span style=\"font-weight: bold\">{</span><span style=\"color: #008000; text-decoration-color: #008000\">'type'</span>: <span style=\"color: #008000; text-decoration-color: #008000\">'null'</span><span style=\"font-weight: bold\">}]</span>,\n",
       "                        <span style=\"color: #008000; text-decoration-color: #008000\">'default'</span>: <span style=\"color: #800080; text-decoration-color: #800080; font-style: italic\">None</span>,\n",
       "                        <span style=\"color: #008000; text-decoration-color: #008000\">'description'</span>: <span style=\"color: #008000; text-decoration-color: #008000\">'The ID of the project that owns the object.'</span>,\n",
       "                        <span style=\"color: #008000; text-decoration-color: #008000\">'title'</span>: <span style=\"color: #008000; text-decoration-color: #008000\">'Project ID'</span>\n",
       "                    <span style=\"font-weight: bold\">}</span>,\n",
       "                    <span style=\"color: #008000; text-decoration-color: #008000\">'node_id'</span>: <span style=\"font-weight: bold\">{</span>\n",
       "                        <span style=\"color: #008000; text-decoration-color: #008000\">'anyOf'</span>: <span style=\"font-weight: bold\">[{</span><span style=\"color: #008000; text-decoration-color: #008000\">'type'</span>: <span style=\"color: #008000; text-decoration-color: #008000\">'string'</span><span style=\"font-weight: bold\">}</span>, <span style=\"font-weight: bold\">{</span><span style=\"color: #008000; text-decoration-color: #008000\">'type'</span>: <span style=\"color: #008000; text-decoration-color: #008000\">'null'</span><span style=\"font-weight: bold\">}]</span>,\n",
       "                        <span style=\"color: #008000; text-decoration-color: #008000\">'default'</span>: <span style=\"color: #800080; text-decoration-color: #800080; font-style: italic\">None</span>,\n",
       "                        <span style=\"color: #008000; text-decoration-color: #008000\">'description'</span>: <span style=\"color: #008000; text-decoration-color: #008000\">'The ID of the node that owns the object.'</span>,\n",
       "                        <span style=\"color: #008000; text-decoration-color: #008000\">'title'</span>: <span style=\"color: #008000; text-decoration-color: #008000\">'Node ID'</span>\n",
       "                    <span style=\"font-weight: bold\">}</span>,\n",
       "                    <span style=\"color: #008000; text-decoration-color: #008000\">'workcell_id'</span>: <span style=\"font-weight: bold\">{</span>\n",
       "                        <span style=\"color: #008000; text-decoration-color: #008000\">'anyOf'</span>: <span style=\"font-weight: bold\">[{</span><span style=\"color: #008000; text-decoration-color: #008000\">'type'</span>: <span style=\"color: #008000; text-decoration-color: #008000\">'string'</span><span style=\"font-weight: bold\">}</span>, <span style=\"font-weight: bold\">{</span><span style=\"color: #008000; text-decoration-color: #008000\">'type'</span>: <span style=\"color: #008000; text-decoration-color: #008000\">'null'</span><span style=\"font-weight: bold\">}]</span>,\n",
       "                        <span style=\"color: #008000; text-decoration-color: #008000\">'default'</span>: <span style=\"color: #800080; text-decoration-color: #800080; font-style: italic\">None</span>,\n",
       "                        <span style=\"color: #008000; text-decoration-color: #008000\">'description'</span>: <span style=\"color: #008000; text-decoration-color: #008000\">'The ID of the workcell that owns the object.'</span>,\n",
       "                        <span style=\"color: #008000; text-decoration-color: #008000\">'title'</span>: <span style=\"color: #008000; text-decoration-color: #008000\">'Workcell ID'</span>\n",
       "                    <span style=\"font-weight: bold\">}</span>,\n",
       "                    <span style=\"color: #008000; text-decoration-color: #008000\">'lab_id'</span>: <span style=\"font-weight: bold\">{</span>\n",
       "                        <span style=\"color: #008000; text-decoration-color: #008000\">'anyOf'</span>: <span style=\"font-weight: bold\">[{</span><span style=\"color: #008000; text-decoration-color: #008000\">'type'</span>: <span style=\"color: #008000; text-decoration-color: #008000\">'string'</span><span style=\"font-weight: bold\">}</span>, <span style=\"font-weight: bold\">{</span><span style=\"color: #008000; text-decoration-color: #008000\">'type'</span>: <span style=\"color: #008000; text-decoration-color: #008000\">'null'</span><span style=\"font-weight: bold\">}]</span>,\n",
       "                        <span style=\"color: #008000; text-decoration-color: #008000\">'default'</span>: <span style=\"color: #800080; text-decoration-color: #800080; font-style: italic\">None</span>,\n",
       "                        <span style=\"color: #008000; text-decoration-color: #008000\">'description'</span>: <span style=\"color: #008000; text-decoration-color: #008000\">'The ID of the lab that owns the object.'</span>,\n",
       "                        <span style=\"color: #008000; text-decoration-color: #008000\">'title'</span>: <span style=\"color: #008000; text-decoration-color: #008000\">'Lab ID'</span>\n",
       "                    <span style=\"font-weight: bold\">}</span>,\n",
       "                    <span style=\"color: #008000; text-decoration-color: #008000\">'step_id'</span>: <span style=\"font-weight: bold\">{</span>\n",
       "                        <span style=\"color: #008000; text-decoration-color: #008000\">'anyOf'</span>: <span style=\"font-weight: bold\">[{</span><span style=\"color: #008000; text-decoration-color: #008000\">'type'</span>: <span style=\"color: #008000; text-decoration-color: #008000\">'string'</span><span style=\"font-weight: bold\">}</span>, <span style=\"font-weight: bold\">{</span><span style=\"color: #008000; text-decoration-color: #008000\">'type'</span>: <span style=\"color: #008000; text-decoration-color: #008000\">'null'</span><span style=\"font-weight: bold\">}]</span>,\n",
       "                        <span style=\"color: #008000; text-decoration-color: #008000\">'default'</span>: <span style=\"color: #800080; text-decoration-color: #800080; font-style: italic\">None</span>,\n",
       "                        <span style=\"color: #008000; text-decoration-color: #008000\">'description'</span>: <span style=\"color: #008000; text-decoration-color: #008000\">'The ID of the step that owns the object.'</span>,\n",
       "                        <span style=\"color: #008000; text-decoration-color: #008000\">'title'</span>: <span style=\"color: #008000; text-decoration-color: #008000\">'Step ID'</span>\n",
       "                    <span style=\"font-weight: bold\">}</span>,\n",
       "                    <span style=\"color: #008000; text-decoration-color: #008000\">'workflow_id'</span>: <span style=\"font-weight: bold\">{</span>\n",
       "                        <span style=\"color: #008000; text-decoration-color: #008000\">'anyOf'</span>: <span style=\"font-weight: bold\">[{</span><span style=\"color: #008000; text-decoration-color: #008000\">'type'</span>: <span style=\"color: #008000; text-decoration-color: #008000\">'string'</span><span style=\"font-weight: bold\">}</span>, <span style=\"font-weight: bold\">{</span><span style=\"color: #008000; text-decoration-color: #008000\">'type'</span>: <span style=\"color: #008000; text-decoration-color: #008000\">'null'</span><span style=\"font-weight: bold\">}]</span>,\n",
       "                        <span style=\"color: #008000; text-decoration-color: #008000\">'default'</span>: <span style=\"color: #800080; text-decoration-color: #800080; font-style: italic\">None</span>,\n",
       "                        <span style=\"color: #008000; text-decoration-color: #008000\">'description'</span>: <span style=\"color: #008000; text-decoration-color: #008000\">'The ID of the workflow that owns the object.'</span>,\n",
       "                        <span style=\"color: #008000; text-decoration-color: #008000\">'title'</span>: <span style=\"color: #008000; text-decoration-color: #008000\">'Workflow ID'</span>\n",
       "                    <span style=\"font-weight: bold\">}</span>\n",
       "                <span style=\"font-weight: bold\">}</span>,\n",
       "                <span style=\"color: #008000; text-decoration-color: #008000\">'title'</span>: <span style=\"color: #008000; text-decoration-color: #008000\">'OwnershipInfo'</span>,\n",
       "                <span style=\"color: #008000; text-decoration-color: #008000\">'type'</span>: <span style=\"color: #008000; text-decoration-color: #008000\">'object'</span>\n",
       "            <span style=\"font-weight: bold\">}</span>\n",
       "        <span style=\"font-weight: bold\">}</span>,\n",
       "        <span style=\"color: #008000; text-decoration-color: #008000\">'additionalProperties'</span>: <span style=\"color: #00ff00; text-decoration-color: #00ff00; font-style: italic\">True</span>,\n",
       "        <span style=\"color: #008000; text-decoration-color: #008000\">'description'</span>: <span style=\"color: #008000; text-decoration-color: #008000\">'Default Configuration for a MADSci Node that communicates over REST.'</span>,\n",
       "        <span style=\"color: #008000; text-decoration-color: #008000\">'properties'</span>: <span style=\"font-weight: bold\">{</span>\n",
       "            <span style=\"color: #008000; text-decoration-color: #008000\">'status_update_interval'</span>: <span style=\"font-weight: bold\">{</span>\n",
       "                <span style=\"color: #008000; text-decoration-color: #008000\">'anyOf'</span>: <span style=\"font-weight: bold\">[{</span><span style=\"color: #008000; text-decoration-color: #008000\">'type'</span>: <span style=\"color: #008000; text-decoration-color: #008000\">'number'</span><span style=\"font-weight: bold\">}</span>, <span style=\"font-weight: bold\">{</span><span style=\"color: #008000; text-decoration-color: #008000\">'type'</span>: <span style=\"color: #008000; text-decoration-color: #008000\">'null'</span><span style=\"font-weight: bold\">}]</span>,\n",
       "                <span style=\"color: #008000; text-decoration-color: #008000\">'default'</span>: <span style=\"color: #008080; text-decoration-color: #008080; font-weight: bold\">2.0</span>,\n",
       "                <span style=\"color: #008000; text-decoration-color: #008000\">'description'</span>: <span style=\"color: #008000; text-decoration-color: #008000\">'The interval in seconds at which the node should update its status.'</span>,\n",
       "                <span style=\"color: #008000; text-decoration-color: #008000\">'title'</span>: <span style=\"color: #008000; text-decoration-color: #008000\">'Status Update Interval'</span>\n",
       "            <span style=\"font-weight: bold\">}</span>,\n",
       "            <span style=\"color: #008000; text-decoration-color: #008000\">'state_update_interval'</span>: <span style=\"font-weight: bold\">{</span>\n",
       "                <span style=\"color: #008000; text-decoration-color: #008000\">'anyOf'</span>: <span style=\"font-weight: bold\">[{</span><span style=\"color: #008000; text-decoration-color: #008000\">'type'</span>: <span style=\"color: #008000; text-decoration-color: #008000\">'number'</span><span style=\"font-weight: bold\">}</span>, <span style=\"font-weight: bold\">{</span><span style=\"color: #008000; text-decoration-color: #008000\">'type'</span>: <span style=\"color: #008000; text-decoration-color: #008000\">'null'</span><span style=\"font-weight: bold\">}]</span>,\n",
       "                <span style=\"color: #008000; text-decoration-color: #008000\">'default'</span>: <span style=\"color: #008080; text-decoration-color: #008080; font-weight: bold\">2.0</span>,\n",
       "                <span style=\"color: #008000; text-decoration-color: #008000\">'description'</span>: <span style=\"color: #008000; text-decoration-color: #008000\">'The interval in seconds at which the node should update its state.'</span>,\n",
       "                <span style=\"color: #008000; text-decoration-color: #008000\">'title'</span>: <span style=\"color: #008000; text-decoration-color: #008000\">'State Update Interval'</span>\n",
       "            <span style=\"font-weight: bold\">}</span>,\n",
       "            <span style=\"color: #008000; text-decoration-color: #008000\">'event_client_config'</span>: <span style=\"font-weight: bold\">{</span>\n",
       "                <span style=\"color: #008000; text-decoration-color: #008000\">'anyOf'</span>: <span style=\"font-weight: bold\">[{</span><span style=\"color: #008000; text-decoration-color: #008000\">'$ref'</span>: <span style=\"color: #008000; text-decoration-color: #008000\">'#/$defs/EventClientConfig'</span><span style=\"font-weight: bold\">}</span>, <span style=\"font-weight: bold\">{</span><span style=\"color: #008000; text-decoration-color: #008000\">'type'</span>: <span style=\"color: #008000; text-decoration-color: #008000\">'null'</span><span style=\"font-weight: bold\">}]</span>,\n",
       "                <span style=\"color: #008000; text-decoration-color: #008000\">'default'</span>: <span style=\"color: #800080; text-decoration-color: #800080; font-style: italic\">None</span>,\n",
       "                <span style=\"color: #008000; text-decoration-color: #008000\">'description'</span>: <span style=\"color: #008000; text-decoration-color: #008000\">'The configuration for a MADSci event client.'</span>,\n",
       "                <span style=\"color: #008000; text-decoration-color: #008000\">'title'</span>: <span style=\"color: #008000; text-decoration-color: #008000\">'Event Client Configuration'</span>\n",
       "            <span style=\"font-weight: bold\">}</span>,\n",
       "            <span style=\"color: #008000; text-decoration-color: #008000\">'resource_server_url'</span>: <span style=\"font-weight: bold\">{</span>\n",
       "                <span style=\"color: #008000; text-decoration-color: #008000\">'anyOf'</span>: <span style=\"font-weight: bold\">[{</span><span style=\"color: #008000; text-decoration-color: #008000\">'format'</span>: <span style=\"color: #008000; text-decoration-color: #008000\">'uri'</span>, <span style=\"color: #008000; text-decoration-color: #008000\">'minLength'</span>: <span style=\"color: #008080; text-decoration-color: #008080; font-weight: bold\">1</span>, <span style=\"color: #008000; text-decoration-color: #008000\">'type'</span>: <span style=\"color: #008000; text-decoration-color: #008000\">'string'</span><span style=\"font-weight: bold\">}</span>, <span style=\"font-weight: bold\">{</span><span style=\"color: #008000; text-decoration-color: #008000\">'type'</span>: <span style=\"color: #008000; text-decoration-color: #008000\">'null'</span><span style=\"font-weight: bold\">}]</span>,\n",
       "                <span style=\"color: #008000; text-decoration-color: #008000\">'default'</span>: <span style=\"color: #800080; text-decoration-color: #800080; font-style: italic\">None</span>,\n",
       "                <span style=\"color: #008000; text-decoration-color: #008000\">'description'</span>: <span style=\"color: #008000; text-decoration-color: #008000\">'The URL of the resource server for this node to use.'</span>,\n",
       "                <span style=\"color: #008000; text-decoration-color: #008000\">'title'</span>: <span style=\"color: #008000; text-decoration-color: #008000\">'Resource Client URL'</span>\n",
       "            <span style=\"font-weight: bold\">}</span>,\n",
       "            <span style=\"color: #008000; text-decoration-color: #008000\">'host'</span>: <span style=\"font-weight: bold\">{</span>\n",
       "                <span style=\"color: #008000; text-decoration-color: #008000\">'default'</span>: <span style=\"color: #008000; text-decoration-color: #008000\">'127.0.0.1'</span>,\n",
       "                <span style=\"color: #008000; text-decoration-color: #008000\">'description'</span>: <span style=\"color: #008000; text-decoration-color: #008000\">'The host of the REST API.'</span>,\n",
       "                <span style=\"color: #008000; text-decoration-color: #008000\">'title'</span>: <span style=\"color: #008000; text-decoration-color: #008000\">'Host'</span>,\n",
       "                <span style=\"color: #008000; text-decoration-color: #008000\">'type'</span>: <span style=\"color: #008000; text-decoration-color: #008000\">'string'</span>\n",
       "            <span style=\"font-weight: bold\">}</span>,\n",
       "            <span style=\"color: #008000; text-decoration-color: #008000\">'port'</span>: <span style=\"font-weight: bold\">{</span>\n",
       "                <span style=\"color: #008000; text-decoration-color: #008000\">'default'</span>: <span style=\"color: #008080; text-decoration-color: #008080; font-weight: bold\">8000</span>,\n",
       "                <span style=\"color: #008000; text-decoration-color: #008000\">'description'</span>: <span style=\"color: #008000; text-decoration-color: #008000\">'The port of the REST API.'</span>,\n",
       "                <span style=\"color: #008000; text-decoration-color: #008000\">'title'</span>: <span style=\"color: #008000; text-decoration-color: #008000\">'Port'</span>,\n",
       "                <span style=\"color: #008000; text-decoration-color: #008000\">'type'</span>: <span style=\"color: #008000; text-decoration-color: #008000\">'integer'</span>\n",
       "            <span style=\"font-weight: bold\">}</span>,\n",
       "            <span style=\"color: #008000; text-decoration-color: #008000\">'protocol'</span>: <span style=\"font-weight: bold\">{</span>\n",
       "                <span style=\"color: #008000; text-decoration-color: #008000\">'default'</span>: <span style=\"color: #008000; text-decoration-color: #008000\">'http'</span>,\n",
       "                <span style=\"color: #008000; text-decoration-color: #008000\">'description'</span>: <span style=\"color: #008000; text-decoration-color: #008000\">\"The protocol of the REST API, either 'http' or 'https'.\"</span>,\n",
       "                <span style=\"color: #008000; text-decoration-color: #008000\">'title'</span>: <span style=\"color: #008000; text-decoration-color: #008000\">'Protocol'</span>,\n",
       "                <span style=\"color: #008000; text-decoration-color: #008000\">'type'</span>: <span style=\"color: #008000; text-decoration-color: #008000\">'string'</span>\n",
       "            <span style=\"font-weight: bold\">}</span>\n",
       "        <span style=\"font-weight: bold\">}</span>,\n",
       "        <span style=\"color: #008000; text-decoration-color: #008000\">'title'</span>: <span style=\"color: #008000; text-decoration-color: #008000\">'RestNodeConfig'</span>,\n",
       "        <span style=\"color: #008000; text-decoration-color: #008000\">'type'</span>: <span style=\"color: #008000; text-decoration-color: #008000\">'object'</span>\n",
       "    <span style=\"font-weight: bold\">}</span>\n",
       "<span style=\"font-weight: bold\">)</span>\n",
       "</pre>\n"
      ],
      "text/plain": [
       "\u001b[1;35mNodeInfo\u001b[0m\u001b[1m(\u001b[0m\n",
       "    \u001b[33mnode_name\u001b[0m=\u001b[32m'example_node'\u001b[0m,\n",
       "    \u001b[33mnode_id\u001b[0m=\u001b[32m'01JRB0FNV771F9MWDPZ4GX31A7'\u001b[0m,\n",
       "    \u001b[33mnode_url\u001b[0m=\u001b[1;35mAnyUrl\u001b[0m\u001b[1m(\u001b[0m\u001b[32m'http://127.0.0.1:8000/'\u001b[0m\u001b[1m)\u001b[0m,\n",
       "    \u001b[33mnode_description\u001b[0m=\u001b[32m'An example node'\u001b[0m,\n",
       "    \u001b[33mnode_type\u001b[0m=\u001b[3;35mNone\u001b[0m,\n",
       "    \u001b[33mmodule_name\u001b[0m=\u001b[32m'example_node_module'\u001b[0m,\n",
       "    \u001b[33mmodule_version\u001b[0m=\u001b[1;35mSemanticVersion\u001b[0m\u001b[1m(\u001b[0m\u001b[33mmajor\u001b[0m=\u001b[1;36m0\u001b[0m, \u001b[33mminor\u001b[0m=\u001b[1;36m0\u001b[0m, \u001b[33mpatch\u001b[0m=\u001b[1;36m1\u001b[0m, \u001b[33mprerelease\u001b[0m=\u001b[3;35mNone\u001b[0m, \u001b[33mbuild\u001b[0m=\u001b[3;35mNone\u001b[0m\u001b[1m)\u001b[0m,\n",
       "    \u001b[33mcapabilities\u001b[0m=\u001b[1;35mNodeCapabilities\u001b[0m\u001b[1m(\u001b[0m\n",
       "        \u001b[33mget_info\u001b[0m=\u001b[3;92mTrue\u001b[0m,\n",
       "        \u001b[33mget_state\u001b[0m=\u001b[3;92mTrue\u001b[0m,\n",
       "        \u001b[33mget_status\u001b[0m=\u001b[3;92mTrue\u001b[0m,\n",
       "        \u001b[33msend_action\u001b[0m=\u001b[3;92mTrue\u001b[0m,\n",
       "        \u001b[33mget_action_result\u001b[0m=\u001b[3;92mTrue\u001b[0m,\n",
       "        \u001b[33mget_action_history\u001b[0m=\u001b[3;92mTrue\u001b[0m,\n",
       "        \u001b[33maction_files\u001b[0m=\u001b[3;92mTrue\u001b[0m,\n",
       "        \u001b[33msend_admin_commands\u001b[0m=\u001b[3;92mTrue\u001b[0m,\n",
       "        \u001b[33mset_config\u001b[0m=\u001b[3;92mTrue\u001b[0m,\n",
       "        \u001b[33mget_resources\u001b[0m=\u001b[3;91mFalse\u001b[0m,\n",
       "        \u001b[33mget_log\u001b[0m=\u001b[3;92mTrue\u001b[0m,\n",
       "        \u001b[33mevents\u001b[0m=\u001b[3;35mNone\u001b[0m,\n",
       "        \u001b[33mresources\u001b[0m=\u001b[3;35mNone\u001b[0m,\n",
       "        \u001b[33madmin_commands\u001b[0m=\u001b[1m{\u001b[0m\n",
       "            \u001b[1m<\u001b[0m\u001b[1;95mAdminCommands.LOCK:\u001b[0m\u001b[39m \u001b[0m\u001b[32m'lock'\u001b[0m\u001b[39m>,\u001b[0m\n",
       "\u001b[39m            <AdminCommands.RESET: \u001b[0m\u001b[32m'reset'\u001b[0m\u001b[39m>,\u001b[0m\n",
       "\u001b[39m            <AdminCommands.UNLOCK: \u001b[0m\u001b[32m'unlock'\u001b[0m\u001b[39m>,\u001b[0m\n",
       "\u001b[39m            <AdminCommands.SHUTDOWN: \u001b[0m\u001b[32m'shutdown'\u001b[0m\u001b[1m>\u001b[0m\n",
       "        \u001b[1m}\u001b[0m\n",
       "    \u001b[1m)\u001b[0m,\n",
       "    \u001b[33mcommands\u001b[0m=\u001b[1m{\u001b[0m\u001b[1m}\u001b[0m,\n",
       "    \u001b[33mis_template\u001b[0m=\u001b[3;91mFalse\u001b[0m,\n",
       "    \u001b[33mconfig_defaults\u001b[0m=\u001b[1m{\u001b[0m\u001b[1m}\u001b[0m,\n",
       "    \u001b[33mactions\u001b[0m=\u001b[1m{\u001b[0m\u001b[1m}\u001b[0m,\n",
       "    \u001b[33mconfig\u001b[0m=\u001b[1m{\u001b[0m\n",
       "        \u001b[32m'status_update_interval'\u001b[0m: \u001b[1;36m2.0\u001b[0m,\n",
       "        \u001b[32m'state_update_interval'\u001b[0m: \u001b[1;36m2.0\u001b[0m,\n",
       "        \u001b[32m'event_client_config'\u001b[0m: \u001b[3;35mNone\u001b[0m,\n",
       "        \u001b[32m'resource_server_url'\u001b[0m: \u001b[3;35mNone\u001b[0m,\n",
       "        \u001b[32m'host'\u001b[0m: \u001b[32m'127.0.0.1'\u001b[0m,\n",
       "        \u001b[32m'port'\u001b[0m: \u001b[1;36m8000\u001b[0m,\n",
       "        \u001b[32m'protocol'\u001b[0m: \u001b[32m'http'\u001b[0m\n",
       "    \u001b[1m}\u001b[0m,\n",
       "    \u001b[33mconfig_schema\u001b[0m=\u001b[1m{\u001b[0m\n",
       "        \u001b[32m'$defs'\u001b[0m: \u001b[1m{\u001b[0m\n",
       "            \u001b[32m'EventClientConfig'\u001b[0m: \u001b[1m{\u001b[0m\n",
       "                \u001b[32m'description'\u001b[0m: \u001b[32m'Configuration for an Event Client.'\u001b[0m,\n",
       "                \u001b[32m'properties'\u001b[0m: \u001b[1m{\u001b[0m\n",
       "                    \u001b[32m'name'\u001b[0m: \u001b[1m{\u001b[0m\n",
       "                        \u001b[32m'anyOf'\u001b[0m: \u001b[1m[\u001b[0m\u001b[1m{\u001b[0m\u001b[32m'type'\u001b[0m: \u001b[32m'string'\u001b[0m\u001b[1m}\u001b[0m, \u001b[1m{\u001b[0m\u001b[32m'type'\u001b[0m: \u001b[32m'null'\u001b[0m\u001b[1m}\u001b[0m\u001b[1m]\u001b[0m,\n",
       "                        \u001b[32m'default'\u001b[0m: \u001b[3;35mNone\u001b[0m,\n",
       "                        \u001b[32m'description'\u001b[0m: \u001b[32m'The name of the event client.'\u001b[0m,\n",
       "                        \u001b[32m'title'\u001b[0m: \u001b[32m'Event Client Name'\u001b[0m\n",
       "                    \u001b[1m}\u001b[0m,\n",
       "                    \u001b[32m'event_server_url'\u001b[0m: \u001b[1m{\u001b[0m\n",
       "                        \u001b[32m'anyOf'\u001b[0m: \u001b[1m[\u001b[0m\u001b[1m{\u001b[0m\u001b[32m'type'\u001b[0m: \u001b[32m'string'\u001b[0m\u001b[1m}\u001b[0m, \u001b[1m{\u001b[0m\u001b[32m'type'\u001b[0m: \u001b[32m'null'\u001b[0m\u001b[1m}\u001b[0m\u001b[1m]\u001b[0m,\n",
       "                        \u001b[32m'default'\u001b[0m: \u001b[3;35mNone\u001b[0m,\n",
       "                        \u001b[32m'description'\u001b[0m: \u001b[32m'The URL of the event server.'\u001b[0m,\n",
       "                        \u001b[32m'title'\u001b[0m: \u001b[32m'Event Server URL'\u001b[0m\n",
       "                    \u001b[1m}\u001b[0m,\n",
       "                    \u001b[32m'log_level'\u001b[0m: \u001b[1m{\u001b[0m\n",
       "                        \u001b[32m'default'\u001b[0m: \u001b[1;36m20\u001b[0m,\n",
       "                        \u001b[32m'description'\u001b[0m: \u001b[32m'The log level of the event client.'\u001b[0m,\n",
       "                        \u001b[32m'title'\u001b[0m: \u001b[32m'Event Client Log Level'\u001b[0m,\n",
       "                        \u001b[32m'type'\u001b[0m: \u001b[32m'integer'\u001b[0m\n",
       "                    \u001b[1m}\u001b[0m,\n",
       "                    \u001b[32m'source'\u001b[0m: \u001b[1m{\u001b[0m\n",
       "                        \u001b[32m'$ref'\u001b[0m: \u001b[32m'#/$defs/OwnershipInfo'\u001b[0m,\n",
       "                        \u001b[32m'description'\u001b[0m: \u001b[32m'Information about the source of the event client.'\u001b[0m,\n",
       "                        \u001b[32m'title'\u001b[0m: \u001b[32m'Source'\u001b[0m\n",
       "                    \u001b[1m}\u001b[0m,\n",
       "                    \u001b[32m'log_dir'\u001b[0m: \u001b[1m{\u001b[0m\n",
       "                        \u001b[32m'anyOf'\u001b[0m: \u001b[1m[\u001b[0m\u001b[1m{\u001b[0m\u001b[32m'type'\u001b[0m: \u001b[32m'string'\u001b[0m\u001b[1m}\u001b[0m, \u001b[1m{\u001b[0m\u001b[32m'format'\u001b[0m: \u001b[32m'path'\u001b[0m, \u001b[32m'type'\u001b[0m: \u001b[32m'string'\u001b[0m\u001b[1m}\u001b[0m\u001b[1m]\u001b[0m,\n",
       "                        \u001b[32m'description'\u001b[0m: \u001b[32m'The directory to store logs in.'\u001b[0m,\n",
       "                        \u001b[32m'title'\u001b[0m: \u001b[32m'Log Directory'\u001b[0m\n",
       "                    \u001b[1m}\u001b[0m\n",
       "                \u001b[1m}\u001b[0m,\n",
       "                \u001b[32m'title'\u001b[0m: \u001b[32m'EventClientConfig'\u001b[0m,\n",
       "                \u001b[32m'type'\u001b[0m: \u001b[32m'object'\u001b[0m\n",
       "            \u001b[1m}\u001b[0m,\n",
       "            \u001b[32m'OwnershipInfo'\u001b[0m: \u001b[1m{\u001b[0m\n",
       "                \u001b[32m'description'\u001b[0m: \u001b[32m'Information about the ownership of a MADSci object.'\u001b[0m,\n",
       "                \u001b[32m'properties'\u001b[0m: \u001b[1m{\u001b[0m\n",
       "                    \u001b[32m'user_id'\u001b[0m: \u001b[1m{\u001b[0m\n",
       "                        \u001b[32m'anyOf'\u001b[0m: \u001b[1m[\u001b[0m\u001b[1m{\u001b[0m\u001b[32m'type'\u001b[0m: \u001b[32m'string'\u001b[0m\u001b[1m}\u001b[0m, \u001b[1m{\u001b[0m\u001b[32m'type'\u001b[0m: \u001b[32m'null'\u001b[0m\u001b[1m}\u001b[0m\u001b[1m]\u001b[0m,\n",
       "                        \u001b[32m'default'\u001b[0m: \u001b[3;35mNone\u001b[0m,\n",
       "                        \u001b[32m'description'\u001b[0m: \u001b[32m'The ID of the user who owns the object.'\u001b[0m,\n",
       "                        \u001b[32m'title'\u001b[0m: \u001b[32m'User ID'\u001b[0m\n",
       "                    \u001b[1m}\u001b[0m,\n",
       "                    \u001b[32m'experiment_id'\u001b[0m: \u001b[1m{\u001b[0m\n",
       "                        \u001b[32m'anyOf'\u001b[0m: \u001b[1m[\u001b[0m\u001b[1m{\u001b[0m\u001b[32m'type'\u001b[0m: \u001b[32m'string'\u001b[0m\u001b[1m}\u001b[0m, \u001b[1m{\u001b[0m\u001b[32m'type'\u001b[0m: \u001b[32m'null'\u001b[0m\u001b[1m}\u001b[0m\u001b[1m]\u001b[0m,\n",
       "                        \u001b[32m'default'\u001b[0m: \u001b[3;35mNone\u001b[0m,\n",
       "                        \u001b[32m'description'\u001b[0m: \u001b[32m'The ID of the experiment that owns the object.'\u001b[0m,\n",
       "                        \u001b[32m'title'\u001b[0m: \u001b[32m'Experiment ID'\u001b[0m\n",
       "                    \u001b[1m}\u001b[0m,\n",
       "                    \u001b[32m'campaign_id'\u001b[0m: \u001b[1m{\u001b[0m\n",
       "                        \u001b[32m'anyOf'\u001b[0m: \u001b[1m[\u001b[0m\u001b[1m{\u001b[0m\u001b[32m'type'\u001b[0m: \u001b[32m'string'\u001b[0m\u001b[1m}\u001b[0m, \u001b[1m{\u001b[0m\u001b[32m'type'\u001b[0m: \u001b[32m'null'\u001b[0m\u001b[1m}\u001b[0m\u001b[1m]\u001b[0m,\n",
       "                        \u001b[32m'default'\u001b[0m: \u001b[3;35mNone\u001b[0m,\n",
       "                        \u001b[32m'description'\u001b[0m: \u001b[32m'The ID of the campaign that owns the object.'\u001b[0m,\n",
       "                        \u001b[32m'title'\u001b[0m: \u001b[32m'Campaign ID'\u001b[0m\n",
       "                    \u001b[1m}\u001b[0m,\n",
       "                    \u001b[32m'project_id'\u001b[0m: \u001b[1m{\u001b[0m\n",
       "                        \u001b[32m'anyOf'\u001b[0m: \u001b[1m[\u001b[0m\u001b[1m{\u001b[0m\u001b[32m'type'\u001b[0m: \u001b[32m'string'\u001b[0m\u001b[1m}\u001b[0m, \u001b[1m{\u001b[0m\u001b[32m'type'\u001b[0m: \u001b[32m'null'\u001b[0m\u001b[1m}\u001b[0m\u001b[1m]\u001b[0m,\n",
       "                        \u001b[32m'default'\u001b[0m: \u001b[3;35mNone\u001b[0m,\n",
       "                        \u001b[32m'description'\u001b[0m: \u001b[32m'The ID of the project that owns the object.'\u001b[0m,\n",
       "                        \u001b[32m'title'\u001b[0m: \u001b[32m'Project ID'\u001b[0m\n",
       "                    \u001b[1m}\u001b[0m,\n",
       "                    \u001b[32m'node_id'\u001b[0m: \u001b[1m{\u001b[0m\n",
       "                        \u001b[32m'anyOf'\u001b[0m: \u001b[1m[\u001b[0m\u001b[1m{\u001b[0m\u001b[32m'type'\u001b[0m: \u001b[32m'string'\u001b[0m\u001b[1m}\u001b[0m, \u001b[1m{\u001b[0m\u001b[32m'type'\u001b[0m: \u001b[32m'null'\u001b[0m\u001b[1m}\u001b[0m\u001b[1m]\u001b[0m,\n",
       "                        \u001b[32m'default'\u001b[0m: \u001b[3;35mNone\u001b[0m,\n",
       "                        \u001b[32m'description'\u001b[0m: \u001b[32m'The ID of the node that owns the object.'\u001b[0m,\n",
       "                        \u001b[32m'title'\u001b[0m: \u001b[32m'Node ID'\u001b[0m\n",
       "                    \u001b[1m}\u001b[0m,\n",
       "                    \u001b[32m'workcell_id'\u001b[0m: \u001b[1m{\u001b[0m\n",
       "                        \u001b[32m'anyOf'\u001b[0m: \u001b[1m[\u001b[0m\u001b[1m{\u001b[0m\u001b[32m'type'\u001b[0m: \u001b[32m'string'\u001b[0m\u001b[1m}\u001b[0m, \u001b[1m{\u001b[0m\u001b[32m'type'\u001b[0m: \u001b[32m'null'\u001b[0m\u001b[1m}\u001b[0m\u001b[1m]\u001b[0m,\n",
       "                        \u001b[32m'default'\u001b[0m: \u001b[3;35mNone\u001b[0m,\n",
       "                        \u001b[32m'description'\u001b[0m: \u001b[32m'The ID of the workcell that owns the object.'\u001b[0m,\n",
       "                        \u001b[32m'title'\u001b[0m: \u001b[32m'Workcell ID'\u001b[0m\n",
       "                    \u001b[1m}\u001b[0m,\n",
       "                    \u001b[32m'lab_id'\u001b[0m: \u001b[1m{\u001b[0m\n",
       "                        \u001b[32m'anyOf'\u001b[0m: \u001b[1m[\u001b[0m\u001b[1m{\u001b[0m\u001b[32m'type'\u001b[0m: \u001b[32m'string'\u001b[0m\u001b[1m}\u001b[0m, \u001b[1m{\u001b[0m\u001b[32m'type'\u001b[0m: \u001b[32m'null'\u001b[0m\u001b[1m}\u001b[0m\u001b[1m]\u001b[0m,\n",
       "                        \u001b[32m'default'\u001b[0m: \u001b[3;35mNone\u001b[0m,\n",
       "                        \u001b[32m'description'\u001b[0m: \u001b[32m'The ID of the lab that owns the object.'\u001b[0m,\n",
       "                        \u001b[32m'title'\u001b[0m: \u001b[32m'Lab ID'\u001b[0m\n",
       "                    \u001b[1m}\u001b[0m,\n",
       "                    \u001b[32m'step_id'\u001b[0m: \u001b[1m{\u001b[0m\n",
       "                        \u001b[32m'anyOf'\u001b[0m: \u001b[1m[\u001b[0m\u001b[1m{\u001b[0m\u001b[32m'type'\u001b[0m: \u001b[32m'string'\u001b[0m\u001b[1m}\u001b[0m, \u001b[1m{\u001b[0m\u001b[32m'type'\u001b[0m: \u001b[32m'null'\u001b[0m\u001b[1m}\u001b[0m\u001b[1m]\u001b[0m,\n",
       "                        \u001b[32m'default'\u001b[0m: \u001b[3;35mNone\u001b[0m,\n",
       "                        \u001b[32m'description'\u001b[0m: \u001b[32m'The ID of the step that owns the object.'\u001b[0m,\n",
       "                        \u001b[32m'title'\u001b[0m: \u001b[32m'Step ID'\u001b[0m\n",
       "                    \u001b[1m}\u001b[0m,\n",
       "                    \u001b[32m'workflow_id'\u001b[0m: \u001b[1m{\u001b[0m\n",
       "                        \u001b[32m'anyOf'\u001b[0m: \u001b[1m[\u001b[0m\u001b[1m{\u001b[0m\u001b[32m'type'\u001b[0m: \u001b[32m'string'\u001b[0m\u001b[1m}\u001b[0m, \u001b[1m{\u001b[0m\u001b[32m'type'\u001b[0m: \u001b[32m'null'\u001b[0m\u001b[1m}\u001b[0m\u001b[1m]\u001b[0m,\n",
       "                        \u001b[32m'default'\u001b[0m: \u001b[3;35mNone\u001b[0m,\n",
       "                        \u001b[32m'description'\u001b[0m: \u001b[32m'The ID of the workflow that owns the object.'\u001b[0m,\n",
       "                        \u001b[32m'title'\u001b[0m: \u001b[32m'Workflow ID'\u001b[0m\n",
       "                    \u001b[1m}\u001b[0m\n",
       "                \u001b[1m}\u001b[0m,\n",
       "                \u001b[32m'title'\u001b[0m: \u001b[32m'OwnershipInfo'\u001b[0m,\n",
       "                \u001b[32m'type'\u001b[0m: \u001b[32m'object'\u001b[0m\n",
       "            \u001b[1m}\u001b[0m\n",
       "        \u001b[1m}\u001b[0m,\n",
       "        \u001b[32m'additionalProperties'\u001b[0m: \u001b[3;92mTrue\u001b[0m,\n",
       "        \u001b[32m'description'\u001b[0m: \u001b[32m'Default Configuration for a MADSci Node that communicates over REST.'\u001b[0m,\n",
       "        \u001b[32m'properties'\u001b[0m: \u001b[1m{\u001b[0m\n",
       "            \u001b[32m'status_update_interval'\u001b[0m: \u001b[1m{\u001b[0m\n",
       "                \u001b[32m'anyOf'\u001b[0m: \u001b[1m[\u001b[0m\u001b[1m{\u001b[0m\u001b[32m'type'\u001b[0m: \u001b[32m'number'\u001b[0m\u001b[1m}\u001b[0m, \u001b[1m{\u001b[0m\u001b[32m'type'\u001b[0m: \u001b[32m'null'\u001b[0m\u001b[1m}\u001b[0m\u001b[1m]\u001b[0m,\n",
       "                \u001b[32m'default'\u001b[0m: \u001b[1;36m2.0\u001b[0m,\n",
       "                \u001b[32m'description'\u001b[0m: \u001b[32m'The interval in seconds at which the node should update its status.'\u001b[0m,\n",
       "                \u001b[32m'title'\u001b[0m: \u001b[32m'Status Update Interval'\u001b[0m\n",
       "            \u001b[1m}\u001b[0m,\n",
       "            \u001b[32m'state_update_interval'\u001b[0m: \u001b[1m{\u001b[0m\n",
       "                \u001b[32m'anyOf'\u001b[0m: \u001b[1m[\u001b[0m\u001b[1m{\u001b[0m\u001b[32m'type'\u001b[0m: \u001b[32m'number'\u001b[0m\u001b[1m}\u001b[0m, \u001b[1m{\u001b[0m\u001b[32m'type'\u001b[0m: \u001b[32m'null'\u001b[0m\u001b[1m}\u001b[0m\u001b[1m]\u001b[0m,\n",
       "                \u001b[32m'default'\u001b[0m: \u001b[1;36m2.0\u001b[0m,\n",
       "                \u001b[32m'description'\u001b[0m: \u001b[32m'The interval in seconds at which the node should update its state.'\u001b[0m,\n",
       "                \u001b[32m'title'\u001b[0m: \u001b[32m'State Update Interval'\u001b[0m\n",
       "            \u001b[1m}\u001b[0m,\n",
       "            \u001b[32m'event_client_config'\u001b[0m: \u001b[1m{\u001b[0m\n",
       "                \u001b[32m'anyOf'\u001b[0m: \u001b[1m[\u001b[0m\u001b[1m{\u001b[0m\u001b[32m'$ref'\u001b[0m: \u001b[32m'#/$defs/EventClientConfig'\u001b[0m\u001b[1m}\u001b[0m, \u001b[1m{\u001b[0m\u001b[32m'type'\u001b[0m: \u001b[32m'null'\u001b[0m\u001b[1m}\u001b[0m\u001b[1m]\u001b[0m,\n",
       "                \u001b[32m'default'\u001b[0m: \u001b[3;35mNone\u001b[0m,\n",
       "                \u001b[32m'description'\u001b[0m: \u001b[32m'The configuration for a MADSci event client.'\u001b[0m,\n",
       "                \u001b[32m'title'\u001b[0m: \u001b[32m'Event Client Configuration'\u001b[0m\n",
       "            \u001b[1m}\u001b[0m,\n",
       "            \u001b[32m'resource_server_url'\u001b[0m: \u001b[1m{\u001b[0m\n",
       "                \u001b[32m'anyOf'\u001b[0m: \u001b[1m[\u001b[0m\u001b[1m{\u001b[0m\u001b[32m'format'\u001b[0m: \u001b[32m'uri'\u001b[0m, \u001b[32m'minLength'\u001b[0m: \u001b[1;36m1\u001b[0m, \u001b[32m'type'\u001b[0m: \u001b[32m'string'\u001b[0m\u001b[1m}\u001b[0m, \u001b[1m{\u001b[0m\u001b[32m'type'\u001b[0m: \u001b[32m'null'\u001b[0m\u001b[1m}\u001b[0m\u001b[1m]\u001b[0m,\n",
       "                \u001b[32m'default'\u001b[0m: \u001b[3;35mNone\u001b[0m,\n",
       "                \u001b[32m'description'\u001b[0m: \u001b[32m'The URL of the resource server for this node to use.'\u001b[0m,\n",
       "                \u001b[32m'title'\u001b[0m: \u001b[32m'Resource Client URL'\u001b[0m\n",
       "            \u001b[1m}\u001b[0m,\n",
       "            \u001b[32m'host'\u001b[0m: \u001b[1m{\u001b[0m\n",
       "                \u001b[32m'default'\u001b[0m: \u001b[32m'127.0.0.1'\u001b[0m,\n",
       "                \u001b[32m'description'\u001b[0m: \u001b[32m'The host of the REST API.'\u001b[0m,\n",
       "                \u001b[32m'title'\u001b[0m: \u001b[32m'Host'\u001b[0m,\n",
       "                \u001b[32m'type'\u001b[0m: \u001b[32m'string'\u001b[0m\n",
       "            \u001b[1m}\u001b[0m,\n",
       "            \u001b[32m'port'\u001b[0m: \u001b[1m{\u001b[0m\n",
       "                \u001b[32m'default'\u001b[0m: \u001b[1;36m8000\u001b[0m,\n",
       "                \u001b[32m'description'\u001b[0m: \u001b[32m'The port of the REST API.'\u001b[0m,\n",
       "                \u001b[32m'title'\u001b[0m: \u001b[32m'Port'\u001b[0m,\n",
       "                \u001b[32m'type'\u001b[0m: \u001b[32m'integer'\u001b[0m\n",
       "            \u001b[1m}\u001b[0m,\n",
       "            \u001b[32m'protocol'\u001b[0m: \u001b[1m{\u001b[0m\n",
       "                \u001b[32m'default'\u001b[0m: \u001b[32m'http'\u001b[0m,\n",
       "                \u001b[32m'description'\u001b[0m: \u001b[32m\"The protocol of the REST API, either 'http' or 'https'.\"\u001b[0m,\n",
       "                \u001b[32m'title'\u001b[0m: \u001b[32m'Protocol'\u001b[0m,\n",
       "                \u001b[32m'type'\u001b[0m: \u001b[32m'string'\u001b[0m\n",
       "            \u001b[1m}\u001b[0m\n",
       "        \u001b[1m}\u001b[0m,\n",
       "        \u001b[32m'title'\u001b[0m: \u001b[32m'RestNodeConfig'\u001b[0m,\n",
       "        \u001b[32m'type'\u001b[0m: \u001b[32m'object'\u001b[0m\n",
       "    \u001b[1m}\u001b[0m\n",
       "\u001b[1m)\u001b[0m\n"
      ]
     },
     "metadata": {},
     "output_type": "display_data"
    }
   ],
   "source": [
    "with node_client(example_node, RestNodeClient(url=\"http://localhost:2000\")) as client:\n",
    "    # Example of a request to the node\n",
    "    print(client.get_info())"
   ]
  },
  {
   "cell_type": "markdown",
   "metadata": {},
   "source": [
    "## Node Configuration and Device Interfaces\n",
    "\n",
    "In addition to the Node Class and the `NodeDefinition`, there are two other important things we may want to define in order to integrate a device.\n",
    "\n",
    "### Node Config\n",
    "\n",
    "The `NodeConfig` class is a class we define for a Node that, as the name implies, defines the configuration available for a specific Node. This often includes things like device identifiers or IP addresses, initialization arguments to pass to the device's driver, or details about the specific device being controlled. It also includes common configurations for the node itself, such as how to configure the REST server for the node.\n",
    "\n",
    "We define our `NodeConfig` as a Pydantic Dataclass, and have a `RestNodeConfig` we can use as a base class with default configuration for the REST server.\n",
    "\n",
    "One of the advantages of defining our `NodeConfig` in this way is that we can set configuration values:\n",
    "\n",
    "- As part of the `NodeDefinition`, using the `config_overrides` field\n",
    "- Using command-line parameters, when we start the Node\n",
    "- Using the `set_config` endpoint on a running Node.\n",
    "\n",
    "### Device Interface\n",
    "\n",
    "Many of the devices we need to automate have their own DLL's, API's, Libraries, or other means of controlling and communicating with them. The exact details, capabilities, and implementations vary wildly from device to device, but in most cases these are complex enough to justify their own wrapper class.\n",
    "\n",
    "Implementing the device specific logic as a standalone class provides two key advantages:\n",
    "\n",
    "- We can use the device interface standalone, for testing and debugging, maintenance, or in applications where we can't or don't want to use a full Node.\n",
    "- We separate the concerns of managing the node from the nuts and bolts of interfacing with the device.\n",
    "\n",
    "This isn't always neccessary (some devices have API's so simple it simply isn't worth the effort), but is often worthwhile for complex devices or unwieldy API's."
   ]
  },
  {
   "cell_type": "code",
   "execution_count": 6,
   "metadata": {},
   "outputs": [],
   "source": [
    "from madsci.common.types.node_types import RestNodeConfig\n",
    "\n",
    "class ExampleRobotConfig(RestNodeConfig):\n",
    "    \"\"\"Example Configuration options for our ExampleRobotNode.\"\"\"\n",
    "\n",
    "    robot_number: int = 0\n",
    "    \"\"\"An identifier for the robot we are controlling.\"\"\"\n"
   ]
  },
  {
   "cell_type": "code",
   "execution_count": 7,
   "metadata": {},
   "outputs": [],
   "source": [
    "import time\n",
    "\n",
    "class ExampleRobotInterface:\n",
    "    \"\"\"Example Robot Interface. This is a simple interface for controlling a (fake) robot arm.\"\"\"\n",
    "\n",
    "    robot_number: int = 0\n",
    "    \"\"\"An identifier for the robot we are controlling.\"\"\"\n",
    "    joint_angles: list[float] = [0.0, 0.0, 0.0, 0.0]\n",
    "    \"\"\"The joint angles of the robot.\"\"\"\n",
    "    gripper_closed: bool = False\n",
    "    \"\"\"The state of the gripper, open or closed.\"\"\"\n",
    "    is_moving: bool = False\n",
    "    \"\"\"Whether the robot is currently moving.\"\"\"\n",
    "\n",
    "    def __init__(self, robot_number: int = 0):\n",
    "        self.robot_number = robot_number\n",
    "\n",
    "    def get_robot_number(self) -> int:\n",
    "        \"\"\"Get the robot number.\"\"\"\n",
    "        return self.robot_number\n",
    "\n",
    "    def move_to_joint_angles(self, angles: list[float]) -> None:\n",
    "        \"\"\"Move the robot to the specified joint angles.\"\"\"\n",
    "        if self.is_moving:\n",
    "            raise RuntimeError(\"Robot is already moving.\")\n",
    "        if len(angles) != 4:\n",
    "            raise ValueError(\"Expected 4 joint angles.\")\n",
    "        self.is_moving = True\n",
    "        time.sleep(5)\n",
    "        self.is_moving = False\n",
    "        self.joint_angles = angles\n",
    "\n",
    "    def close_gripper(self) -> None:\n",
    "        \"\"\"Close the gripper.\"\"\"\n",
    "        if self.is_moving:\n",
    "            raise RuntimeError(\"Robot is already moving.\")\n",
    "        self.is_moving = True\n",
    "        time.sleep(1)\n",
    "        self.is_moving = False\n",
    "        self.gripper_closed = True\n",
    "\n",
    "    def open_gripper(self) -> None:\n",
    "        \"\"\"Open the gripper.\"\"\"\n",
    "        if self.is_moving:\n",
    "            raise RuntimeError(\"Robot is already moving.\")\n",
    "        self.is_moving = True\n",
    "        time.sleep(1)\n",
    "        self.is_moving = False\n",
    "        self.gripper_closed = False"
   ]
  },
  {
   "cell_type": "markdown",
   "metadata": {},
   "source": [
    "## Node Lifecycle\n",
    "\n",
    "Generally speaking, nodes have the following common lifecycle components:\n",
    "\n",
    "- `start_node`: this default function kickoffs the REST server, reads in the node definition and config, and calls the user defined `startup_handler`\n",
    "- `startup_handler`: a user-defined function that handles whatever logic needs to be done to initialize the underlying device and prepare the node for operation. The node won't start accepting actions until the startup_handler completes.\n",
    "- `shutdown_handler`: a user-defined function that handles the logic of shutting the node down: disconnecting from the device, cleaning up system resources, etc.\n",
    "- `state_handler`: allows the node to update it's published state, a JSON serializable dictionary\n",
    "- `status_handler`: allows the node to implement any custom logic around updating the `NodeStatus` used by the node and the rest of the system to understand the condition of the node.\n",
    "\n",
    "The `startup_handler` and `shutdown_handler` generally run once, while the `state_handler` and `status_handler` run periodically, with a configurable interval.\n",
    "\n",
    "<img src=\"./assets/drawio/node_lifecycle.drawio.svg\" alt=\"Node Lifecycle\" width=1000></img>\n",
    "\n",
    "_Green represents user-defined funcionality, blue is built-in_\n"
   ]
  },
  {
   "cell_type": "code",
   "execution_count": 8,
   "metadata": {},
   "outputs": [],
   "source": [
    "from typing import Optional\n",
    "\n",
    "\n",
    "class ExampleNodeWithLifecycle(ExampleRobotNode):\n",
    "    \"\"\"Define an Example Node with a startup and shutdown handlers.\"\"\"\n",
    "\n",
    "    config_model = ExampleRobotConfig\n",
    "    \"\"\"The configuration model for the node.\"\"\"\n",
    "    robot_interface: Optional[ExampleRobotInterface] = None\n",
    "    \"\"\"The robot interface for controlling the robot.\"\"\"\n",
    "\n",
    "    def startup_handler(self) -> None:\n",
    "        \"\"\"Handle the startup of the node.\"\"\"\n",
    "        self.logger.log_info(f\"Connecting to robot {self.config.robot_number}...\")\n",
    "        self.robot_interface = ExampleRobotInterface(self.config.robot_number)\n",
    "        self.logger.log_info(f\"Connected to robot {self.robot_interface.get_robot_number()}\")\n",
    "\n",
    "    def shutdown_handler(self) -> None:\n",
    "        \"\"\"Handle the shutdown of the node.\"\"\"\n",
    "        self.logger.log_info(f\"Disconnecting from robot {self.config.robot_number}...\")\n",
    "        del self.robot_interface\n",
    "        self.logger.log_info(f\"Disconnected from robot {self.config.robot_number}\")\n"
   ]
  },
  {
   "cell_type": "code",
   "execution_count": 9,
   "metadata": {},
   "outputs": [
    {
     "data": {
      "text/html": [
       "<pre style=\"white-space:pre;overflow-x:auto;line-height:normal;font-family:Menlo,'DejaVu Sans Mono',consolas,'Courier New',monospace\"><span style=\"color: #008080; text-decoration-color: #008080; font-weight: bold\">2025</span>-<span style=\"color: #008080; text-decoration-color: #008080; font-weight: bold\">04</span>-<span style=\"color: #008080; text-decoration-color: #008080; font-weight: bold\">08</span> <span style=\"color: #00ff00; text-decoration-color: #00ff00; font-weight: bold\">10:32:15</span>.<span style=\"color: #008080; text-decoration-color: #008080; font-weight: bold\">051323</span> <span style=\"font-weight: bold\">(</span>EventType.LOG_INFO<span style=\"font-weight: bold\">)</span>: Connecting to robot <span style=\"color: #008080; text-decoration-color: #008080; font-weight: bold\">0</span><span style=\"color: #808000; text-decoration-color: #808000\">...</span>\n",
       "</pre>\n"
      ],
      "text/plain": [
       "\u001b[1;36m2025\u001b[0m-\u001b[1;36m04\u001b[0m-\u001b[1;36m08\u001b[0m \u001b[1;92m10:32:15\u001b[0m.\u001b[1;36m051323\u001b[0m \u001b[1m(\u001b[0mEventType.LOG_INFO\u001b[1m)\u001b[0m: Connecting to robot \u001b[1;36m0\u001b[0m\u001b[33m...\u001b[0m\n"
      ]
     },
     "metadata": {},
     "output_type": "display_data"
    },
    {
     "data": {
      "text/html": [
       "<pre style=\"white-space:pre;overflow-x:auto;line-height:normal;font-family:Menlo,'DejaVu Sans Mono',consolas,'Courier New',monospace\"><span style=\"color: #008080; text-decoration-color: #008080; font-weight: bold\">2025</span>-<span style=\"color: #008080; text-decoration-color: #008080; font-weight: bold\">04</span>-<span style=\"color: #008080; text-decoration-color: #008080; font-weight: bold\">08</span> <span style=\"color: #00ff00; text-decoration-color: #00ff00; font-weight: bold\">10:32:15</span>.<span style=\"color: #008080; text-decoration-color: #008080; font-weight: bold\">055097</span> <span style=\"font-weight: bold\">(</span>EventType.LOG_INFO<span style=\"font-weight: bold\">)</span>: Connected to robot <span style=\"color: #008080; text-decoration-color: #008080; font-weight: bold\">0</span>\n",
       "</pre>\n"
      ],
      "text/plain": [
       "\u001b[1;36m2025\u001b[0m-\u001b[1;36m04\u001b[0m-\u001b[1;36m08\u001b[0m \u001b[1;92m10:32:15\u001b[0m.\u001b[1;36m055097\u001b[0m \u001b[1m(\u001b[0mEventType.LOG_INFO\u001b[1m)\u001b[0m: Connected to robot \u001b[1;36m0\u001b[0m\n"
      ]
     },
     "metadata": {},
     "output_type": "display_data"
    },
    {
     "data": {
      "text/html": [
       "<pre style=\"white-space:pre;overflow-x:auto;line-height:normal;font-family:Menlo,'DejaVu Sans Mono',consolas,'Courier New',monospace\"><span style=\"color: #008080; text-decoration-color: #008080; font-weight: bold\">2025</span>-<span style=\"color: #008080; text-decoration-color: #008080; font-weight: bold\">04</span>-<span style=\"color: #008080; text-decoration-color: #008080; font-weight: bold\">08</span> <span style=\"color: #00ff00; text-decoration-color: #00ff00; font-weight: bold\">10:32:15</span>.<span style=\"color: #008080; text-decoration-color: #008080; font-weight: bold\">057714</span> <span style=\"font-weight: bold\">(</span>EventType.LOG_INFO<span style=\"font-weight: bold\">)</span>: Startup complete for node example_node.\n",
       "</pre>\n"
      ],
      "text/plain": [
       "\u001b[1;36m2025\u001b[0m-\u001b[1;36m04\u001b[0m-\u001b[1;36m08\u001b[0m \u001b[1;92m10:32:15\u001b[0m.\u001b[1;36m057714\u001b[0m \u001b[1m(\u001b[0mEventType.LOG_INFO\u001b[1m)\u001b[0m: Startup complete for node example_node.\n"
      ]
     },
     "metadata": {},
     "output_type": "display_data"
    },
    {
     "data": {
      "text/html": [
       "<pre style=\"white-space:pre;overflow-x:auto;line-height:normal;font-family:Menlo,'DejaVu Sans Mono',consolas,'Courier New',monospace\"><span style=\"color: #800080; text-decoration-color: #800080; font-weight: bold\">NodeStatus</span><span style=\"font-weight: bold\">(</span>\n",
       "    <span style=\"color: #808000; text-decoration-color: #808000\">busy</span>=<span style=\"color: #ff0000; text-decoration-color: #ff0000; font-style: italic\">False</span>,\n",
       "    <span style=\"color: #808000; text-decoration-color: #808000\">running_actions</span>=<span style=\"color: #800080; text-decoration-color: #800080; font-weight: bold\">set</span><span style=\"font-weight: bold\">()</span>,\n",
       "    <span style=\"color: #808000; text-decoration-color: #808000\">paused</span>=<span style=\"color: #ff0000; text-decoration-color: #ff0000; font-style: italic\">False</span>,\n",
       "    <span style=\"color: #808000; text-decoration-color: #808000\">locked</span>=<span style=\"color: #ff0000; text-decoration-color: #ff0000; font-style: italic\">False</span>,\n",
       "    <span style=\"color: #808000; text-decoration-color: #808000\">stopped</span>=<span style=\"color: #ff0000; text-decoration-color: #ff0000; font-style: italic\">False</span>,\n",
       "    <span style=\"color: #808000; text-decoration-color: #808000\">errored</span>=<span style=\"color: #ff0000; text-decoration-color: #ff0000; font-style: italic\">False</span>,\n",
       "    <span style=\"color: #808000; text-decoration-color: #808000\">errors</span>=<span style=\"font-weight: bold\">[]</span>,\n",
       "    <span style=\"color: #808000; text-decoration-color: #808000\">initializing</span>=<span style=\"color: #ff0000; text-decoration-color: #ff0000; font-style: italic\">False</span>,\n",
       "    <span style=\"color: #808000; text-decoration-color: #808000\">waiting_for_config</span>=<span style=\"color: #800080; text-decoration-color: #800080; font-weight: bold\">set</span><span style=\"font-weight: bold\">()</span>,\n",
       "    <span style=\"color: #808000; text-decoration-color: #808000\">config_values</span>=<span style=\"font-weight: bold\">{}</span>,\n",
       "    <span style=\"color: #808000; text-decoration-color: #808000\">ready</span>=<span style=\"color: #00ff00; text-decoration-color: #00ff00; font-style: italic\">True</span>,\n",
       "    <span style=\"color: #808000; text-decoration-color: #808000\">description</span>=<span style=\"color: #008000; text-decoration-color: #008000\">'Node is ready'</span>\n",
       "<span style=\"font-weight: bold\">)</span>\n",
       "</pre>\n"
      ],
      "text/plain": [
       "\u001b[1;35mNodeStatus\u001b[0m\u001b[1m(\u001b[0m\n",
       "    \u001b[33mbusy\u001b[0m=\u001b[3;91mFalse\u001b[0m,\n",
       "    \u001b[33mrunning_actions\u001b[0m=\u001b[1;35mset\u001b[0m\u001b[1m(\u001b[0m\u001b[1m)\u001b[0m,\n",
       "    \u001b[33mpaused\u001b[0m=\u001b[3;91mFalse\u001b[0m,\n",
       "    \u001b[33mlocked\u001b[0m=\u001b[3;91mFalse\u001b[0m,\n",
       "    \u001b[33mstopped\u001b[0m=\u001b[3;91mFalse\u001b[0m,\n",
       "    \u001b[33merrored\u001b[0m=\u001b[3;91mFalse\u001b[0m,\n",
       "    \u001b[33merrors\u001b[0m=\u001b[1m[\u001b[0m\u001b[1m]\u001b[0m,\n",
       "    \u001b[33minitializing\u001b[0m=\u001b[3;91mFalse\u001b[0m,\n",
       "    \u001b[33mwaiting_for_config\u001b[0m=\u001b[1;35mset\u001b[0m\u001b[1m(\u001b[0m\u001b[1m)\u001b[0m,\n",
       "    \u001b[33mconfig_values\u001b[0m=\u001b[1m{\u001b[0m\u001b[1m}\u001b[0m,\n",
       "    \u001b[33mready\u001b[0m=\u001b[3;92mTrue\u001b[0m,\n",
       "    \u001b[33mdescription\u001b[0m=\u001b[32m'Node is ready'\u001b[0m\n",
       "\u001b[1m)\u001b[0m\n"
      ]
     },
     "metadata": {},
     "output_type": "display_data"
    },
    {
     "data": {
      "text/html": [
       "<pre style=\"white-space:pre;overflow-x:auto;line-height:normal;font-family:Menlo,'DejaVu Sans Mono',consolas,'Courier New',monospace\"><span style=\"color: #008080; text-decoration-color: #008080; font-weight: bold\">2025</span>-<span style=\"color: #008080; text-decoration-color: #008080; font-weight: bold\">04</span>-<span style=\"color: #008080; text-decoration-color: #008080; font-weight: bold\">08</span> <span style=\"color: #00ff00; text-decoration-color: #00ff00; font-weight: bold\">10:32:15</span>.<span style=\"color: #008080; text-decoration-color: #008080; font-weight: bold\">162589</span> <span style=\"font-weight: bold\">(</span>EventType.LOG_INFO<span style=\"font-weight: bold\">)</span>: Disconnecting from robot <span style=\"color: #008080; text-decoration-color: #008080; font-weight: bold\">0</span><span style=\"color: #808000; text-decoration-color: #808000\">...</span>\n",
       "</pre>\n"
      ],
      "text/plain": [
       "\u001b[1;36m2025\u001b[0m-\u001b[1;36m04\u001b[0m-\u001b[1;36m08\u001b[0m \u001b[1;92m10:32:15\u001b[0m.\u001b[1;36m162589\u001b[0m \u001b[1m(\u001b[0mEventType.LOG_INFO\u001b[1m)\u001b[0m: Disconnecting from robot \u001b[1;36m0\u001b[0m\u001b[33m...\u001b[0m\n"
      ]
     },
     "metadata": {},
     "output_type": "display_data"
    },
    {
     "data": {
      "text/html": [
       "<pre style=\"white-space:pre;overflow-x:auto;line-height:normal;font-family:Menlo,'DejaVu Sans Mono',consolas,'Courier New',monospace\"><span style=\"color: #008080; text-decoration-color: #008080; font-weight: bold\">2025</span>-<span style=\"color: #008080; text-decoration-color: #008080; font-weight: bold\">04</span>-<span style=\"color: #008080; text-decoration-color: #008080; font-weight: bold\">08</span> <span style=\"color: #00ff00; text-decoration-color: #00ff00; font-weight: bold\">10:32:15</span>.<span style=\"color: #008080; text-decoration-color: #008080; font-weight: bold\">163491</span> <span style=\"font-weight: bold\">(</span>EventType.LOG_INFO<span style=\"font-weight: bold\">)</span>: Disconnected from robot <span style=\"color: #008080; text-decoration-color: #008080; font-weight: bold\">0</span>\n",
       "</pre>\n"
      ],
      "text/plain": [
       "\u001b[1;36m2025\u001b[0m-\u001b[1;36m04\u001b[0m-\u001b[1;36m08\u001b[0m \u001b[1;92m10:32:15\u001b[0m.\u001b[1;36m163491\u001b[0m \u001b[1m(\u001b[0mEventType.LOG_INFO\u001b[1m)\u001b[0m: Disconnected from robot \u001b[1;36m0\u001b[0m\n"
      ]
     },
     "metadata": {},
     "output_type": "display_data"
    }
   ],
   "source": [
    "example_node = ExampleNodeWithLifecycle(node_definition=node_definition)\n",
    "example_node.start_node(testing=True)\n",
    "\n",
    "with node_client(example_node, RestNodeClient(url=\"http://localhost:2000\")) as client:\n",
    "    while not client.get_status().ready:\n",
    "        # Wait for the node to be ready\n",
    "        time.sleep(0.1)\n",
    "    print(client.get_status())"
   ]
  },
  {
   "cell_type": "code",
   "execution_count": 16,
   "metadata": {},
   "outputs": [
    {
     "data": {
      "text/html": [
       "<pre style=\"white-space:pre;overflow-x:auto;line-height:normal;font-family:Menlo,'DejaVu Sans Mono',consolas,'Courier New',monospace\"><span style=\"color: #008080; text-decoration-color: #008080; font-weight: bold\">2025</span>-<span style=\"color: #008080; text-decoration-color: #008080; font-weight: bold\">04</span>-<span style=\"color: #008080; text-decoration-color: #008080; font-weight: bold\">08</span> <span style=\"color: #00ff00; text-decoration-color: #00ff00; font-weight: bold\">10:33:20</span>.<span style=\"color: #008080; text-decoration-color: #008080; font-weight: bold\">721116</span> <span style=\"font-weight: bold\">(</span>EventType.LOG_INFO<span style=\"font-weight: bold\">)</span>: Connecting to robot <span style=\"color: #008080; text-decoration-color: #008080; font-weight: bold\">0</span><span style=\"color: #808000; text-decoration-color: #808000\">...</span>\n",
       "</pre>\n"
      ],
      "text/plain": [
       "\u001b[1;36m2025\u001b[0m-\u001b[1;36m04\u001b[0m-\u001b[1;36m08\u001b[0m \u001b[1;92m10:33:20\u001b[0m.\u001b[1;36m721116\u001b[0m \u001b[1m(\u001b[0mEventType.LOG_INFO\u001b[1m)\u001b[0m: Connecting to robot \u001b[1;36m0\u001b[0m\u001b[33m...\u001b[0m\n"
      ]
     },
     "metadata": {},
     "output_type": "display_data"
    },
    {
     "data": {
      "text/html": [
       "<pre style=\"white-space:pre;overflow-x:auto;line-height:normal;font-family:Menlo,'DejaVu Sans Mono',consolas,'Courier New',monospace\"><span style=\"color: #008080; text-decoration-color: #008080; font-weight: bold\">2025</span>-<span style=\"color: #008080; text-decoration-color: #008080; font-weight: bold\">04</span>-<span style=\"color: #008080; text-decoration-color: #008080; font-weight: bold\">08</span> <span style=\"color: #00ff00; text-decoration-color: #00ff00; font-weight: bold\">10:33:20</span>.<span style=\"color: #008080; text-decoration-color: #008080; font-weight: bold\">724882</span> <span style=\"font-weight: bold\">(</span>EventType.LOG_INFO<span style=\"font-weight: bold\">)</span>: Connected to robot <span style=\"color: #008080; text-decoration-color: #008080; font-weight: bold\">0</span>\n",
       "</pre>\n"
      ],
      "text/plain": [
       "\u001b[1;36m2025\u001b[0m-\u001b[1;36m04\u001b[0m-\u001b[1;36m08\u001b[0m \u001b[1;92m10:33:20\u001b[0m.\u001b[1;36m724882\u001b[0m \u001b[1m(\u001b[0mEventType.LOG_INFO\u001b[1m)\u001b[0m: Connected to robot \u001b[1;36m0\u001b[0m\n"
      ]
     },
     "metadata": {},
     "output_type": "display_data"
    },
    {
     "data": {
      "text/html": [
       "<pre style=\"white-space:pre;overflow-x:auto;line-height:normal;font-family:Menlo,'DejaVu Sans Mono',consolas,'Courier New',monospace\"><span style=\"color: #008080; text-decoration-color: #008080; font-weight: bold\">2025</span>-<span style=\"color: #008080; text-decoration-color: #008080; font-weight: bold\">04</span>-<span style=\"color: #008080; text-decoration-color: #008080; font-weight: bold\">08</span> <span style=\"color: #00ff00; text-decoration-color: #00ff00; font-weight: bold\">10:33:20</span>.<span style=\"color: #008080; text-decoration-color: #008080; font-weight: bold\">726346</span> <span style=\"font-weight: bold\">(</span>EventType.LOG_INFO<span style=\"font-weight: bold\">)</span>: Startup complete for node example_node.\n",
       "</pre>\n"
      ],
      "text/plain": [
       "\u001b[1;36m2025\u001b[0m-\u001b[1;36m04\u001b[0m-\u001b[1;36m08\u001b[0m \u001b[1;92m10:33:20\u001b[0m.\u001b[1;36m726346\u001b[0m \u001b[1m(\u001b[0mEventType.LOG_INFO\u001b[1m)\u001b[0m: Startup complete for node example_node.\n"
      ]
     },
     "metadata": {},
     "output_type": "display_data"
    },
    {
     "data": {
      "text/html": [
       "<pre style=\"white-space:pre;overflow-x:auto;line-height:normal;font-family:Menlo,'DejaVu Sans Mono',consolas,'Courier New',monospace\"><span style=\"font-weight: bold\">{</span><span style=\"color: #008000; text-decoration-color: #008000\">'joint_angles'</span>: <span style=\"font-weight: bold\">[</span><span style=\"color: #008080; text-decoration-color: #008080; font-weight: bold\">0.0</span>, <span style=\"color: #008080; text-decoration-color: #008080; font-weight: bold\">0.0</span>, <span style=\"color: #008080; text-decoration-color: #008080; font-weight: bold\">0.0</span>, <span style=\"color: #008080; text-decoration-color: #008080; font-weight: bold\">0.0</span><span style=\"font-weight: bold\">]}</span>\n",
       "</pre>\n"
      ],
      "text/plain": [
       "\u001b[1m{\u001b[0m\u001b[32m'joint_angles'\u001b[0m: \u001b[1m[\u001b[0m\u001b[1;36m0.0\u001b[0m, \u001b[1;36m0.0\u001b[0m, \u001b[1;36m0.0\u001b[0m, \u001b[1;36m0.0\u001b[0m\u001b[1m]\u001b[0m\u001b[1m}\u001b[0m\n"
      ]
     },
     "metadata": {},
     "output_type": "display_data"
    },
    {
     "data": {
      "text/html": [
       "<pre style=\"white-space:pre;overflow-x:auto;line-height:normal;font-family:Menlo,'DejaVu Sans Mono',consolas,'Courier New',monospace\"><span style=\"color: #800080; text-decoration-color: #800080; font-weight: bold\">NodeStatus</span><span style=\"font-weight: bold\">(</span>\n",
       "    <span style=\"color: #808000; text-decoration-color: #808000\">busy</span>=<span style=\"color: #ff0000; text-decoration-color: #ff0000; font-style: italic\">False</span>,\n",
       "    <span style=\"color: #808000; text-decoration-color: #808000\">running_actions</span>=<span style=\"color: #800080; text-decoration-color: #800080; font-weight: bold\">set</span><span style=\"font-weight: bold\">()</span>,\n",
       "    <span style=\"color: #808000; text-decoration-color: #808000\">paused</span>=<span style=\"color: #ff0000; text-decoration-color: #ff0000; font-style: italic\">False</span>,\n",
       "    <span style=\"color: #808000; text-decoration-color: #808000\">locked</span>=<span style=\"color: #ff0000; text-decoration-color: #ff0000; font-style: italic\">False</span>,\n",
       "    <span style=\"color: #808000; text-decoration-color: #808000\">stopped</span>=<span style=\"color: #ff0000; text-decoration-color: #ff0000; font-style: italic\">False</span>,\n",
       "    <span style=\"color: #808000; text-decoration-color: #808000\">errored</span>=<span style=\"color: #ff0000; text-decoration-color: #ff0000; font-style: italic\">False</span>,\n",
       "    <span style=\"color: #808000; text-decoration-color: #808000\">errors</span>=<span style=\"font-weight: bold\">[]</span>,\n",
       "    <span style=\"color: #808000; text-decoration-color: #808000\">initializing</span>=<span style=\"color: #ff0000; text-decoration-color: #ff0000; font-style: italic\">False</span>,\n",
       "    <span style=\"color: #808000; text-decoration-color: #808000\">waiting_for_config</span>=<span style=\"color: #800080; text-decoration-color: #800080; font-weight: bold\">set</span><span style=\"font-weight: bold\">()</span>,\n",
       "    <span style=\"color: #808000; text-decoration-color: #808000\">config_values</span>=<span style=\"font-weight: bold\">{}</span>,\n",
       "    <span style=\"color: #808000; text-decoration-color: #808000\">ready</span>=<span style=\"color: #00ff00; text-decoration-color: #00ff00; font-style: italic\">True</span>,\n",
       "    <span style=\"color: #808000; text-decoration-color: #808000\">description</span>=<span style=\"color: #008000; text-decoration-color: #008000\">'Node is ready'</span>\n",
       "<span style=\"font-weight: bold\">)</span>\n",
       "</pre>\n"
      ],
      "text/plain": [
       "\u001b[1;35mNodeStatus\u001b[0m\u001b[1m(\u001b[0m\n",
       "    \u001b[33mbusy\u001b[0m=\u001b[3;91mFalse\u001b[0m,\n",
       "    \u001b[33mrunning_actions\u001b[0m=\u001b[1;35mset\u001b[0m\u001b[1m(\u001b[0m\u001b[1m)\u001b[0m,\n",
       "    \u001b[33mpaused\u001b[0m=\u001b[3;91mFalse\u001b[0m,\n",
       "    \u001b[33mlocked\u001b[0m=\u001b[3;91mFalse\u001b[0m,\n",
       "    \u001b[33mstopped\u001b[0m=\u001b[3;91mFalse\u001b[0m,\n",
       "    \u001b[33merrored\u001b[0m=\u001b[3;91mFalse\u001b[0m,\n",
       "    \u001b[33merrors\u001b[0m=\u001b[1m[\u001b[0m\u001b[1m]\u001b[0m,\n",
       "    \u001b[33minitializing\u001b[0m=\u001b[3;91mFalse\u001b[0m,\n",
       "    \u001b[33mwaiting_for_config\u001b[0m=\u001b[1;35mset\u001b[0m\u001b[1m(\u001b[0m\u001b[1m)\u001b[0m,\n",
       "    \u001b[33mconfig_values\u001b[0m=\u001b[1m{\u001b[0m\u001b[1m}\u001b[0m,\n",
       "    \u001b[33mready\u001b[0m=\u001b[3;92mTrue\u001b[0m,\n",
       "    \u001b[33mdescription\u001b[0m=\u001b[32m'Node is ready'\u001b[0m\n",
       "\u001b[1m)\u001b[0m\n"
      ]
     },
     "metadata": {},
     "output_type": "display_data"
    },
    {
     "data": {
      "text/html": [
       "<pre style=\"white-space:pre;overflow-x:auto;line-height:normal;font-family:Menlo,'DejaVu Sans Mono',consolas,'Courier New',monospace\"><span style=\"font-weight: bold\">{</span><span style=\"color: #008000; text-decoration-color: #008000\">'joint_angles'</span>: <span style=\"font-weight: bold\">[</span><span style=\"color: #008080; text-decoration-color: #008080; font-weight: bold\">0.5</span>, <span style=\"color: #008080; text-decoration-color: #008080; font-weight: bold\">0.5</span>, <span style=\"color: #008080; text-decoration-color: #008080; font-weight: bold\">0.5</span>, <span style=\"color: #008080; text-decoration-color: #008080; font-weight: bold\">0.5</span><span style=\"font-weight: bold\">]}</span>\n",
       "</pre>\n"
      ],
      "text/plain": [
       "\u001b[1m{\u001b[0m\u001b[32m'joint_angles'\u001b[0m: \u001b[1m[\u001b[0m\u001b[1;36m0.5\u001b[0m, \u001b[1;36m0.5\u001b[0m, \u001b[1;36m0.5\u001b[0m, \u001b[1;36m0.5\u001b[0m\u001b[1m]\u001b[0m\u001b[1m}\u001b[0m\n"
      ]
     },
     "metadata": {},
     "output_type": "display_data"
    },
    {
     "data": {
      "text/html": [
       "<pre style=\"white-space:pre;overflow-x:auto;line-height:normal;font-family:Menlo,'DejaVu Sans Mono',consolas,'Courier New',monospace\"><span style=\"color: #800080; text-decoration-color: #800080; font-weight: bold\">NodeStatus</span><span style=\"font-weight: bold\">(</span>\n",
       "    <span style=\"color: #808000; text-decoration-color: #808000\">busy</span>=<span style=\"color: #ff0000; text-decoration-color: #ff0000; font-style: italic\">False</span>,\n",
       "    <span style=\"color: #808000; text-decoration-color: #808000\">running_actions</span>=<span style=\"color: #800080; text-decoration-color: #800080; font-weight: bold\">set</span><span style=\"font-weight: bold\">()</span>,\n",
       "    <span style=\"color: #808000; text-decoration-color: #808000\">paused</span>=<span style=\"color: #ff0000; text-decoration-color: #ff0000; font-style: italic\">False</span>,\n",
       "    <span style=\"color: #808000; text-decoration-color: #808000\">locked</span>=<span style=\"color: #ff0000; text-decoration-color: #ff0000; font-style: italic\">False</span>,\n",
       "    <span style=\"color: #808000; text-decoration-color: #808000\">stopped</span>=<span style=\"color: #ff0000; text-decoration-color: #ff0000; font-style: italic\">False</span>,\n",
       "    <span style=\"color: #808000; text-decoration-color: #808000\">errored</span>=<span style=\"color: #ff0000; text-decoration-color: #ff0000; font-style: italic\">False</span>,\n",
       "    <span style=\"color: #808000; text-decoration-color: #808000\">errors</span>=<span style=\"font-weight: bold\">[]</span>,\n",
       "    <span style=\"color: #808000; text-decoration-color: #808000\">initializing</span>=<span style=\"color: #ff0000; text-decoration-color: #ff0000; font-style: italic\">False</span>,\n",
       "    <span style=\"color: #808000; text-decoration-color: #808000\">waiting_for_config</span>=<span style=\"color: #800080; text-decoration-color: #800080; font-weight: bold\">set</span><span style=\"font-weight: bold\">()</span>,\n",
       "    <span style=\"color: #808000; text-decoration-color: #808000\">config_values</span>=<span style=\"font-weight: bold\">{}</span>,\n",
       "    <span style=\"color: #808000; text-decoration-color: #808000\">ready</span>=<span style=\"color: #00ff00; text-decoration-color: #00ff00; font-style: italic\">True</span>,\n",
       "    <span style=\"color: #808000; text-decoration-color: #808000\">description</span>=<span style=\"color: #008000; text-decoration-color: #008000\">'Node is ready'</span>\n",
       "<span style=\"font-weight: bold\">)</span>\n",
       "</pre>\n"
      ],
      "text/plain": [
       "\u001b[1;35mNodeStatus\u001b[0m\u001b[1m(\u001b[0m\n",
       "    \u001b[33mbusy\u001b[0m=\u001b[3;91mFalse\u001b[0m,\n",
       "    \u001b[33mrunning_actions\u001b[0m=\u001b[1;35mset\u001b[0m\u001b[1m(\u001b[0m\u001b[1m)\u001b[0m,\n",
       "    \u001b[33mpaused\u001b[0m=\u001b[3;91mFalse\u001b[0m,\n",
       "    \u001b[33mlocked\u001b[0m=\u001b[3;91mFalse\u001b[0m,\n",
       "    \u001b[33mstopped\u001b[0m=\u001b[3;91mFalse\u001b[0m,\n",
       "    \u001b[33merrored\u001b[0m=\u001b[3;91mFalse\u001b[0m,\n",
       "    \u001b[33merrors\u001b[0m=\u001b[1m[\u001b[0m\u001b[1m]\u001b[0m,\n",
       "    \u001b[33minitializing\u001b[0m=\u001b[3;91mFalse\u001b[0m,\n",
       "    \u001b[33mwaiting_for_config\u001b[0m=\u001b[1;35mset\u001b[0m\u001b[1m(\u001b[0m\u001b[1m)\u001b[0m,\n",
       "    \u001b[33mconfig_values\u001b[0m=\u001b[1m{\u001b[0m\u001b[1m}\u001b[0m,\n",
       "    \u001b[33mready\u001b[0m=\u001b[3;92mTrue\u001b[0m,\n",
       "    \u001b[33mdescription\u001b[0m=\u001b[32m'Node is ready'\u001b[0m\n",
       "\u001b[1m)\u001b[0m\n"
      ]
     },
     "metadata": {},
     "output_type": "display_data"
    },
    {
     "data": {
      "text/html": [
       "<pre style=\"white-space:pre;overflow-x:auto;line-height:normal;font-family:Menlo,'DejaVu Sans Mono',consolas,'Courier New',monospace\"><span style=\"color: #008080; text-decoration-color: #008080; font-weight: bold\">2025</span>-<span style=\"color: #008080; text-decoration-color: #008080; font-weight: bold\">04</span>-<span style=\"color: #008080; text-decoration-color: #008080; font-weight: bold\">08</span> <span style=\"color: #00ff00; text-decoration-color: #00ff00; font-weight: bold\">10:33:27</span>.<span style=\"color: #008080; text-decoration-color: #008080; font-weight: bold\">847870</span> <span style=\"font-weight: bold\">(</span>EventType.LOG_INFO<span style=\"font-weight: bold\">)</span>: Disconnecting from robot <span style=\"color: #008080; text-decoration-color: #008080; font-weight: bold\">0</span><span style=\"color: #808000; text-decoration-color: #808000\">...</span>\n",
       "</pre>\n"
      ],
      "text/plain": [
       "\u001b[1;36m2025\u001b[0m-\u001b[1;36m04\u001b[0m-\u001b[1;36m08\u001b[0m \u001b[1;92m10:33:27\u001b[0m.\u001b[1;36m847870\u001b[0m \u001b[1m(\u001b[0mEventType.LOG_INFO\u001b[1m)\u001b[0m: Disconnecting from robot \u001b[1;36m0\u001b[0m\u001b[33m...\u001b[0m\n"
      ]
     },
     "metadata": {},
     "output_type": "display_data"
    },
    {
     "data": {
      "text/html": [
       "<pre style=\"white-space:pre;overflow-x:auto;line-height:normal;font-family:Menlo,'DejaVu Sans Mono',consolas,'Courier New',monospace\"><span style=\"color: #008080; text-decoration-color: #008080; font-weight: bold\">2025</span>-<span style=\"color: #008080; text-decoration-color: #008080; font-weight: bold\">04</span>-<span style=\"color: #008080; text-decoration-color: #008080; font-weight: bold\">08</span> <span style=\"color: #00ff00; text-decoration-color: #00ff00; font-weight: bold\">10:33:27</span>.<span style=\"color: #008080; text-decoration-color: #008080; font-weight: bold\">848719</span> <span style=\"font-weight: bold\">(</span>EventType.LOG_INFO<span style=\"font-weight: bold\">)</span>: Disconnected from robot <span style=\"color: #008080; text-decoration-color: #008080; font-weight: bold\">0</span>\n",
       "</pre>\n"
      ],
      "text/plain": [
       "\u001b[1;36m2025\u001b[0m-\u001b[1;36m04\u001b[0m-\u001b[1;36m08\u001b[0m \u001b[1;92m10:33:27\u001b[0m.\u001b[1;36m848719\u001b[0m \u001b[1m(\u001b[0mEventType.LOG_INFO\u001b[1m)\u001b[0m: Disconnected from robot \u001b[1;36m0\u001b[0m\n"
      ]
     },
     "metadata": {},
     "output_type": "display_data"
    }
   ],
   "source": [
    "import time\n",
    "\n",
    "class ExampleNodeWithUpdates(ExampleNodeWithLifecycle):\n",
    "    \"\"\"Define an Example Node that periodically updates it's status and public-facing state.\"\"\"\n",
    "\n",
    "    node_state = {\n",
    "        \"joint_angles\": [0.0, 0.0, 0.0, 0.0],\n",
    "    }\n",
    "\n",
    "    def state_handler(self) -> None:\n",
    "        \"\"\"This is where you can implement logic to periodically update the node's public-facing state information.\"\"\"\n",
    "        if self.robot_interface is not None:\n",
    "            self.node_state = {\"joint_angles\": self.robot_interface.joint_angles}\n",
    "        else:\n",
    "            self.node_state = {\"joint_angles\": None}\n",
    "\n",
    "    def status_handler(self) -> None:\n",
    "        \"\"\"\n",
    "        This is where you can implement logic to periodically update the node's status information.\n",
    "        \"\"\"\n",
    "        if self.robot_interface is not None and self.robot_interface.is_moving:\n",
    "            self.node_status.busy = True\n",
    "        else:\n",
    "            self.node_status.busy = len(self.node_status.running_actions) > 0\n",
    "\n",
    "\n",
    "node_definition.config_defaults={\n",
    "        \"state_update_interval\": 2, # Change how frequently, in seconds, the node state is updated\n",
    "        \"status_update_interval\": 0.5, # Change how frequently, in seconds, the node status is updated\n",
    "    }\n",
    "example_node = ExampleNodeWithUpdates(node_definition=node_definition)\n",
    "example_node.node_status.errors = []\n",
    "example_node.start_node(testing=True)\n",
    "\n",
    "with node_client(example_node, RestNodeClient(url=\"http://localhost:2000\")) as client:\n",
    "    while not client.get_status().ready:\n",
    "        # Wait for the node to be ready\n",
    "        time.sleep(0.1)\n",
    "    print(client.get_state())\n",
    "    print(client.get_status())\n",
    "    example_node.robot_interface.move_to_joint_angles([0.5, 0.5, 0.5, 0.5])\n",
    "    time.sleep(2.0) # -> Uncomment this line to wait for the updated state & status to be set\n",
    "    print(client.get_state())\n",
    "    print(client.get_status())"
   ]
  },
  {
   "cell_type": "markdown",
   "metadata": {},
   "source": [
    "## Node Actions\n",
    "\n",
    "Now that we have the lifecycle of the Node working, let's talk about **Actions**. In MADSci, a Node Action is, essentially, a function that you can call on the node in a standardized way. These functions typically, but not neccessarily, involve the device the node controls taking some action (e.g. a camera taking a picture, a robot arm moving, a plate reader doing a reading, etc.).\n",
    "\n",
    "### Anatomy of an Action\n",
    "\n",
    "Node Actions can be defined with the following:\n",
    "\n",
    "- **Name**: a unique name for the action to perform\n",
    "- **Description**: a human-readable description of the action\n",
    "- **Arguments**: the arguments the action takes. Normal arguments must be JSON-serializable types, and can be either required or optional. There are two special cases of arguments:\n",
    "    - **File Arguments**: files the action accepts as inputs, which are uploaded by the client\n",
    "    - **Location Arguments**: these are functionally the same as regular Arguments, but have special meaning when using a node as part of a MADSci workcell (more on that later)\n",
    "- **Results**: these are what an action returns after completing, typically in the form of JSON Data, Files, or Datapoint IDs\n",
    "\n",
    "To perform an action with a node, you send an **ActionRequest**, and the node returns **ActionResults** capturing the progress and final outcomes of the result."
   ]
  },
  {
   "cell_type": "code",
   "execution_count": null,
   "metadata": {},
   "outputs": [
    {
     "data": {
      "text/html": [
       "<pre style=\"white-space:pre;overflow-x:auto;line-height:normal;font-family:Menlo,'DejaVu Sans Mono',consolas,'Courier New',monospace\"><span style=\"color: #008080; text-decoration-color: #008080; font-weight: bold\">2025</span>-<span style=\"color: #008080; text-decoration-color: #008080; font-weight: bold\">04</span>-<span style=\"color: #008080; text-decoration-color: #008080; font-weight: bold\">08</span> <span style=\"color: #00ff00; text-decoration-color: #00ff00; font-weight: bold\">10:34:34</span>.<span style=\"color: #008080; text-decoration-color: #008080; font-weight: bold\">506087</span> <span style=\"font-weight: bold\">(</span>EventType.LOG_INFO<span style=\"font-weight: bold\">)</span>: Connecting to robot <span style=\"color: #008080; text-decoration-color: #008080; font-weight: bold\">0</span><span style=\"color: #808000; text-decoration-color: #808000\">...</span>\n",
       "</pre>\n"
      ],
      "text/plain": [
       "\u001b[1;36m2025\u001b[0m-\u001b[1;36m04\u001b[0m-\u001b[1;36m08\u001b[0m \u001b[1;92m10:34:34\u001b[0m.\u001b[1;36m506087\u001b[0m \u001b[1m(\u001b[0mEventType.LOG_INFO\u001b[1m)\u001b[0m: Connecting to robot \u001b[1;36m0\u001b[0m\u001b[33m...\u001b[0m\n"
      ]
     },
     "metadata": {},
     "output_type": "display_data"
    },
    {
     "data": {
      "text/html": [
       "<pre style=\"white-space:pre;overflow-x:auto;line-height:normal;font-family:Menlo,'DejaVu Sans Mono',consolas,'Courier New',monospace\"><span style=\"color: #008080; text-decoration-color: #008080; font-weight: bold\">2025</span>-<span style=\"color: #008080; text-decoration-color: #008080; font-weight: bold\">04</span>-<span style=\"color: #008080; text-decoration-color: #008080; font-weight: bold\">08</span> <span style=\"color: #00ff00; text-decoration-color: #00ff00; font-weight: bold\">10:34:34</span>.<span style=\"color: #008080; text-decoration-color: #008080; font-weight: bold\">509575</span> <span style=\"font-weight: bold\">(</span>EventType.LOG_INFO<span style=\"font-weight: bold\">)</span>: Connected to robot <span style=\"color: #008080; text-decoration-color: #008080; font-weight: bold\">0</span>\n",
       "</pre>\n"
      ],
      "text/plain": [
       "\u001b[1;36m2025\u001b[0m-\u001b[1;36m04\u001b[0m-\u001b[1;36m08\u001b[0m \u001b[1;92m10:34:34\u001b[0m.\u001b[1;36m509575\u001b[0m \u001b[1m(\u001b[0mEventType.LOG_INFO\u001b[1m)\u001b[0m: Connected to robot \u001b[1;36m0\u001b[0m\n"
      ]
     },
     "metadata": {},
     "output_type": "display_data"
    },
    {
     "data": {
      "text/html": [
       "<pre style=\"white-space:pre;overflow-x:auto;line-height:normal;font-family:Menlo,'DejaVu Sans Mono',consolas,'Courier New',monospace\"><span style=\"color: #008080; text-decoration-color: #008080; font-weight: bold\">2025</span>-<span style=\"color: #008080; text-decoration-color: #008080; font-weight: bold\">04</span>-<span style=\"color: #008080; text-decoration-color: #008080; font-weight: bold\">08</span> <span style=\"color: #00ff00; text-decoration-color: #00ff00; font-weight: bold\">10:34:34</span>.<span style=\"color: #008080; text-decoration-color: #008080; font-weight: bold\">510816</span> <span style=\"font-weight: bold\">(</span>EventType.LOG_INFO<span style=\"font-weight: bold\">)</span>: Startup complete for node example_node.\n",
       "</pre>\n"
      ],
      "text/plain": [
       "\u001b[1;36m2025\u001b[0m-\u001b[1;36m04\u001b[0m-\u001b[1;36m08\u001b[0m \u001b[1;92m10:34:34\u001b[0m.\u001b[1;36m510816\u001b[0m \u001b[1m(\u001b[0mEventType.LOG_INFO\u001b[1m)\u001b[0m: Startup complete for node example_node.\n"
      ]
     },
     "metadata": {},
     "output_type": "display_data"
    },
    {
     "data": {
      "text/html": [
       "<pre style=\"white-space:pre;overflow-x:auto;line-height:normal;font-family:Menlo,'DejaVu Sans Mono',consolas,'Courier New',monospace\"><span style=\"color: #008080; text-decoration-color: #008080; font-weight: bold\">2025</span>-<span style=\"color: #008080; text-decoration-color: #008080; font-weight: bold\">04</span>-<span style=\"color: #008080; text-decoration-color: #008080; font-weight: bold\">08</span> <span style=\"color: #00ff00; text-decoration-color: #00ff00; font-weight: bold\">10:34:34</span>.<span style=\"color: #008080; text-decoration-color: #008080; font-weight: bold\">613131</span> <span style=\"font-weight: bold\">(</span>EventType.ACTION_STATUS_CHANGE<span style=\"font-weight: bold\">)</span>: <span style=\"color: #808000; text-decoration-color: #808000\">action_id</span>=<span style=\"color: #008000; text-decoration-color: #008000\">'01JRB0KYBMDDXGTHTR50EB4MNJ'</span> \n",
       "<span style=\"color: #808000; text-decoration-color: #808000\">status</span>=<span style=\"font-weight: bold\">&lt;</span><span style=\"color: #ff00ff; text-decoration-color: #ff00ff; font-weight: bold\">ActionStatus.NOT_STARTED:</span><span style=\"color: #000000; text-decoration-color: #000000\"> </span><span style=\"color: #008000; text-decoration-color: #008000\">'not_started'</span><span style=\"font-weight: bold\">&gt;</span> <span style=\"color: #808000; text-decoration-color: #808000\">errors</span>=<span style=\"font-weight: bold\">[]</span> <span style=\"color: #808000; text-decoration-color: #808000\">data</span>=<span style=\"font-weight: bold\">{}</span> <span style=\"color: #808000; text-decoration-color: #808000\">files</span>=<span style=\"font-weight: bold\">{}</span> <span style=\"color: #808000; text-decoration-color: #808000\">datapoints</span>=<span style=\"font-weight: bold\">{}</span> \n",
       "<span style=\"color: #808000; text-decoration-color: #808000\">history_created_at</span>=<span style=\"color: #800080; text-decoration-color: #800080; font-weight: bold\">datetime</span><span style=\"color: #800080; text-decoration-color: #800080; font-weight: bold\">.datetime</span><span style=\"font-weight: bold\">(</span><span style=\"color: #008080; text-decoration-color: #008080; font-weight: bold\">2025</span>, <span style=\"color: #008080; text-decoration-color: #008080; font-weight: bold\">4</span>, <span style=\"color: #008080; text-decoration-color: #008080; font-weight: bold\">8</span>, <span style=\"color: #008080; text-decoration-color: #008080; font-weight: bold\">10</span>, <span style=\"color: #008080; text-decoration-color: #008080; font-weight: bold\">34</span>, <span style=\"color: #008080; text-decoration-color: #008080; font-weight: bold\">34</span>, <span style=\"color: #008080; text-decoration-color: #008080; font-weight: bold\">613096</span>, \n",
       "<span style=\"color: #808000; text-decoration-color: #808000\">tzinfo</span>=<span style=\"color: #800080; text-decoration-color: #800080; font-weight: bold\">datetime</span><span style=\"color: #800080; text-decoration-color: #800080; font-weight: bold\">.timezone</span><span style=\"font-weight: bold\">(</span><span style=\"color: #800080; text-decoration-color: #800080; font-weight: bold\">datetime.timedelta</span><span style=\"font-weight: bold\">(</span><span style=\"color: #808000; text-decoration-color: #808000\">days</span>=<span style=\"color: #008080; text-decoration-color: #008080; font-weight: bold\">-1</span>, <span style=\"color: #808000; text-decoration-color: #808000\">seconds</span>=<span style=\"color: #008080; text-decoration-color: #008080; font-weight: bold\">68400</span><span style=\"font-weight: bold\">)</span>, <span style=\"color: #008000; text-decoration-color: #008000\">'CDT'</span><span style=\"font-weight: bold\">))</span>\n",
       "</pre>\n"
      ],
      "text/plain": [
       "\u001b[1;36m2025\u001b[0m-\u001b[1;36m04\u001b[0m-\u001b[1;36m08\u001b[0m \u001b[1;92m10:34:34\u001b[0m.\u001b[1;36m613131\u001b[0m \u001b[1m(\u001b[0mEventType.ACTION_STATUS_CHANGE\u001b[1m)\u001b[0m: \u001b[33maction_id\u001b[0m=\u001b[32m'01JRB0KYBMDDXGTHTR50EB4MNJ'\u001b[0m \n",
       "\u001b[33mstatus\u001b[0m=\u001b[1m<\u001b[0m\u001b[1;95mActionStatus.NOT_STARTED:\u001b[0m\u001b[39m \u001b[0m\u001b[32m'not_started'\u001b[0m\u001b[1m>\u001b[0m \u001b[33merrors\u001b[0m=\u001b[1m[\u001b[0m\u001b[1m]\u001b[0m \u001b[33mdata\u001b[0m=\u001b[1m{\u001b[0m\u001b[1m}\u001b[0m \u001b[33mfiles\u001b[0m=\u001b[1m{\u001b[0m\u001b[1m}\u001b[0m \u001b[33mdatapoints\u001b[0m=\u001b[1m{\u001b[0m\u001b[1m}\u001b[0m \n",
       "\u001b[33mhistory_created_at\u001b[0m=\u001b[1;35mdatetime\u001b[0m\u001b[1;35m.datetime\u001b[0m\u001b[1m(\u001b[0m\u001b[1;36m2025\u001b[0m, \u001b[1;36m4\u001b[0m, \u001b[1;36m8\u001b[0m, \u001b[1;36m10\u001b[0m, \u001b[1;36m34\u001b[0m, \u001b[1;36m34\u001b[0m, \u001b[1;36m613096\u001b[0m, \n",
       "\u001b[33mtzinfo\u001b[0m=\u001b[1;35mdatetime\u001b[0m\u001b[1;35m.timezone\u001b[0m\u001b[1m(\u001b[0m\u001b[1;35mdatetime.timedelta\u001b[0m\u001b[1m(\u001b[0m\u001b[33mdays\u001b[0m=\u001b[1;36m-1\u001b[0m, \u001b[33mseconds\u001b[0m=\u001b[1;36m68400\u001b[0m\u001b[1m)\u001b[0m, \u001b[32m'CDT'\u001b[0m\u001b[1m)\u001b[0m\u001b[1m)\u001b[0m\n"
      ]
     },
     "metadata": {},
     "output_type": "display_data"
    },
    {
     "data": {
      "text/html": [
       "<pre style=\"white-space:pre;overflow-x:auto;line-height:normal;font-family:Menlo,'DejaVu Sans Mono',consolas,'Courier New',monospace\"><span style=\"color: #008080; text-decoration-color: #008080; font-weight: bold\">2025</span>-<span style=\"color: #008080; text-decoration-color: #008080; font-weight: bold\">04</span>-<span style=\"color: #008080; text-decoration-color: #008080; font-weight: bold\">08</span> <span style=\"color: #00ff00; text-decoration-color: #00ff00; font-weight: bold\">10:34:34</span>.<span style=\"color: #008080; text-decoration-color: #008080; font-weight: bold\">615075</span> <span style=\"font-weight: bold\">(</span>EventType.ACTION_STATUS_CHANGE<span style=\"font-weight: bold\">)</span>: <span style=\"color: #808000; text-decoration-color: #808000\">action_id</span>=<span style=\"color: #008000; text-decoration-color: #008000\">'01JRB0KYBMDDXGTHTR50EB4MNJ'</span> \n",
       "<span style=\"color: #808000; text-decoration-color: #808000\">status</span>=<span style=\"font-weight: bold\">&lt;</span><span style=\"color: #ff00ff; text-decoration-color: #ff00ff; font-weight: bold\">ActionStatus.RUNNING:</span><span style=\"color: #000000; text-decoration-color: #000000\"> </span><span style=\"color: #008000; text-decoration-color: #008000\">'running'</span><span style=\"font-weight: bold\">&gt;</span> <span style=\"color: #808000; text-decoration-color: #808000\">errors</span>=<span style=\"font-weight: bold\">[]</span> <span style=\"color: #808000; text-decoration-color: #808000\">data</span>=<span style=\"font-weight: bold\">{}</span> <span style=\"color: #808000; text-decoration-color: #808000\">files</span>=<span style=\"font-weight: bold\">{}</span> <span style=\"color: #808000; text-decoration-color: #808000\">datapoints</span>=<span style=\"font-weight: bold\">{}</span> \n",
       "<span style=\"color: #808000; text-decoration-color: #808000\">history_created_at</span>=<span style=\"color: #800080; text-decoration-color: #800080; font-weight: bold\">datetime</span><span style=\"color: #800080; text-decoration-color: #800080; font-weight: bold\">.datetime</span><span style=\"font-weight: bold\">(</span><span style=\"color: #008080; text-decoration-color: #008080; font-weight: bold\">2025</span>, <span style=\"color: #008080; text-decoration-color: #008080; font-weight: bold\">4</span>, <span style=\"color: #008080; text-decoration-color: #008080; font-weight: bold\">8</span>, <span style=\"color: #008080; text-decoration-color: #008080; font-weight: bold\">10</span>, <span style=\"color: #008080; text-decoration-color: #008080; font-weight: bold\">34</span>, <span style=\"color: #008080; text-decoration-color: #008080; font-weight: bold\">34</span>, <span style=\"color: #008080; text-decoration-color: #008080; font-weight: bold\">615043</span>, \n",
       "<span style=\"color: #808000; text-decoration-color: #808000\">tzinfo</span>=<span style=\"color: #800080; text-decoration-color: #800080; font-weight: bold\">datetime</span><span style=\"color: #800080; text-decoration-color: #800080; font-weight: bold\">.timezone</span><span style=\"font-weight: bold\">(</span><span style=\"color: #800080; text-decoration-color: #800080; font-weight: bold\">datetime.timedelta</span><span style=\"font-weight: bold\">(</span><span style=\"color: #808000; text-decoration-color: #808000\">days</span>=<span style=\"color: #008080; text-decoration-color: #008080; font-weight: bold\">-1</span>, <span style=\"color: #808000; text-decoration-color: #808000\">seconds</span>=<span style=\"color: #008080; text-decoration-color: #008080; font-weight: bold\">68400</span><span style=\"font-weight: bold\">)</span>, <span style=\"color: #008000; text-decoration-color: #008000\">'CDT'</span><span style=\"font-weight: bold\">))</span>\n",
       "</pre>\n"
      ],
      "text/plain": [
       "\u001b[1;36m2025\u001b[0m-\u001b[1;36m04\u001b[0m-\u001b[1;36m08\u001b[0m \u001b[1;92m10:34:34\u001b[0m.\u001b[1;36m615075\u001b[0m \u001b[1m(\u001b[0mEventType.ACTION_STATUS_CHANGE\u001b[1m)\u001b[0m: \u001b[33maction_id\u001b[0m=\u001b[32m'01JRB0KYBMDDXGTHTR50EB4MNJ'\u001b[0m \n",
       "\u001b[33mstatus\u001b[0m=\u001b[1m<\u001b[0m\u001b[1;95mActionStatus.RUNNING:\u001b[0m\u001b[39m \u001b[0m\u001b[32m'running'\u001b[0m\u001b[1m>\u001b[0m \u001b[33merrors\u001b[0m=\u001b[1m[\u001b[0m\u001b[1m]\u001b[0m \u001b[33mdata\u001b[0m=\u001b[1m{\u001b[0m\u001b[1m}\u001b[0m \u001b[33mfiles\u001b[0m=\u001b[1m{\u001b[0m\u001b[1m}\u001b[0m \u001b[33mdatapoints\u001b[0m=\u001b[1m{\u001b[0m\u001b[1m}\u001b[0m \n",
       "\u001b[33mhistory_created_at\u001b[0m=\u001b[1;35mdatetime\u001b[0m\u001b[1;35m.datetime\u001b[0m\u001b[1m(\u001b[0m\u001b[1;36m2025\u001b[0m, \u001b[1;36m4\u001b[0m, \u001b[1;36m8\u001b[0m, \u001b[1;36m10\u001b[0m, \u001b[1;36m34\u001b[0m, \u001b[1;36m34\u001b[0m, \u001b[1;36m615043\u001b[0m, \n",
       "\u001b[33mtzinfo\u001b[0m=\u001b[1;35mdatetime\u001b[0m\u001b[1;35m.timezone\u001b[0m\u001b[1m(\u001b[0m\u001b[1;35mdatetime.timedelta\u001b[0m\u001b[1m(\u001b[0m\u001b[33mdays\u001b[0m=\u001b[1;36m-1\u001b[0m, \u001b[33mseconds\u001b[0m=\u001b[1;36m68400\u001b[0m\u001b[1m)\u001b[0m, \u001b[32m'CDT'\u001b[0m\u001b[1m)\u001b[0m\u001b[1m)\u001b[0m\n"
      ]
     },
     "metadata": {},
     "output_type": "display_data"
    },
    {
     "data": {
      "text/html": [
       "<pre style=\"white-space:pre;overflow-x:auto;line-height:normal;font-family:Menlo,'DejaVu Sans Mono',consolas,'Courier New',monospace\"><span style=\"color: #008080; text-decoration-color: #008080; font-weight: bold\">2025</span>-<span style=\"color: #008080; text-decoration-color: #008080; font-weight: bold\">04</span>-<span style=\"color: #008080; text-decoration-color: #008080; font-weight: bold\">08</span> <span style=\"color: #00ff00; text-decoration-color: #00ff00; font-weight: bold\">10:34:39</span>.<span style=\"color: #008080; text-decoration-color: #008080; font-weight: bold\">621911</span> <span style=\"font-weight: bold\">(</span>EventType.LOG_INFO<span style=\"font-weight: bold\">)</span>: Moved robot to joint angles: <span style=\"font-weight: bold\">[</span><span style=\"color: #008080; text-decoration-color: #008080; font-weight: bold\">0.5</span>, <span style=\"color: #008080; text-decoration-color: #008080; font-weight: bold\">0.5</span>, <span style=\"color: #008080; text-decoration-color: #008080; font-weight: bold\">0.5</span>, <span style=\"color: #008080; text-decoration-color: #008080; font-weight: bold\">0.5</span><span style=\"font-weight: bold\">]</span>\n",
       "</pre>\n"
      ],
      "text/plain": [
       "\u001b[1;36m2025\u001b[0m-\u001b[1;36m04\u001b[0m-\u001b[1;36m08\u001b[0m \u001b[1;92m10:34:39\u001b[0m.\u001b[1;36m621911\u001b[0m \u001b[1m(\u001b[0mEventType.LOG_INFO\u001b[1m)\u001b[0m: Moved robot to joint angles: \u001b[1m[\u001b[0m\u001b[1;36m0.5\u001b[0m, \u001b[1;36m0.5\u001b[0m, \u001b[1;36m0.5\u001b[0m, \u001b[1;36m0.5\u001b[0m\u001b[1m]\u001b[0m\n"
      ]
     },
     "metadata": {},
     "output_type": "display_data"
    },
    {
     "data": {
      "text/html": [
       "<pre style=\"white-space:pre;overflow-x:auto;line-height:normal;font-family:Menlo,'DejaVu Sans Mono',consolas,'Courier New',monospace\"><span style=\"color: #008080; text-decoration-color: #008080; font-weight: bold\">2025</span>-<span style=\"color: #008080; text-decoration-color: #008080; font-weight: bold\">04</span>-<span style=\"color: #008080; text-decoration-color: #008080; font-weight: bold\">08</span> <span style=\"color: #00ff00; text-decoration-color: #00ff00; font-weight: bold\">10:34:39</span>.<span style=\"color: #008080; text-decoration-color: #008080; font-weight: bold\">627387</span> <span style=\"font-weight: bold\">(</span>EventType.ACTION_STATUS_CHANGE<span style=\"font-weight: bold\">)</span>: <span style=\"color: #808000; text-decoration-color: #808000\">action_id</span>=<span style=\"color: #008000; text-decoration-color: #008000\">'01JRB0KYBMDDXGTHTR50EB4MNJ'</span> \n",
       "<span style=\"color: #808000; text-decoration-color: #808000\">status</span>=<span style=\"font-weight: bold\">&lt;</span><span style=\"color: #ff00ff; text-decoration-color: #ff00ff; font-weight: bold\">ActionStatus.SUCCEEDED:</span><span style=\"color: #000000; text-decoration-color: #000000\"> </span><span style=\"color: #008000; text-decoration-color: #008000\">'succeeded'</span><span style=\"font-weight: bold\">&gt;</span> <span style=\"color: #808000; text-decoration-color: #808000\">errors</span>=<span style=\"font-weight: bold\">[]</span> <span style=\"color: #808000; text-decoration-color: #808000\">data</span>=<span style=\"font-weight: bold\">{}</span> <span style=\"color: #808000; text-decoration-color: #808000\">files</span>=<span style=\"font-weight: bold\">{}</span> <span style=\"color: #808000; text-decoration-color: #808000\">datapoints</span>=<span style=\"font-weight: bold\">{}</span> \n",
       "<span style=\"color: #808000; text-decoration-color: #808000\">history_created_at</span>=<span style=\"color: #800080; text-decoration-color: #800080; font-weight: bold\">datetime</span><span style=\"color: #800080; text-decoration-color: #800080; font-weight: bold\">.datetime</span><span style=\"font-weight: bold\">(</span><span style=\"color: #008080; text-decoration-color: #008080; font-weight: bold\">2025</span>, <span style=\"color: #008080; text-decoration-color: #008080; font-weight: bold\">4</span>, <span style=\"color: #008080; text-decoration-color: #008080; font-weight: bold\">8</span>, <span style=\"color: #008080; text-decoration-color: #008080; font-weight: bold\">10</span>, <span style=\"color: #008080; text-decoration-color: #008080; font-weight: bold\">34</span>, <span style=\"color: #008080; text-decoration-color: #008080; font-weight: bold\">39</span>, <span style=\"color: #008080; text-decoration-color: #008080; font-weight: bold\">627221</span>, \n",
       "<span style=\"color: #808000; text-decoration-color: #808000\">tzinfo</span>=<span style=\"color: #800080; text-decoration-color: #800080; font-weight: bold\">datetime</span><span style=\"color: #800080; text-decoration-color: #800080; font-weight: bold\">.timezone</span><span style=\"font-weight: bold\">(</span><span style=\"color: #800080; text-decoration-color: #800080; font-weight: bold\">datetime.timedelta</span><span style=\"font-weight: bold\">(</span><span style=\"color: #808000; text-decoration-color: #808000\">days</span>=<span style=\"color: #008080; text-decoration-color: #008080; font-weight: bold\">-1</span>, <span style=\"color: #808000; text-decoration-color: #808000\">seconds</span>=<span style=\"color: #008080; text-decoration-color: #008080; font-weight: bold\">68400</span><span style=\"font-weight: bold\">)</span>, <span style=\"color: #008000; text-decoration-color: #008000\">'CDT'</span><span style=\"font-weight: bold\">))</span>\n",
       "</pre>\n"
      ],
      "text/plain": [
       "\u001b[1;36m2025\u001b[0m-\u001b[1;36m04\u001b[0m-\u001b[1;36m08\u001b[0m \u001b[1;92m10:34:39\u001b[0m.\u001b[1;36m627387\u001b[0m \u001b[1m(\u001b[0mEventType.ACTION_STATUS_CHANGE\u001b[1m)\u001b[0m: \u001b[33maction_id\u001b[0m=\u001b[32m'01JRB0KYBMDDXGTHTR50EB4MNJ'\u001b[0m \n",
       "\u001b[33mstatus\u001b[0m=\u001b[1m<\u001b[0m\u001b[1;95mActionStatus.SUCCEEDED:\u001b[0m\u001b[39m \u001b[0m\u001b[32m'succeeded'\u001b[0m\u001b[1m>\u001b[0m \u001b[33merrors\u001b[0m=\u001b[1m[\u001b[0m\u001b[1m]\u001b[0m \u001b[33mdata\u001b[0m=\u001b[1m{\u001b[0m\u001b[1m}\u001b[0m \u001b[33mfiles\u001b[0m=\u001b[1m{\u001b[0m\u001b[1m}\u001b[0m \u001b[33mdatapoints\u001b[0m=\u001b[1m{\u001b[0m\u001b[1m}\u001b[0m \n",
       "\u001b[33mhistory_created_at\u001b[0m=\u001b[1;35mdatetime\u001b[0m\u001b[1;35m.datetime\u001b[0m\u001b[1m(\u001b[0m\u001b[1;36m2025\u001b[0m, \u001b[1;36m4\u001b[0m, \u001b[1;36m8\u001b[0m, \u001b[1;36m10\u001b[0m, \u001b[1;36m34\u001b[0m, \u001b[1;36m39\u001b[0m, \u001b[1;36m627221\u001b[0m, \n",
       "\u001b[33mtzinfo\u001b[0m=\u001b[1;35mdatetime\u001b[0m\u001b[1;35m.timezone\u001b[0m\u001b[1m(\u001b[0m\u001b[1;35mdatetime.timedelta\u001b[0m\u001b[1m(\u001b[0m\u001b[33mdays\u001b[0m=\u001b[1;36m-1\u001b[0m, \u001b[33mseconds\u001b[0m=\u001b[1;36m68400\u001b[0m\u001b[1m)\u001b[0m, \u001b[32m'CDT'\u001b[0m\u001b[1m)\u001b[0m\u001b[1m)\u001b[0m\n"
      ]
     },
     "metadata": {},
     "output_type": "display_data"
    },
    {
     "data": {
      "text/html": [
       "<pre style=\"white-space:pre;overflow-x:auto;line-height:normal;font-family:Menlo,'DejaVu Sans Mono',consolas,'Courier New',monospace\"><span style=\"color: #800080; text-decoration-color: #800080; font-weight: bold\">ActionResult</span><span style=\"font-weight: bold\">(</span>\n",
       "    <span style=\"color: #808000; text-decoration-color: #808000\">action_id</span>=<span style=\"color: #008000; text-decoration-color: #008000\">'01JRB0KYBMDDXGTHTR50EB4MNJ'</span>,\n",
       "    <span style=\"color: #808000; text-decoration-color: #808000\">status</span>=<span style=\"font-weight: bold\">&lt;</span><span style=\"color: #ff00ff; text-decoration-color: #ff00ff; font-weight: bold\">ActionStatus.SUCCEEDED:</span><span style=\"color: #000000; text-decoration-color: #000000\"> </span><span style=\"color: #008000; text-decoration-color: #008000\">'succeeded'</span><span style=\"font-weight: bold\">&gt;</span>,\n",
       "    <span style=\"color: #808000; text-decoration-color: #808000\">errors</span>=<span style=\"font-weight: bold\">[]</span>,\n",
       "    <span style=\"color: #808000; text-decoration-color: #808000\">data</span>=<span style=\"font-weight: bold\">{}</span>,\n",
       "    <span style=\"color: #808000; text-decoration-color: #808000\">files</span>=<span style=\"font-weight: bold\">{}</span>,\n",
       "    <span style=\"color: #808000; text-decoration-color: #808000\">datapoints</span>=<span style=\"font-weight: bold\">{}</span>,\n",
       "    <span style=\"color: #808000; text-decoration-color: #808000\">history_created_at</span>=<span style=\"color: #800080; text-decoration-color: #800080; font-weight: bold\">datetime</span><span style=\"color: #800080; text-decoration-color: #800080; font-weight: bold\">.datetime</span><span style=\"font-weight: bold\">(</span><span style=\"color: #008080; text-decoration-color: #008080; font-weight: bold\">2025</span>, <span style=\"color: #008080; text-decoration-color: #008080; font-weight: bold\">4</span>, <span style=\"color: #008080; text-decoration-color: #008080; font-weight: bold\">8</span>, <span style=\"color: #008080; text-decoration-color: #008080; font-weight: bold\">10</span>, <span style=\"color: #008080; text-decoration-color: #008080; font-weight: bold\">34</span>, <span style=\"color: #008080; text-decoration-color: #008080; font-weight: bold\">39</span>, <span style=\"color: #008080; text-decoration-color: #008080; font-weight: bold\">627221</span>, <span style=\"color: #808000; text-decoration-color: #808000\">tzinfo</span>=<span style=\"color: #800080; text-decoration-color: #800080; font-weight: bold\">TzInfo</span><span style=\"font-weight: bold\">(</span><span style=\"color: #008080; text-decoration-color: #008080; font-weight: bold\">-05</span>:<span style=\"color: #008080; text-decoration-color: #008080; font-weight: bold\">00</span><span style=\"font-weight: bold\">))</span>\n",
       "<span style=\"font-weight: bold\">)</span>\n",
       "</pre>\n"
      ],
      "text/plain": [
       "\u001b[1;35mActionResult\u001b[0m\u001b[1m(\u001b[0m\n",
       "    \u001b[33maction_id\u001b[0m=\u001b[32m'01JRB0KYBMDDXGTHTR50EB4MNJ'\u001b[0m,\n",
       "    \u001b[33mstatus\u001b[0m=\u001b[1m<\u001b[0m\u001b[1;95mActionStatus.SUCCEEDED:\u001b[0m\u001b[39m \u001b[0m\u001b[32m'succeeded'\u001b[0m\u001b[1m>\u001b[0m,\n",
       "    \u001b[33merrors\u001b[0m=\u001b[1m[\u001b[0m\u001b[1m]\u001b[0m,\n",
       "    \u001b[33mdata\u001b[0m=\u001b[1m{\u001b[0m\u001b[1m}\u001b[0m,\n",
       "    \u001b[33mfiles\u001b[0m=\u001b[1m{\u001b[0m\u001b[1m}\u001b[0m,\n",
       "    \u001b[33mdatapoints\u001b[0m=\u001b[1m{\u001b[0m\u001b[1m}\u001b[0m,\n",
       "    \u001b[33mhistory_created_at\u001b[0m=\u001b[1;35mdatetime\u001b[0m\u001b[1;35m.datetime\u001b[0m\u001b[1m(\u001b[0m\u001b[1;36m2025\u001b[0m, \u001b[1;36m4\u001b[0m, \u001b[1;36m8\u001b[0m, \u001b[1;36m10\u001b[0m, \u001b[1;36m34\u001b[0m, \u001b[1;36m39\u001b[0m, \u001b[1;36m627221\u001b[0m, \u001b[33mtzinfo\u001b[0m=\u001b[1;35mTzInfo\u001b[0m\u001b[1m(\u001b[0m\u001b[1;36m-05\u001b[0m:\u001b[1;36m00\u001b[0m\u001b[1m)\u001b[0m\u001b[1m)\u001b[0m\n",
       "\u001b[1m)\u001b[0m\n"
      ]
     },
     "metadata": {},
     "output_type": "display_data"
    },
    {
     "data": {
      "text/html": [
       "<pre style=\"white-space:pre;overflow-x:auto;line-height:normal;font-family:Menlo,'DejaVu Sans Mono',consolas,'Courier New',monospace\"><span style=\"font-weight: bold\">{</span><span style=\"color: #008000; text-decoration-color: #008000\">'joint_angles'</span>: <span style=\"font-weight: bold\">[</span><span style=\"color: #008080; text-decoration-color: #008080; font-weight: bold\">0.5</span>, <span style=\"color: #008080; text-decoration-color: #008080; font-weight: bold\">0.5</span>, <span style=\"color: #008080; text-decoration-color: #008080; font-weight: bold\">0.5</span>, <span style=\"color: #008080; text-decoration-color: #008080; font-weight: bold\">0.5</span><span style=\"font-weight: bold\">]}</span>\n",
       "</pre>\n"
      ],
      "text/plain": [
       "\u001b[1m{\u001b[0m\u001b[32m'joint_angles'\u001b[0m: \u001b[1m[\u001b[0m\u001b[1;36m0.5\u001b[0m, \u001b[1;36m0.5\u001b[0m, \u001b[1;36m0.5\u001b[0m, \u001b[1;36m0.5\u001b[0m\u001b[1m]\u001b[0m\u001b[1m}\u001b[0m\n"
      ]
     },
     "metadata": {},
     "output_type": "display_data"
    },
    {
     "data": {
      "text/html": [
       "<pre style=\"white-space:pre;overflow-x:auto;line-height:normal;font-family:Menlo,'DejaVu Sans Mono',consolas,'Courier New',monospace\"><span style=\"color: #008080; text-decoration-color: #008080; font-weight: bold\">2025</span>-<span style=\"color: #008080; text-decoration-color: #008080; font-weight: bold\">04</span>-<span style=\"color: #008080; text-decoration-color: #008080; font-weight: bold\">08</span> <span style=\"color: #00ff00; text-decoration-color: #00ff00; font-weight: bold\">10:34:41</span>.<span style=\"color: #008080; text-decoration-color: #008080; font-weight: bold\">858352</span> <span style=\"font-weight: bold\">(</span>EventType.LOG_INFO<span style=\"font-weight: bold\">)</span>: Disconnecting from robot <span style=\"color: #008080; text-decoration-color: #008080; font-weight: bold\">0</span><span style=\"color: #808000; text-decoration-color: #808000\">...</span>\n",
       "</pre>\n"
      ],
      "text/plain": [
       "\u001b[1;36m2025\u001b[0m-\u001b[1;36m04\u001b[0m-\u001b[1;36m08\u001b[0m \u001b[1;92m10:34:41\u001b[0m.\u001b[1;36m858352\u001b[0m \u001b[1m(\u001b[0mEventType.LOG_INFO\u001b[1m)\u001b[0m: Disconnecting from robot \u001b[1;36m0\u001b[0m\u001b[33m...\u001b[0m\n"
      ]
     },
     "metadata": {},
     "output_type": "display_data"
    },
    {
     "data": {
      "text/html": [
       "<pre style=\"white-space:pre;overflow-x:auto;line-height:normal;font-family:Menlo,'DejaVu Sans Mono',consolas,'Courier New',monospace\"><span style=\"color: #008080; text-decoration-color: #008080; font-weight: bold\">2025</span>-<span style=\"color: #008080; text-decoration-color: #008080; font-weight: bold\">04</span>-<span style=\"color: #008080; text-decoration-color: #008080; font-weight: bold\">08</span> <span style=\"color: #00ff00; text-decoration-color: #00ff00; font-weight: bold\">10:34:41</span>.<span style=\"color: #008080; text-decoration-color: #008080; font-weight: bold\">859622</span> <span style=\"font-weight: bold\">(</span>EventType.LOG_INFO<span style=\"font-weight: bold\">)</span>: Disconnected from robot <span style=\"color: #008080; text-decoration-color: #008080; font-weight: bold\">0</span>\n",
       "</pre>\n"
      ],
      "text/plain": [
       "\u001b[1;36m2025\u001b[0m-\u001b[1;36m04\u001b[0m-\u001b[1;36m08\u001b[0m \u001b[1;92m10:34:41\u001b[0m.\u001b[1;36m859622\u001b[0m \u001b[1m(\u001b[0mEventType.LOG_INFO\u001b[1m)\u001b[0m: Disconnected from robot \u001b[1;36m0\u001b[0m\n"
      ]
     },
     "metadata": {},
     "output_type": "display_data"
    }
   ],
   "source": [
    "from madsci.node_module.helpers import action\n",
    "from madsci.common.types.action_types import ActionResult, ActionSucceeded, ActionRequest, ActionFailed\n",
    "from madsci.common.types.node_types import NodeStatus\n",
    "\n",
    "class ExampleNodeWithAction(ExampleNodeWithUpdates):\n",
    "    \"\"\"Define an example robot node with an action.\"\"\"\n",
    "\n",
    "    node_status = NodeStatus()\n",
    "\n",
    "    @action(name=\"move_joints\", description=\"Move the robot to the specified joint angles\")\n",
    "    def move_joints(self, joint_angles: list[float]) -> ActionResult:\n",
    "        \"\"\"\n",
    "        An example action: moving the robot to a set of joint angles.\n",
    "        \"\"\"\n",
    "        if self.robot_interface is None:\n",
    "            self.logger.log_error(\"Robot interface not initialized\")\n",
    "            return ActionFailed(errors=\"Robot interface not initialized\")\n",
    "        if self.robot_interface.is_moving:\n",
    "            self.logger.log_error(\"Robot is already moving\")\n",
    "            return ActionFailed(errors=\"Robot is already moving\")\n",
    "        if len(joint_angles) != 4:\n",
    "            self.logger.log_error(\"Invalid number of joint angles. Expected 4.\")\n",
    "            return ActionFailed(errors=\"Invalid number of joint angles. Expected 4.\")\n",
    "        self.robot_interface.move_to_joint_angles(joint_angles)\n",
    "        self.logger.log_info(f\"Moved robot to joint angles: {joint_angles}\")\n",
    "        return ActionSucceeded()\n",
    "\n",
    "example_node = ExampleNodeWithAction(node_definition=node_definition)\n",
    "example_node.start_node(testing=True)\n",
    "\n",
    "with node_client(example_node, RestNodeClient(url=\"http://localhost:2000\")) as client:\n",
    "    while not client.get_status().ready:\n",
    "        # Wait for the node to be ready\n",
    "        time.sleep(0.1)\n",
    "    request = ActionRequest(\n",
    "        action_name=\"move_joints\",\n",
    "        args={\"joint_angles\": [0.5, 0.5, 0.5, 0.5]},\n",
    "    )\n",
    "    # Send the action request to the node\n",
    "    print(client.send_action(request))\n",
    "    time.sleep(2)\n",
    "    print(client.get_state())"
   ]
  },
  {
   "cell_type": "markdown",
   "metadata": {
    "polyglot_notebook": {
     "kernelName": "mermaid"
    }
   },
   "source": [
    "### Lifecycle of an Action\n",
    "\n",
    "<img src=\"./assets/mermaid/ActionStatusFlow.svg\" width=1000 alt=\"Action Status State Diagram\"></img>"
   ]
  },
  {
   "cell_type": "code",
   "execution_count": 12,
   "metadata": {},
   "outputs": [
    {
     "data": {
      "text/html": [
       "<pre style=\"white-space:pre;overflow-x:auto;line-height:normal;font-family:Menlo,'DejaVu Sans Mono',consolas,'Courier New',monospace\"><span style=\"color: #008080; text-decoration-color: #008080; font-weight: bold\">2025</span>-<span style=\"color: #008080; text-decoration-color: #008080; font-weight: bold\">04</span>-<span style=\"color: #008080; text-decoration-color: #008080; font-weight: bold\">08</span> <span style=\"color: #00ff00; text-decoration-color: #00ff00; font-weight: bold\">10:32:29</span>.<span style=\"color: #008080; text-decoration-color: #008080; font-weight: bold\">790221</span> <span style=\"font-weight: bold\">(</span>EventType.LOG_INFO<span style=\"font-weight: bold\">)</span>: Connecting to robot <span style=\"color: #008080; text-decoration-color: #008080; font-weight: bold\">0</span><span style=\"color: #808000; text-decoration-color: #808000\">...</span>\n",
       "</pre>\n"
      ],
      "text/plain": [
       "\u001b[1;36m2025\u001b[0m-\u001b[1;36m04\u001b[0m-\u001b[1;36m08\u001b[0m \u001b[1;92m10:32:29\u001b[0m.\u001b[1;36m790221\u001b[0m \u001b[1m(\u001b[0mEventType.LOG_INFO\u001b[1m)\u001b[0m: Connecting to robot \u001b[1;36m0\u001b[0m\u001b[33m...\u001b[0m\n"
      ]
     },
     "metadata": {},
     "output_type": "display_data"
    },
    {
     "data": {
      "text/html": [
       "<pre style=\"white-space:pre;overflow-x:auto;line-height:normal;font-family:Menlo,'DejaVu Sans Mono',consolas,'Courier New',monospace\"><span style=\"color: #008080; text-decoration-color: #008080; font-weight: bold\">2025</span>-<span style=\"color: #008080; text-decoration-color: #008080; font-weight: bold\">04</span>-<span style=\"color: #008080; text-decoration-color: #008080; font-weight: bold\">08</span> <span style=\"color: #00ff00; text-decoration-color: #00ff00; font-weight: bold\">10:32:29</span>.<span style=\"color: #008080; text-decoration-color: #008080; font-weight: bold\">794206</span> <span style=\"font-weight: bold\">(</span>EventType.LOG_INFO<span style=\"font-weight: bold\">)</span>: Connected to robot <span style=\"color: #008080; text-decoration-color: #008080; font-weight: bold\">0</span>\n",
       "</pre>\n"
      ],
      "text/plain": [
       "\u001b[1;36m2025\u001b[0m-\u001b[1;36m04\u001b[0m-\u001b[1;36m08\u001b[0m \u001b[1;92m10:32:29\u001b[0m.\u001b[1;36m794206\u001b[0m \u001b[1m(\u001b[0mEventType.LOG_INFO\u001b[1m)\u001b[0m: Connected to robot \u001b[1;36m0\u001b[0m\n"
      ]
     },
     "metadata": {},
     "output_type": "display_data"
    },
    {
     "data": {
      "text/html": [
       "<pre style=\"white-space:pre;overflow-x:auto;line-height:normal;font-family:Menlo,'DejaVu Sans Mono',consolas,'Courier New',monospace\"><span style=\"color: #008080; text-decoration-color: #008080; font-weight: bold\">2025</span>-<span style=\"color: #008080; text-decoration-color: #008080; font-weight: bold\">04</span>-<span style=\"color: #008080; text-decoration-color: #008080; font-weight: bold\">08</span> <span style=\"color: #00ff00; text-decoration-color: #00ff00; font-weight: bold\">10:32:29</span>.<span style=\"color: #008080; text-decoration-color: #008080; font-weight: bold\">808809</span> <span style=\"font-weight: bold\">(</span>EventType.LOG_INFO<span style=\"font-weight: bold\">)</span>: Startup complete for node example_node.\n",
       "</pre>\n"
      ],
      "text/plain": [
       "\u001b[1;36m2025\u001b[0m-\u001b[1;36m04\u001b[0m-\u001b[1;36m08\u001b[0m \u001b[1;92m10:32:29\u001b[0m.\u001b[1;36m808809\u001b[0m \u001b[1m(\u001b[0mEventType.LOG_INFO\u001b[1m)\u001b[0m: Startup complete for node example_node.\n"
      ]
     },
     "metadata": {},
     "output_type": "display_data"
    },
    {
     "data": {
      "text/html": [
       "<pre style=\"white-space:pre;overflow-x:auto;line-height:normal;font-family:Menlo,'DejaVu Sans Mono',consolas,'Courier New',monospace\"><span style=\"color: #008080; text-decoration-color: #008080; font-weight: bold\">2025</span>-<span style=\"color: #008080; text-decoration-color: #008080; font-weight: bold\">04</span>-<span style=\"color: #008080; text-decoration-color: #008080; font-weight: bold\">08</span> <span style=\"color: #00ff00; text-decoration-color: #00ff00; font-weight: bold\">10:32:29</span>.<span style=\"color: #008080; text-decoration-color: #008080; font-weight: bold\">914507</span> <span style=\"font-weight: bold\">(</span>EventType.ACTION_STATUS_CHANGE<span style=\"font-weight: bold\">)</span>: <span style=\"color: #808000; text-decoration-color: #808000\">action_id</span>=<span style=\"color: #008000; text-decoration-color: #008000\">'01JRB0G4JSZW2HSBJP6TREC0CG'</span> \n",
       "<span style=\"color: #808000; text-decoration-color: #808000\">status</span>=<span style=\"font-weight: bold\">&lt;</span><span style=\"color: #ff00ff; text-decoration-color: #ff00ff; font-weight: bold\">ActionStatus.NOT_STARTED:</span><span style=\"color: #000000; text-decoration-color: #000000\"> </span><span style=\"color: #008000; text-decoration-color: #008000\">'not_started'</span><span style=\"font-weight: bold\">&gt;</span> <span style=\"color: #808000; text-decoration-color: #808000\">errors</span>=<span style=\"font-weight: bold\">[]</span> <span style=\"color: #808000; text-decoration-color: #808000\">data</span>=<span style=\"font-weight: bold\">{}</span> <span style=\"color: #808000; text-decoration-color: #808000\">files</span>=<span style=\"font-weight: bold\">{}</span> <span style=\"color: #808000; text-decoration-color: #808000\">datapoints</span>=<span style=\"font-weight: bold\">{}</span> \n",
       "<span style=\"color: #808000; text-decoration-color: #808000\">history_created_at</span>=<span style=\"color: #800080; text-decoration-color: #800080; font-weight: bold\">datetime</span><span style=\"color: #800080; text-decoration-color: #800080; font-weight: bold\">.datetime</span><span style=\"font-weight: bold\">(</span><span style=\"color: #008080; text-decoration-color: #008080; font-weight: bold\">2025</span>, <span style=\"color: #008080; text-decoration-color: #008080; font-weight: bold\">4</span>, <span style=\"color: #008080; text-decoration-color: #008080; font-weight: bold\">8</span>, <span style=\"color: #008080; text-decoration-color: #008080; font-weight: bold\">10</span>, <span style=\"color: #008080; text-decoration-color: #008080; font-weight: bold\">32</span>, <span style=\"color: #008080; text-decoration-color: #008080; font-weight: bold\">29</span>, <span style=\"color: #008080; text-decoration-color: #008080; font-weight: bold\">914469</span>, \n",
       "<span style=\"color: #808000; text-decoration-color: #808000\">tzinfo</span>=<span style=\"color: #800080; text-decoration-color: #800080; font-weight: bold\">datetime</span><span style=\"color: #800080; text-decoration-color: #800080; font-weight: bold\">.timezone</span><span style=\"font-weight: bold\">(</span><span style=\"color: #800080; text-decoration-color: #800080; font-weight: bold\">datetime.timedelta</span><span style=\"font-weight: bold\">(</span><span style=\"color: #808000; text-decoration-color: #808000\">days</span>=<span style=\"color: #008080; text-decoration-color: #008080; font-weight: bold\">-1</span>, <span style=\"color: #808000; text-decoration-color: #808000\">seconds</span>=<span style=\"color: #008080; text-decoration-color: #008080; font-weight: bold\">68400</span><span style=\"font-weight: bold\">)</span>, <span style=\"color: #008000; text-decoration-color: #008000\">'CDT'</span><span style=\"font-weight: bold\">))</span>\n",
       "</pre>\n"
      ],
      "text/plain": [
       "\u001b[1;36m2025\u001b[0m-\u001b[1;36m04\u001b[0m-\u001b[1;36m08\u001b[0m \u001b[1;92m10:32:29\u001b[0m.\u001b[1;36m914507\u001b[0m \u001b[1m(\u001b[0mEventType.ACTION_STATUS_CHANGE\u001b[1m)\u001b[0m: \u001b[33maction_id\u001b[0m=\u001b[32m'01JRB0G4JSZW2HSBJP6TREC0CG'\u001b[0m \n",
       "\u001b[33mstatus\u001b[0m=\u001b[1m<\u001b[0m\u001b[1;95mActionStatus.NOT_STARTED:\u001b[0m\u001b[39m \u001b[0m\u001b[32m'not_started'\u001b[0m\u001b[1m>\u001b[0m \u001b[33merrors\u001b[0m=\u001b[1m[\u001b[0m\u001b[1m]\u001b[0m \u001b[33mdata\u001b[0m=\u001b[1m{\u001b[0m\u001b[1m}\u001b[0m \u001b[33mfiles\u001b[0m=\u001b[1m{\u001b[0m\u001b[1m}\u001b[0m \u001b[33mdatapoints\u001b[0m=\u001b[1m{\u001b[0m\u001b[1m}\u001b[0m \n",
       "\u001b[33mhistory_created_at\u001b[0m=\u001b[1;35mdatetime\u001b[0m\u001b[1;35m.datetime\u001b[0m\u001b[1m(\u001b[0m\u001b[1;36m2025\u001b[0m, \u001b[1;36m4\u001b[0m, \u001b[1;36m8\u001b[0m, \u001b[1;36m10\u001b[0m, \u001b[1;36m32\u001b[0m, \u001b[1;36m29\u001b[0m, \u001b[1;36m914469\u001b[0m, \n",
       "\u001b[33mtzinfo\u001b[0m=\u001b[1;35mdatetime\u001b[0m\u001b[1;35m.timezone\u001b[0m\u001b[1m(\u001b[0m\u001b[1;35mdatetime.timedelta\u001b[0m\u001b[1m(\u001b[0m\u001b[33mdays\u001b[0m=\u001b[1;36m-1\u001b[0m, \u001b[33mseconds\u001b[0m=\u001b[1;36m68400\u001b[0m\u001b[1m)\u001b[0m, \u001b[32m'CDT'\u001b[0m\u001b[1m)\u001b[0m\u001b[1m)\u001b[0m\n"
      ]
     },
     "metadata": {},
     "output_type": "display_data"
    },
    {
     "data": {
      "text/html": [
       "<pre style=\"white-space:pre;overflow-x:auto;line-height:normal;font-family:Menlo,'DejaVu Sans Mono',consolas,'Courier New',monospace\"><span style=\"color: #008080; text-decoration-color: #008080; font-weight: bold\">2025</span>-<span style=\"color: #008080; text-decoration-color: #008080; font-weight: bold\">04</span>-<span style=\"color: #008080; text-decoration-color: #008080; font-weight: bold\">08</span> <span style=\"color: #00ff00; text-decoration-color: #00ff00; font-weight: bold\">10:32:29</span>.<span style=\"color: #008080; text-decoration-color: #008080; font-weight: bold\">916589</span> <span style=\"font-weight: bold\">(</span>EventType.NODE_ERROR<span style=\"font-weight: bold\">)</span>: <span style=\"color: #808000; text-decoration-color: #808000\">message</span>=<span style=\"color: #008000; text-decoration-color: #008000\">\"Missing required arguments for action 'move_joints': </span>\n",
       "<span style=\"color: #008000; text-decoration-color: #008000\">['joint_angles']\"</span> <span style=\"color: #808000; text-decoration-color: #808000\">logged_at</span>=<span style=\"color: #800080; text-decoration-color: #800080; font-weight: bold\">datetime</span><span style=\"color: #800080; text-decoration-color: #800080; font-weight: bold\">.datetime</span><span style=\"font-weight: bold\">(</span><span style=\"color: #008080; text-decoration-color: #008080; font-weight: bold\">2025</span>, <span style=\"color: #008080; text-decoration-color: #008080; font-weight: bold\">4</span>, <span style=\"color: #008080; text-decoration-color: #008080; font-weight: bold\">8</span>, <span style=\"color: #008080; text-decoration-color: #008080; font-weight: bold\">10</span>, <span style=\"color: #008080; text-decoration-color: #008080; font-weight: bold\">32</span>, <span style=\"color: #008080; text-decoration-color: #008080; font-weight: bold\">29</span>, <span style=\"color: #008080; text-decoration-color: #008080; font-weight: bold\">916561</span><span style=\"font-weight: bold\">)</span> <span style=\"color: #808000; text-decoration-color: #808000\">error_type</span>=<span style=\"color: #008000; text-decoration-color: #008000\">'ValueError'</span>\n",
       "</pre>\n"
      ],
      "text/plain": [
       "\u001b[1;36m2025\u001b[0m-\u001b[1;36m04\u001b[0m-\u001b[1;36m08\u001b[0m \u001b[1;92m10:32:29\u001b[0m.\u001b[1;36m916589\u001b[0m \u001b[1m(\u001b[0mEventType.NODE_ERROR\u001b[1m)\u001b[0m: \u001b[33mmessage\u001b[0m=\u001b[32m\"Missing\u001b[0m\u001b[32m required arguments for action 'move_joints': \u001b[0m\n",
       "\u001b[32m[\u001b[0m\u001b[32m'joint_angles'\u001b[0m\u001b[32m]\u001b[0m\u001b[32m\"\u001b[0m \u001b[33mlogged_at\u001b[0m=\u001b[1;35mdatetime\u001b[0m\u001b[1;35m.datetime\u001b[0m\u001b[1m(\u001b[0m\u001b[1;36m2025\u001b[0m, \u001b[1;36m4\u001b[0m, \u001b[1;36m8\u001b[0m, \u001b[1;36m10\u001b[0m, \u001b[1;36m32\u001b[0m, \u001b[1;36m29\u001b[0m, \u001b[1;36m916561\u001b[0m\u001b[1m)\u001b[0m \u001b[33merror_type\u001b[0m=\u001b[32m'ValueError'\u001b[0m\n"
      ]
     },
     "metadata": {},
     "output_type": "display_data"
    },
    {
     "data": {
      "text/html": [
       "<pre style=\"white-space:pre;overflow-x:auto;line-height:normal;font-family:Menlo,'DejaVu Sans Mono',consolas,'Courier New',monospace\"><span style=\"color: #008080; text-decoration-color: #008080; font-weight: bold\">2025</span>-<span style=\"color: #008080; text-decoration-color: #008080; font-weight: bold\">04</span>-<span style=\"color: #008080; text-decoration-color: #008080; font-weight: bold\">08</span> <span style=\"color: #00ff00; text-decoration-color: #00ff00; font-weight: bold\">10:32:29</span>.<span style=\"color: #008080; text-decoration-color: #008080; font-weight: bold\">918149</span> <span style=\"font-weight: bold\">(</span>EventType.LOG_ERROR<span style=\"font-weight: bold\">)</span>: Traceback <span style=\"font-weight: bold\">(</span>most recent call last<span style=\"font-weight: bold\">)</span>:\n",
       "  File \n",
       "<span style=\"color: #008000; text-decoration-color: #008000\">\"/Users/luckierdodge/AD-SDL/MADSci_Examples/.venv/lib/python3.11/site-packages/madsci/node_module/abstract_node_mod</span>\n",
       "<span style=\"color: #008000; text-decoration-color: #008000\">ule.py\"</span>, line <span style=\"color: #008080; text-decoration-color: #008080; font-weight: bold\">216</span>, in run_action\n",
       "    <span style=\"color: #800080; text-decoration-color: #800080; font-weight: bold\">self._check_required_args</span><span style=\"font-weight: bold\">(</span>action_request<span style=\"font-weight: bold\">)</span>\n",
       "  File \n",
       "<span style=\"color: #008000; text-decoration-color: #008000\">\"/Users/luckierdodge/AD-SDL/MADSci_Examples/.venv/lib/python3.11/site-packages/madsci/node_module/abstract_node_mod</span>\n",
       "<span style=\"color: #008000; text-decoration-color: #008000\">ule.py\"</span>, line <span style=\"color: #008080; text-decoration-color: #008080; font-weight: bold\">764</span>, in _check_required_args\n",
       "    raise <span style=\"color: #800080; text-decoration-color: #800080; font-weight: bold\">ValueError</span><span style=\"font-weight: bold\">(</span>\n",
       "ValueError: Missing required arguments for action <span style=\"color: #008000; text-decoration-color: #008000\">'move_joints'</span>: <span style=\"font-weight: bold\">[</span><span style=\"color: #008000; text-decoration-color: #008000\">'joint_angles'</span><span style=\"font-weight: bold\">]</span>\n",
       "\n",
       "</pre>\n"
      ],
      "text/plain": [
       "\u001b[1;36m2025\u001b[0m-\u001b[1;36m04\u001b[0m-\u001b[1;36m08\u001b[0m \u001b[1;92m10:32:29\u001b[0m.\u001b[1;36m918149\u001b[0m \u001b[1m(\u001b[0mEventType.LOG_ERROR\u001b[1m)\u001b[0m: Traceback \u001b[1m(\u001b[0mmost recent call last\u001b[1m)\u001b[0m:\n",
       "  File \n",
       "\u001b[32m\"/Users/luckierdodge/AD-SDL/MADSci_Examples/.venv/lib/python3.11/site-packages/madsci/node_module/abstract_node_mod\u001b[0m\n",
       "\u001b[32mule.py\"\u001b[0m, line \u001b[1;36m216\u001b[0m, in run_action\n",
       "    \u001b[1;35mself._check_required_args\u001b[0m\u001b[1m(\u001b[0maction_request\u001b[1m)\u001b[0m\n",
       "  File \n",
       "\u001b[32m\"/Users/luckierdodge/AD-SDL/MADSci_Examples/.venv/lib/python3.11/site-packages/madsci/node_module/abstract_node_mod\u001b[0m\n",
       "\u001b[32mule.py\"\u001b[0m, line \u001b[1;36m764\u001b[0m, in _check_required_args\n",
       "    raise \u001b[1;35mValueError\u001b[0m\u001b[1m(\u001b[0m\n",
       "ValueError: Missing required arguments for action \u001b[32m'move_joints'\u001b[0m: \u001b[1m[\u001b[0m\u001b[32m'joint_angles'\u001b[0m\u001b[1m]\u001b[0m\n",
       "\n"
      ]
     },
     "metadata": {},
     "output_type": "display_data"
    },
    {
     "data": {
      "text/html": [
       "<pre style=\"white-space:pre;overflow-x:auto;line-height:normal;font-family:Menlo,'DejaVu Sans Mono',consolas,'Courier New',monospace\"><span style=\"color: #008080; text-decoration-color: #008080; font-weight: bold\">2025</span>-<span style=\"color: #008080; text-decoration-color: #008080; font-weight: bold\">04</span>-<span style=\"color: #008080; text-decoration-color: #008080; font-weight: bold\">08</span> <span style=\"color: #00ff00; text-decoration-color: #00ff00; font-weight: bold\">10:32:29</span>.<span style=\"color: #008080; text-decoration-color: #008080; font-weight: bold\">919801</span> <span style=\"font-weight: bold\">(</span>EventType.ACTION_STATUS_CHANGE<span style=\"font-weight: bold\">)</span>: <span style=\"color: #808000; text-decoration-color: #808000\">action_id</span>=<span style=\"color: #008000; text-decoration-color: #008000\">'01JRB0G4JSZW2HSBJP6TREC0CG'</span> \n",
       "<span style=\"color: #808000; text-decoration-color: #808000\">status</span>=<span style=\"font-weight: bold\">&lt;</span><span style=\"color: #ff00ff; text-decoration-color: #ff00ff; font-weight: bold\">ActionStatus.FAILED:</span><span style=\"color: #000000; text-decoration-color: #000000\"> </span><span style=\"color: #008000; text-decoration-color: #008000\">'failed'</span><span style=\"font-weight: bold\">&gt;</span> <span style=\"color: #808000; text-decoration-color: #808000\">errors</span>=<span style=\"font-weight: bold\">[</span><span style=\"color: #800080; text-decoration-color: #800080; font-weight: bold\">Error</span><span style=\"font-weight: bold\">(</span><span style=\"color: #808000; text-decoration-color: #808000\">message</span>=<span style=\"color: #008000; text-decoration-color: #008000\">\"Missing required arguments for action 'move_joints': </span>\n",
       "<span style=\"color: #008000; text-decoration-color: #008000\">['joint_angles']\"</span>, <span style=\"color: #808000; text-decoration-color: #808000\">logged_at</span>=<span style=\"color: #800080; text-decoration-color: #800080; font-weight: bold\">datetime</span><span style=\"color: #800080; text-decoration-color: #800080; font-weight: bold\">.datetime</span><span style=\"font-weight: bold\">(</span><span style=\"color: #008080; text-decoration-color: #008080; font-weight: bold\">2025</span>, <span style=\"color: #008080; text-decoration-color: #008080; font-weight: bold\">4</span>, <span style=\"color: #008080; text-decoration-color: #008080; font-weight: bold\">8</span>, <span style=\"color: #008080; text-decoration-color: #008080; font-weight: bold\">10</span>, <span style=\"color: #008080; text-decoration-color: #008080; font-weight: bold\">32</span>, <span style=\"color: #008080; text-decoration-color: #008080; font-weight: bold\">29</span>, <span style=\"color: #008080; text-decoration-color: #008080; font-weight: bold\">919754</span><span style=\"font-weight: bold\">)</span>, <span style=\"color: #808000; text-decoration-color: #808000\">error_type</span>=<span style=\"color: #008000; text-decoration-color: #008000\">'ValueError'</span><span style=\"font-weight: bold\">)]</span> <span style=\"color: #808000; text-decoration-color: #808000\">data</span>=<span style=\"font-weight: bold\">{}</span> \n",
       "<span style=\"color: #808000; text-decoration-color: #808000\">files</span>=<span style=\"font-weight: bold\">{}</span> <span style=\"color: #808000; text-decoration-color: #808000\">datapoints</span>=<span style=\"font-weight: bold\">{}</span> <span style=\"color: #808000; text-decoration-color: #808000\">history_created_at</span>=<span style=\"color: #800080; text-decoration-color: #800080; font-weight: bold\">datetime</span><span style=\"color: #800080; text-decoration-color: #800080; font-weight: bold\">.datetime</span><span style=\"font-weight: bold\">(</span><span style=\"color: #008080; text-decoration-color: #008080; font-weight: bold\">2025</span>, <span style=\"color: #008080; text-decoration-color: #008080; font-weight: bold\">4</span>, <span style=\"color: #008080; text-decoration-color: #008080; font-weight: bold\">8</span>, <span style=\"color: #008080; text-decoration-color: #008080; font-weight: bold\">10</span>, <span style=\"color: #008080; text-decoration-color: #008080; font-weight: bold\">32</span>, <span style=\"color: #008080; text-decoration-color: #008080; font-weight: bold\">29</span>, <span style=\"color: #008080; text-decoration-color: #008080; font-weight: bold\">919774</span>, \n",
       "<span style=\"color: #808000; text-decoration-color: #808000\">tzinfo</span>=<span style=\"color: #800080; text-decoration-color: #800080; font-weight: bold\">datetime</span><span style=\"color: #800080; text-decoration-color: #800080; font-weight: bold\">.timezone</span><span style=\"font-weight: bold\">(</span><span style=\"color: #800080; text-decoration-color: #800080; font-weight: bold\">datetime.timedelta</span><span style=\"font-weight: bold\">(</span><span style=\"color: #808000; text-decoration-color: #808000\">days</span>=<span style=\"color: #008080; text-decoration-color: #008080; font-weight: bold\">-1</span>, <span style=\"color: #808000; text-decoration-color: #808000\">seconds</span>=<span style=\"color: #008080; text-decoration-color: #008080; font-weight: bold\">68400</span><span style=\"font-weight: bold\">)</span>, <span style=\"color: #008000; text-decoration-color: #008000\">'CDT'</span><span style=\"font-weight: bold\">))</span>\n",
       "</pre>\n"
      ],
      "text/plain": [
       "\u001b[1;36m2025\u001b[0m-\u001b[1;36m04\u001b[0m-\u001b[1;36m08\u001b[0m \u001b[1;92m10:32:29\u001b[0m.\u001b[1;36m919801\u001b[0m \u001b[1m(\u001b[0mEventType.ACTION_STATUS_CHANGE\u001b[1m)\u001b[0m: \u001b[33maction_id\u001b[0m=\u001b[32m'01JRB0G4JSZW2HSBJP6TREC0CG'\u001b[0m \n",
       "\u001b[33mstatus\u001b[0m=\u001b[1m<\u001b[0m\u001b[1;95mActionStatus.FAILED:\u001b[0m\u001b[39m \u001b[0m\u001b[32m'failed'\u001b[0m\u001b[1m>\u001b[0m \u001b[33merrors\u001b[0m=\u001b[1m[\u001b[0m\u001b[1;35mError\u001b[0m\u001b[1m(\u001b[0m\u001b[33mmessage\u001b[0m=\u001b[32m\"Missing\u001b[0m\u001b[32m required arguments for action 'move_joints': \u001b[0m\n",
       "\u001b[32m[\u001b[0m\u001b[32m'joint_angles'\u001b[0m\u001b[32m]\u001b[0m\u001b[32m\"\u001b[0m, \u001b[33mlogged_at\u001b[0m=\u001b[1;35mdatetime\u001b[0m\u001b[1;35m.datetime\u001b[0m\u001b[1m(\u001b[0m\u001b[1;36m2025\u001b[0m, \u001b[1;36m4\u001b[0m, \u001b[1;36m8\u001b[0m, \u001b[1;36m10\u001b[0m, \u001b[1;36m32\u001b[0m, \u001b[1;36m29\u001b[0m, \u001b[1;36m919754\u001b[0m\u001b[1m)\u001b[0m, \u001b[33merror_type\u001b[0m=\u001b[32m'ValueError'\u001b[0m\u001b[1m)\u001b[0m\u001b[1m]\u001b[0m \u001b[33mdata\u001b[0m=\u001b[1m{\u001b[0m\u001b[1m}\u001b[0m \n",
       "\u001b[33mfiles\u001b[0m=\u001b[1m{\u001b[0m\u001b[1m}\u001b[0m \u001b[33mdatapoints\u001b[0m=\u001b[1m{\u001b[0m\u001b[1m}\u001b[0m \u001b[33mhistory_created_at\u001b[0m=\u001b[1;35mdatetime\u001b[0m\u001b[1;35m.datetime\u001b[0m\u001b[1m(\u001b[0m\u001b[1;36m2025\u001b[0m, \u001b[1;36m4\u001b[0m, \u001b[1;36m8\u001b[0m, \u001b[1;36m10\u001b[0m, \u001b[1;36m32\u001b[0m, \u001b[1;36m29\u001b[0m, \u001b[1;36m919774\u001b[0m, \n",
       "\u001b[33mtzinfo\u001b[0m=\u001b[1;35mdatetime\u001b[0m\u001b[1;35m.timezone\u001b[0m\u001b[1m(\u001b[0m\u001b[1;35mdatetime.timedelta\u001b[0m\u001b[1m(\u001b[0m\u001b[33mdays\u001b[0m=\u001b[1;36m-1\u001b[0m, \u001b[33mseconds\u001b[0m=\u001b[1;36m68400\u001b[0m\u001b[1m)\u001b[0m, \u001b[32m'CDT'\u001b[0m\u001b[1m)\u001b[0m\u001b[1m)\u001b[0m\n"
      ]
     },
     "metadata": {},
     "output_type": "display_data"
    },
    {
     "data": {
      "text/html": [
       "<pre style=\"white-space:pre;overflow-x:auto;line-height:normal;font-family:Menlo,'DejaVu Sans Mono',consolas,'Courier New',monospace\"><span style=\"color: #800080; text-decoration-color: #800080; font-weight: bold\">ActionResult</span><span style=\"font-weight: bold\">(</span>\n",
       "    <span style=\"color: #808000; text-decoration-color: #808000\">action_id</span>=<span style=\"color: #008000; text-decoration-color: #008000\">'01JRB0G4JSZW2HSBJP6TREC0CG'</span>,\n",
       "    <span style=\"color: #808000; text-decoration-color: #808000\">status</span>=<span style=\"font-weight: bold\">&lt;</span><span style=\"color: #ff00ff; text-decoration-color: #ff00ff; font-weight: bold\">ActionStatus.FAILED:</span><span style=\"color: #000000; text-decoration-color: #000000\"> </span><span style=\"color: #008000; text-decoration-color: #008000\">'failed'</span><span style=\"font-weight: bold\">&gt;</span>,\n",
       "    <span style=\"color: #808000; text-decoration-color: #808000\">errors</span>=<span style=\"font-weight: bold\">[</span>\n",
       "        <span style=\"color: #800080; text-decoration-color: #800080; font-weight: bold\">Error</span><span style=\"font-weight: bold\">(</span>\n",
       "            <span style=\"color: #808000; text-decoration-color: #808000\">message</span>=<span style=\"color: #008000; text-decoration-color: #008000\">\"Missing required arguments for action 'move_joints': ['joint_angles']\"</span>,\n",
       "            <span style=\"color: #808000; text-decoration-color: #808000\">logged_at</span>=<span style=\"color: #800080; text-decoration-color: #800080; font-weight: bold\">datetime</span><span style=\"color: #800080; text-decoration-color: #800080; font-weight: bold\">.datetime</span><span style=\"font-weight: bold\">(</span><span style=\"color: #008080; text-decoration-color: #008080; font-weight: bold\">2025</span>, <span style=\"color: #008080; text-decoration-color: #008080; font-weight: bold\">4</span>, <span style=\"color: #008080; text-decoration-color: #008080; font-weight: bold\">8</span>, <span style=\"color: #008080; text-decoration-color: #008080; font-weight: bold\">10</span>, <span style=\"color: #008080; text-decoration-color: #008080; font-weight: bold\">32</span>, <span style=\"color: #008080; text-decoration-color: #008080; font-weight: bold\">29</span>, <span style=\"color: #008080; text-decoration-color: #008080; font-weight: bold\">919754</span><span style=\"font-weight: bold\">)</span>,\n",
       "            <span style=\"color: #808000; text-decoration-color: #808000\">error_type</span>=<span style=\"color: #008000; text-decoration-color: #008000\">'ValueError'</span>\n",
       "        <span style=\"font-weight: bold\">)</span>\n",
       "    <span style=\"font-weight: bold\">]</span>,\n",
       "    <span style=\"color: #808000; text-decoration-color: #808000\">data</span>=<span style=\"font-weight: bold\">{}</span>,\n",
       "    <span style=\"color: #808000; text-decoration-color: #808000\">files</span>=<span style=\"font-weight: bold\">{}</span>,\n",
       "    <span style=\"color: #808000; text-decoration-color: #808000\">datapoints</span>=<span style=\"font-weight: bold\">{}</span>,\n",
       "    <span style=\"color: #808000; text-decoration-color: #808000\">history_created_at</span>=<span style=\"color: #800080; text-decoration-color: #800080; font-weight: bold\">datetime</span><span style=\"color: #800080; text-decoration-color: #800080; font-weight: bold\">.datetime</span><span style=\"font-weight: bold\">(</span><span style=\"color: #008080; text-decoration-color: #008080; font-weight: bold\">2025</span>, <span style=\"color: #008080; text-decoration-color: #008080; font-weight: bold\">4</span>, <span style=\"color: #008080; text-decoration-color: #008080; font-weight: bold\">8</span>, <span style=\"color: #008080; text-decoration-color: #008080; font-weight: bold\">10</span>, <span style=\"color: #008080; text-decoration-color: #008080; font-weight: bold\">32</span>, <span style=\"color: #008080; text-decoration-color: #008080; font-weight: bold\">29</span>, <span style=\"color: #008080; text-decoration-color: #008080; font-weight: bold\">919774</span>, <span style=\"color: #808000; text-decoration-color: #808000\">tzinfo</span>=<span style=\"color: #800080; text-decoration-color: #800080; font-weight: bold\">TzInfo</span><span style=\"font-weight: bold\">(</span><span style=\"color: #008080; text-decoration-color: #008080; font-weight: bold\">-05</span>:<span style=\"color: #008080; text-decoration-color: #008080; font-weight: bold\">00</span><span style=\"font-weight: bold\">))</span>\n",
       "<span style=\"font-weight: bold\">)</span>\n",
       "</pre>\n"
      ],
      "text/plain": [
       "\u001b[1;35mActionResult\u001b[0m\u001b[1m(\u001b[0m\n",
       "    \u001b[33maction_id\u001b[0m=\u001b[32m'01JRB0G4JSZW2HSBJP6TREC0CG'\u001b[0m,\n",
       "    \u001b[33mstatus\u001b[0m=\u001b[1m<\u001b[0m\u001b[1;95mActionStatus.FAILED:\u001b[0m\u001b[39m \u001b[0m\u001b[32m'failed'\u001b[0m\u001b[1m>\u001b[0m,\n",
       "    \u001b[33merrors\u001b[0m=\u001b[1m[\u001b[0m\n",
       "        \u001b[1;35mError\u001b[0m\u001b[1m(\u001b[0m\n",
       "            \u001b[33mmessage\u001b[0m=\u001b[32m\"Missing\u001b[0m\u001b[32m required arguments for action 'move_joints': \u001b[0m\u001b[32m[\u001b[0m\u001b[32m'joint_angles'\u001b[0m\u001b[32m]\u001b[0m\u001b[32m\"\u001b[0m,\n",
       "            \u001b[33mlogged_at\u001b[0m=\u001b[1;35mdatetime\u001b[0m\u001b[1;35m.datetime\u001b[0m\u001b[1m(\u001b[0m\u001b[1;36m2025\u001b[0m, \u001b[1;36m4\u001b[0m, \u001b[1;36m8\u001b[0m, \u001b[1;36m10\u001b[0m, \u001b[1;36m32\u001b[0m, \u001b[1;36m29\u001b[0m, \u001b[1;36m919754\u001b[0m\u001b[1m)\u001b[0m,\n",
       "            \u001b[33merror_type\u001b[0m=\u001b[32m'ValueError'\u001b[0m\n",
       "        \u001b[1m)\u001b[0m\n",
       "    \u001b[1m]\u001b[0m,\n",
       "    \u001b[33mdata\u001b[0m=\u001b[1m{\u001b[0m\u001b[1m}\u001b[0m,\n",
       "    \u001b[33mfiles\u001b[0m=\u001b[1m{\u001b[0m\u001b[1m}\u001b[0m,\n",
       "    \u001b[33mdatapoints\u001b[0m=\u001b[1m{\u001b[0m\u001b[1m}\u001b[0m,\n",
       "    \u001b[33mhistory_created_at\u001b[0m=\u001b[1;35mdatetime\u001b[0m\u001b[1;35m.datetime\u001b[0m\u001b[1m(\u001b[0m\u001b[1;36m2025\u001b[0m, \u001b[1;36m4\u001b[0m, \u001b[1;36m8\u001b[0m, \u001b[1;36m10\u001b[0m, \u001b[1;36m32\u001b[0m, \u001b[1;36m29\u001b[0m, \u001b[1;36m919774\u001b[0m, \u001b[33mtzinfo\u001b[0m=\u001b[1;35mTzInfo\u001b[0m\u001b[1m(\u001b[0m\u001b[1;36m-05\u001b[0m:\u001b[1;36m00\u001b[0m\u001b[1m)\u001b[0m\u001b[1m)\u001b[0m\n",
       "\u001b[1m)\u001b[0m\n"
      ]
     },
     "metadata": {},
     "output_type": "display_data"
    },
    {
     "data": {
      "text/html": [
       "<pre style=\"white-space:pre;overflow-x:auto;line-height:normal;font-family:Menlo,'DejaVu Sans Mono',consolas,'Courier New',monospace\"><span style=\"color: #008080; text-decoration-color: #008080; font-weight: bold\">2025</span>-<span style=\"color: #008080; text-decoration-color: #008080; font-weight: bold\">04</span>-<span style=\"color: #008080; text-decoration-color: #008080; font-weight: bold\">08</span> <span style=\"color: #00ff00; text-decoration-color: #00ff00; font-weight: bold\">10:32:29</span>.<span style=\"color: #008080; text-decoration-color: #008080; font-weight: bold\">924414</span> <span style=\"font-weight: bold\">(</span>EventType.LOG_INFO<span style=\"font-weight: bold\">)</span>: Disconnecting from robot <span style=\"color: #008080; text-decoration-color: #008080; font-weight: bold\">0</span><span style=\"color: #808000; text-decoration-color: #808000\">...</span>\n",
       "</pre>\n"
      ],
      "text/plain": [
       "\u001b[1;36m2025\u001b[0m-\u001b[1;36m04\u001b[0m-\u001b[1;36m08\u001b[0m \u001b[1;92m10:32:29\u001b[0m.\u001b[1;36m924414\u001b[0m \u001b[1m(\u001b[0mEventType.LOG_INFO\u001b[1m)\u001b[0m: Disconnecting from robot \u001b[1;36m0\u001b[0m\u001b[33m...\u001b[0m\n"
      ]
     },
     "metadata": {},
     "output_type": "display_data"
    },
    {
     "data": {
      "text/html": [
       "<pre style=\"white-space:pre;overflow-x:auto;line-height:normal;font-family:Menlo,'DejaVu Sans Mono',consolas,'Courier New',monospace\"><span style=\"color: #008080; text-decoration-color: #008080; font-weight: bold\">2025</span>-<span style=\"color: #008080; text-decoration-color: #008080; font-weight: bold\">04</span>-<span style=\"color: #008080; text-decoration-color: #008080; font-weight: bold\">08</span> <span style=\"color: #00ff00; text-decoration-color: #00ff00; font-weight: bold\">10:32:29</span>.<span style=\"color: #008080; text-decoration-color: #008080; font-weight: bold\">925304</span> <span style=\"font-weight: bold\">(</span>EventType.LOG_INFO<span style=\"font-weight: bold\">)</span>: Disconnected from robot <span style=\"color: #008080; text-decoration-color: #008080; font-weight: bold\">0</span>\n",
       "</pre>\n"
      ],
      "text/plain": [
       "\u001b[1;36m2025\u001b[0m-\u001b[1;36m04\u001b[0m-\u001b[1;36m08\u001b[0m \u001b[1;92m10:32:29\u001b[0m.\u001b[1;36m925304\u001b[0m \u001b[1m(\u001b[0mEventType.LOG_INFO\u001b[1m)\u001b[0m: Disconnected from robot \u001b[1;36m0\u001b[0m\n"
      ]
     },
     "metadata": {},
     "output_type": "display_data"
    }
   ],
   "source": [
    "# What if we forget an argument?\n",
    "with node_client(example_node, RestNodeClient(url=\"http://localhost:2000\")) as client:\n",
    "    while not client.get_status().ready:\n",
    "        # Wait for the node to be ready\n",
    "        time.sleep(0.1)\n",
    "    request = ActionRequest(\n",
    "        action_name=\"move_joints\",\n",
    "        args={},\n",
    "    )\n",
    "    # Send the action request to the node\n",
    "    print(client.send_action(request))"
   ]
  },
  {
   "cell_type": "code",
   "execution_count": 13,
   "metadata": {},
   "outputs": [
    {
     "data": {
      "text/html": [
       "<pre style=\"white-space:pre;overflow-x:auto;line-height:normal;font-family:Menlo,'DejaVu Sans Mono',consolas,'Courier New',monospace\"><span style=\"color: #008080; text-decoration-color: #008080; font-weight: bold\">2025</span>-<span style=\"color: #008080; text-decoration-color: #008080; font-weight: bold\">04</span>-<span style=\"color: #008080; text-decoration-color: #008080; font-weight: bold\">08</span> <span style=\"color: #00ff00; text-decoration-color: #00ff00; font-weight: bold\">10:32:29</span>.<span style=\"color: #008080; text-decoration-color: #008080; font-weight: bold\">939679</span> <span style=\"font-weight: bold\">(</span>EventType.LOG_INFO<span style=\"font-weight: bold\">)</span>: Connecting to robot <span style=\"color: #008080; text-decoration-color: #008080; font-weight: bold\">0</span><span style=\"color: #808000; text-decoration-color: #808000\">...</span>\n",
       "</pre>\n"
      ],
      "text/plain": [
       "\u001b[1;36m2025\u001b[0m-\u001b[1;36m04\u001b[0m-\u001b[1;36m08\u001b[0m \u001b[1;92m10:32:29\u001b[0m.\u001b[1;36m939679\u001b[0m \u001b[1m(\u001b[0mEventType.LOG_INFO\u001b[1m)\u001b[0m: Connecting to robot \u001b[1;36m0\u001b[0m\u001b[33m...\u001b[0m\n"
      ]
     },
     "metadata": {},
     "output_type": "display_data"
    },
    {
     "data": {
      "text/html": [
       "<pre style=\"white-space:pre;overflow-x:auto;line-height:normal;font-family:Menlo,'DejaVu Sans Mono',consolas,'Courier New',monospace\"><span style=\"color: #008080; text-decoration-color: #008080; font-weight: bold\">2025</span>-<span style=\"color: #008080; text-decoration-color: #008080; font-weight: bold\">04</span>-<span style=\"color: #008080; text-decoration-color: #008080; font-weight: bold\">08</span> <span style=\"color: #00ff00; text-decoration-color: #00ff00; font-weight: bold\">10:32:29</span>.<span style=\"color: #008080; text-decoration-color: #008080; font-weight: bold\">941476</span> <span style=\"font-weight: bold\">(</span>EventType.LOG_INFO<span style=\"font-weight: bold\">)</span>: Connected to robot <span style=\"color: #008080; text-decoration-color: #008080; font-weight: bold\">0</span>\n",
       "</pre>\n"
      ],
      "text/plain": [
       "\u001b[1;36m2025\u001b[0m-\u001b[1;36m04\u001b[0m-\u001b[1;36m08\u001b[0m \u001b[1;92m10:32:29\u001b[0m.\u001b[1;36m941476\u001b[0m \u001b[1m(\u001b[0mEventType.LOG_INFO\u001b[1m)\u001b[0m: Connected to robot \u001b[1;36m0\u001b[0m\n"
      ]
     },
     "metadata": {},
     "output_type": "display_data"
    },
    {
     "data": {
      "text/html": [
       "<pre style=\"white-space:pre;overflow-x:auto;line-height:normal;font-family:Menlo,'DejaVu Sans Mono',consolas,'Courier New',monospace\"><span style=\"color: #008080; text-decoration-color: #008080; font-weight: bold\">2025</span>-<span style=\"color: #008080; text-decoration-color: #008080; font-weight: bold\">04</span>-<span style=\"color: #008080; text-decoration-color: #008080; font-weight: bold\">08</span> <span style=\"color: #00ff00; text-decoration-color: #00ff00; font-weight: bold\">10:32:29</span>.<span style=\"color: #008080; text-decoration-color: #008080; font-weight: bold\">942907</span> <span style=\"font-weight: bold\">(</span>EventType.LOG_INFO<span style=\"font-weight: bold\">)</span>: Startup complete for node example_node.\n",
       "</pre>\n"
      ],
      "text/plain": [
       "\u001b[1;36m2025\u001b[0m-\u001b[1;36m04\u001b[0m-\u001b[1;36m08\u001b[0m \u001b[1;92m10:32:29\u001b[0m.\u001b[1;36m942907\u001b[0m \u001b[1m(\u001b[0mEventType.LOG_INFO\u001b[1m)\u001b[0m: Startup complete for node example_node.\n"
      ]
     },
     "metadata": {},
     "output_type": "display_data"
    },
    {
     "data": {
      "text/html": [
       "<pre style=\"white-space:pre;overflow-x:auto;line-height:normal;font-family:Menlo,'DejaVu Sans Mono',consolas,'Courier New',monospace\"><span style=\"color: #008080; text-decoration-color: #008080; font-weight: bold\">2025</span>-<span style=\"color: #008080; text-decoration-color: #008080; font-weight: bold\">04</span>-<span style=\"color: #008080; text-decoration-color: #008080; font-weight: bold\">08</span> <span style=\"color: #00ff00; text-decoration-color: #00ff00; font-weight: bold\">10:32:30</span>.<span style=\"color: #008080; text-decoration-color: #008080; font-weight: bold\">049675</span> <span style=\"font-weight: bold\">(</span>EventType.ACTION_STATUS_CHANGE<span style=\"font-weight: bold\">)</span>: <span style=\"color: #808000; text-decoration-color: #808000\">action_id</span>=<span style=\"color: #008000; text-decoration-color: #008000\">'01JRB0G4Q0S0Q3M871Y5WXNMZE'</span> \n",
       "<span style=\"color: #808000; text-decoration-color: #808000\">status</span>=<span style=\"font-weight: bold\">&lt;</span><span style=\"color: #ff00ff; text-decoration-color: #ff00ff; font-weight: bold\">ActionStatus.NOT_STARTED:</span><span style=\"color: #000000; text-decoration-color: #000000\"> </span><span style=\"color: #008000; text-decoration-color: #008000\">'not_started'</span><span style=\"font-weight: bold\">&gt;</span> <span style=\"color: #808000; text-decoration-color: #808000\">errors</span>=<span style=\"font-weight: bold\">[]</span> <span style=\"color: #808000; text-decoration-color: #808000\">data</span>=<span style=\"font-weight: bold\">{}</span> <span style=\"color: #808000; text-decoration-color: #808000\">files</span>=<span style=\"font-weight: bold\">{}</span> <span style=\"color: #808000; text-decoration-color: #808000\">datapoints</span>=<span style=\"font-weight: bold\">{}</span> \n",
       "<span style=\"color: #808000; text-decoration-color: #808000\">history_created_at</span>=<span style=\"color: #800080; text-decoration-color: #800080; font-weight: bold\">datetime</span><span style=\"color: #800080; text-decoration-color: #800080; font-weight: bold\">.datetime</span><span style=\"font-weight: bold\">(</span><span style=\"color: #008080; text-decoration-color: #008080; font-weight: bold\">2025</span>, <span style=\"color: #008080; text-decoration-color: #008080; font-weight: bold\">4</span>, <span style=\"color: #008080; text-decoration-color: #008080; font-weight: bold\">8</span>, <span style=\"color: #008080; text-decoration-color: #008080; font-weight: bold\">10</span>, <span style=\"color: #008080; text-decoration-color: #008080; font-weight: bold\">32</span>, <span style=\"color: #008080; text-decoration-color: #008080; font-weight: bold\">30</span>, <span style=\"color: #008080; text-decoration-color: #008080; font-weight: bold\">49617</span>, \n",
       "<span style=\"color: #808000; text-decoration-color: #808000\">tzinfo</span>=<span style=\"color: #800080; text-decoration-color: #800080; font-weight: bold\">datetime</span><span style=\"color: #800080; text-decoration-color: #800080; font-weight: bold\">.timezone</span><span style=\"font-weight: bold\">(</span><span style=\"color: #800080; text-decoration-color: #800080; font-weight: bold\">datetime.timedelta</span><span style=\"font-weight: bold\">(</span><span style=\"color: #808000; text-decoration-color: #808000\">days</span>=<span style=\"color: #008080; text-decoration-color: #008080; font-weight: bold\">-1</span>, <span style=\"color: #808000; text-decoration-color: #808000\">seconds</span>=<span style=\"color: #008080; text-decoration-color: #008080; font-weight: bold\">68400</span><span style=\"font-weight: bold\">)</span>, <span style=\"color: #008000; text-decoration-color: #008000\">'CDT'</span><span style=\"font-weight: bold\">))</span>\n",
       "</pre>\n"
      ],
      "text/plain": [
       "\u001b[1;36m2025\u001b[0m-\u001b[1;36m04\u001b[0m-\u001b[1;36m08\u001b[0m \u001b[1;92m10:32:30\u001b[0m.\u001b[1;36m049675\u001b[0m \u001b[1m(\u001b[0mEventType.ACTION_STATUS_CHANGE\u001b[1m)\u001b[0m: \u001b[33maction_id\u001b[0m=\u001b[32m'01JRB0G4Q0S0Q3M871Y5WXNMZE'\u001b[0m \n",
       "\u001b[33mstatus\u001b[0m=\u001b[1m<\u001b[0m\u001b[1;95mActionStatus.NOT_STARTED:\u001b[0m\u001b[39m \u001b[0m\u001b[32m'not_started'\u001b[0m\u001b[1m>\u001b[0m \u001b[33merrors\u001b[0m=\u001b[1m[\u001b[0m\u001b[1m]\u001b[0m \u001b[33mdata\u001b[0m=\u001b[1m{\u001b[0m\u001b[1m}\u001b[0m \u001b[33mfiles\u001b[0m=\u001b[1m{\u001b[0m\u001b[1m}\u001b[0m \u001b[33mdatapoints\u001b[0m=\u001b[1m{\u001b[0m\u001b[1m}\u001b[0m \n",
       "\u001b[33mhistory_created_at\u001b[0m=\u001b[1;35mdatetime\u001b[0m\u001b[1;35m.datetime\u001b[0m\u001b[1m(\u001b[0m\u001b[1;36m2025\u001b[0m, \u001b[1;36m4\u001b[0m, \u001b[1;36m8\u001b[0m, \u001b[1;36m10\u001b[0m, \u001b[1;36m32\u001b[0m, \u001b[1;36m30\u001b[0m, \u001b[1;36m49617\u001b[0m, \n",
       "\u001b[33mtzinfo\u001b[0m=\u001b[1;35mdatetime\u001b[0m\u001b[1;35m.timezone\u001b[0m\u001b[1m(\u001b[0m\u001b[1;35mdatetime.timedelta\u001b[0m\u001b[1m(\u001b[0m\u001b[33mdays\u001b[0m=\u001b[1;36m-1\u001b[0m, \u001b[33mseconds\u001b[0m=\u001b[1;36m68400\u001b[0m\u001b[1m)\u001b[0m, \u001b[32m'CDT'\u001b[0m\u001b[1m)\u001b[0m\u001b[1m)\u001b[0m\n"
      ]
     },
     "metadata": {},
     "output_type": "display_data"
    },
    {
     "data": {
      "text/html": [
       "<pre style=\"white-space:pre;overflow-x:auto;line-height:normal;font-family:Menlo,'DejaVu Sans Mono',consolas,'Courier New',monospace\"><span style=\"color: #008080; text-decoration-color: #008080; font-weight: bold\">2025</span>-<span style=\"color: #008080; text-decoration-color: #008080; font-weight: bold\">04</span>-<span style=\"color: #008080; text-decoration-color: #008080; font-weight: bold\">08</span> <span style=\"color: #00ff00; text-decoration-color: #00ff00; font-weight: bold\">10:32:30</span>.<span style=\"color: #008080; text-decoration-color: #008080; font-weight: bold\">052452</span> <span style=\"font-weight: bold\">(</span>EventType.ACTION_STATUS_CHANGE<span style=\"font-weight: bold\">)</span>: <span style=\"color: #808000; text-decoration-color: #808000\">action_id</span>=<span style=\"color: #008000; text-decoration-color: #008000\">'01JRB0G4Q0S0Q3M871Y5WXNMZE'</span> \n",
       "<span style=\"color: #808000; text-decoration-color: #808000\">status</span>=<span style=\"font-weight: bold\">&lt;</span><span style=\"color: #ff00ff; text-decoration-color: #ff00ff; font-weight: bold\">ActionStatus.RUNNING:</span><span style=\"color: #000000; text-decoration-color: #000000\"> </span><span style=\"color: #008000; text-decoration-color: #008000\">'running'</span><span style=\"font-weight: bold\">&gt;</span> <span style=\"color: #808000; text-decoration-color: #808000\">errors</span>=<span style=\"font-weight: bold\">[]</span> <span style=\"color: #808000; text-decoration-color: #808000\">data</span>=<span style=\"font-weight: bold\">{}</span> <span style=\"color: #808000; text-decoration-color: #808000\">files</span>=<span style=\"font-weight: bold\">{}</span> <span style=\"color: #808000; text-decoration-color: #808000\">datapoints</span>=<span style=\"font-weight: bold\">{}</span> \n",
       "<span style=\"color: #808000; text-decoration-color: #808000\">history_created_at</span>=<span style=\"color: #800080; text-decoration-color: #800080; font-weight: bold\">datetime</span><span style=\"color: #800080; text-decoration-color: #800080; font-weight: bold\">.datetime</span><span style=\"font-weight: bold\">(</span><span style=\"color: #008080; text-decoration-color: #008080; font-weight: bold\">2025</span>, <span style=\"color: #008080; text-decoration-color: #008080; font-weight: bold\">4</span>, <span style=\"color: #008080; text-decoration-color: #008080; font-weight: bold\">8</span>, <span style=\"color: #008080; text-decoration-color: #008080; font-weight: bold\">10</span>, <span style=\"color: #008080; text-decoration-color: #008080; font-weight: bold\">32</span>, <span style=\"color: #008080; text-decoration-color: #008080; font-weight: bold\">30</span>, <span style=\"color: #008080; text-decoration-color: #008080; font-weight: bold\">52409</span>, \n",
       "<span style=\"color: #808000; text-decoration-color: #808000\">tzinfo</span>=<span style=\"color: #800080; text-decoration-color: #800080; font-weight: bold\">datetime</span><span style=\"color: #800080; text-decoration-color: #800080; font-weight: bold\">.timezone</span><span style=\"font-weight: bold\">(</span><span style=\"color: #800080; text-decoration-color: #800080; font-weight: bold\">datetime.timedelta</span><span style=\"font-weight: bold\">(</span><span style=\"color: #808000; text-decoration-color: #808000\">days</span>=<span style=\"color: #008080; text-decoration-color: #008080; font-weight: bold\">-1</span>, <span style=\"color: #808000; text-decoration-color: #808000\">seconds</span>=<span style=\"color: #008080; text-decoration-color: #008080; font-weight: bold\">68400</span><span style=\"font-weight: bold\">)</span>, <span style=\"color: #008000; text-decoration-color: #008000\">'CDT'</span><span style=\"font-weight: bold\">))</span>\n",
       "</pre>\n"
      ],
      "text/plain": [
       "\u001b[1;36m2025\u001b[0m-\u001b[1;36m04\u001b[0m-\u001b[1;36m08\u001b[0m \u001b[1;92m10:32:30\u001b[0m.\u001b[1;36m052452\u001b[0m \u001b[1m(\u001b[0mEventType.ACTION_STATUS_CHANGE\u001b[1m)\u001b[0m: \u001b[33maction_id\u001b[0m=\u001b[32m'01JRB0G4Q0S0Q3M871Y5WXNMZE'\u001b[0m \n",
       "\u001b[33mstatus\u001b[0m=\u001b[1m<\u001b[0m\u001b[1;95mActionStatus.RUNNING:\u001b[0m\u001b[39m \u001b[0m\u001b[32m'running'\u001b[0m\u001b[1m>\u001b[0m \u001b[33merrors\u001b[0m=\u001b[1m[\u001b[0m\u001b[1m]\u001b[0m \u001b[33mdata\u001b[0m=\u001b[1m{\u001b[0m\u001b[1m}\u001b[0m \u001b[33mfiles\u001b[0m=\u001b[1m{\u001b[0m\u001b[1m}\u001b[0m \u001b[33mdatapoints\u001b[0m=\u001b[1m{\u001b[0m\u001b[1m}\u001b[0m \n",
       "\u001b[33mhistory_created_at\u001b[0m=\u001b[1;35mdatetime\u001b[0m\u001b[1;35m.datetime\u001b[0m\u001b[1m(\u001b[0m\u001b[1;36m2025\u001b[0m, \u001b[1;36m4\u001b[0m, \u001b[1;36m8\u001b[0m, \u001b[1;36m10\u001b[0m, \u001b[1;36m32\u001b[0m, \u001b[1;36m30\u001b[0m, \u001b[1;36m52409\u001b[0m, \n",
       "\u001b[33mtzinfo\u001b[0m=\u001b[1;35mdatetime\u001b[0m\u001b[1;35m.timezone\u001b[0m\u001b[1m(\u001b[0m\u001b[1;35mdatetime.timedelta\u001b[0m\u001b[1m(\u001b[0m\u001b[33mdays\u001b[0m=\u001b[1;36m-1\u001b[0m, \u001b[33mseconds\u001b[0m=\u001b[1;36m68400\u001b[0m\u001b[1m)\u001b[0m, \u001b[32m'CDT'\u001b[0m\u001b[1m)\u001b[0m\u001b[1m)\u001b[0m\n"
      ]
     },
     "metadata": {},
     "output_type": "display_data"
    },
    {
     "data": {
      "text/html": [
       "<pre style=\"white-space:pre;overflow-x:auto;line-height:normal;font-family:Menlo,'DejaVu Sans Mono',consolas,'Courier New',monospace\"><span style=\"color: #008080; text-decoration-color: #008080; font-weight: bold\">2025</span>-<span style=\"color: #008080; text-decoration-color: #008080; font-weight: bold\">04</span>-<span style=\"color: #008080; text-decoration-color: #008080; font-weight: bold\">08</span> <span style=\"color: #00ff00; text-decoration-color: #00ff00; font-weight: bold\">10:32:30</span>.<span style=\"color: #008080; text-decoration-color: #008080; font-weight: bold\">054428</span> <span style=\"font-weight: bold\">(</span>EventType.LOG_ERROR<span style=\"font-weight: bold\">)</span>: Invalid number of joint angles. Expected <span style=\"color: #008080; text-decoration-color: #008080; font-weight: bold\">4</span>.\n",
       "</pre>\n"
      ],
      "text/plain": [
       "\u001b[1;36m2025\u001b[0m-\u001b[1;36m04\u001b[0m-\u001b[1;36m08\u001b[0m \u001b[1;92m10:32:30\u001b[0m.\u001b[1;36m054428\u001b[0m \u001b[1m(\u001b[0mEventType.LOG_ERROR\u001b[1m)\u001b[0m: Invalid number of joint angles. Expected \u001b[1;36m4\u001b[0m.\n"
      ]
     },
     "metadata": {},
     "output_type": "display_data"
    },
    {
     "data": {
      "text/html": [
       "<pre style=\"white-space:pre;overflow-x:auto;line-height:normal;font-family:Menlo,'DejaVu Sans Mono',consolas,'Courier New',monospace\"><span style=\"color: #008080; text-decoration-color: #008080; font-weight: bold\">2025</span>-<span style=\"color: #008080; text-decoration-color: #008080; font-weight: bold\">04</span>-<span style=\"color: #008080; text-decoration-color: #008080; font-weight: bold\">08</span> <span style=\"color: #00ff00; text-decoration-color: #00ff00; font-weight: bold\">10:32:30</span>.<span style=\"color: #008080; text-decoration-color: #008080; font-weight: bold\">056236</span> <span style=\"font-weight: bold\">(</span>EventType.ACTION_STATUS_CHANGE<span style=\"font-weight: bold\">)</span>: <span style=\"color: #808000; text-decoration-color: #808000\">action_id</span>=<span style=\"color: #008000; text-decoration-color: #008000\">'01JRB0G4Q0S0Q3M871Y5WXNMZE'</span> \n",
       "<span style=\"color: #808000; text-decoration-color: #808000\">status</span>=<span style=\"font-weight: bold\">&lt;</span><span style=\"color: #ff00ff; text-decoration-color: #ff00ff; font-weight: bold\">ActionStatus.FAILED:</span><span style=\"color: #000000; text-decoration-color: #000000\"> </span><span style=\"color: #008000; text-decoration-color: #008000\">'failed'</span><span style=\"font-weight: bold\">&gt;</span> <span style=\"color: #808000; text-decoration-color: #808000\">errors</span>=<span style=\"font-weight: bold\">[</span><span style=\"color: #800080; text-decoration-color: #800080; font-weight: bold\">Error</span><span style=\"font-weight: bold\">(</span><span style=\"color: #808000; text-decoration-color: #808000\">message</span>=<span style=\"color: #008000; text-decoration-color: #008000\">'Invalid number of joint angles. Expected 4.'</span>, \n",
       "<span style=\"color: #808000; text-decoration-color: #808000\">logged_at</span>=<span style=\"color: #800080; text-decoration-color: #800080; font-weight: bold\">datetime</span><span style=\"color: #800080; text-decoration-color: #800080; font-weight: bold\">.datetime</span><span style=\"font-weight: bold\">(</span><span style=\"color: #008080; text-decoration-color: #008080; font-weight: bold\">2025</span>, <span style=\"color: #008080; text-decoration-color: #008080; font-weight: bold\">4</span>, <span style=\"color: #008080; text-decoration-color: #008080; font-weight: bold\">8</span>, <span style=\"color: #008080; text-decoration-color: #008080; font-weight: bold\">10</span>, <span style=\"color: #008080; text-decoration-color: #008080; font-weight: bold\">32</span>, <span style=\"color: #008080; text-decoration-color: #008080; font-weight: bold\">30</span>, <span style=\"color: #008080; text-decoration-color: #008080; font-weight: bold\">56170</span><span style=\"font-weight: bold\">)</span>, <span style=\"color: #808000; text-decoration-color: #808000\">error_type</span>=<span style=\"color: #800080; text-decoration-color: #800080; font-style: italic\">None</span><span style=\"font-weight: bold\">)]</span> <span style=\"color: #808000; text-decoration-color: #808000\">data</span>=<span style=\"font-weight: bold\">{}</span> <span style=\"color: #808000; text-decoration-color: #808000\">files</span>=<span style=\"font-weight: bold\">{}</span> <span style=\"color: #808000; text-decoration-color: #808000\">datapoints</span>=<span style=\"font-weight: bold\">{}</span> \n",
       "<span style=\"color: #808000; text-decoration-color: #808000\">history_created_at</span>=<span style=\"color: #800080; text-decoration-color: #800080; font-weight: bold\">datetime</span><span style=\"color: #800080; text-decoration-color: #800080; font-weight: bold\">.datetime</span><span style=\"font-weight: bold\">(</span><span style=\"color: #008080; text-decoration-color: #008080; font-weight: bold\">2025</span>, <span style=\"color: #008080; text-decoration-color: #008080; font-weight: bold\">4</span>, <span style=\"color: #008080; text-decoration-color: #008080; font-weight: bold\">8</span>, <span style=\"color: #008080; text-decoration-color: #008080; font-weight: bold\">10</span>, <span style=\"color: #008080; text-decoration-color: #008080; font-weight: bold\">32</span>, <span style=\"color: #008080; text-decoration-color: #008080; font-weight: bold\">30</span>, <span style=\"color: #008080; text-decoration-color: #008080; font-weight: bold\">56180</span>, \n",
       "<span style=\"color: #808000; text-decoration-color: #808000\">tzinfo</span>=<span style=\"color: #800080; text-decoration-color: #800080; font-weight: bold\">datetime</span><span style=\"color: #800080; text-decoration-color: #800080; font-weight: bold\">.timezone</span><span style=\"font-weight: bold\">(</span><span style=\"color: #800080; text-decoration-color: #800080; font-weight: bold\">datetime.timedelta</span><span style=\"font-weight: bold\">(</span><span style=\"color: #808000; text-decoration-color: #808000\">days</span>=<span style=\"color: #008080; text-decoration-color: #008080; font-weight: bold\">-1</span>, <span style=\"color: #808000; text-decoration-color: #808000\">seconds</span>=<span style=\"color: #008080; text-decoration-color: #008080; font-weight: bold\">68400</span><span style=\"font-weight: bold\">)</span>, <span style=\"color: #008000; text-decoration-color: #008000\">'CDT'</span><span style=\"font-weight: bold\">))</span>\n",
       "</pre>\n"
      ],
      "text/plain": [
       "\u001b[1;36m2025\u001b[0m-\u001b[1;36m04\u001b[0m-\u001b[1;36m08\u001b[0m \u001b[1;92m10:32:30\u001b[0m.\u001b[1;36m056236\u001b[0m \u001b[1m(\u001b[0mEventType.ACTION_STATUS_CHANGE\u001b[1m)\u001b[0m: \u001b[33maction_id\u001b[0m=\u001b[32m'01JRB0G4Q0S0Q3M871Y5WXNMZE'\u001b[0m \n",
       "\u001b[33mstatus\u001b[0m=\u001b[1m<\u001b[0m\u001b[1;95mActionStatus.FAILED:\u001b[0m\u001b[39m \u001b[0m\u001b[32m'failed'\u001b[0m\u001b[1m>\u001b[0m \u001b[33merrors\u001b[0m=\u001b[1m[\u001b[0m\u001b[1;35mError\u001b[0m\u001b[1m(\u001b[0m\u001b[33mmessage\u001b[0m=\u001b[32m'Invalid number of joint angles. Expected 4.'\u001b[0m, \n",
       "\u001b[33mlogged_at\u001b[0m=\u001b[1;35mdatetime\u001b[0m\u001b[1;35m.datetime\u001b[0m\u001b[1m(\u001b[0m\u001b[1;36m2025\u001b[0m, \u001b[1;36m4\u001b[0m, \u001b[1;36m8\u001b[0m, \u001b[1;36m10\u001b[0m, \u001b[1;36m32\u001b[0m, \u001b[1;36m30\u001b[0m, \u001b[1;36m56170\u001b[0m\u001b[1m)\u001b[0m, \u001b[33merror_type\u001b[0m=\u001b[3;35mNone\u001b[0m\u001b[1m)\u001b[0m\u001b[1m]\u001b[0m \u001b[33mdata\u001b[0m=\u001b[1m{\u001b[0m\u001b[1m}\u001b[0m \u001b[33mfiles\u001b[0m=\u001b[1m{\u001b[0m\u001b[1m}\u001b[0m \u001b[33mdatapoints\u001b[0m=\u001b[1m{\u001b[0m\u001b[1m}\u001b[0m \n",
       "\u001b[33mhistory_created_at\u001b[0m=\u001b[1;35mdatetime\u001b[0m\u001b[1;35m.datetime\u001b[0m\u001b[1m(\u001b[0m\u001b[1;36m2025\u001b[0m, \u001b[1;36m4\u001b[0m, \u001b[1;36m8\u001b[0m, \u001b[1;36m10\u001b[0m, \u001b[1;36m32\u001b[0m, \u001b[1;36m30\u001b[0m, \u001b[1;36m56180\u001b[0m, \n",
       "\u001b[33mtzinfo\u001b[0m=\u001b[1;35mdatetime\u001b[0m\u001b[1;35m.timezone\u001b[0m\u001b[1m(\u001b[0m\u001b[1;35mdatetime.timedelta\u001b[0m\u001b[1m(\u001b[0m\u001b[33mdays\u001b[0m=\u001b[1;36m-1\u001b[0m, \u001b[33mseconds\u001b[0m=\u001b[1;36m68400\u001b[0m\u001b[1m)\u001b[0m, \u001b[32m'CDT'\u001b[0m\u001b[1m)\u001b[0m\u001b[1m)\u001b[0m\n"
      ]
     },
     "metadata": {},
     "output_type": "display_data"
    },
    {
     "data": {
      "text/html": [
       "<pre style=\"white-space:pre;overflow-x:auto;line-height:normal;font-family:Menlo,'DejaVu Sans Mono',consolas,'Courier New',monospace\"><span style=\"color: #800080; text-decoration-color: #800080; font-weight: bold\">ActionResult</span><span style=\"font-weight: bold\">(</span>\n",
       "    <span style=\"color: #808000; text-decoration-color: #808000\">action_id</span>=<span style=\"color: #008000; text-decoration-color: #008000\">'01JRB0G4Q0S0Q3M871Y5WXNMZE'</span>,\n",
       "    <span style=\"color: #808000; text-decoration-color: #808000\">status</span>=<span style=\"font-weight: bold\">&lt;</span><span style=\"color: #ff00ff; text-decoration-color: #ff00ff; font-weight: bold\">ActionStatus.FAILED:</span><span style=\"color: #000000; text-decoration-color: #000000\"> </span><span style=\"color: #008000; text-decoration-color: #008000\">'failed'</span><span style=\"font-weight: bold\">&gt;</span>,\n",
       "    <span style=\"color: #808000; text-decoration-color: #808000\">errors</span>=<span style=\"font-weight: bold\">[</span>\n",
       "        <span style=\"color: #800080; text-decoration-color: #800080; font-weight: bold\">Error</span><span style=\"font-weight: bold\">(</span>\n",
       "            <span style=\"color: #808000; text-decoration-color: #808000\">message</span>=<span style=\"color: #008000; text-decoration-color: #008000\">'Invalid number of joint angles. Expected 4.'</span>,\n",
       "            <span style=\"color: #808000; text-decoration-color: #808000\">logged_at</span>=<span style=\"color: #800080; text-decoration-color: #800080; font-weight: bold\">datetime</span><span style=\"color: #800080; text-decoration-color: #800080; font-weight: bold\">.datetime</span><span style=\"font-weight: bold\">(</span><span style=\"color: #008080; text-decoration-color: #008080; font-weight: bold\">2025</span>, <span style=\"color: #008080; text-decoration-color: #008080; font-weight: bold\">4</span>, <span style=\"color: #008080; text-decoration-color: #008080; font-weight: bold\">8</span>, <span style=\"color: #008080; text-decoration-color: #008080; font-weight: bold\">10</span>, <span style=\"color: #008080; text-decoration-color: #008080; font-weight: bold\">32</span>, <span style=\"color: #008080; text-decoration-color: #008080; font-weight: bold\">30</span>, <span style=\"color: #008080; text-decoration-color: #008080; font-weight: bold\">56170</span><span style=\"font-weight: bold\">)</span>,\n",
       "            <span style=\"color: #808000; text-decoration-color: #808000\">error_type</span>=<span style=\"color: #800080; text-decoration-color: #800080; font-style: italic\">None</span>\n",
       "        <span style=\"font-weight: bold\">)</span>\n",
       "    <span style=\"font-weight: bold\">]</span>,\n",
       "    <span style=\"color: #808000; text-decoration-color: #808000\">data</span>=<span style=\"font-weight: bold\">{}</span>,\n",
       "    <span style=\"color: #808000; text-decoration-color: #808000\">files</span>=<span style=\"font-weight: bold\">{}</span>,\n",
       "    <span style=\"color: #808000; text-decoration-color: #808000\">datapoints</span>=<span style=\"font-weight: bold\">{}</span>,\n",
       "    <span style=\"color: #808000; text-decoration-color: #808000\">history_created_at</span>=<span style=\"color: #800080; text-decoration-color: #800080; font-weight: bold\">datetime</span><span style=\"color: #800080; text-decoration-color: #800080; font-weight: bold\">.datetime</span><span style=\"font-weight: bold\">(</span><span style=\"color: #008080; text-decoration-color: #008080; font-weight: bold\">2025</span>, <span style=\"color: #008080; text-decoration-color: #008080; font-weight: bold\">4</span>, <span style=\"color: #008080; text-decoration-color: #008080; font-weight: bold\">8</span>, <span style=\"color: #008080; text-decoration-color: #008080; font-weight: bold\">10</span>, <span style=\"color: #008080; text-decoration-color: #008080; font-weight: bold\">32</span>, <span style=\"color: #008080; text-decoration-color: #008080; font-weight: bold\">30</span>, <span style=\"color: #008080; text-decoration-color: #008080; font-weight: bold\">56180</span>, <span style=\"color: #808000; text-decoration-color: #808000\">tzinfo</span>=<span style=\"color: #800080; text-decoration-color: #800080; font-weight: bold\">TzInfo</span><span style=\"font-weight: bold\">(</span><span style=\"color: #008080; text-decoration-color: #008080; font-weight: bold\">-05</span>:<span style=\"color: #008080; text-decoration-color: #008080; font-weight: bold\">00</span><span style=\"font-weight: bold\">))</span>\n",
       "<span style=\"font-weight: bold\">)</span>\n",
       "</pre>\n"
      ],
      "text/plain": [
       "\u001b[1;35mActionResult\u001b[0m\u001b[1m(\u001b[0m\n",
       "    \u001b[33maction_id\u001b[0m=\u001b[32m'01JRB0G4Q0S0Q3M871Y5WXNMZE'\u001b[0m,\n",
       "    \u001b[33mstatus\u001b[0m=\u001b[1m<\u001b[0m\u001b[1;95mActionStatus.FAILED:\u001b[0m\u001b[39m \u001b[0m\u001b[32m'failed'\u001b[0m\u001b[1m>\u001b[0m,\n",
       "    \u001b[33merrors\u001b[0m=\u001b[1m[\u001b[0m\n",
       "        \u001b[1;35mError\u001b[0m\u001b[1m(\u001b[0m\n",
       "            \u001b[33mmessage\u001b[0m=\u001b[32m'Invalid number of joint angles. Expected 4.'\u001b[0m,\n",
       "            \u001b[33mlogged_at\u001b[0m=\u001b[1;35mdatetime\u001b[0m\u001b[1;35m.datetime\u001b[0m\u001b[1m(\u001b[0m\u001b[1;36m2025\u001b[0m, \u001b[1;36m4\u001b[0m, \u001b[1;36m8\u001b[0m, \u001b[1;36m10\u001b[0m, \u001b[1;36m32\u001b[0m, \u001b[1;36m30\u001b[0m, \u001b[1;36m56170\u001b[0m\u001b[1m)\u001b[0m,\n",
       "            \u001b[33merror_type\u001b[0m=\u001b[3;35mNone\u001b[0m\n",
       "        \u001b[1m)\u001b[0m\n",
       "    \u001b[1m]\u001b[0m,\n",
       "    \u001b[33mdata\u001b[0m=\u001b[1m{\u001b[0m\u001b[1m}\u001b[0m,\n",
       "    \u001b[33mfiles\u001b[0m=\u001b[1m{\u001b[0m\u001b[1m}\u001b[0m,\n",
       "    \u001b[33mdatapoints\u001b[0m=\u001b[1m{\u001b[0m\u001b[1m}\u001b[0m,\n",
       "    \u001b[33mhistory_created_at\u001b[0m=\u001b[1;35mdatetime\u001b[0m\u001b[1;35m.datetime\u001b[0m\u001b[1m(\u001b[0m\u001b[1;36m2025\u001b[0m, \u001b[1;36m4\u001b[0m, \u001b[1;36m8\u001b[0m, \u001b[1;36m10\u001b[0m, \u001b[1;36m32\u001b[0m, \u001b[1;36m30\u001b[0m, \u001b[1;36m56180\u001b[0m, \u001b[33mtzinfo\u001b[0m=\u001b[1;35mTzInfo\u001b[0m\u001b[1m(\u001b[0m\u001b[1;36m-05\u001b[0m:\u001b[1;36m00\u001b[0m\u001b[1m)\u001b[0m\u001b[1m)\u001b[0m\n",
       "\u001b[1m)\u001b[0m\n"
      ]
     },
     "metadata": {},
     "output_type": "display_data"
    },
    {
     "data": {
      "text/html": [
       "<pre style=\"white-space:pre;overflow-x:auto;line-height:normal;font-family:Menlo,'DejaVu Sans Mono',consolas,'Courier New',monospace\"><span style=\"color: #008080; text-decoration-color: #008080; font-weight: bold\">2025</span>-<span style=\"color: #008080; text-decoration-color: #008080; font-weight: bold\">04</span>-<span style=\"color: #008080; text-decoration-color: #008080; font-weight: bold\">08</span> <span style=\"color: #00ff00; text-decoration-color: #00ff00; font-weight: bold\">10:32:30</span>.<span style=\"color: #008080; text-decoration-color: #008080; font-weight: bold\">062335</span> <span style=\"font-weight: bold\">(</span>EventType.LOG_INFO<span style=\"font-weight: bold\">)</span>: Disconnecting from robot <span style=\"color: #008080; text-decoration-color: #008080; font-weight: bold\">0</span><span style=\"color: #808000; text-decoration-color: #808000\">...</span>\n",
       "</pre>\n"
      ],
      "text/plain": [
       "\u001b[1;36m2025\u001b[0m-\u001b[1;36m04\u001b[0m-\u001b[1;36m08\u001b[0m \u001b[1;92m10:32:30\u001b[0m.\u001b[1;36m062335\u001b[0m \u001b[1m(\u001b[0mEventType.LOG_INFO\u001b[1m)\u001b[0m: Disconnecting from robot \u001b[1;36m0\u001b[0m\u001b[33m...\u001b[0m\n"
      ]
     },
     "metadata": {},
     "output_type": "display_data"
    },
    {
     "data": {
      "text/html": [
       "<pre style=\"white-space:pre;overflow-x:auto;line-height:normal;font-family:Menlo,'DejaVu Sans Mono',consolas,'Courier New',monospace\"><span style=\"color: #008080; text-decoration-color: #008080; font-weight: bold\">2025</span>-<span style=\"color: #008080; text-decoration-color: #008080; font-weight: bold\">04</span>-<span style=\"color: #008080; text-decoration-color: #008080; font-weight: bold\">08</span> <span style=\"color: #00ff00; text-decoration-color: #00ff00; font-weight: bold\">10:32:30</span>.<span style=\"color: #008080; text-decoration-color: #008080; font-weight: bold\">063395</span> <span style=\"font-weight: bold\">(</span>EventType.LOG_INFO<span style=\"font-weight: bold\">)</span>: Disconnected from robot <span style=\"color: #008080; text-decoration-color: #008080; font-weight: bold\">0</span>\n",
       "</pre>\n"
      ],
      "text/plain": [
       "\u001b[1;36m2025\u001b[0m-\u001b[1;36m04\u001b[0m-\u001b[1;36m08\u001b[0m \u001b[1;92m10:32:30\u001b[0m.\u001b[1;36m063395\u001b[0m \u001b[1m(\u001b[0mEventType.LOG_INFO\u001b[1m)\u001b[0m: Disconnected from robot \u001b[1;36m0\u001b[0m\n"
      ]
     },
     "metadata": {},
     "output_type": "display_data"
    }
   ],
   "source": [
    "# What if the action fails?\n",
    "with node_client(example_node, RestNodeClient(url=\"http://localhost:2000\")) as client:\n",
    "    while not client.get_status().ready:\n",
    "        # Wait for the node to be ready\n",
    "        time.sleep(0.1)\n",
    "    request = ActionRequest(\n",
    "        action_name=\"move_joints\",\n",
    "        args={\"joint_angles\": [0.5, 0.5, 0.5]},\n",
    "    )\n",
    "    # Send the action request to the node\n",
    "    print(client.send_action(request))"
   ]
  },
  {
   "cell_type": "code",
   "execution_count": 14,
   "metadata": {},
   "outputs": [
    {
     "data": {
      "text/html": [
       "<pre style=\"white-space:pre;overflow-x:auto;line-height:normal;font-family:Menlo,'DejaVu Sans Mono',consolas,'Courier New',monospace\"><span style=\"color: #008080; text-decoration-color: #008080; font-weight: bold\">2025</span>-<span style=\"color: #008080; text-decoration-color: #008080; font-weight: bold\">04</span>-<span style=\"color: #008080; text-decoration-color: #008080; font-weight: bold\">08</span> <span style=\"color: #00ff00; text-decoration-color: #00ff00; font-weight: bold\">10:32:30</span>.<span style=\"color: #008080; text-decoration-color: #008080; font-weight: bold\">081278</span> <span style=\"font-weight: bold\">(</span>EventType.LOG_INFO<span style=\"font-weight: bold\">)</span>: Connecting to robot <span style=\"color: #008080; text-decoration-color: #008080; font-weight: bold\">0</span><span style=\"color: #808000; text-decoration-color: #808000\">...</span>\n",
       "</pre>\n"
      ],
      "text/plain": [
       "\u001b[1;36m2025\u001b[0m-\u001b[1;36m04\u001b[0m-\u001b[1;36m08\u001b[0m \u001b[1;92m10:32:30\u001b[0m.\u001b[1;36m081278\u001b[0m \u001b[1m(\u001b[0mEventType.LOG_INFO\u001b[1m)\u001b[0m: Connecting to robot \u001b[1;36m0\u001b[0m\u001b[33m...\u001b[0m\n"
      ]
     },
     "metadata": {},
     "output_type": "display_data"
    },
    {
     "data": {
      "text/html": [
       "<pre style=\"white-space:pre;overflow-x:auto;line-height:normal;font-family:Menlo,'DejaVu Sans Mono',consolas,'Courier New',monospace\"><span style=\"color: #008080; text-decoration-color: #008080; font-weight: bold\">2025</span>-<span style=\"color: #008080; text-decoration-color: #008080; font-weight: bold\">04</span>-<span style=\"color: #008080; text-decoration-color: #008080; font-weight: bold\">08</span> <span style=\"color: #00ff00; text-decoration-color: #00ff00; font-weight: bold\">10:32:30</span>.<span style=\"color: #008080; text-decoration-color: #008080; font-weight: bold\">083873</span> <span style=\"font-weight: bold\">(</span>EventType.LOG_INFO<span style=\"font-weight: bold\">)</span>: Connected to robot <span style=\"color: #008080; text-decoration-color: #008080; font-weight: bold\">0</span>\n",
       "</pre>\n"
      ],
      "text/plain": [
       "\u001b[1;36m2025\u001b[0m-\u001b[1;36m04\u001b[0m-\u001b[1;36m08\u001b[0m \u001b[1;92m10:32:30\u001b[0m.\u001b[1;36m083873\u001b[0m \u001b[1m(\u001b[0mEventType.LOG_INFO\u001b[1m)\u001b[0m: Connected to robot \u001b[1;36m0\u001b[0m\n"
      ]
     },
     "metadata": {},
     "output_type": "display_data"
    },
    {
     "data": {
      "text/html": [
       "<pre style=\"white-space:pre;overflow-x:auto;line-height:normal;font-family:Menlo,'DejaVu Sans Mono',consolas,'Courier New',monospace\"><span style=\"color: #008080; text-decoration-color: #008080; font-weight: bold\">2025</span>-<span style=\"color: #008080; text-decoration-color: #008080; font-weight: bold\">04</span>-<span style=\"color: #008080; text-decoration-color: #008080; font-weight: bold\">08</span> <span style=\"color: #00ff00; text-decoration-color: #00ff00; font-weight: bold\">10:32:30</span>.<span style=\"color: #008080; text-decoration-color: #008080; font-weight: bold\">085143</span> <span style=\"font-weight: bold\">(</span>EventType.LOG_INFO<span style=\"font-weight: bold\">)</span>: Startup complete for node example_node.\n",
       "</pre>\n"
      ],
      "text/plain": [
       "\u001b[1;36m2025\u001b[0m-\u001b[1;36m04\u001b[0m-\u001b[1;36m08\u001b[0m \u001b[1;92m10:32:30\u001b[0m.\u001b[1;36m085143\u001b[0m \u001b[1m(\u001b[0mEventType.LOG_INFO\u001b[1m)\u001b[0m: Startup complete for node example_node.\n"
      ]
     },
     "metadata": {},
     "output_type": "display_data"
    },
    {
     "data": {
      "text/html": [
       "<pre style=\"white-space:pre;overflow-x:auto;line-height:normal;font-family:Menlo,'DejaVu Sans Mono',consolas,'Courier New',monospace\"><span style=\"color: #800080; text-decoration-color: #800080; font-weight: bold\">NodeInfo</span><span style=\"font-weight: bold\">(</span>\n",
       "    <span style=\"color: #808000; text-decoration-color: #808000\">node_name</span>=<span style=\"color: #008000; text-decoration-color: #008000\">'example_node'</span>,\n",
       "    <span style=\"color: #808000; text-decoration-color: #808000\">node_id</span>=<span style=\"color: #008000; text-decoration-color: #008000\">'01JRB0FNV771F9MWDPZ4GX31A7'</span>,\n",
       "    <span style=\"color: #808000; text-decoration-color: #808000\">node_url</span>=<span style=\"color: #800080; text-decoration-color: #800080; font-weight: bold\">AnyUrl</span><span style=\"font-weight: bold\">(</span><span style=\"color: #008000; text-decoration-color: #008000\">'http://127.0.0.1:8000/'</span><span style=\"font-weight: bold\">)</span>,\n",
       "    <span style=\"color: #808000; text-decoration-color: #808000\">node_description</span>=<span style=\"color: #008000; text-decoration-color: #008000\">'An example node'</span>,\n",
       "    <span style=\"color: #808000; text-decoration-color: #808000\">node_type</span>=<span style=\"color: #800080; text-decoration-color: #800080; font-style: italic\">None</span>,\n",
       "    <span style=\"color: #808000; text-decoration-color: #808000\">module_name</span>=<span style=\"color: #008000; text-decoration-color: #008000\">'example_node_module'</span>,\n",
       "    <span style=\"color: #808000; text-decoration-color: #808000\">module_version</span>=<span style=\"color: #800080; text-decoration-color: #800080; font-weight: bold\">SemanticVersion</span><span style=\"font-weight: bold\">(</span><span style=\"color: #808000; text-decoration-color: #808000\">major</span>=<span style=\"color: #008080; text-decoration-color: #008080; font-weight: bold\">0</span>, <span style=\"color: #808000; text-decoration-color: #808000\">minor</span>=<span style=\"color: #008080; text-decoration-color: #008080; font-weight: bold\">0</span>, <span style=\"color: #808000; text-decoration-color: #808000\">patch</span>=<span style=\"color: #008080; text-decoration-color: #008080; font-weight: bold\">1</span>, <span style=\"color: #808000; text-decoration-color: #808000\">prerelease</span>=<span style=\"color: #800080; text-decoration-color: #800080; font-style: italic\">None</span>, <span style=\"color: #808000; text-decoration-color: #808000\">build</span>=<span style=\"color: #800080; text-decoration-color: #800080; font-style: italic\">None</span><span style=\"font-weight: bold\">)</span>,\n",
       "    <span style=\"color: #808000; text-decoration-color: #808000\">capabilities</span>=<span style=\"color: #800080; text-decoration-color: #800080; font-weight: bold\">NodeCapabilities</span><span style=\"font-weight: bold\">(</span>\n",
       "        <span style=\"color: #808000; text-decoration-color: #808000\">get_info</span>=<span style=\"color: #00ff00; text-decoration-color: #00ff00; font-style: italic\">True</span>,\n",
       "        <span style=\"color: #808000; text-decoration-color: #808000\">get_state</span>=<span style=\"color: #00ff00; text-decoration-color: #00ff00; font-style: italic\">True</span>,\n",
       "        <span style=\"color: #808000; text-decoration-color: #808000\">get_status</span>=<span style=\"color: #00ff00; text-decoration-color: #00ff00; font-style: italic\">True</span>,\n",
       "        <span style=\"color: #808000; text-decoration-color: #808000\">send_action</span>=<span style=\"color: #00ff00; text-decoration-color: #00ff00; font-style: italic\">True</span>,\n",
       "        <span style=\"color: #808000; text-decoration-color: #808000\">get_action_result</span>=<span style=\"color: #00ff00; text-decoration-color: #00ff00; font-style: italic\">True</span>,\n",
       "        <span style=\"color: #808000; text-decoration-color: #808000\">get_action_history</span>=<span style=\"color: #00ff00; text-decoration-color: #00ff00; font-style: italic\">True</span>,\n",
       "        <span style=\"color: #808000; text-decoration-color: #808000\">action_files</span>=<span style=\"color: #00ff00; text-decoration-color: #00ff00; font-style: italic\">True</span>,\n",
       "        <span style=\"color: #808000; text-decoration-color: #808000\">send_admin_commands</span>=<span style=\"color: #00ff00; text-decoration-color: #00ff00; font-style: italic\">True</span>,\n",
       "        <span style=\"color: #808000; text-decoration-color: #808000\">set_config</span>=<span style=\"color: #00ff00; text-decoration-color: #00ff00; font-style: italic\">True</span>,\n",
       "        <span style=\"color: #808000; text-decoration-color: #808000\">get_resources</span>=<span style=\"color: #ff0000; text-decoration-color: #ff0000; font-style: italic\">False</span>,\n",
       "        <span style=\"color: #808000; text-decoration-color: #808000\">get_log</span>=<span style=\"color: #00ff00; text-decoration-color: #00ff00; font-style: italic\">True</span>,\n",
       "        <span style=\"color: #808000; text-decoration-color: #808000\">events</span>=<span style=\"color: #800080; text-decoration-color: #800080; font-style: italic\">None</span>,\n",
       "        <span style=\"color: #808000; text-decoration-color: #808000\">resources</span>=<span style=\"color: #800080; text-decoration-color: #800080; font-style: italic\">None</span>,\n",
       "        <span style=\"color: #808000; text-decoration-color: #808000\">admin_commands</span>=<span style=\"font-weight: bold\">{</span>\n",
       "            <span style=\"font-weight: bold\">&lt;</span><span style=\"color: #ff00ff; text-decoration-color: #ff00ff; font-weight: bold\">AdminCommands.LOCK:</span><span style=\"color: #000000; text-decoration-color: #000000\"> </span><span style=\"color: #008000; text-decoration-color: #008000\">'lock'</span><span style=\"color: #000000; text-decoration-color: #000000\">&gt;,</span>\n",
       "<span style=\"color: #000000; text-decoration-color: #000000\">            &lt;AdminCommands.RESET: </span><span style=\"color: #008000; text-decoration-color: #008000\">'reset'</span><span style=\"color: #000000; text-decoration-color: #000000\">&gt;,</span>\n",
       "<span style=\"color: #000000; text-decoration-color: #000000\">            &lt;AdminCommands.UNLOCK: </span><span style=\"color: #008000; text-decoration-color: #008000\">'unlock'</span><span style=\"color: #000000; text-decoration-color: #000000\">&gt;,</span>\n",
       "<span style=\"color: #000000; text-decoration-color: #000000\">            &lt;AdminCommands.SHUTDOWN: </span><span style=\"color: #008000; text-decoration-color: #008000\">'shutdown'</span><span style=\"font-weight: bold\">&gt;</span>\n",
       "        <span style=\"font-weight: bold\">}</span>\n",
       "    <span style=\"font-weight: bold\">)</span>,\n",
       "    <span style=\"color: #808000; text-decoration-color: #808000\">commands</span>=<span style=\"font-weight: bold\">{}</span>,\n",
       "    <span style=\"color: #808000; text-decoration-color: #808000\">is_template</span>=<span style=\"color: #ff0000; text-decoration-color: #ff0000; font-style: italic\">False</span>,\n",
       "    <span style=\"color: #808000; text-decoration-color: #808000\">config_defaults</span>=<span style=\"font-weight: bold\">{</span><span style=\"color: #008000; text-decoration-color: #008000\">'state_update_interval'</span>: <span style=\"color: #008080; text-decoration-color: #008080; font-weight: bold\">2</span>, <span style=\"color: #008000; text-decoration-color: #008000\">'status_update_interval'</span>: <span style=\"color: #008080; text-decoration-color: #008080; font-weight: bold\">0.5</span><span style=\"font-weight: bold\">}</span>,\n",
       "    <span style=\"color: #808000; text-decoration-color: #808000\">actions</span>=<span style=\"font-weight: bold\">{</span>\n",
       "        <span style=\"color: #008000; text-decoration-color: #008000\">'move_joints'</span>: <span style=\"color: #800080; text-decoration-color: #800080; font-weight: bold\">ActionDefinition</span><span style=\"font-weight: bold\">(</span>\n",
       "            <span style=\"color: #808000; text-decoration-color: #808000\">name</span>=<span style=\"color: #008000; text-decoration-color: #008000\">'move_joints'</span>,\n",
       "            <span style=\"color: #808000; text-decoration-color: #808000\">description</span>=<span style=\"color: #008000; text-decoration-color: #008000\">'Move the robot to the specified joint angles'</span>,\n",
       "            <span style=\"color: #808000; text-decoration-color: #808000\">args</span>=<span style=\"font-weight: bold\">{</span>\n",
       "                <span style=\"color: #008000; text-decoration-color: #008000\">'joint_angles'</span>: <span style=\"color: #800080; text-decoration-color: #800080; font-weight: bold\">ArgumentDefinition</span><span style=\"font-weight: bold\">(</span>\n",
       "                    <span style=\"color: #808000; text-decoration-color: #808000\">name</span>=<span style=\"color: #008000; text-decoration-color: #008000\">'joint_angles'</span>,\n",
       "                    <span style=\"color: #808000; text-decoration-color: #808000\">description</span>=<span style=\"color: #008000; text-decoration-color: #008000\">''</span>,\n",
       "                    <span style=\"color: #808000; text-decoration-color: #808000\">argument_type</span>=<span style=\"color: #008000; text-decoration-color: #008000\">'list[float]'</span>,\n",
       "                    <span style=\"color: #808000; text-decoration-color: #808000\">required</span>=<span style=\"color: #00ff00; text-decoration-color: #00ff00; font-style: italic\">True</span>,\n",
       "                    <span style=\"color: #808000; text-decoration-color: #808000\">default</span>=<span style=\"color: #800080; text-decoration-color: #800080; font-style: italic\">None</span>\n",
       "                <span style=\"font-weight: bold\">)</span>\n",
       "            <span style=\"font-weight: bold\">}</span>,\n",
       "            <span style=\"color: #808000; text-decoration-color: #808000\">locations</span>=<span style=\"font-weight: bold\">{}</span>,\n",
       "            <span style=\"color: #808000; text-decoration-color: #808000\">files</span>=<span style=\"font-weight: bold\">{}</span>,\n",
       "            <span style=\"color: #808000; text-decoration-color: #808000\">results</span>=<span style=\"font-weight: bold\">{}</span>,\n",
       "            <span style=\"color: #808000; text-decoration-color: #808000\">blocking</span>=<span style=\"color: #ff0000; text-decoration-color: #ff0000; font-style: italic\">False</span>,\n",
       "            <span style=\"color: #808000; text-decoration-color: #808000\">asynchronous</span>=<span style=\"color: #00ff00; text-decoration-color: #00ff00; font-style: italic\">True</span>\n",
       "        <span style=\"font-weight: bold\">)</span>\n",
       "    <span style=\"font-weight: bold\">}</span>,\n",
       "    <span style=\"color: #808000; text-decoration-color: #808000\">config</span>=<span style=\"font-weight: bold\">{</span>\n",
       "        <span style=\"color: #008000; text-decoration-color: #008000\">'status_update_interval'</span>: <span style=\"color: #008080; text-decoration-color: #008080; font-weight: bold\">0.5</span>,\n",
       "        <span style=\"color: #008000; text-decoration-color: #008000\">'state_update_interval'</span>: <span style=\"color: #008080; text-decoration-color: #008080; font-weight: bold\">2.0</span>,\n",
       "        <span style=\"color: #008000; text-decoration-color: #008000\">'event_client_config'</span>: <span style=\"color: #800080; text-decoration-color: #800080; font-style: italic\">None</span>,\n",
       "        <span style=\"color: #008000; text-decoration-color: #008000\">'resource_server_url'</span>: <span style=\"color: #800080; text-decoration-color: #800080; font-style: italic\">None</span>,\n",
       "        <span style=\"color: #008000; text-decoration-color: #008000\">'host'</span>: <span style=\"color: #008000; text-decoration-color: #008000\">'127.0.0.1'</span>,\n",
       "        <span style=\"color: #008000; text-decoration-color: #008000\">'port'</span>: <span style=\"color: #008080; text-decoration-color: #008080; font-weight: bold\">8000</span>,\n",
       "        <span style=\"color: #008000; text-decoration-color: #008000\">'protocol'</span>: <span style=\"color: #008000; text-decoration-color: #008000\">'http'</span>,\n",
       "        <span style=\"color: #008000; text-decoration-color: #008000\">'robot_number'</span>: <span style=\"color: #008080; text-decoration-color: #008080; font-weight: bold\">0</span>\n",
       "    <span style=\"font-weight: bold\">}</span>,\n",
       "    <span style=\"color: #808000; text-decoration-color: #808000\">config_schema</span>=<span style=\"font-weight: bold\">{</span>\n",
       "        <span style=\"color: #008000; text-decoration-color: #008000\">'$defs'</span>: <span style=\"font-weight: bold\">{</span>\n",
       "            <span style=\"color: #008000; text-decoration-color: #008000\">'EventClientConfig'</span>: <span style=\"font-weight: bold\">{</span>\n",
       "                <span style=\"color: #008000; text-decoration-color: #008000\">'description'</span>: <span style=\"color: #008000; text-decoration-color: #008000\">'Configuration for an Event Client.'</span>,\n",
       "                <span style=\"color: #008000; text-decoration-color: #008000\">'properties'</span>: <span style=\"font-weight: bold\">{</span>\n",
       "                    <span style=\"color: #008000; text-decoration-color: #008000\">'name'</span>: <span style=\"font-weight: bold\">{</span>\n",
       "                        <span style=\"color: #008000; text-decoration-color: #008000\">'anyOf'</span>: <span style=\"font-weight: bold\">[{</span><span style=\"color: #008000; text-decoration-color: #008000\">'type'</span>: <span style=\"color: #008000; text-decoration-color: #008000\">'string'</span><span style=\"font-weight: bold\">}</span>, <span style=\"font-weight: bold\">{</span><span style=\"color: #008000; text-decoration-color: #008000\">'type'</span>: <span style=\"color: #008000; text-decoration-color: #008000\">'null'</span><span style=\"font-weight: bold\">}]</span>,\n",
       "                        <span style=\"color: #008000; text-decoration-color: #008000\">'default'</span>: <span style=\"color: #800080; text-decoration-color: #800080; font-style: italic\">None</span>,\n",
       "                        <span style=\"color: #008000; text-decoration-color: #008000\">'description'</span>: <span style=\"color: #008000; text-decoration-color: #008000\">'The name of the event client.'</span>,\n",
       "                        <span style=\"color: #008000; text-decoration-color: #008000\">'title'</span>: <span style=\"color: #008000; text-decoration-color: #008000\">'Event Client Name'</span>\n",
       "                    <span style=\"font-weight: bold\">}</span>,\n",
       "                    <span style=\"color: #008000; text-decoration-color: #008000\">'event_server_url'</span>: <span style=\"font-weight: bold\">{</span>\n",
       "                        <span style=\"color: #008000; text-decoration-color: #008000\">'anyOf'</span>: <span style=\"font-weight: bold\">[{</span><span style=\"color: #008000; text-decoration-color: #008000\">'type'</span>: <span style=\"color: #008000; text-decoration-color: #008000\">'string'</span><span style=\"font-weight: bold\">}</span>, <span style=\"font-weight: bold\">{</span><span style=\"color: #008000; text-decoration-color: #008000\">'type'</span>: <span style=\"color: #008000; text-decoration-color: #008000\">'null'</span><span style=\"font-weight: bold\">}]</span>,\n",
       "                        <span style=\"color: #008000; text-decoration-color: #008000\">'default'</span>: <span style=\"color: #800080; text-decoration-color: #800080; font-style: italic\">None</span>,\n",
       "                        <span style=\"color: #008000; text-decoration-color: #008000\">'description'</span>: <span style=\"color: #008000; text-decoration-color: #008000\">'The URL of the event server.'</span>,\n",
       "                        <span style=\"color: #008000; text-decoration-color: #008000\">'title'</span>: <span style=\"color: #008000; text-decoration-color: #008000\">'Event Server URL'</span>\n",
       "                    <span style=\"font-weight: bold\">}</span>,\n",
       "                    <span style=\"color: #008000; text-decoration-color: #008000\">'log_level'</span>: <span style=\"font-weight: bold\">{</span>\n",
       "                        <span style=\"color: #008000; text-decoration-color: #008000\">'default'</span>: <span style=\"color: #008080; text-decoration-color: #008080; font-weight: bold\">20</span>,\n",
       "                        <span style=\"color: #008000; text-decoration-color: #008000\">'description'</span>: <span style=\"color: #008000; text-decoration-color: #008000\">'The log level of the event client.'</span>,\n",
       "                        <span style=\"color: #008000; text-decoration-color: #008000\">'title'</span>: <span style=\"color: #008000; text-decoration-color: #008000\">'Event Client Log Level'</span>,\n",
       "                        <span style=\"color: #008000; text-decoration-color: #008000\">'type'</span>: <span style=\"color: #008000; text-decoration-color: #008000\">'integer'</span>\n",
       "                    <span style=\"font-weight: bold\">}</span>,\n",
       "                    <span style=\"color: #008000; text-decoration-color: #008000\">'source'</span>: <span style=\"font-weight: bold\">{</span>\n",
       "                        <span style=\"color: #008000; text-decoration-color: #008000\">'$ref'</span>: <span style=\"color: #008000; text-decoration-color: #008000\">'#/$defs/OwnershipInfo'</span>,\n",
       "                        <span style=\"color: #008000; text-decoration-color: #008000\">'description'</span>: <span style=\"color: #008000; text-decoration-color: #008000\">'Information about the source of the event client.'</span>,\n",
       "                        <span style=\"color: #008000; text-decoration-color: #008000\">'title'</span>: <span style=\"color: #008000; text-decoration-color: #008000\">'Source'</span>\n",
       "                    <span style=\"font-weight: bold\">}</span>,\n",
       "                    <span style=\"color: #008000; text-decoration-color: #008000\">'log_dir'</span>: <span style=\"font-weight: bold\">{</span>\n",
       "                        <span style=\"color: #008000; text-decoration-color: #008000\">'anyOf'</span>: <span style=\"font-weight: bold\">[{</span><span style=\"color: #008000; text-decoration-color: #008000\">'type'</span>: <span style=\"color: #008000; text-decoration-color: #008000\">'string'</span><span style=\"font-weight: bold\">}</span>, <span style=\"font-weight: bold\">{</span><span style=\"color: #008000; text-decoration-color: #008000\">'format'</span>: <span style=\"color: #008000; text-decoration-color: #008000\">'path'</span>, <span style=\"color: #008000; text-decoration-color: #008000\">'type'</span>: <span style=\"color: #008000; text-decoration-color: #008000\">'string'</span><span style=\"font-weight: bold\">}]</span>,\n",
       "                        <span style=\"color: #008000; text-decoration-color: #008000\">'description'</span>: <span style=\"color: #008000; text-decoration-color: #008000\">'The directory to store logs in.'</span>,\n",
       "                        <span style=\"color: #008000; text-decoration-color: #008000\">'title'</span>: <span style=\"color: #008000; text-decoration-color: #008000\">'Log Directory'</span>\n",
       "                    <span style=\"font-weight: bold\">}</span>\n",
       "                <span style=\"font-weight: bold\">}</span>,\n",
       "                <span style=\"color: #008000; text-decoration-color: #008000\">'title'</span>: <span style=\"color: #008000; text-decoration-color: #008000\">'EventClientConfig'</span>,\n",
       "                <span style=\"color: #008000; text-decoration-color: #008000\">'type'</span>: <span style=\"color: #008000; text-decoration-color: #008000\">'object'</span>\n",
       "            <span style=\"font-weight: bold\">}</span>,\n",
       "            <span style=\"color: #008000; text-decoration-color: #008000\">'OwnershipInfo'</span>: <span style=\"font-weight: bold\">{</span>\n",
       "                <span style=\"color: #008000; text-decoration-color: #008000\">'description'</span>: <span style=\"color: #008000; text-decoration-color: #008000\">'Information about the ownership of a MADSci object.'</span>,\n",
       "                <span style=\"color: #008000; text-decoration-color: #008000\">'properties'</span>: <span style=\"font-weight: bold\">{</span>\n",
       "                    <span style=\"color: #008000; text-decoration-color: #008000\">'user_id'</span>: <span style=\"font-weight: bold\">{</span>\n",
       "                        <span style=\"color: #008000; text-decoration-color: #008000\">'anyOf'</span>: <span style=\"font-weight: bold\">[{</span><span style=\"color: #008000; text-decoration-color: #008000\">'type'</span>: <span style=\"color: #008000; text-decoration-color: #008000\">'string'</span><span style=\"font-weight: bold\">}</span>, <span style=\"font-weight: bold\">{</span><span style=\"color: #008000; text-decoration-color: #008000\">'type'</span>: <span style=\"color: #008000; text-decoration-color: #008000\">'null'</span><span style=\"font-weight: bold\">}]</span>,\n",
       "                        <span style=\"color: #008000; text-decoration-color: #008000\">'default'</span>: <span style=\"color: #800080; text-decoration-color: #800080; font-style: italic\">None</span>,\n",
       "                        <span style=\"color: #008000; text-decoration-color: #008000\">'description'</span>: <span style=\"color: #008000; text-decoration-color: #008000\">'The ID of the user who owns the object.'</span>,\n",
       "                        <span style=\"color: #008000; text-decoration-color: #008000\">'title'</span>: <span style=\"color: #008000; text-decoration-color: #008000\">'User ID'</span>\n",
       "                    <span style=\"font-weight: bold\">}</span>,\n",
       "                    <span style=\"color: #008000; text-decoration-color: #008000\">'experiment_id'</span>: <span style=\"font-weight: bold\">{</span>\n",
       "                        <span style=\"color: #008000; text-decoration-color: #008000\">'anyOf'</span>: <span style=\"font-weight: bold\">[{</span><span style=\"color: #008000; text-decoration-color: #008000\">'type'</span>: <span style=\"color: #008000; text-decoration-color: #008000\">'string'</span><span style=\"font-weight: bold\">}</span>, <span style=\"font-weight: bold\">{</span><span style=\"color: #008000; text-decoration-color: #008000\">'type'</span>: <span style=\"color: #008000; text-decoration-color: #008000\">'null'</span><span style=\"font-weight: bold\">}]</span>,\n",
       "                        <span style=\"color: #008000; text-decoration-color: #008000\">'default'</span>: <span style=\"color: #800080; text-decoration-color: #800080; font-style: italic\">None</span>,\n",
       "                        <span style=\"color: #008000; text-decoration-color: #008000\">'description'</span>: <span style=\"color: #008000; text-decoration-color: #008000\">'The ID of the experiment that owns the object.'</span>,\n",
       "                        <span style=\"color: #008000; text-decoration-color: #008000\">'title'</span>: <span style=\"color: #008000; text-decoration-color: #008000\">'Experiment ID'</span>\n",
       "                    <span style=\"font-weight: bold\">}</span>,\n",
       "                    <span style=\"color: #008000; text-decoration-color: #008000\">'campaign_id'</span>: <span style=\"font-weight: bold\">{</span>\n",
       "                        <span style=\"color: #008000; text-decoration-color: #008000\">'anyOf'</span>: <span style=\"font-weight: bold\">[{</span><span style=\"color: #008000; text-decoration-color: #008000\">'type'</span>: <span style=\"color: #008000; text-decoration-color: #008000\">'string'</span><span style=\"font-weight: bold\">}</span>, <span style=\"font-weight: bold\">{</span><span style=\"color: #008000; text-decoration-color: #008000\">'type'</span>: <span style=\"color: #008000; text-decoration-color: #008000\">'null'</span><span style=\"font-weight: bold\">}]</span>,\n",
       "                        <span style=\"color: #008000; text-decoration-color: #008000\">'default'</span>: <span style=\"color: #800080; text-decoration-color: #800080; font-style: italic\">None</span>,\n",
       "                        <span style=\"color: #008000; text-decoration-color: #008000\">'description'</span>: <span style=\"color: #008000; text-decoration-color: #008000\">'The ID of the campaign that owns the object.'</span>,\n",
       "                        <span style=\"color: #008000; text-decoration-color: #008000\">'title'</span>: <span style=\"color: #008000; text-decoration-color: #008000\">'Campaign ID'</span>\n",
       "                    <span style=\"font-weight: bold\">}</span>,\n",
       "                    <span style=\"color: #008000; text-decoration-color: #008000\">'project_id'</span>: <span style=\"font-weight: bold\">{</span>\n",
       "                        <span style=\"color: #008000; text-decoration-color: #008000\">'anyOf'</span>: <span style=\"font-weight: bold\">[{</span><span style=\"color: #008000; text-decoration-color: #008000\">'type'</span>: <span style=\"color: #008000; text-decoration-color: #008000\">'string'</span><span style=\"font-weight: bold\">}</span>, <span style=\"font-weight: bold\">{</span><span style=\"color: #008000; text-decoration-color: #008000\">'type'</span>: <span style=\"color: #008000; text-decoration-color: #008000\">'null'</span><span style=\"font-weight: bold\">}]</span>,\n",
       "                        <span style=\"color: #008000; text-decoration-color: #008000\">'default'</span>: <span style=\"color: #800080; text-decoration-color: #800080; font-style: italic\">None</span>,\n",
       "                        <span style=\"color: #008000; text-decoration-color: #008000\">'description'</span>: <span style=\"color: #008000; text-decoration-color: #008000\">'The ID of the project that owns the object.'</span>,\n",
       "                        <span style=\"color: #008000; text-decoration-color: #008000\">'title'</span>: <span style=\"color: #008000; text-decoration-color: #008000\">'Project ID'</span>\n",
       "                    <span style=\"font-weight: bold\">}</span>,\n",
       "                    <span style=\"color: #008000; text-decoration-color: #008000\">'node_id'</span>: <span style=\"font-weight: bold\">{</span>\n",
       "                        <span style=\"color: #008000; text-decoration-color: #008000\">'anyOf'</span>: <span style=\"font-weight: bold\">[{</span><span style=\"color: #008000; text-decoration-color: #008000\">'type'</span>: <span style=\"color: #008000; text-decoration-color: #008000\">'string'</span><span style=\"font-weight: bold\">}</span>, <span style=\"font-weight: bold\">{</span><span style=\"color: #008000; text-decoration-color: #008000\">'type'</span>: <span style=\"color: #008000; text-decoration-color: #008000\">'null'</span><span style=\"font-weight: bold\">}]</span>,\n",
       "                        <span style=\"color: #008000; text-decoration-color: #008000\">'default'</span>: <span style=\"color: #800080; text-decoration-color: #800080; font-style: italic\">None</span>,\n",
       "                        <span style=\"color: #008000; text-decoration-color: #008000\">'description'</span>: <span style=\"color: #008000; text-decoration-color: #008000\">'The ID of the node that owns the object.'</span>,\n",
       "                        <span style=\"color: #008000; text-decoration-color: #008000\">'title'</span>: <span style=\"color: #008000; text-decoration-color: #008000\">'Node ID'</span>\n",
       "                    <span style=\"font-weight: bold\">}</span>,\n",
       "                    <span style=\"color: #008000; text-decoration-color: #008000\">'workcell_id'</span>: <span style=\"font-weight: bold\">{</span>\n",
       "                        <span style=\"color: #008000; text-decoration-color: #008000\">'anyOf'</span>: <span style=\"font-weight: bold\">[{</span><span style=\"color: #008000; text-decoration-color: #008000\">'type'</span>: <span style=\"color: #008000; text-decoration-color: #008000\">'string'</span><span style=\"font-weight: bold\">}</span>, <span style=\"font-weight: bold\">{</span><span style=\"color: #008000; text-decoration-color: #008000\">'type'</span>: <span style=\"color: #008000; text-decoration-color: #008000\">'null'</span><span style=\"font-weight: bold\">}]</span>,\n",
       "                        <span style=\"color: #008000; text-decoration-color: #008000\">'default'</span>: <span style=\"color: #800080; text-decoration-color: #800080; font-style: italic\">None</span>,\n",
       "                        <span style=\"color: #008000; text-decoration-color: #008000\">'description'</span>: <span style=\"color: #008000; text-decoration-color: #008000\">'The ID of the workcell that owns the object.'</span>,\n",
       "                        <span style=\"color: #008000; text-decoration-color: #008000\">'title'</span>: <span style=\"color: #008000; text-decoration-color: #008000\">'Workcell ID'</span>\n",
       "                    <span style=\"font-weight: bold\">}</span>,\n",
       "                    <span style=\"color: #008000; text-decoration-color: #008000\">'lab_id'</span>: <span style=\"font-weight: bold\">{</span>\n",
       "                        <span style=\"color: #008000; text-decoration-color: #008000\">'anyOf'</span>: <span style=\"font-weight: bold\">[{</span><span style=\"color: #008000; text-decoration-color: #008000\">'type'</span>: <span style=\"color: #008000; text-decoration-color: #008000\">'string'</span><span style=\"font-weight: bold\">}</span>, <span style=\"font-weight: bold\">{</span><span style=\"color: #008000; text-decoration-color: #008000\">'type'</span>: <span style=\"color: #008000; text-decoration-color: #008000\">'null'</span><span style=\"font-weight: bold\">}]</span>,\n",
       "                        <span style=\"color: #008000; text-decoration-color: #008000\">'default'</span>: <span style=\"color: #800080; text-decoration-color: #800080; font-style: italic\">None</span>,\n",
       "                        <span style=\"color: #008000; text-decoration-color: #008000\">'description'</span>: <span style=\"color: #008000; text-decoration-color: #008000\">'The ID of the lab that owns the object.'</span>,\n",
       "                        <span style=\"color: #008000; text-decoration-color: #008000\">'title'</span>: <span style=\"color: #008000; text-decoration-color: #008000\">'Lab ID'</span>\n",
       "                    <span style=\"font-weight: bold\">}</span>,\n",
       "                    <span style=\"color: #008000; text-decoration-color: #008000\">'step_id'</span>: <span style=\"font-weight: bold\">{</span>\n",
       "                        <span style=\"color: #008000; text-decoration-color: #008000\">'anyOf'</span>: <span style=\"font-weight: bold\">[{</span><span style=\"color: #008000; text-decoration-color: #008000\">'type'</span>: <span style=\"color: #008000; text-decoration-color: #008000\">'string'</span><span style=\"font-weight: bold\">}</span>, <span style=\"font-weight: bold\">{</span><span style=\"color: #008000; text-decoration-color: #008000\">'type'</span>: <span style=\"color: #008000; text-decoration-color: #008000\">'null'</span><span style=\"font-weight: bold\">}]</span>,\n",
       "                        <span style=\"color: #008000; text-decoration-color: #008000\">'default'</span>: <span style=\"color: #800080; text-decoration-color: #800080; font-style: italic\">None</span>,\n",
       "                        <span style=\"color: #008000; text-decoration-color: #008000\">'description'</span>: <span style=\"color: #008000; text-decoration-color: #008000\">'The ID of the step that owns the object.'</span>,\n",
       "                        <span style=\"color: #008000; text-decoration-color: #008000\">'title'</span>: <span style=\"color: #008000; text-decoration-color: #008000\">'Step ID'</span>\n",
       "                    <span style=\"font-weight: bold\">}</span>,\n",
       "                    <span style=\"color: #008000; text-decoration-color: #008000\">'workflow_id'</span>: <span style=\"font-weight: bold\">{</span>\n",
       "                        <span style=\"color: #008000; text-decoration-color: #008000\">'anyOf'</span>: <span style=\"font-weight: bold\">[{</span><span style=\"color: #008000; text-decoration-color: #008000\">'type'</span>: <span style=\"color: #008000; text-decoration-color: #008000\">'string'</span><span style=\"font-weight: bold\">}</span>, <span style=\"font-weight: bold\">{</span><span style=\"color: #008000; text-decoration-color: #008000\">'type'</span>: <span style=\"color: #008000; text-decoration-color: #008000\">'null'</span><span style=\"font-weight: bold\">}]</span>,\n",
       "                        <span style=\"color: #008000; text-decoration-color: #008000\">'default'</span>: <span style=\"color: #800080; text-decoration-color: #800080; font-style: italic\">None</span>,\n",
       "                        <span style=\"color: #008000; text-decoration-color: #008000\">'description'</span>: <span style=\"color: #008000; text-decoration-color: #008000\">'The ID of the workflow that owns the object.'</span>,\n",
       "                        <span style=\"color: #008000; text-decoration-color: #008000\">'title'</span>: <span style=\"color: #008000; text-decoration-color: #008000\">'Workflow ID'</span>\n",
       "                    <span style=\"font-weight: bold\">}</span>\n",
       "                <span style=\"font-weight: bold\">}</span>,\n",
       "                <span style=\"color: #008000; text-decoration-color: #008000\">'title'</span>: <span style=\"color: #008000; text-decoration-color: #008000\">'OwnershipInfo'</span>,\n",
       "                <span style=\"color: #008000; text-decoration-color: #008000\">'type'</span>: <span style=\"color: #008000; text-decoration-color: #008000\">'object'</span>\n",
       "            <span style=\"font-weight: bold\">}</span>\n",
       "        <span style=\"font-weight: bold\">}</span>,\n",
       "        <span style=\"color: #008000; text-decoration-color: #008000\">'additionalProperties'</span>: <span style=\"color: #00ff00; text-decoration-color: #00ff00; font-style: italic\">True</span>,\n",
       "        <span style=\"color: #008000; text-decoration-color: #008000\">'description'</span>: <span style=\"color: #008000; text-decoration-color: #008000\">'Example Configuration options for our ExampleRobotNode.'</span>,\n",
       "        <span style=\"color: #008000; text-decoration-color: #008000\">'properties'</span>: <span style=\"font-weight: bold\">{</span>\n",
       "            <span style=\"color: #008000; text-decoration-color: #008000\">'status_update_interval'</span>: <span style=\"font-weight: bold\">{</span>\n",
       "                <span style=\"color: #008000; text-decoration-color: #008000\">'anyOf'</span>: <span style=\"font-weight: bold\">[{</span><span style=\"color: #008000; text-decoration-color: #008000\">'type'</span>: <span style=\"color: #008000; text-decoration-color: #008000\">'number'</span><span style=\"font-weight: bold\">}</span>, <span style=\"font-weight: bold\">{</span><span style=\"color: #008000; text-decoration-color: #008000\">'type'</span>: <span style=\"color: #008000; text-decoration-color: #008000\">'null'</span><span style=\"font-weight: bold\">}]</span>,\n",
       "                <span style=\"color: #008000; text-decoration-color: #008000\">'default'</span>: <span style=\"color: #008080; text-decoration-color: #008080; font-weight: bold\">2.0</span>,\n",
       "                <span style=\"color: #008000; text-decoration-color: #008000\">'description'</span>: <span style=\"color: #008000; text-decoration-color: #008000\">'The interval in seconds at which the node should update its status.'</span>,\n",
       "                <span style=\"color: #008000; text-decoration-color: #008000\">'title'</span>: <span style=\"color: #008000; text-decoration-color: #008000\">'Status Update Interval'</span>\n",
       "            <span style=\"font-weight: bold\">}</span>,\n",
       "            <span style=\"color: #008000; text-decoration-color: #008000\">'state_update_interval'</span>: <span style=\"font-weight: bold\">{</span>\n",
       "                <span style=\"color: #008000; text-decoration-color: #008000\">'anyOf'</span>: <span style=\"font-weight: bold\">[{</span><span style=\"color: #008000; text-decoration-color: #008000\">'type'</span>: <span style=\"color: #008000; text-decoration-color: #008000\">'number'</span><span style=\"font-weight: bold\">}</span>, <span style=\"font-weight: bold\">{</span><span style=\"color: #008000; text-decoration-color: #008000\">'type'</span>: <span style=\"color: #008000; text-decoration-color: #008000\">'null'</span><span style=\"font-weight: bold\">}]</span>,\n",
       "                <span style=\"color: #008000; text-decoration-color: #008000\">'default'</span>: <span style=\"color: #008080; text-decoration-color: #008080; font-weight: bold\">2.0</span>,\n",
       "                <span style=\"color: #008000; text-decoration-color: #008000\">'description'</span>: <span style=\"color: #008000; text-decoration-color: #008000\">'The interval in seconds at which the node should update its state.'</span>,\n",
       "                <span style=\"color: #008000; text-decoration-color: #008000\">'title'</span>: <span style=\"color: #008000; text-decoration-color: #008000\">'State Update Interval'</span>\n",
       "            <span style=\"font-weight: bold\">}</span>,\n",
       "            <span style=\"color: #008000; text-decoration-color: #008000\">'event_client_config'</span>: <span style=\"font-weight: bold\">{</span>\n",
       "                <span style=\"color: #008000; text-decoration-color: #008000\">'anyOf'</span>: <span style=\"font-weight: bold\">[{</span><span style=\"color: #008000; text-decoration-color: #008000\">'$ref'</span>: <span style=\"color: #008000; text-decoration-color: #008000\">'#/$defs/EventClientConfig'</span><span style=\"font-weight: bold\">}</span>, <span style=\"font-weight: bold\">{</span><span style=\"color: #008000; text-decoration-color: #008000\">'type'</span>: <span style=\"color: #008000; text-decoration-color: #008000\">'null'</span><span style=\"font-weight: bold\">}]</span>,\n",
       "                <span style=\"color: #008000; text-decoration-color: #008000\">'default'</span>: <span style=\"color: #800080; text-decoration-color: #800080; font-style: italic\">None</span>,\n",
       "                <span style=\"color: #008000; text-decoration-color: #008000\">'description'</span>: <span style=\"color: #008000; text-decoration-color: #008000\">'The configuration for a MADSci event client.'</span>,\n",
       "                <span style=\"color: #008000; text-decoration-color: #008000\">'title'</span>: <span style=\"color: #008000; text-decoration-color: #008000\">'Event Client Configuration'</span>\n",
       "            <span style=\"font-weight: bold\">}</span>,\n",
       "            <span style=\"color: #008000; text-decoration-color: #008000\">'resource_server_url'</span>: <span style=\"font-weight: bold\">{</span>\n",
       "                <span style=\"color: #008000; text-decoration-color: #008000\">'anyOf'</span>: <span style=\"font-weight: bold\">[{</span><span style=\"color: #008000; text-decoration-color: #008000\">'format'</span>: <span style=\"color: #008000; text-decoration-color: #008000\">'uri'</span>, <span style=\"color: #008000; text-decoration-color: #008000\">'minLength'</span>: <span style=\"color: #008080; text-decoration-color: #008080; font-weight: bold\">1</span>, <span style=\"color: #008000; text-decoration-color: #008000\">'type'</span>: <span style=\"color: #008000; text-decoration-color: #008000\">'string'</span><span style=\"font-weight: bold\">}</span>, <span style=\"font-weight: bold\">{</span><span style=\"color: #008000; text-decoration-color: #008000\">'type'</span>: <span style=\"color: #008000; text-decoration-color: #008000\">'null'</span><span style=\"font-weight: bold\">}]</span>,\n",
       "                <span style=\"color: #008000; text-decoration-color: #008000\">'default'</span>: <span style=\"color: #800080; text-decoration-color: #800080; font-style: italic\">None</span>,\n",
       "                <span style=\"color: #008000; text-decoration-color: #008000\">'description'</span>: <span style=\"color: #008000; text-decoration-color: #008000\">'The URL of the resource server for this node to use.'</span>,\n",
       "                <span style=\"color: #008000; text-decoration-color: #008000\">'title'</span>: <span style=\"color: #008000; text-decoration-color: #008000\">'Resource Client URL'</span>\n",
       "            <span style=\"font-weight: bold\">}</span>,\n",
       "            <span style=\"color: #008000; text-decoration-color: #008000\">'host'</span>: <span style=\"font-weight: bold\">{</span>\n",
       "                <span style=\"color: #008000; text-decoration-color: #008000\">'default'</span>: <span style=\"color: #008000; text-decoration-color: #008000\">'127.0.0.1'</span>,\n",
       "                <span style=\"color: #008000; text-decoration-color: #008000\">'description'</span>: <span style=\"color: #008000; text-decoration-color: #008000\">'The host of the REST API.'</span>,\n",
       "                <span style=\"color: #008000; text-decoration-color: #008000\">'title'</span>: <span style=\"color: #008000; text-decoration-color: #008000\">'Host'</span>,\n",
       "                <span style=\"color: #008000; text-decoration-color: #008000\">'type'</span>: <span style=\"color: #008000; text-decoration-color: #008000\">'string'</span>\n",
       "            <span style=\"font-weight: bold\">}</span>,\n",
       "            <span style=\"color: #008000; text-decoration-color: #008000\">'port'</span>: <span style=\"font-weight: bold\">{</span>\n",
       "                <span style=\"color: #008000; text-decoration-color: #008000\">'default'</span>: <span style=\"color: #008080; text-decoration-color: #008080; font-weight: bold\">8000</span>,\n",
       "                <span style=\"color: #008000; text-decoration-color: #008000\">'description'</span>: <span style=\"color: #008000; text-decoration-color: #008000\">'The port of the REST API.'</span>,\n",
       "                <span style=\"color: #008000; text-decoration-color: #008000\">'title'</span>: <span style=\"color: #008000; text-decoration-color: #008000\">'Port'</span>,\n",
       "                <span style=\"color: #008000; text-decoration-color: #008000\">'type'</span>: <span style=\"color: #008000; text-decoration-color: #008000\">'integer'</span>\n",
       "            <span style=\"font-weight: bold\">}</span>,\n",
       "            <span style=\"color: #008000; text-decoration-color: #008000\">'protocol'</span>: <span style=\"font-weight: bold\">{</span>\n",
       "                <span style=\"color: #008000; text-decoration-color: #008000\">'default'</span>: <span style=\"color: #008000; text-decoration-color: #008000\">'http'</span>,\n",
       "                <span style=\"color: #008000; text-decoration-color: #008000\">'description'</span>: <span style=\"color: #008000; text-decoration-color: #008000\">\"The protocol of the REST API, either 'http' or 'https'.\"</span>,\n",
       "                <span style=\"color: #008000; text-decoration-color: #008000\">'title'</span>: <span style=\"color: #008000; text-decoration-color: #008000\">'Protocol'</span>,\n",
       "                <span style=\"color: #008000; text-decoration-color: #008000\">'type'</span>: <span style=\"color: #008000; text-decoration-color: #008000\">'string'</span>\n",
       "            <span style=\"font-weight: bold\">}</span>,\n",
       "            <span style=\"color: #008000; text-decoration-color: #008000\">'robot_number'</span>: <span style=\"font-weight: bold\">{</span><span style=\"color: #008000; text-decoration-color: #008000\">'default'</span>: <span style=\"color: #008080; text-decoration-color: #008080; font-weight: bold\">0</span>, <span style=\"color: #008000; text-decoration-color: #008000\">'title'</span>: <span style=\"color: #008000; text-decoration-color: #008000\">'Robot Number'</span>, <span style=\"color: #008000; text-decoration-color: #008000\">'type'</span>: <span style=\"color: #008000; text-decoration-color: #008000\">'integer'</span><span style=\"font-weight: bold\">}</span>\n",
       "        <span style=\"font-weight: bold\">}</span>,\n",
       "        <span style=\"color: #008000; text-decoration-color: #008000\">'title'</span>: <span style=\"color: #008000; text-decoration-color: #008000\">'ExampleRobotConfig'</span>,\n",
       "        <span style=\"color: #008000; text-decoration-color: #008000\">'type'</span>: <span style=\"color: #008000; text-decoration-color: #008000\">'object'</span>\n",
       "    <span style=\"font-weight: bold\">}</span>\n",
       "<span style=\"font-weight: bold\">)</span>\n",
       "</pre>\n"
      ],
      "text/plain": [
       "\u001b[1;35mNodeInfo\u001b[0m\u001b[1m(\u001b[0m\n",
       "    \u001b[33mnode_name\u001b[0m=\u001b[32m'example_node'\u001b[0m,\n",
       "    \u001b[33mnode_id\u001b[0m=\u001b[32m'01JRB0FNV771F9MWDPZ4GX31A7'\u001b[0m,\n",
       "    \u001b[33mnode_url\u001b[0m=\u001b[1;35mAnyUrl\u001b[0m\u001b[1m(\u001b[0m\u001b[32m'http://127.0.0.1:8000/'\u001b[0m\u001b[1m)\u001b[0m,\n",
       "    \u001b[33mnode_description\u001b[0m=\u001b[32m'An example node'\u001b[0m,\n",
       "    \u001b[33mnode_type\u001b[0m=\u001b[3;35mNone\u001b[0m,\n",
       "    \u001b[33mmodule_name\u001b[0m=\u001b[32m'example_node_module'\u001b[0m,\n",
       "    \u001b[33mmodule_version\u001b[0m=\u001b[1;35mSemanticVersion\u001b[0m\u001b[1m(\u001b[0m\u001b[33mmajor\u001b[0m=\u001b[1;36m0\u001b[0m, \u001b[33mminor\u001b[0m=\u001b[1;36m0\u001b[0m, \u001b[33mpatch\u001b[0m=\u001b[1;36m1\u001b[0m, \u001b[33mprerelease\u001b[0m=\u001b[3;35mNone\u001b[0m, \u001b[33mbuild\u001b[0m=\u001b[3;35mNone\u001b[0m\u001b[1m)\u001b[0m,\n",
       "    \u001b[33mcapabilities\u001b[0m=\u001b[1;35mNodeCapabilities\u001b[0m\u001b[1m(\u001b[0m\n",
       "        \u001b[33mget_info\u001b[0m=\u001b[3;92mTrue\u001b[0m,\n",
       "        \u001b[33mget_state\u001b[0m=\u001b[3;92mTrue\u001b[0m,\n",
       "        \u001b[33mget_status\u001b[0m=\u001b[3;92mTrue\u001b[0m,\n",
       "        \u001b[33msend_action\u001b[0m=\u001b[3;92mTrue\u001b[0m,\n",
       "        \u001b[33mget_action_result\u001b[0m=\u001b[3;92mTrue\u001b[0m,\n",
       "        \u001b[33mget_action_history\u001b[0m=\u001b[3;92mTrue\u001b[0m,\n",
       "        \u001b[33maction_files\u001b[0m=\u001b[3;92mTrue\u001b[0m,\n",
       "        \u001b[33msend_admin_commands\u001b[0m=\u001b[3;92mTrue\u001b[0m,\n",
       "        \u001b[33mset_config\u001b[0m=\u001b[3;92mTrue\u001b[0m,\n",
       "        \u001b[33mget_resources\u001b[0m=\u001b[3;91mFalse\u001b[0m,\n",
       "        \u001b[33mget_log\u001b[0m=\u001b[3;92mTrue\u001b[0m,\n",
       "        \u001b[33mevents\u001b[0m=\u001b[3;35mNone\u001b[0m,\n",
       "        \u001b[33mresources\u001b[0m=\u001b[3;35mNone\u001b[0m,\n",
       "        \u001b[33madmin_commands\u001b[0m=\u001b[1m{\u001b[0m\n",
       "            \u001b[1m<\u001b[0m\u001b[1;95mAdminCommands.LOCK:\u001b[0m\u001b[39m \u001b[0m\u001b[32m'lock'\u001b[0m\u001b[39m>,\u001b[0m\n",
       "\u001b[39m            <AdminCommands.RESET: \u001b[0m\u001b[32m'reset'\u001b[0m\u001b[39m>,\u001b[0m\n",
       "\u001b[39m            <AdminCommands.UNLOCK: \u001b[0m\u001b[32m'unlock'\u001b[0m\u001b[39m>,\u001b[0m\n",
       "\u001b[39m            <AdminCommands.SHUTDOWN: \u001b[0m\u001b[32m'shutdown'\u001b[0m\u001b[1m>\u001b[0m\n",
       "        \u001b[1m}\u001b[0m\n",
       "    \u001b[1m)\u001b[0m,\n",
       "    \u001b[33mcommands\u001b[0m=\u001b[1m{\u001b[0m\u001b[1m}\u001b[0m,\n",
       "    \u001b[33mis_template\u001b[0m=\u001b[3;91mFalse\u001b[0m,\n",
       "    \u001b[33mconfig_defaults\u001b[0m=\u001b[1m{\u001b[0m\u001b[32m'state_update_interval'\u001b[0m: \u001b[1;36m2\u001b[0m, \u001b[32m'status_update_interval'\u001b[0m: \u001b[1;36m0.5\u001b[0m\u001b[1m}\u001b[0m,\n",
       "    \u001b[33mactions\u001b[0m=\u001b[1m{\u001b[0m\n",
       "        \u001b[32m'move_joints'\u001b[0m: \u001b[1;35mActionDefinition\u001b[0m\u001b[1m(\u001b[0m\n",
       "            \u001b[33mname\u001b[0m=\u001b[32m'move_joints'\u001b[0m,\n",
       "            \u001b[33mdescription\u001b[0m=\u001b[32m'Move the robot to the specified joint angles'\u001b[0m,\n",
       "            \u001b[33margs\u001b[0m=\u001b[1m{\u001b[0m\n",
       "                \u001b[32m'joint_angles'\u001b[0m: \u001b[1;35mArgumentDefinition\u001b[0m\u001b[1m(\u001b[0m\n",
       "                    \u001b[33mname\u001b[0m=\u001b[32m'joint_angles'\u001b[0m,\n",
       "                    \u001b[33mdescription\u001b[0m=\u001b[32m''\u001b[0m,\n",
       "                    \u001b[33margument_type\u001b[0m=\u001b[32m'list\u001b[0m\u001b[32m[\u001b[0m\u001b[32mfloat\u001b[0m\u001b[32m]\u001b[0m\u001b[32m'\u001b[0m,\n",
       "                    \u001b[33mrequired\u001b[0m=\u001b[3;92mTrue\u001b[0m,\n",
       "                    \u001b[33mdefault\u001b[0m=\u001b[3;35mNone\u001b[0m\n",
       "                \u001b[1m)\u001b[0m\n",
       "            \u001b[1m}\u001b[0m,\n",
       "            \u001b[33mlocations\u001b[0m=\u001b[1m{\u001b[0m\u001b[1m}\u001b[0m,\n",
       "            \u001b[33mfiles\u001b[0m=\u001b[1m{\u001b[0m\u001b[1m}\u001b[0m,\n",
       "            \u001b[33mresults\u001b[0m=\u001b[1m{\u001b[0m\u001b[1m}\u001b[0m,\n",
       "            \u001b[33mblocking\u001b[0m=\u001b[3;91mFalse\u001b[0m,\n",
       "            \u001b[33masynchronous\u001b[0m=\u001b[3;92mTrue\u001b[0m\n",
       "        \u001b[1m)\u001b[0m\n",
       "    \u001b[1m}\u001b[0m,\n",
       "    \u001b[33mconfig\u001b[0m=\u001b[1m{\u001b[0m\n",
       "        \u001b[32m'status_update_interval'\u001b[0m: \u001b[1;36m0.5\u001b[0m,\n",
       "        \u001b[32m'state_update_interval'\u001b[0m: \u001b[1;36m2.0\u001b[0m,\n",
       "        \u001b[32m'event_client_config'\u001b[0m: \u001b[3;35mNone\u001b[0m,\n",
       "        \u001b[32m'resource_server_url'\u001b[0m: \u001b[3;35mNone\u001b[0m,\n",
       "        \u001b[32m'host'\u001b[0m: \u001b[32m'127.0.0.1'\u001b[0m,\n",
       "        \u001b[32m'port'\u001b[0m: \u001b[1;36m8000\u001b[0m,\n",
       "        \u001b[32m'protocol'\u001b[0m: \u001b[32m'http'\u001b[0m,\n",
       "        \u001b[32m'robot_number'\u001b[0m: \u001b[1;36m0\u001b[0m\n",
       "    \u001b[1m}\u001b[0m,\n",
       "    \u001b[33mconfig_schema\u001b[0m=\u001b[1m{\u001b[0m\n",
       "        \u001b[32m'$defs'\u001b[0m: \u001b[1m{\u001b[0m\n",
       "            \u001b[32m'EventClientConfig'\u001b[0m: \u001b[1m{\u001b[0m\n",
       "                \u001b[32m'description'\u001b[0m: \u001b[32m'Configuration for an Event Client.'\u001b[0m,\n",
       "                \u001b[32m'properties'\u001b[0m: \u001b[1m{\u001b[0m\n",
       "                    \u001b[32m'name'\u001b[0m: \u001b[1m{\u001b[0m\n",
       "                        \u001b[32m'anyOf'\u001b[0m: \u001b[1m[\u001b[0m\u001b[1m{\u001b[0m\u001b[32m'type'\u001b[0m: \u001b[32m'string'\u001b[0m\u001b[1m}\u001b[0m, \u001b[1m{\u001b[0m\u001b[32m'type'\u001b[0m: \u001b[32m'null'\u001b[0m\u001b[1m}\u001b[0m\u001b[1m]\u001b[0m,\n",
       "                        \u001b[32m'default'\u001b[0m: \u001b[3;35mNone\u001b[0m,\n",
       "                        \u001b[32m'description'\u001b[0m: \u001b[32m'The name of the event client.'\u001b[0m,\n",
       "                        \u001b[32m'title'\u001b[0m: \u001b[32m'Event Client Name'\u001b[0m\n",
       "                    \u001b[1m}\u001b[0m,\n",
       "                    \u001b[32m'event_server_url'\u001b[0m: \u001b[1m{\u001b[0m\n",
       "                        \u001b[32m'anyOf'\u001b[0m: \u001b[1m[\u001b[0m\u001b[1m{\u001b[0m\u001b[32m'type'\u001b[0m: \u001b[32m'string'\u001b[0m\u001b[1m}\u001b[0m, \u001b[1m{\u001b[0m\u001b[32m'type'\u001b[0m: \u001b[32m'null'\u001b[0m\u001b[1m}\u001b[0m\u001b[1m]\u001b[0m,\n",
       "                        \u001b[32m'default'\u001b[0m: \u001b[3;35mNone\u001b[0m,\n",
       "                        \u001b[32m'description'\u001b[0m: \u001b[32m'The URL of the event server.'\u001b[0m,\n",
       "                        \u001b[32m'title'\u001b[0m: \u001b[32m'Event Server URL'\u001b[0m\n",
       "                    \u001b[1m}\u001b[0m,\n",
       "                    \u001b[32m'log_level'\u001b[0m: \u001b[1m{\u001b[0m\n",
       "                        \u001b[32m'default'\u001b[0m: \u001b[1;36m20\u001b[0m,\n",
       "                        \u001b[32m'description'\u001b[0m: \u001b[32m'The log level of the event client.'\u001b[0m,\n",
       "                        \u001b[32m'title'\u001b[0m: \u001b[32m'Event Client Log Level'\u001b[0m,\n",
       "                        \u001b[32m'type'\u001b[0m: \u001b[32m'integer'\u001b[0m\n",
       "                    \u001b[1m}\u001b[0m,\n",
       "                    \u001b[32m'source'\u001b[0m: \u001b[1m{\u001b[0m\n",
       "                        \u001b[32m'$ref'\u001b[0m: \u001b[32m'#/$defs/OwnershipInfo'\u001b[0m,\n",
       "                        \u001b[32m'description'\u001b[0m: \u001b[32m'Information about the source of the event client.'\u001b[0m,\n",
       "                        \u001b[32m'title'\u001b[0m: \u001b[32m'Source'\u001b[0m\n",
       "                    \u001b[1m}\u001b[0m,\n",
       "                    \u001b[32m'log_dir'\u001b[0m: \u001b[1m{\u001b[0m\n",
       "                        \u001b[32m'anyOf'\u001b[0m: \u001b[1m[\u001b[0m\u001b[1m{\u001b[0m\u001b[32m'type'\u001b[0m: \u001b[32m'string'\u001b[0m\u001b[1m}\u001b[0m, \u001b[1m{\u001b[0m\u001b[32m'format'\u001b[0m: \u001b[32m'path'\u001b[0m, \u001b[32m'type'\u001b[0m: \u001b[32m'string'\u001b[0m\u001b[1m}\u001b[0m\u001b[1m]\u001b[0m,\n",
       "                        \u001b[32m'description'\u001b[0m: \u001b[32m'The directory to store logs in.'\u001b[0m,\n",
       "                        \u001b[32m'title'\u001b[0m: \u001b[32m'Log Directory'\u001b[0m\n",
       "                    \u001b[1m}\u001b[0m\n",
       "                \u001b[1m}\u001b[0m,\n",
       "                \u001b[32m'title'\u001b[0m: \u001b[32m'EventClientConfig'\u001b[0m,\n",
       "                \u001b[32m'type'\u001b[0m: \u001b[32m'object'\u001b[0m\n",
       "            \u001b[1m}\u001b[0m,\n",
       "            \u001b[32m'OwnershipInfo'\u001b[0m: \u001b[1m{\u001b[0m\n",
       "                \u001b[32m'description'\u001b[0m: \u001b[32m'Information about the ownership of a MADSci object.'\u001b[0m,\n",
       "                \u001b[32m'properties'\u001b[0m: \u001b[1m{\u001b[0m\n",
       "                    \u001b[32m'user_id'\u001b[0m: \u001b[1m{\u001b[0m\n",
       "                        \u001b[32m'anyOf'\u001b[0m: \u001b[1m[\u001b[0m\u001b[1m{\u001b[0m\u001b[32m'type'\u001b[0m: \u001b[32m'string'\u001b[0m\u001b[1m}\u001b[0m, \u001b[1m{\u001b[0m\u001b[32m'type'\u001b[0m: \u001b[32m'null'\u001b[0m\u001b[1m}\u001b[0m\u001b[1m]\u001b[0m,\n",
       "                        \u001b[32m'default'\u001b[0m: \u001b[3;35mNone\u001b[0m,\n",
       "                        \u001b[32m'description'\u001b[0m: \u001b[32m'The ID of the user who owns the object.'\u001b[0m,\n",
       "                        \u001b[32m'title'\u001b[0m: \u001b[32m'User ID'\u001b[0m\n",
       "                    \u001b[1m}\u001b[0m,\n",
       "                    \u001b[32m'experiment_id'\u001b[0m: \u001b[1m{\u001b[0m\n",
       "                        \u001b[32m'anyOf'\u001b[0m: \u001b[1m[\u001b[0m\u001b[1m{\u001b[0m\u001b[32m'type'\u001b[0m: \u001b[32m'string'\u001b[0m\u001b[1m}\u001b[0m, \u001b[1m{\u001b[0m\u001b[32m'type'\u001b[0m: \u001b[32m'null'\u001b[0m\u001b[1m}\u001b[0m\u001b[1m]\u001b[0m,\n",
       "                        \u001b[32m'default'\u001b[0m: \u001b[3;35mNone\u001b[0m,\n",
       "                        \u001b[32m'description'\u001b[0m: \u001b[32m'The ID of the experiment that owns the object.'\u001b[0m,\n",
       "                        \u001b[32m'title'\u001b[0m: \u001b[32m'Experiment ID'\u001b[0m\n",
       "                    \u001b[1m}\u001b[0m,\n",
       "                    \u001b[32m'campaign_id'\u001b[0m: \u001b[1m{\u001b[0m\n",
       "                        \u001b[32m'anyOf'\u001b[0m: \u001b[1m[\u001b[0m\u001b[1m{\u001b[0m\u001b[32m'type'\u001b[0m: \u001b[32m'string'\u001b[0m\u001b[1m}\u001b[0m, \u001b[1m{\u001b[0m\u001b[32m'type'\u001b[0m: \u001b[32m'null'\u001b[0m\u001b[1m}\u001b[0m\u001b[1m]\u001b[0m,\n",
       "                        \u001b[32m'default'\u001b[0m: \u001b[3;35mNone\u001b[0m,\n",
       "                        \u001b[32m'description'\u001b[0m: \u001b[32m'The ID of the campaign that owns the object.'\u001b[0m,\n",
       "                        \u001b[32m'title'\u001b[0m: \u001b[32m'Campaign ID'\u001b[0m\n",
       "                    \u001b[1m}\u001b[0m,\n",
       "                    \u001b[32m'project_id'\u001b[0m: \u001b[1m{\u001b[0m\n",
       "                        \u001b[32m'anyOf'\u001b[0m: \u001b[1m[\u001b[0m\u001b[1m{\u001b[0m\u001b[32m'type'\u001b[0m: \u001b[32m'string'\u001b[0m\u001b[1m}\u001b[0m, \u001b[1m{\u001b[0m\u001b[32m'type'\u001b[0m: \u001b[32m'null'\u001b[0m\u001b[1m}\u001b[0m\u001b[1m]\u001b[0m,\n",
       "                        \u001b[32m'default'\u001b[0m: \u001b[3;35mNone\u001b[0m,\n",
       "                        \u001b[32m'description'\u001b[0m: \u001b[32m'The ID of the project that owns the object.'\u001b[0m,\n",
       "                        \u001b[32m'title'\u001b[0m: \u001b[32m'Project ID'\u001b[0m\n",
       "                    \u001b[1m}\u001b[0m,\n",
       "                    \u001b[32m'node_id'\u001b[0m: \u001b[1m{\u001b[0m\n",
       "                        \u001b[32m'anyOf'\u001b[0m: \u001b[1m[\u001b[0m\u001b[1m{\u001b[0m\u001b[32m'type'\u001b[0m: \u001b[32m'string'\u001b[0m\u001b[1m}\u001b[0m, \u001b[1m{\u001b[0m\u001b[32m'type'\u001b[0m: \u001b[32m'null'\u001b[0m\u001b[1m}\u001b[0m\u001b[1m]\u001b[0m,\n",
       "                        \u001b[32m'default'\u001b[0m: \u001b[3;35mNone\u001b[0m,\n",
       "                        \u001b[32m'description'\u001b[0m: \u001b[32m'The ID of the node that owns the object.'\u001b[0m,\n",
       "                        \u001b[32m'title'\u001b[0m: \u001b[32m'Node ID'\u001b[0m\n",
       "                    \u001b[1m}\u001b[0m,\n",
       "                    \u001b[32m'workcell_id'\u001b[0m: \u001b[1m{\u001b[0m\n",
       "                        \u001b[32m'anyOf'\u001b[0m: \u001b[1m[\u001b[0m\u001b[1m{\u001b[0m\u001b[32m'type'\u001b[0m: \u001b[32m'string'\u001b[0m\u001b[1m}\u001b[0m, \u001b[1m{\u001b[0m\u001b[32m'type'\u001b[0m: \u001b[32m'null'\u001b[0m\u001b[1m}\u001b[0m\u001b[1m]\u001b[0m,\n",
       "                        \u001b[32m'default'\u001b[0m: \u001b[3;35mNone\u001b[0m,\n",
       "                        \u001b[32m'description'\u001b[0m: \u001b[32m'The ID of the workcell that owns the object.'\u001b[0m,\n",
       "                        \u001b[32m'title'\u001b[0m: \u001b[32m'Workcell ID'\u001b[0m\n",
       "                    \u001b[1m}\u001b[0m,\n",
       "                    \u001b[32m'lab_id'\u001b[0m: \u001b[1m{\u001b[0m\n",
       "                        \u001b[32m'anyOf'\u001b[0m: \u001b[1m[\u001b[0m\u001b[1m{\u001b[0m\u001b[32m'type'\u001b[0m: \u001b[32m'string'\u001b[0m\u001b[1m}\u001b[0m, \u001b[1m{\u001b[0m\u001b[32m'type'\u001b[0m: \u001b[32m'null'\u001b[0m\u001b[1m}\u001b[0m\u001b[1m]\u001b[0m,\n",
       "                        \u001b[32m'default'\u001b[0m: \u001b[3;35mNone\u001b[0m,\n",
       "                        \u001b[32m'description'\u001b[0m: \u001b[32m'The ID of the lab that owns the object.'\u001b[0m,\n",
       "                        \u001b[32m'title'\u001b[0m: \u001b[32m'Lab ID'\u001b[0m\n",
       "                    \u001b[1m}\u001b[0m,\n",
       "                    \u001b[32m'step_id'\u001b[0m: \u001b[1m{\u001b[0m\n",
       "                        \u001b[32m'anyOf'\u001b[0m: \u001b[1m[\u001b[0m\u001b[1m{\u001b[0m\u001b[32m'type'\u001b[0m: \u001b[32m'string'\u001b[0m\u001b[1m}\u001b[0m, \u001b[1m{\u001b[0m\u001b[32m'type'\u001b[0m: \u001b[32m'null'\u001b[0m\u001b[1m}\u001b[0m\u001b[1m]\u001b[0m,\n",
       "                        \u001b[32m'default'\u001b[0m: \u001b[3;35mNone\u001b[0m,\n",
       "                        \u001b[32m'description'\u001b[0m: \u001b[32m'The ID of the step that owns the object.'\u001b[0m,\n",
       "                        \u001b[32m'title'\u001b[0m: \u001b[32m'Step ID'\u001b[0m\n",
       "                    \u001b[1m}\u001b[0m,\n",
       "                    \u001b[32m'workflow_id'\u001b[0m: \u001b[1m{\u001b[0m\n",
       "                        \u001b[32m'anyOf'\u001b[0m: \u001b[1m[\u001b[0m\u001b[1m{\u001b[0m\u001b[32m'type'\u001b[0m: \u001b[32m'string'\u001b[0m\u001b[1m}\u001b[0m, \u001b[1m{\u001b[0m\u001b[32m'type'\u001b[0m: \u001b[32m'null'\u001b[0m\u001b[1m}\u001b[0m\u001b[1m]\u001b[0m,\n",
       "                        \u001b[32m'default'\u001b[0m: \u001b[3;35mNone\u001b[0m,\n",
       "                        \u001b[32m'description'\u001b[0m: \u001b[32m'The ID of the workflow that owns the object.'\u001b[0m,\n",
       "                        \u001b[32m'title'\u001b[0m: \u001b[32m'Workflow ID'\u001b[0m\n",
       "                    \u001b[1m}\u001b[0m\n",
       "                \u001b[1m}\u001b[0m,\n",
       "                \u001b[32m'title'\u001b[0m: \u001b[32m'OwnershipInfo'\u001b[0m,\n",
       "                \u001b[32m'type'\u001b[0m: \u001b[32m'object'\u001b[0m\n",
       "            \u001b[1m}\u001b[0m\n",
       "        \u001b[1m}\u001b[0m,\n",
       "        \u001b[32m'additionalProperties'\u001b[0m: \u001b[3;92mTrue\u001b[0m,\n",
       "        \u001b[32m'description'\u001b[0m: \u001b[32m'Example Configuration options for our ExampleRobotNode.'\u001b[0m,\n",
       "        \u001b[32m'properties'\u001b[0m: \u001b[1m{\u001b[0m\n",
       "            \u001b[32m'status_update_interval'\u001b[0m: \u001b[1m{\u001b[0m\n",
       "                \u001b[32m'anyOf'\u001b[0m: \u001b[1m[\u001b[0m\u001b[1m{\u001b[0m\u001b[32m'type'\u001b[0m: \u001b[32m'number'\u001b[0m\u001b[1m}\u001b[0m, \u001b[1m{\u001b[0m\u001b[32m'type'\u001b[0m: \u001b[32m'null'\u001b[0m\u001b[1m}\u001b[0m\u001b[1m]\u001b[0m,\n",
       "                \u001b[32m'default'\u001b[0m: \u001b[1;36m2.0\u001b[0m,\n",
       "                \u001b[32m'description'\u001b[0m: \u001b[32m'The interval in seconds at which the node should update its status.'\u001b[0m,\n",
       "                \u001b[32m'title'\u001b[0m: \u001b[32m'Status Update Interval'\u001b[0m\n",
       "            \u001b[1m}\u001b[0m,\n",
       "            \u001b[32m'state_update_interval'\u001b[0m: \u001b[1m{\u001b[0m\n",
       "                \u001b[32m'anyOf'\u001b[0m: \u001b[1m[\u001b[0m\u001b[1m{\u001b[0m\u001b[32m'type'\u001b[0m: \u001b[32m'number'\u001b[0m\u001b[1m}\u001b[0m, \u001b[1m{\u001b[0m\u001b[32m'type'\u001b[0m: \u001b[32m'null'\u001b[0m\u001b[1m}\u001b[0m\u001b[1m]\u001b[0m,\n",
       "                \u001b[32m'default'\u001b[0m: \u001b[1;36m2.0\u001b[0m,\n",
       "                \u001b[32m'description'\u001b[0m: \u001b[32m'The interval in seconds at which the node should update its state.'\u001b[0m,\n",
       "                \u001b[32m'title'\u001b[0m: \u001b[32m'State Update Interval'\u001b[0m\n",
       "            \u001b[1m}\u001b[0m,\n",
       "            \u001b[32m'event_client_config'\u001b[0m: \u001b[1m{\u001b[0m\n",
       "                \u001b[32m'anyOf'\u001b[0m: \u001b[1m[\u001b[0m\u001b[1m{\u001b[0m\u001b[32m'$ref'\u001b[0m: \u001b[32m'#/$defs/EventClientConfig'\u001b[0m\u001b[1m}\u001b[0m, \u001b[1m{\u001b[0m\u001b[32m'type'\u001b[0m: \u001b[32m'null'\u001b[0m\u001b[1m}\u001b[0m\u001b[1m]\u001b[0m,\n",
       "                \u001b[32m'default'\u001b[0m: \u001b[3;35mNone\u001b[0m,\n",
       "                \u001b[32m'description'\u001b[0m: \u001b[32m'The configuration for a MADSci event client.'\u001b[0m,\n",
       "                \u001b[32m'title'\u001b[0m: \u001b[32m'Event Client Configuration'\u001b[0m\n",
       "            \u001b[1m}\u001b[0m,\n",
       "            \u001b[32m'resource_server_url'\u001b[0m: \u001b[1m{\u001b[0m\n",
       "                \u001b[32m'anyOf'\u001b[0m: \u001b[1m[\u001b[0m\u001b[1m{\u001b[0m\u001b[32m'format'\u001b[0m: \u001b[32m'uri'\u001b[0m, \u001b[32m'minLength'\u001b[0m: \u001b[1;36m1\u001b[0m, \u001b[32m'type'\u001b[0m: \u001b[32m'string'\u001b[0m\u001b[1m}\u001b[0m, \u001b[1m{\u001b[0m\u001b[32m'type'\u001b[0m: \u001b[32m'null'\u001b[0m\u001b[1m}\u001b[0m\u001b[1m]\u001b[0m,\n",
       "                \u001b[32m'default'\u001b[0m: \u001b[3;35mNone\u001b[0m,\n",
       "                \u001b[32m'description'\u001b[0m: \u001b[32m'The URL of the resource server for this node to use.'\u001b[0m,\n",
       "                \u001b[32m'title'\u001b[0m: \u001b[32m'Resource Client URL'\u001b[0m\n",
       "            \u001b[1m}\u001b[0m,\n",
       "            \u001b[32m'host'\u001b[0m: \u001b[1m{\u001b[0m\n",
       "                \u001b[32m'default'\u001b[0m: \u001b[32m'127.0.0.1'\u001b[0m,\n",
       "                \u001b[32m'description'\u001b[0m: \u001b[32m'The host of the REST API.'\u001b[0m,\n",
       "                \u001b[32m'title'\u001b[0m: \u001b[32m'Host'\u001b[0m,\n",
       "                \u001b[32m'type'\u001b[0m: \u001b[32m'string'\u001b[0m\n",
       "            \u001b[1m}\u001b[0m,\n",
       "            \u001b[32m'port'\u001b[0m: \u001b[1m{\u001b[0m\n",
       "                \u001b[32m'default'\u001b[0m: \u001b[1;36m8000\u001b[0m,\n",
       "                \u001b[32m'description'\u001b[0m: \u001b[32m'The port of the REST API.'\u001b[0m,\n",
       "                \u001b[32m'title'\u001b[0m: \u001b[32m'Port'\u001b[0m,\n",
       "                \u001b[32m'type'\u001b[0m: \u001b[32m'integer'\u001b[0m\n",
       "            \u001b[1m}\u001b[0m,\n",
       "            \u001b[32m'protocol'\u001b[0m: \u001b[1m{\u001b[0m\n",
       "                \u001b[32m'default'\u001b[0m: \u001b[32m'http'\u001b[0m,\n",
       "                \u001b[32m'description'\u001b[0m: \u001b[32m\"The protocol of the REST API, either 'http' or 'https'.\"\u001b[0m,\n",
       "                \u001b[32m'title'\u001b[0m: \u001b[32m'Protocol'\u001b[0m,\n",
       "                \u001b[32m'type'\u001b[0m: \u001b[32m'string'\u001b[0m\n",
       "            \u001b[1m}\u001b[0m,\n",
       "            \u001b[32m'robot_number'\u001b[0m: \u001b[1m{\u001b[0m\u001b[32m'default'\u001b[0m: \u001b[1;36m0\u001b[0m, \u001b[32m'title'\u001b[0m: \u001b[32m'Robot Number'\u001b[0m, \u001b[32m'type'\u001b[0m: \u001b[32m'integer'\u001b[0m\u001b[1m}\u001b[0m\n",
       "        \u001b[1m}\u001b[0m,\n",
       "        \u001b[32m'title'\u001b[0m: \u001b[32m'ExampleRobotConfig'\u001b[0m,\n",
       "        \u001b[32m'type'\u001b[0m: \u001b[32m'object'\u001b[0m\n",
       "    \u001b[1m}\u001b[0m\n",
       "\u001b[1m)\u001b[0m\n"
      ]
     },
     "metadata": {},
     "output_type": "display_data"
    },
    {
     "data": {
      "text/html": [
       "<pre style=\"white-space:pre;overflow-x:auto;line-height:normal;font-family:Menlo,'DejaVu Sans Mono',consolas,'Courier New',monospace\"><span style=\"color: #008080; text-decoration-color: #008080; font-weight: bold\">2025</span>-<span style=\"color: #008080; text-decoration-color: #008080; font-weight: bold\">04</span>-<span style=\"color: #008080; text-decoration-color: #008080; font-weight: bold\">08</span> <span style=\"color: #00ff00; text-decoration-color: #00ff00; font-weight: bold\">10:32:30</span>.<span style=\"color: #008080; text-decoration-color: #008080; font-weight: bold\">213867</span> <span style=\"font-weight: bold\">(</span>EventType.LOG_INFO<span style=\"font-weight: bold\">)</span>: Disconnecting from robot <span style=\"color: #008080; text-decoration-color: #008080; font-weight: bold\">0</span><span style=\"color: #808000; text-decoration-color: #808000\">...</span>\n",
       "</pre>\n"
      ],
      "text/plain": [
       "\u001b[1;36m2025\u001b[0m-\u001b[1;36m04\u001b[0m-\u001b[1;36m08\u001b[0m \u001b[1;92m10:32:30\u001b[0m.\u001b[1;36m213867\u001b[0m \u001b[1m(\u001b[0mEventType.LOG_INFO\u001b[1m)\u001b[0m: Disconnecting from robot \u001b[1;36m0\u001b[0m\u001b[33m...\u001b[0m\n"
      ]
     },
     "metadata": {},
     "output_type": "display_data"
    },
    {
     "data": {
      "text/html": [
       "<pre style=\"white-space:pre;overflow-x:auto;line-height:normal;font-family:Menlo,'DejaVu Sans Mono',consolas,'Courier New',monospace\"><span style=\"color: #008080; text-decoration-color: #008080; font-weight: bold\">2025</span>-<span style=\"color: #008080; text-decoration-color: #008080; font-weight: bold\">04</span>-<span style=\"color: #008080; text-decoration-color: #008080; font-weight: bold\">08</span> <span style=\"color: #00ff00; text-decoration-color: #00ff00; font-weight: bold\">10:32:30</span>.<span style=\"color: #008080; text-decoration-color: #008080; font-weight: bold\">215140</span> <span style=\"font-weight: bold\">(</span>EventType.LOG_INFO<span style=\"font-weight: bold\">)</span>: Disconnected from robot <span style=\"color: #008080; text-decoration-color: #008080; font-weight: bold\">0</span>\n",
       "</pre>\n"
      ],
      "text/plain": [
       "\u001b[1;36m2025\u001b[0m-\u001b[1;36m04\u001b[0m-\u001b[1;36m08\u001b[0m \u001b[1;92m10:32:30\u001b[0m.\u001b[1;36m215140\u001b[0m \u001b[1m(\u001b[0mEventType.LOG_INFO\u001b[1m)\u001b[0m: Disconnected from robot \u001b[1;36m0\u001b[0m\n"
      ]
     },
     "metadata": {},
     "output_type": "display_data"
    }
   ],
   "source": [
    "# What does the node info look like?\n",
    "with node_client(example_node, RestNodeClient(url=\"http://localhost:2000\")) as client:\n",
    "    while not client.get_status().ready:\n",
    "        # Wait for the node to be ready\n",
    "        time.sleep(0.1)\n",
    "    # Example of a request to the node\n",
    "    print(client.get_info())"
   ]
  },
  {
   "cell_type": "markdown",
   "metadata": {},
   "source": [
    "## Admin Commands\n",
    "\n",
    "Admin commands provide a standardized interface for common administrative tasks used to control nodes. Unlike actions, admin commands have pre-defined behavior, and the node developer chooses whether and how to implement a specific admin command for a given device in the node. The MADSci Node Standard supports the following admin commands:\n",
    "\n",
    "- `pause`: pause the current action, if any\n",
    "- `resume`: resume the current action, if any\n",
    "- `lock`: refuse to accept new actions\n",
    "- `unlock`: resume accepting new actions\n",
    "- `cancel`: cancel the current action\n",
    "- `reset`: clear errors, reinitialize the node, and reset the status\n",
    "- `stop`: a more aggressive cancellation--halt immediately and trigger any safety/e-stop of the device\n",
    "- `shutdown`: disconnect from the device and stop the node's server\n"
   ]
  },
  {
   "cell_type": "code",
   "execution_count": 15,
   "metadata": {},
   "outputs": [
    {
     "data": {
      "text/html": [
       "<pre style=\"white-space:pre;overflow-x:auto;line-height:normal;font-family:Menlo,'DejaVu Sans Mono',consolas,'Courier New',monospace\"><span style=\"color: #008080; text-decoration-color: #008080; font-weight: bold\">2025</span>-<span style=\"color: #008080; text-decoration-color: #008080; font-weight: bold\">04</span>-<span style=\"color: #008080; text-decoration-color: #008080; font-weight: bold\">08</span> <span style=\"color: #00ff00; text-decoration-color: #00ff00; font-weight: bold\">10:32:30</span>.<span style=\"color: #008080; text-decoration-color: #008080; font-weight: bold\">233141</span> <span style=\"font-weight: bold\">(</span>EventType.LOG_INFO<span style=\"font-weight: bold\">)</span>: Connecting to robot <span style=\"color: #008080; text-decoration-color: #008080; font-weight: bold\">0</span><span style=\"color: #808000; text-decoration-color: #808000\">...</span>\n",
       "</pre>\n"
      ],
      "text/plain": [
       "\u001b[1;36m2025\u001b[0m-\u001b[1;36m04\u001b[0m-\u001b[1;36m08\u001b[0m \u001b[1;92m10:32:30\u001b[0m.\u001b[1;36m233141\u001b[0m \u001b[1m(\u001b[0mEventType.LOG_INFO\u001b[1m)\u001b[0m: Connecting to robot \u001b[1;36m0\u001b[0m\u001b[33m...\u001b[0m\n"
      ]
     },
     "metadata": {},
     "output_type": "display_data"
    },
    {
     "data": {
      "text/html": [
       "<pre style=\"white-space:pre;overflow-x:auto;line-height:normal;font-family:Menlo,'DejaVu Sans Mono',consolas,'Courier New',monospace\"><span style=\"color: #008080; text-decoration-color: #008080; font-weight: bold\">2025</span>-<span style=\"color: #008080; text-decoration-color: #008080; font-weight: bold\">04</span>-<span style=\"color: #008080; text-decoration-color: #008080; font-weight: bold\">08</span> <span style=\"color: #00ff00; text-decoration-color: #00ff00; font-weight: bold\">10:32:30</span>.<span style=\"color: #008080; text-decoration-color: #008080; font-weight: bold\">235521</span> <span style=\"font-weight: bold\">(</span>EventType.LOG_INFO<span style=\"font-weight: bold\">)</span>: Connected to robot <span style=\"color: #008080; text-decoration-color: #008080; font-weight: bold\">0</span>\n",
       "</pre>\n"
      ],
      "text/plain": [
       "\u001b[1;36m2025\u001b[0m-\u001b[1;36m04\u001b[0m-\u001b[1;36m08\u001b[0m \u001b[1;92m10:32:30\u001b[0m.\u001b[1;36m235521\u001b[0m \u001b[1m(\u001b[0mEventType.LOG_INFO\u001b[1m)\u001b[0m: Connected to robot \u001b[1;36m0\u001b[0m\n"
      ]
     },
     "metadata": {},
     "output_type": "display_data"
    },
    {
     "data": {
      "text/html": [
       "<pre style=\"white-space:pre;overflow-x:auto;line-height:normal;font-family:Menlo,'DejaVu Sans Mono',consolas,'Courier New',monospace\"><span style=\"color: #008080; text-decoration-color: #008080; font-weight: bold\">2025</span>-<span style=\"color: #008080; text-decoration-color: #008080; font-weight: bold\">04</span>-<span style=\"color: #008080; text-decoration-color: #008080; font-weight: bold\">08</span> <span style=\"color: #00ff00; text-decoration-color: #00ff00; font-weight: bold\">10:32:30</span>.<span style=\"color: #008080; text-decoration-color: #008080; font-weight: bold\">237325</span> <span style=\"font-weight: bold\">(</span>EventType.LOG_INFO<span style=\"font-weight: bold\">)</span>: Startup complete for node example_node.\n",
       "</pre>\n"
      ],
      "text/plain": [
       "\u001b[1;36m2025\u001b[0m-\u001b[1;36m04\u001b[0m-\u001b[1;36m08\u001b[0m \u001b[1;92m10:32:30\u001b[0m.\u001b[1;36m237325\u001b[0m \u001b[1m(\u001b[0mEventType.LOG_INFO\u001b[1m)\u001b[0m: Startup complete for node example_node.\n"
      ]
     },
     "metadata": {},
     "output_type": "display_data"
    },
    {
     "data": {
      "text/html": [
       "<pre style=\"white-space:pre;overflow-x:auto;line-height:normal;font-family:Menlo,'DejaVu Sans Mono',consolas,'Courier New',monospace\"><span style=\"color: #008080; text-decoration-color: #008080; font-weight: bold\">2025</span>-<span style=\"color: #008080; text-decoration-color: #008080; font-weight: bold\">04</span>-<span style=\"color: #008080; text-decoration-color: #008080; font-weight: bold\">08</span> <span style=\"color: #00ff00; text-decoration-color: #00ff00; font-weight: bold\">10:32:30</span>.<span style=\"color: #008080; text-decoration-color: #008080; font-weight: bold\">345357</span> <span style=\"font-weight: bold\">(</span>EventType.LOG_INFO<span style=\"font-weight: bold\">)</span>: Node locked\n",
       "</pre>\n"
      ],
      "text/plain": [
       "\u001b[1;36m2025\u001b[0m-\u001b[1;36m04\u001b[0m-\u001b[1;36m08\u001b[0m \u001b[1;92m10:32:30\u001b[0m.\u001b[1;36m345357\u001b[0m \u001b[1m(\u001b[0mEventType.LOG_INFO\u001b[1m)\u001b[0m: Node locked\n"
      ]
     },
     "metadata": {},
     "output_type": "display_data"
    },
    {
     "data": {
      "text/html": [
       "<pre style=\"white-space:pre;overflow-x:auto;line-height:normal;font-family:Menlo,'DejaVu Sans Mono',consolas,'Courier New',monospace\"><span style=\"color: #800080; text-decoration-color: #800080; font-weight: bold\">AdminCommandResponse</span><span style=\"font-weight: bold\">(</span><span style=\"color: #808000; text-decoration-color: #808000\">success</span>=<span style=\"color: #00ff00; text-decoration-color: #00ff00; font-style: italic\">True</span>, <span style=\"color: #808000; text-decoration-color: #808000\">errors</span>=<span style=\"font-weight: bold\">[]</span>, <span style=\"color: #808000; text-decoration-color: #808000\">data</span>=<span style=\"color: #800080; text-decoration-color: #800080; font-style: italic\">None</span><span style=\"font-weight: bold\">)</span>\n",
       "</pre>\n"
      ],
      "text/plain": [
       "\u001b[1;35mAdminCommandResponse\u001b[0m\u001b[1m(\u001b[0m\u001b[33msuccess\u001b[0m=\u001b[3;92mTrue\u001b[0m, \u001b[33merrors\u001b[0m=\u001b[1m[\u001b[0m\u001b[1m]\u001b[0m, \u001b[33mdata\u001b[0m=\u001b[3;35mNone\u001b[0m\u001b[1m)\u001b[0m\n"
      ]
     },
     "metadata": {},
     "output_type": "display_data"
    },
    {
     "data": {
      "text/html": [
       "<pre style=\"white-space:pre;overflow-x:auto;line-height:normal;font-family:Menlo,'DejaVu Sans Mono',consolas,'Courier New',monospace\"><span style=\"color: #008080; text-decoration-color: #008080; font-weight: bold\">2025</span>-<span style=\"color: #008080; text-decoration-color: #008080; font-weight: bold\">04</span>-<span style=\"color: #008080; text-decoration-color: #008080; font-weight: bold\">08</span> <span style=\"color: #00ff00; text-decoration-color: #00ff00; font-weight: bold\">10:32:30</span>.<span style=\"color: #008080; text-decoration-color: #008080; font-weight: bold\">349767</span> <span style=\"font-weight: bold\">(</span>EventType.ACTION_STATUS_CHANGE<span style=\"font-weight: bold\">)</span>: <span style=\"color: #808000; text-decoration-color: #808000\">action_id</span>=<span style=\"color: #008000; text-decoration-color: #008000\">'01JRB0G50CW1SRHRDBQ42TRW23'</span> \n",
       "<span style=\"color: #808000; text-decoration-color: #808000\">status</span>=<span style=\"font-weight: bold\">&lt;</span><span style=\"color: #ff00ff; text-decoration-color: #ff00ff; font-weight: bold\">ActionStatus.NOT_STARTED:</span><span style=\"color: #000000; text-decoration-color: #000000\"> </span><span style=\"color: #008000; text-decoration-color: #008000\">'not_started'</span><span style=\"font-weight: bold\">&gt;</span> <span style=\"color: #808000; text-decoration-color: #808000\">errors</span>=<span style=\"font-weight: bold\">[]</span> <span style=\"color: #808000; text-decoration-color: #808000\">data</span>=<span style=\"font-weight: bold\">{}</span> <span style=\"color: #808000; text-decoration-color: #808000\">files</span>=<span style=\"font-weight: bold\">{}</span> <span style=\"color: #808000; text-decoration-color: #808000\">datapoints</span>=<span style=\"font-weight: bold\">{}</span> \n",
       "<span style=\"color: #808000; text-decoration-color: #808000\">history_created_at</span>=<span style=\"color: #800080; text-decoration-color: #800080; font-weight: bold\">datetime</span><span style=\"color: #800080; text-decoration-color: #800080; font-weight: bold\">.datetime</span><span style=\"font-weight: bold\">(</span><span style=\"color: #008080; text-decoration-color: #008080; font-weight: bold\">2025</span>, <span style=\"color: #008080; text-decoration-color: #008080; font-weight: bold\">4</span>, <span style=\"color: #008080; text-decoration-color: #008080; font-weight: bold\">8</span>, <span style=\"color: #008080; text-decoration-color: #008080; font-weight: bold\">10</span>, <span style=\"color: #008080; text-decoration-color: #008080; font-weight: bold\">32</span>, <span style=\"color: #008080; text-decoration-color: #008080; font-weight: bold\">30</span>, <span style=\"color: #008080; text-decoration-color: #008080; font-weight: bold\">349721</span>, \n",
       "<span style=\"color: #808000; text-decoration-color: #808000\">tzinfo</span>=<span style=\"color: #800080; text-decoration-color: #800080; font-weight: bold\">datetime</span><span style=\"color: #800080; text-decoration-color: #800080; font-weight: bold\">.timezone</span><span style=\"font-weight: bold\">(</span><span style=\"color: #800080; text-decoration-color: #800080; font-weight: bold\">datetime.timedelta</span><span style=\"font-weight: bold\">(</span><span style=\"color: #808000; text-decoration-color: #808000\">days</span>=<span style=\"color: #008080; text-decoration-color: #008080; font-weight: bold\">-1</span>, <span style=\"color: #808000; text-decoration-color: #808000\">seconds</span>=<span style=\"color: #008080; text-decoration-color: #008080; font-weight: bold\">68400</span><span style=\"font-weight: bold\">)</span>, <span style=\"color: #008000; text-decoration-color: #008000\">'CDT'</span><span style=\"font-weight: bold\">))</span>\n",
       "</pre>\n"
      ],
      "text/plain": [
       "\u001b[1;36m2025\u001b[0m-\u001b[1;36m04\u001b[0m-\u001b[1;36m08\u001b[0m \u001b[1;92m10:32:30\u001b[0m.\u001b[1;36m349767\u001b[0m \u001b[1m(\u001b[0mEventType.ACTION_STATUS_CHANGE\u001b[1m)\u001b[0m: \u001b[33maction_id\u001b[0m=\u001b[32m'01JRB0G50CW1SRHRDBQ42TRW23'\u001b[0m \n",
       "\u001b[33mstatus\u001b[0m=\u001b[1m<\u001b[0m\u001b[1;95mActionStatus.NOT_STARTED:\u001b[0m\u001b[39m \u001b[0m\u001b[32m'not_started'\u001b[0m\u001b[1m>\u001b[0m \u001b[33merrors\u001b[0m=\u001b[1m[\u001b[0m\u001b[1m]\u001b[0m \u001b[33mdata\u001b[0m=\u001b[1m{\u001b[0m\u001b[1m}\u001b[0m \u001b[33mfiles\u001b[0m=\u001b[1m{\u001b[0m\u001b[1m}\u001b[0m \u001b[33mdatapoints\u001b[0m=\u001b[1m{\u001b[0m\u001b[1m}\u001b[0m \n",
       "\u001b[33mhistory_created_at\u001b[0m=\u001b[1;35mdatetime\u001b[0m\u001b[1;35m.datetime\u001b[0m\u001b[1m(\u001b[0m\u001b[1;36m2025\u001b[0m, \u001b[1;36m4\u001b[0m, \u001b[1;36m8\u001b[0m, \u001b[1;36m10\u001b[0m, \u001b[1;36m32\u001b[0m, \u001b[1;36m30\u001b[0m, \u001b[1;36m349721\u001b[0m, \n",
       "\u001b[33mtzinfo\u001b[0m=\u001b[1;35mdatetime\u001b[0m\u001b[1;35m.timezone\u001b[0m\u001b[1m(\u001b[0m\u001b[1;35mdatetime.timedelta\u001b[0m\u001b[1m(\u001b[0m\u001b[33mdays\u001b[0m=\u001b[1;36m-1\u001b[0m, \u001b[33mseconds\u001b[0m=\u001b[1;36m68400\u001b[0m\u001b[1m)\u001b[0m, \u001b[32m'CDT'\u001b[0m\u001b[1m)\u001b[0m\u001b[1m)\u001b[0m\n"
      ]
     },
     "metadata": {},
     "output_type": "display_data"
    },
    {
     "data": {
      "text/html": [
       "<pre style=\"white-space:pre;overflow-x:auto;line-height:normal;font-family:Menlo,'DejaVu Sans Mono',consolas,'Courier New',monospace\"><span style=\"color: #008080; text-decoration-color: #008080; font-weight: bold\">2025</span>-<span style=\"color: #008080; text-decoration-color: #008080; font-weight: bold\">04</span>-<span style=\"color: #008080; text-decoration-color: #008080; font-weight: bold\">08</span> <span style=\"color: #00ff00; text-decoration-color: #00ff00; font-weight: bold\">10:32:30</span>.<span style=\"color: #008080; text-decoration-color: #008080; font-weight: bold\">351557</span> <span style=\"font-weight: bold\">(</span>EventType.ACTION_STATUS_CHANGE<span style=\"font-weight: bold\">)</span>: <span style=\"color: #808000; text-decoration-color: #808000\">action_id</span>=<span style=\"color: #008000; text-decoration-color: #008000\">'01JRB0G50CW1SRHRDBQ42TRW23'</span> \n",
       "<span style=\"color: #808000; text-decoration-color: #808000\">status</span>=<span style=\"font-weight: bold\">&lt;</span><span style=\"color: #ff00ff; text-decoration-color: #ff00ff; font-weight: bold\">ActionStatus.NOT_READY:</span><span style=\"color: #000000; text-decoration-color: #000000\"> </span><span style=\"color: #008000; text-decoration-color: #008000\">'not_ready'</span><span style=\"font-weight: bold\">&gt;</span> <span style=\"color: #808000; text-decoration-color: #808000\">errors</span>=<span style=\"font-weight: bold\">[</span><span style=\"color: #800080; text-decoration-color: #800080; font-weight: bold\">Error</span><span style=\"font-weight: bold\">(</span><span style=\"color: #808000; text-decoration-color: #808000\">message</span>=<span style=\"color: #008000; text-decoration-color: #008000\">'Node is not ready: Node is locked'</span>, \n",
       "<span style=\"color: #808000; text-decoration-color: #808000\">logged_at</span>=<span style=\"color: #800080; text-decoration-color: #800080; font-weight: bold\">datetime</span><span style=\"color: #800080; text-decoration-color: #800080; font-weight: bold\">.datetime</span><span style=\"font-weight: bold\">(</span><span style=\"color: #008080; text-decoration-color: #008080; font-weight: bold\">2025</span>, <span style=\"color: #008080; text-decoration-color: #008080; font-weight: bold\">4</span>, <span style=\"color: #008080; text-decoration-color: #008080; font-weight: bold\">8</span>, <span style=\"color: #008080; text-decoration-color: #008080; font-weight: bold\">10</span>, <span style=\"color: #008080; text-decoration-color: #008080; font-weight: bold\">32</span>, <span style=\"color: #008080; text-decoration-color: #008080; font-weight: bold\">30</span>, <span style=\"color: #008080; text-decoration-color: #008080; font-weight: bold\">351512</span><span style=\"font-weight: bold\">)</span>, <span style=\"color: #808000; text-decoration-color: #808000\">error_type</span>=<span style=\"color: #008000; text-decoration-color: #008000\">'NodeNotReady'</span><span style=\"font-weight: bold\">)]</span> <span style=\"color: #808000; text-decoration-color: #808000\">data</span>=<span style=\"font-weight: bold\">{}</span> <span style=\"color: #808000; text-decoration-color: #808000\">files</span>=<span style=\"font-weight: bold\">{}</span> \n",
       "<span style=\"color: #808000; text-decoration-color: #808000\">datapoints</span>=<span style=\"font-weight: bold\">{}</span> <span style=\"color: #808000; text-decoration-color: #808000\">history_created_at</span>=<span style=\"color: #800080; text-decoration-color: #800080; font-weight: bold\">datetime</span><span style=\"color: #800080; text-decoration-color: #800080; font-weight: bold\">.datetime</span><span style=\"font-weight: bold\">(</span><span style=\"color: #008080; text-decoration-color: #008080; font-weight: bold\">2025</span>, <span style=\"color: #008080; text-decoration-color: #008080; font-weight: bold\">4</span>, <span style=\"color: #008080; text-decoration-color: #008080; font-weight: bold\">8</span>, <span style=\"color: #008080; text-decoration-color: #008080; font-weight: bold\">10</span>, <span style=\"color: #008080; text-decoration-color: #008080; font-weight: bold\">32</span>, <span style=\"color: #008080; text-decoration-color: #008080; font-weight: bold\">30</span>, <span style=\"color: #008080; text-decoration-color: #008080; font-weight: bold\">351530</span>, \n",
       "<span style=\"color: #808000; text-decoration-color: #808000\">tzinfo</span>=<span style=\"color: #800080; text-decoration-color: #800080; font-weight: bold\">datetime</span><span style=\"color: #800080; text-decoration-color: #800080; font-weight: bold\">.timezone</span><span style=\"font-weight: bold\">(</span><span style=\"color: #800080; text-decoration-color: #800080; font-weight: bold\">datetime.timedelta</span><span style=\"font-weight: bold\">(</span><span style=\"color: #808000; text-decoration-color: #808000\">days</span>=<span style=\"color: #008080; text-decoration-color: #008080; font-weight: bold\">-1</span>, <span style=\"color: #808000; text-decoration-color: #808000\">seconds</span>=<span style=\"color: #008080; text-decoration-color: #008080; font-weight: bold\">68400</span><span style=\"font-weight: bold\">)</span>, <span style=\"color: #008000; text-decoration-color: #008000\">'CDT'</span><span style=\"font-weight: bold\">))</span>\n",
       "</pre>\n"
      ],
      "text/plain": [
       "\u001b[1;36m2025\u001b[0m-\u001b[1;36m04\u001b[0m-\u001b[1;36m08\u001b[0m \u001b[1;92m10:32:30\u001b[0m.\u001b[1;36m351557\u001b[0m \u001b[1m(\u001b[0mEventType.ACTION_STATUS_CHANGE\u001b[1m)\u001b[0m: \u001b[33maction_id\u001b[0m=\u001b[32m'01JRB0G50CW1SRHRDBQ42TRW23'\u001b[0m \n",
       "\u001b[33mstatus\u001b[0m=\u001b[1m<\u001b[0m\u001b[1;95mActionStatus.NOT_READY:\u001b[0m\u001b[39m \u001b[0m\u001b[32m'not_ready'\u001b[0m\u001b[1m>\u001b[0m \u001b[33merrors\u001b[0m=\u001b[1m[\u001b[0m\u001b[1;35mError\u001b[0m\u001b[1m(\u001b[0m\u001b[33mmessage\u001b[0m=\u001b[32m'Node is not ready: Node is locked'\u001b[0m, \n",
       "\u001b[33mlogged_at\u001b[0m=\u001b[1;35mdatetime\u001b[0m\u001b[1;35m.datetime\u001b[0m\u001b[1m(\u001b[0m\u001b[1;36m2025\u001b[0m, \u001b[1;36m4\u001b[0m, \u001b[1;36m8\u001b[0m, \u001b[1;36m10\u001b[0m, \u001b[1;36m32\u001b[0m, \u001b[1;36m30\u001b[0m, \u001b[1;36m351512\u001b[0m\u001b[1m)\u001b[0m, \u001b[33merror_type\u001b[0m=\u001b[32m'NodeNotReady'\u001b[0m\u001b[1m)\u001b[0m\u001b[1m]\u001b[0m \u001b[33mdata\u001b[0m=\u001b[1m{\u001b[0m\u001b[1m}\u001b[0m \u001b[33mfiles\u001b[0m=\u001b[1m{\u001b[0m\u001b[1m}\u001b[0m \n",
       "\u001b[33mdatapoints\u001b[0m=\u001b[1m{\u001b[0m\u001b[1m}\u001b[0m \u001b[33mhistory_created_at\u001b[0m=\u001b[1;35mdatetime\u001b[0m\u001b[1;35m.datetime\u001b[0m\u001b[1m(\u001b[0m\u001b[1;36m2025\u001b[0m, \u001b[1;36m4\u001b[0m, \u001b[1;36m8\u001b[0m, \u001b[1;36m10\u001b[0m, \u001b[1;36m32\u001b[0m, \u001b[1;36m30\u001b[0m, \u001b[1;36m351530\u001b[0m, \n",
       "\u001b[33mtzinfo\u001b[0m=\u001b[1;35mdatetime\u001b[0m\u001b[1;35m.timezone\u001b[0m\u001b[1m(\u001b[0m\u001b[1;35mdatetime.timedelta\u001b[0m\u001b[1m(\u001b[0m\u001b[33mdays\u001b[0m=\u001b[1;36m-1\u001b[0m, \u001b[33mseconds\u001b[0m=\u001b[1;36m68400\u001b[0m\u001b[1m)\u001b[0m, \u001b[32m'CDT'\u001b[0m\u001b[1m)\u001b[0m\u001b[1m)\u001b[0m\n"
      ]
     },
     "metadata": {},
     "output_type": "display_data"
    },
    {
     "data": {
      "text/html": [
       "<pre style=\"white-space:pre;overflow-x:auto;line-height:normal;font-family:Menlo,'DejaVu Sans Mono',consolas,'Courier New',monospace\"><span style=\"color: #800080; text-decoration-color: #800080; font-weight: bold\">ActionResult</span><span style=\"font-weight: bold\">(</span>\n",
       "    <span style=\"color: #808000; text-decoration-color: #808000\">action_id</span>=<span style=\"color: #008000; text-decoration-color: #008000\">'01JRB0G50CW1SRHRDBQ42TRW23'</span>,\n",
       "    <span style=\"color: #808000; text-decoration-color: #808000\">status</span>=<span style=\"font-weight: bold\">&lt;</span><span style=\"color: #ff00ff; text-decoration-color: #ff00ff; font-weight: bold\">ActionStatus.NOT_READY:</span><span style=\"color: #000000; text-decoration-color: #000000\"> </span><span style=\"color: #008000; text-decoration-color: #008000\">'not_ready'</span><span style=\"font-weight: bold\">&gt;</span>,\n",
       "    <span style=\"color: #808000; text-decoration-color: #808000\">errors</span>=<span style=\"font-weight: bold\">[</span>\n",
       "        <span style=\"color: #800080; text-decoration-color: #800080; font-weight: bold\">Error</span><span style=\"font-weight: bold\">(</span>\n",
       "            <span style=\"color: #808000; text-decoration-color: #808000\">message</span>=<span style=\"color: #008000; text-decoration-color: #008000\">'Node is not ready: Node is locked'</span>,\n",
       "            <span style=\"color: #808000; text-decoration-color: #808000\">logged_at</span>=<span style=\"color: #800080; text-decoration-color: #800080; font-weight: bold\">datetime</span><span style=\"color: #800080; text-decoration-color: #800080; font-weight: bold\">.datetime</span><span style=\"font-weight: bold\">(</span><span style=\"color: #008080; text-decoration-color: #008080; font-weight: bold\">2025</span>, <span style=\"color: #008080; text-decoration-color: #008080; font-weight: bold\">4</span>, <span style=\"color: #008080; text-decoration-color: #008080; font-weight: bold\">8</span>, <span style=\"color: #008080; text-decoration-color: #008080; font-weight: bold\">10</span>, <span style=\"color: #008080; text-decoration-color: #008080; font-weight: bold\">32</span>, <span style=\"color: #008080; text-decoration-color: #008080; font-weight: bold\">30</span>, <span style=\"color: #008080; text-decoration-color: #008080; font-weight: bold\">351512</span><span style=\"font-weight: bold\">)</span>,\n",
       "            <span style=\"color: #808000; text-decoration-color: #808000\">error_type</span>=<span style=\"color: #008000; text-decoration-color: #008000\">'NodeNotReady'</span>\n",
       "        <span style=\"font-weight: bold\">)</span>\n",
       "    <span style=\"font-weight: bold\">]</span>,\n",
       "    <span style=\"color: #808000; text-decoration-color: #808000\">data</span>=<span style=\"font-weight: bold\">{}</span>,\n",
       "    <span style=\"color: #808000; text-decoration-color: #808000\">files</span>=<span style=\"font-weight: bold\">{}</span>,\n",
       "    <span style=\"color: #808000; text-decoration-color: #808000\">datapoints</span>=<span style=\"font-weight: bold\">{}</span>,\n",
       "    <span style=\"color: #808000; text-decoration-color: #808000\">history_created_at</span>=<span style=\"color: #800080; text-decoration-color: #800080; font-weight: bold\">datetime</span><span style=\"color: #800080; text-decoration-color: #800080; font-weight: bold\">.datetime</span><span style=\"font-weight: bold\">(</span><span style=\"color: #008080; text-decoration-color: #008080; font-weight: bold\">2025</span>, <span style=\"color: #008080; text-decoration-color: #008080; font-weight: bold\">4</span>, <span style=\"color: #008080; text-decoration-color: #008080; font-weight: bold\">8</span>, <span style=\"color: #008080; text-decoration-color: #008080; font-weight: bold\">10</span>, <span style=\"color: #008080; text-decoration-color: #008080; font-weight: bold\">32</span>, <span style=\"color: #008080; text-decoration-color: #008080; font-weight: bold\">30</span>, <span style=\"color: #008080; text-decoration-color: #008080; font-weight: bold\">351530</span>, <span style=\"color: #808000; text-decoration-color: #808000\">tzinfo</span>=<span style=\"color: #800080; text-decoration-color: #800080; font-weight: bold\">TzInfo</span><span style=\"font-weight: bold\">(</span><span style=\"color: #008080; text-decoration-color: #008080; font-weight: bold\">-05</span>:<span style=\"color: #008080; text-decoration-color: #008080; font-weight: bold\">00</span><span style=\"font-weight: bold\">))</span>\n",
       "<span style=\"font-weight: bold\">)</span>\n",
       "</pre>\n"
      ],
      "text/plain": [
       "\u001b[1;35mActionResult\u001b[0m\u001b[1m(\u001b[0m\n",
       "    \u001b[33maction_id\u001b[0m=\u001b[32m'01JRB0G50CW1SRHRDBQ42TRW23'\u001b[0m,\n",
       "    \u001b[33mstatus\u001b[0m=\u001b[1m<\u001b[0m\u001b[1;95mActionStatus.NOT_READY:\u001b[0m\u001b[39m \u001b[0m\u001b[32m'not_ready'\u001b[0m\u001b[1m>\u001b[0m,\n",
       "    \u001b[33merrors\u001b[0m=\u001b[1m[\u001b[0m\n",
       "        \u001b[1;35mError\u001b[0m\u001b[1m(\u001b[0m\n",
       "            \u001b[33mmessage\u001b[0m=\u001b[32m'Node is not ready: Node is locked'\u001b[0m,\n",
       "            \u001b[33mlogged_at\u001b[0m=\u001b[1;35mdatetime\u001b[0m\u001b[1;35m.datetime\u001b[0m\u001b[1m(\u001b[0m\u001b[1;36m2025\u001b[0m, \u001b[1;36m4\u001b[0m, \u001b[1;36m8\u001b[0m, \u001b[1;36m10\u001b[0m, \u001b[1;36m32\u001b[0m, \u001b[1;36m30\u001b[0m, \u001b[1;36m351512\u001b[0m\u001b[1m)\u001b[0m,\n",
       "            \u001b[33merror_type\u001b[0m=\u001b[32m'NodeNotReady'\u001b[0m\n",
       "        \u001b[1m)\u001b[0m\n",
       "    \u001b[1m]\u001b[0m,\n",
       "    \u001b[33mdata\u001b[0m=\u001b[1m{\u001b[0m\u001b[1m}\u001b[0m,\n",
       "    \u001b[33mfiles\u001b[0m=\u001b[1m{\u001b[0m\u001b[1m}\u001b[0m,\n",
       "    \u001b[33mdatapoints\u001b[0m=\u001b[1m{\u001b[0m\u001b[1m}\u001b[0m,\n",
       "    \u001b[33mhistory_created_at\u001b[0m=\u001b[1;35mdatetime\u001b[0m\u001b[1;35m.datetime\u001b[0m\u001b[1m(\u001b[0m\u001b[1;36m2025\u001b[0m, \u001b[1;36m4\u001b[0m, \u001b[1;36m8\u001b[0m, \u001b[1;36m10\u001b[0m, \u001b[1;36m32\u001b[0m, \u001b[1;36m30\u001b[0m, \u001b[1;36m351530\u001b[0m, \u001b[33mtzinfo\u001b[0m=\u001b[1;35mTzInfo\u001b[0m\u001b[1m(\u001b[0m\u001b[1;36m-05\u001b[0m:\u001b[1;36m00\u001b[0m\u001b[1m)\u001b[0m\u001b[1m)\u001b[0m\n",
       "\u001b[1m)\u001b[0m\n"
      ]
     },
     "metadata": {},
     "output_type": "display_data"
    },
    {
     "data": {
      "text/html": [
       "<pre style=\"white-space:pre;overflow-x:auto;line-height:normal;font-family:Menlo,'DejaVu Sans Mono',consolas,'Courier New',monospace\"><span style=\"color: #008080; text-decoration-color: #008080; font-weight: bold\">2025</span>-<span style=\"color: #008080; text-decoration-color: #008080; font-weight: bold\">04</span>-<span style=\"color: #008080; text-decoration-color: #008080; font-weight: bold\">08</span> <span style=\"color: #00ff00; text-decoration-color: #00ff00; font-weight: bold\">10:32:30</span>.<span style=\"color: #008080; text-decoration-color: #008080; font-weight: bold\">356889</span> <span style=\"font-weight: bold\">(</span>EventType.LOG_INFO<span style=\"font-weight: bold\">)</span>: Node unlocked\n",
       "</pre>\n"
      ],
      "text/plain": [
       "\u001b[1;36m2025\u001b[0m-\u001b[1;36m04\u001b[0m-\u001b[1;36m08\u001b[0m \u001b[1;92m10:32:30\u001b[0m.\u001b[1;36m356889\u001b[0m \u001b[1m(\u001b[0mEventType.LOG_INFO\u001b[1m)\u001b[0m: Node unlocked\n"
      ]
     },
     "metadata": {},
     "output_type": "display_data"
    },
    {
     "data": {
      "text/html": [
       "<pre style=\"white-space:pre;overflow-x:auto;line-height:normal;font-family:Menlo,'DejaVu Sans Mono',consolas,'Courier New',monospace\"><span style=\"color: #800080; text-decoration-color: #800080; font-weight: bold\">AdminCommandResponse</span><span style=\"font-weight: bold\">(</span><span style=\"color: #808000; text-decoration-color: #808000\">success</span>=<span style=\"color: #00ff00; text-decoration-color: #00ff00; font-style: italic\">True</span>, <span style=\"color: #808000; text-decoration-color: #808000\">errors</span>=<span style=\"font-weight: bold\">[]</span>, <span style=\"color: #808000; text-decoration-color: #808000\">data</span>=<span style=\"color: #800080; text-decoration-color: #800080; font-style: italic\">None</span><span style=\"font-weight: bold\">)</span>\n",
       "</pre>\n"
      ],
      "text/plain": [
       "\u001b[1;35mAdminCommandResponse\u001b[0m\u001b[1m(\u001b[0m\u001b[33msuccess\u001b[0m=\u001b[3;92mTrue\u001b[0m, \u001b[33merrors\u001b[0m=\u001b[1m[\u001b[0m\u001b[1m]\u001b[0m, \u001b[33mdata\u001b[0m=\u001b[3;35mNone\u001b[0m\u001b[1m)\u001b[0m\n"
      ]
     },
     "metadata": {},
     "output_type": "display_data"
    },
    {
     "data": {
      "text/html": [
       "<pre style=\"white-space:pre;overflow-x:auto;line-height:normal;font-family:Menlo,'DejaVu Sans Mono',consolas,'Courier New',monospace\"><span style=\"color: #008080; text-decoration-color: #008080; font-weight: bold\">2025</span>-<span style=\"color: #008080; text-decoration-color: #008080; font-weight: bold\">04</span>-<span style=\"color: #008080; text-decoration-color: #008080; font-weight: bold\">08</span> <span style=\"color: #00ff00; text-decoration-color: #00ff00; font-weight: bold\">10:32:30</span>.<span style=\"color: #008080; text-decoration-color: #008080; font-weight: bold\">360330</span> <span style=\"font-weight: bold\">(</span>EventType.ACTION_STATUS_CHANGE<span style=\"font-weight: bold\">)</span>: <span style=\"color: #808000; text-decoration-color: #808000\">action_id</span>=<span style=\"color: #008000; text-decoration-color: #008000\">'01JRB0G50CW1SRHRDBQ42TRW23'</span> \n",
       "<span style=\"color: #808000; text-decoration-color: #808000\">status</span>=<span style=\"font-weight: bold\">&lt;</span><span style=\"color: #ff00ff; text-decoration-color: #ff00ff; font-weight: bold\">ActionStatus.NOT_STARTED:</span><span style=\"color: #000000; text-decoration-color: #000000\"> </span><span style=\"color: #008000; text-decoration-color: #008000\">'not_started'</span><span style=\"font-weight: bold\">&gt;</span> <span style=\"color: #808000; text-decoration-color: #808000\">errors</span>=<span style=\"font-weight: bold\">[]</span> <span style=\"color: #808000; text-decoration-color: #808000\">data</span>=<span style=\"font-weight: bold\">{}</span> <span style=\"color: #808000; text-decoration-color: #808000\">files</span>=<span style=\"font-weight: bold\">{}</span> <span style=\"color: #808000; text-decoration-color: #808000\">datapoints</span>=<span style=\"font-weight: bold\">{}</span> \n",
       "<span style=\"color: #808000; text-decoration-color: #808000\">history_created_at</span>=<span style=\"color: #800080; text-decoration-color: #800080; font-weight: bold\">datetime</span><span style=\"color: #800080; text-decoration-color: #800080; font-weight: bold\">.datetime</span><span style=\"font-weight: bold\">(</span><span style=\"color: #008080; text-decoration-color: #008080; font-weight: bold\">2025</span>, <span style=\"color: #008080; text-decoration-color: #008080; font-weight: bold\">4</span>, <span style=\"color: #008080; text-decoration-color: #008080; font-weight: bold\">8</span>, <span style=\"color: #008080; text-decoration-color: #008080; font-weight: bold\">10</span>, <span style=\"color: #008080; text-decoration-color: #008080; font-weight: bold\">32</span>, <span style=\"color: #008080; text-decoration-color: #008080; font-weight: bold\">30</span>, <span style=\"color: #008080; text-decoration-color: #008080; font-weight: bold\">360283</span>, \n",
       "<span style=\"color: #808000; text-decoration-color: #808000\">tzinfo</span>=<span style=\"color: #800080; text-decoration-color: #800080; font-weight: bold\">datetime</span><span style=\"color: #800080; text-decoration-color: #800080; font-weight: bold\">.timezone</span><span style=\"font-weight: bold\">(</span><span style=\"color: #800080; text-decoration-color: #800080; font-weight: bold\">datetime.timedelta</span><span style=\"font-weight: bold\">(</span><span style=\"color: #808000; text-decoration-color: #808000\">days</span>=<span style=\"color: #008080; text-decoration-color: #008080; font-weight: bold\">-1</span>, <span style=\"color: #808000; text-decoration-color: #808000\">seconds</span>=<span style=\"color: #008080; text-decoration-color: #008080; font-weight: bold\">68400</span><span style=\"font-weight: bold\">)</span>, <span style=\"color: #008000; text-decoration-color: #008000\">'CDT'</span><span style=\"font-weight: bold\">))</span>\n",
       "</pre>\n"
      ],
      "text/plain": [
       "\u001b[1;36m2025\u001b[0m-\u001b[1;36m04\u001b[0m-\u001b[1;36m08\u001b[0m \u001b[1;92m10:32:30\u001b[0m.\u001b[1;36m360330\u001b[0m \u001b[1m(\u001b[0mEventType.ACTION_STATUS_CHANGE\u001b[1m)\u001b[0m: \u001b[33maction_id\u001b[0m=\u001b[32m'01JRB0G50CW1SRHRDBQ42TRW23'\u001b[0m \n",
       "\u001b[33mstatus\u001b[0m=\u001b[1m<\u001b[0m\u001b[1;95mActionStatus.NOT_STARTED:\u001b[0m\u001b[39m \u001b[0m\u001b[32m'not_started'\u001b[0m\u001b[1m>\u001b[0m \u001b[33merrors\u001b[0m=\u001b[1m[\u001b[0m\u001b[1m]\u001b[0m \u001b[33mdata\u001b[0m=\u001b[1m{\u001b[0m\u001b[1m}\u001b[0m \u001b[33mfiles\u001b[0m=\u001b[1m{\u001b[0m\u001b[1m}\u001b[0m \u001b[33mdatapoints\u001b[0m=\u001b[1m{\u001b[0m\u001b[1m}\u001b[0m \n",
       "\u001b[33mhistory_created_at\u001b[0m=\u001b[1;35mdatetime\u001b[0m\u001b[1;35m.datetime\u001b[0m\u001b[1m(\u001b[0m\u001b[1;36m2025\u001b[0m, \u001b[1;36m4\u001b[0m, \u001b[1;36m8\u001b[0m, \u001b[1;36m10\u001b[0m, \u001b[1;36m32\u001b[0m, \u001b[1;36m30\u001b[0m, \u001b[1;36m360283\u001b[0m, \n",
       "\u001b[33mtzinfo\u001b[0m=\u001b[1;35mdatetime\u001b[0m\u001b[1;35m.timezone\u001b[0m\u001b[1m(\u001b[0m\u001b[1;35mdatetime.timedelta\u001b[0m\u001b[1m(\u001b[0m\u001b[33mdays\u001b[0m=\u001b[1;36m-1\u001b[0m, \u001b[33mseconds\u001b[0m=\u001b[1;36m68400\u001b[0m\u001b[1m)\u001b[0m, \u001b[32m'CDT'\u001b[0m\u001b[1m)\u001b[0m\u001b[1m)\u001b[0m\n"
      ]
     },
     "metadata": {},
     "output_type": "display_data"
    },
    {
     "data": {
      "text/html": [
       "<pre style=\"white-space:pre;overflow-x:auto;line-height:normal;font-family:Menlo,'DejaVu Sans Mono',consolas,'Courier New',monospace\"><span style=\"color: #008080; text-decoration-color: #008080; font-weight: bold\">2025</span>-<span style=\"color: #008080; text-decoration-color: #008080; font-weight: bold\">04</span>-<span style=\"color: #008080; text-decoration-color: #008080; font-weight: bold\">08</span> <span style=\"color: #00ff00; text-decoration-color: #00ff00; font-weight: bold\">10:32:30</span>.<span style=\"color: #008080; text-decoration-color: #008080; font-weight: bold\">361909</span> <span style=\"font-weight: bold\">(</span>EventType.ACTION_STATUS_CHANGE<span style=\"font-weight: bold\">)</span>: <span style=\"color: #808000; text-decoration-color: #808000\">action_id</span>=<span style=\"color: #008000; text-decoration-color: #008000\">'01JRB0G50CW1SRHRDBQ42TRW23'</span> \n",
       "<span style=\"color: #808000; text-decoration-color: #808000\">status</span>=<span style=\"font-weight: bold\">&lt;</span><span style=\"color: #ff00ff; text-decoration-color: #ff00ff; font-weight: bold\">ActionStatus.RUNNING:</span><span style=\"color: #000000; text-decoration-color: #000000\"> </span><span style=\"color: #008000; text-decoration-color: #008000\">'running'</span><span style=\"font-weight: bold\">&gt;</span> <span style=\"color: #808000; text-decoration-color: #808000\">errors</span>=<span style=\"font-weight: bold\">[]</span> <span style=\"color: #808000; text-decoration-color: #808000\">data</span>=<span style=\"font-weight: bold\">{}</span> <span style=\"color: #808000; text-decoration-color: #808000\">files</span>=<span style=\"font-weight: bold\">{}</span> <span style=\"color: #808000; text-decoration-color: #808000\">datapoints</span>=<span style=\"font-weight: bold\">{}</span> \n",
       "<span style=\"color: #808000; text-decoration-color: #808000\">history_created_at</span>=<span style=\"color: #800080; text-decoration-color: #800080; font-weight: bold\">datetime</span><span style=\"color: #800080; text-decoration-color: #800080; font-weight: bold\">.datetime</span><span style=\"font-weight: bold\">(</span><span style=\"color: #008080; text-decoration-color: #008080; font-weight: bold\">2025</span>, <span style=\"color: #008080; text-decoration-color: #008080; font-weight: bold\">4</span>, <span style=\"color: #008080; text-decoration-color: #008080; font-weight: bold\">8</span>, <span style=\"color: #008080; text-decoration-color: #008080; font-weight: bold\">10</span>, <span style=\"color: #008080; text-decoration-color: #008080; font-weight: bold\">32</span>, <span style=\"color: #008080; text-decoration-color: #008080; font-weight: bold\">30</span>, <span style=\"color: #008080; text-decoration-color: #008080; font-weight: bold\">361878</span>, \n",
       "<span style=\"color: #808000; text-decoration-color: #808000\">tzinfo</span>=<span style=\"color: #800080; text-decoration-color: #800080; font-weight: bold\">datetime</span><span style=\"color: #800080; text-decoration-color: #800080; font-weight: bold\">.timezone</span><span style=\"font-weight: bold\">(</span><span style=\"color: #800080; text-decoration-color: #800080; font-weight: bold\">datetime.timedelta</span><span style=\"font-weight: bold\">(</span><span style=\"color: #808000; text-decoration-color: #808000\">days</span>=<span style=\"color: #008080; text-decoration-color: #008080; font-weight: bold\">-1</span>, <span style=\"color: #808000; text-decoration-color: #808000\">seconds</span>=<span style=\"color: #008080; text-decoration-color: #008080; font-weight: bold\">68400</span><span style=\"font-weight: bold\">)</span>, <span style=\"color: #008000; text-decoration-color: #008000\">'CDT'</span><span style=\"font-weight: bold\">))</span>\n",
       "</pre>\n"
      ],
      "text/plain": [
       "\u001b[1;36m2025\u001b[0m-\u001b[1;36m04\u001b[0m-\u001b[1;36m08\u001b[0m \u001b[1;92m10:32:30\u001b[0m.\u001b[1;36m361909\u001b[0m \u001b[1m(\u001b[0mEventType.ACTION_STATUS_CHANGE\u001b[1m)\u001b[0m: \u001b[33maction_id\u001b[0m=\u001b[32m'01JRB0G50CW1SRHRDBQ42TRW23'\u001b[0m \n",
       "\u001b[33mstatus\u001b[0m=\u001b[1m<\u001b[0m\u001b[1;95mActionStatus.RUNNING:\u001b[0m\u001b[39m \u001b[0m\u001b[32m'running'\u001b[0m\u001b[1m>\u001b[0m \u001b[33merrors\u001b[0m=\u001b[1m[\u001b[0m\u001b[1m]\u001b[0m \u001b[33mdata\u001b[0m=\u001b[1m{\u001b[0m\u001b[1m}\u001b[0m \u001b[33mfiles\u001b[0m=\u001b[1m{\u001b[0m\u001b[1m}\u001b[0m \u001b[33mdatapoints\u001b[0m=\u001b[1m{\u001b[0m\u001b[1m}\u001b[0m \n",
       "\u001b[33mhistory_created_at\u001b[0m=\u001b[1;35mdatetime\u001b[0m\u001b[1;35m.datetime\u001b[0m\u001b[1m(\u001b[0m\u001b[1;36m2025\u001b[0m, \u001b[1;36m4\u001b[0m, \u001b[1;36m8\u001b[0m, \u001b[1;36m10\u001b[0m, \u001b[1;36m32\u001b[0m, \u001b[1;36m30\u001b[0m, \u001b[1;36m361878\u001b[0m, \n",
       "\u001b[33mtzinfo\u001b[0m=\u001b[1;35mdatetime\u001b[0m\u001b[1;35m.timezone\u001b[0m\u001b[1m(\u001b[0m\u001b[1;35mdatetime.timedelta\u001b[0m\u001b[1m(\u001b[0m\u001b[33mdays\u001b[0m=\u001b[1;36m-1\u001b[0m, \u001b[33mseconds\u001b[0m=\u001b[1;36m68400\u001b[0m\u001b[1m)\u001b[0m, \u001b[32m'CDT'\u001b[0m\u001b[1m)\u001b[0m\u001b[1m)\u001b[0m\n"
      ]
     },
     "metadata": {},
     "output_type": "display_data"
    },
    {
     "data": {
      "text/html": [
       "<pre style=\"white-space:pre;overflow-x:auto;line-height:normal;font-family:Menlo,'DejaVu Sans Mono',consolas,'Courier New',monospace\"><span style=\"color: #008080; text-decoration-color: #008080; font-weight: bold\">2025</span>-<span style=\"color: #008080; text-decoration-color: #008080; font-weight: bold\">04</span>-<span style=\"color: #008080; text-decoration-color: #008080; font-weight: bold\">08</span> <span style=\"color: #00ff00; text-decoration-color: #00ff00; font-weight: bold\">10:32:35</span>.<span style=\"color: #008080; text-decoration-color: #008080; font-weight: bold\">368890</span> <span style=\"font-weight: bold\">(</span>EventType.LOG_INFO<span style=\"font-weight: bold\">)</span>: Moved robot to joint angles: <span style=\"font-weight: bold\">[</span><span style=\"color: #008080; text-decoration-color: #008080; font-weight: bold\">0.5</span>, <span style=\"color: #008080; text-decoration-color: #008080; font-weight: bold\">0.5</span>, <span style=\"color: #008080; text-decoration-color: #008080; font-weight: bold\">0.5</span>, <span style=\"color: #008080; text-decoration-color: #008080; font-weight: bold\">0.5</span><span style=\"font-weight: bold\">]</span>\n",
       "</pre>\n"
      ],
      "text/plain": [
       "\u001b[1;36m2025\u001b[0m-\u001b[1;36m04\u001b[0m-\u001b[1;36m08\u001b[0m \u001b[1;92m10:32:35\u001b[0m.\u001b[1;36m368890\u001b[0m \u001b[1m(\u001b[0mEventType.LOG_INFO\u001b[1m)\u001b[0m: Moved robot to joint angles: \u001b[1m[\u001b[0m\u001b[1;36m0.5\u001b[0m, \u001b[1;36m0.5\u001b[0m, \u001b[1;36m0.5\u001b[0m, \u001b[1;36m0.5\u001b[0m\u001b[1m]\u001b[0m\n"
      ]
     },
     "metadata": {},
     "output_type": "display_data"
    },
    {
     "data": {
      "text/html": [
       "<pre style=\"white-space:pre;overflow-x:auto;line-height:normal;font-family:Menlo,'DejaVu Sans Mono',consolas,'Courier New',monospace\"><span style=\"color: #008080; text-decoration-color: #008080; font-weight: bold\">2025</span>-<span style=\"color: #008080; text-decoration-color: #008080; font-weight: bold\">04</span>-<span style=\"color: #008080; text-decoration-color: #008080; font-weight: bold\">08</span> <span style=\"color: #00ff00; text-decoration-color: #00ff00; font-weight: bold\">10:32:35</span>.<span style=\"color: #008080; text-decoration-color: #008080; font-weight: bold\">373040</span> <span style=\"font-weight: bold\">(</span>EventType.ACTION_STATUS_CHANGE<span style=\"font-weight: bold\">)</span>: <span style=\"color: #808000; text-decoration-color: #808000\">action_id</span>=<span style=\"color: #008000; text-decoration-color: #008000\">'01JRB0G50CW1SRHRDBQ42TRW23'</span> \n",
       "<span style=\"color: #808000; text-decoration-color: #808000\">status</span>=<span style=\"font-weight: bold\">&lt;</span><span style=\"color: #ff00ff; text-decoration-color: #ff00ff; font-weight: bold\">ActionStatus.SUCCEEDED:</span><span style=\"color: #000000; text-decoration-color: #000000\"> </span><span style=\"color: #008000; text-decoration-color: #008000\">'succeeded'</span><span style=\"font-weight: bold\">&gt;</span> <span style=\"color: #808000; text-decoration-color: #808000\">errors</span>=<span style=\"font-weight: bold\">[]</span> <span style=\"color: #808000; text-decoration-color: #808000\">data</span>=<span style=\"font-weight: bold\">{}</span> <span style=\"color: #808000; text-decoration-color: #808000\">files</span>=<span style=\"font-weight: bold\">{}</span> <span style=\"color: #808000; text-decoration-color: #808000\">datapoints</span>=<span style=\"font-weight: bold\">{}</span> \n",
       "<span style=\"color: #808000; text-decoration-color: #808000\">history_created_at</span>=<span style=\"color: #800080; text-decoration-color: #800080; font-weight: bold\">datetime</span><span style=\"color: #800080; text-decoration-color: #800080; font-weight: bold\">.datetime</span><span style=\"font-weight: bold\">(</span><span style=\"color: #008080; text-decoration-color: #008080; font-weight: bold\">2025</span>, <span style=\"color: #008080; text-decoration-color: #008080; font-weight: bold\">4</span>, <span style=\"color: #008080; text-decoration-color: #008080; font-weight: bold\">8</span>, <span style=\"color: #008080; text-decoration-color: #008080; font-weight: bold\">10</span>, <span style=\"color: #008080; text-decoration-color: #008080; font-weight: bold\">32</span>, <span style=\"color: #008080; text-decoration-color: #008080; font-weight: bold\">35</span>, <span style=\"color: #008080; text-decoration-color: #008080; font-weight: bold\">372880</span>, \n",
       "<span style=\"color: #808000; text-decoration-color: #808000\">tzinfo</span>=<span style=\"color: #800080; text-decoration-color: #800080; font-weight: bold\">datetime</span><span style=\"color: #800080; text-decoration-color: #800080; font-weight: bold\">.timezone</span><span style=\"font-weight: bold\">(</span><span style=\"color: #800080; text-decoration-color: #800080; font-weight: bold\">datetime.timedelta</span><span style=\"font-weight: bold\">(</span><span style=\"color: #808000; text-decoration-color: #808000\">days</span>=<span style=\"color: #008080; text-decoration-color: #008080; font-weight: bold\">-1</span>, <span style=\"color: #808000; text-decoration-color: #808000\">seconds</span>=<span style=\"color: #008080; text-decoration-color: #008080; font-weight: bold\">68400</span><span style=\"font-weight: bold\">)</span>, <span style=\"color: #008000; text-decoration-color: #008000\">'CDT'</span><span style=\"font-weight: bold\">))</span>\n",
       "</pre>\n"
      ],
      "text/plain": [
       "\u001b[1;36m2025\u001b[0m-\u001b[1;36m04\u001b[0m-\u001b[1;36m08\u001b[0m \u001b[1;92m10:32:35\u001b[0m.\u001b[1;36m373040\u001b[0m \u001b[1m(\u001b[0mEventType.ACTION_STATUS_CHANGE\u001b[1m)\u001b[0m: \u001b[33maction_id\u001b[0m=\u001b[32m'01JRB0G50CW1SRHRDBQ42TRW23'\u001b[0m \n",
       "\u001b[33mstatus\u001b[0m=\u001b[1m<\u001b[0m\u001b[1;95mActionStatus.SUCCEEDED:\u001b[0m\u001b[39m \u001b[0m\u001b[32m'succeeded'\u001b[0m\u001b[1m>\u001b[0m \u001b[33merrors\u001b[0m=\u001b[1m[\u001b[0m\u001b[1m]\u001b[0m \u001b[33mdata\u001b[0m=\u001b[1m{\u001b[0m\u001b[1m}\u001b[0m \u001b[33mfiles\u001b[0m=\u001b[1m{\u001b[0m\u001b[1m}\u001b[0m \u001b[33mdatapoints\u001b[0m=\u001b[1m{\u001b[0m\u001b[1m}\u001b[0m \n",
       "\u001b[33mhistory_created_at\u001b[0m=\u001b[1;35mdatetime\u001b[0m\u001b[1;35m.datetime\u001b[0m\u001b[1m(\u001b[0m\u001b[1;36m2025\u001b[0m, \u001b[1;36m4\u001b[0m, \u001b[1;36m8\u001b[0m, \u001b[1;36m10\u001b[0m, \u001b[1;36m32\u001b[0m, \u001b[1;36m35\u001b[0m, \u001b[1;36m372880\u001b[0m, \n",
       "\u001b[33mtzinfo\u001b[0m=\u001b[1;35mdatetime\u001b[0m\u001b[1;35m.timezone\u001b[0m\u001b[1m(\u001b[0m\u001b[1;35mdatetime.timedelta\u001b[0m\u001b[1m(\u001b[0m\u001b[33mdays\u001b[0m=\u001b[1;36m-1\u001b[0m, \u001b[33mseconds\u001b[0m=\u001b[1;36m68400\u001b[0m\u001b[1m)\u001b[0m, \u001b[32m'CDT'\u001b[0m\u001b[1m)\u001b[0m\u001b[1m)\u001b[0m\n"
      ]
     },
     "metadata": {},
     "output_type": "display_data"
    },
    {
     "data": {
      "text/html": [
       "<pre style=\"white-space:pre;overflow-x:auto;line-height:normal;font-family:Menlo,'DejaVu Sans Mono',consolas,'Courier New',monospace\"><span style=\"color: #800080; text-decoration-color: #800080; font-weight: bold\">ActionResult</span><span style=\"font-weight: bold\">(</span>\n",
       "    <span style=\"color: #808000; text-decoration-color: #808000\">action_id</span>=<span style=\"color: #008000; text-decoration-color: #008000\">'01JRB0G50CW1SRHRDBQ42TRW23'</span>,\n",
       "    <span style=\"color: #808000; text-decoration-color: #808000\">status</span>=<span style=\"font-weight: bold\">&lt;</span><span style=\"color: #ff00ff; text-decoration-color: #ff00ff; font-weight: bold\">ActionStatus.SUCCEEDED:</span><span style=\"color: #000000; text-decoration-color: #000000\"> </span><span style=\"color: #008000; text-decoration-color: #008000\">'succeeded'</span><span style=\"font-weight: bold\">&gt;</span>,\n",
       "    <span style=\"color: #808000; text-decoration-color: #808000\">errors</span>=<span style=\"font-weight: bold\">[]</span>,\n",
       "    <span style=\"color: #808000; text-decoration-color: #808000\">data</span>=<span style=\"font-weight: bold\">{}</span>,\n",
       "    <span style=\"color: #808000; text-decoration-color: #808000\">files</span>=<span style=\"font-weight: bold\">{}</span>,\n",
       "    <span style=\"color: #808000; text-decoration-color: #808000\">datapoints</span>=<span style=\"font-weight: bold\">{}</span>,\n",
       "    <span style=\"color: #808000; text-decoration-color: #808000\">history_created_at</span>=<span style=\"color: #800080; text-decoration-color: #800080; font-weight: bold\">datetime</span><span style=\"color: #800080; text-decoration-color: #800080; font-weight: bold\">.datetime</span><span style=\"font-weight: bold\">(</span><span style=\"color: #008080; text-decoration-color: #008080; font-weight: bold\">2025</span>, <span style=\"color: #008080; text-decoration-color: #008080; font-weight: bold\">4</span>, <span style=\"color: #008080; text-decoration-color: #008080; font-weight: bold\">8</span>, <span style=\"color: #008080; text-decoration-color: #008080; font-weight: bold\">10</span>, <span style=\"color: #008080; text-decoration-color: #008080; font-weight: bold\">32</span>, <span style=\"color: #008080; text-decoration-color: #008080; font-weight: bold\">35</span>, <span style=\"color: #008080; text-decoration-color: #008080; font-weight: bold\">372880</span>, <span style=\"color: #808000; text-decoration-color: #808000\">tzinfo</span>=<span style=\"color: #800080; text-decoration-color: #800080; font-weight: bold\">TzInfo</span><span style=\"font-weight: bold\">(</span><span style=\"color: #008080; text-decoration-color: #008080; font-weight: bold\">-05</span>:<span style=\"color: #008080; text-decoration-color: #008080; font-weight: bold\">00</span><span style=\"font-weight: bold\">))</span>\n",
       "<span style=\"font-weight: bold\">)</span>\n",
       "</pre>\n"
      ],
      "text/plain": [
       "\u001b[1;35mActionResult\u001b[0m\u001b[1m(\u001b[0m\n",
       "    \u001b[33maction_id\u001b[0m=\u001b[32m'01JRB0G50CW1SRHRDBQ42TRW23'\u001b[0m,\n",
       "    \u001b[33mstatus\u001b[0m=\u001b[1m<\u001b[0m\u001b[1;95mActionStatus.SUCCEEDED:\u001b[0m\u001b[39m \u001b[0m\u001b[32m'succeeded'\u001b[0m\u001b[1m>\u001b[0m,\n",
       "    \u001b[33merrors\u001b[0m=\u001b[1m[\u001b[0m\u001b[1m]\u001b[0m,\n",
       "    \u001b[33mdata\u001b[0m=\u001b[1m{\u001b[0m\u001b[1m}\u001b[0m,\n",
       "    \u001b[33mfiles\u001b[0m=\u001b[1m{\u001b[0m\u001b[1m}\u001b[0m,\n",
       "    \u001b[33mdatapoints\u001b[0m=\u001b[1m{\u001b[0m\u001b[1m}\u001b[0m,\n",
       "    \u001b[33mhistory_created_at\u001b[0m=\u001b[1;35mdatetime\u001b[0m\u001b[1;35m.datetime\u001b[0m\u001b[1m(\u001b[0m\u001b[1;36m2025\u001b[0m, \u001b[1;36m4\u001b[0m, \u001b[1;36m8\u001b[0m, \u001b[1;36m10\u001b[0m, \u001b[1;36m32\u001b[0m, \u001b[1;36m35\u001b[0m, \u001b[1;36m372880\u001b[0m, \u001b[33mtzinfo\u001b[0m=\u001b[1;35mTzInfo\u001b[0m\u001b[1m(\u001b[0m\u001b[1;36m-05\u001b[0m:\u001b[1;36m00\u001b[0m\u001b[1m)\u001b[0m\u001b[1m)\u001b[0m\n",
       "\u001b[1m)\u001b[0m\n"
      ]
     },
     "metadata": {},
     "output_type": "display_data"
    },
    {
     "data": {
      "text/html": [
       "<pre style=\"white-space:pre;overflow-x:auto;line-height:normal;font-family:Menlo,'DejaVu Sans Mono',consolas,'Courier New',monospace\"><span style=\"color: #008080; text-decoration-color: #008080; font-weight: bold\">2025</span>-<span style=\"color: #008080; text-decoration-color: #008080; font-weight: bold\">04</span>-<span style=\"color: #008080; text-decoration-color: #008080; font-weight: bold\">08</span> <span style=\"color: #00ff00; text-decoration-color: #00ff00; font-weight: bold\">10:32:35</span>.<span style=\"color: #008080; text-decoration-color: #008080; font-weight: bold\">605827</span> <span style=\"font-weight: bold\">(</span>EventType.LOG_INFO<span style=\"font-weight: bold\">)</span>: Disconnecting from robot <span style=\"color: #008080; text-decoration-color: #008080; font-weight: bold\">0</span><span style=\"color: #808000; text-decoration-color: #808000\">...</span>\n",
       "</pre>\n"
      ],
      "text/plain": [
       "\u001b[1;36m2025\u001b[0m-\u001b[1;36m04\u001b[0m-\u001b[1;36m08\u001b[0m \u001b[1;92m10:32:35\u001b[0m.\u001b[1;36m605827\u001b[0m \u001b[1m(\u001b[0mEventType.LOG_INFO\u001b[1m)\u001b[0m: Disconnecting from robot \u001b[1;36m0\u001b[0m\u001b[33m...\u001b[0m\n"
      ]
     },
     "metadata": {},
     "output_type": "display_data"
    },
    {
     "data": {
      "text/html": [
       "<pre style=\"white-space:pre;overflow-x:auto;line-height:normal;font-family:Menlo,'DejaVu Sans Mono',consolas,'Courier New',monospace\"><span style=\"color: #008080; text-decoration-color: #008080; font-weight: bold\">2025</span>-<span style=\"color: #008080; text-decoration-color: #008080; font-weight: bold\">04</span>-<span style=\"color: #008080; text-decoration-color: #008080; font-weight: bold\">08</span> <span style=\"color: #00ff00; text-decoration-color: #00ff00; font-weight: bold\">10:32:35</span>.<span style=\"color: #008080; text-decoration-color: #008080; font-weight: bold\">608377</span> <span style=\"font-weight: bold\">(</span>EventType.LOG_INFO<span style=\"font-weight: bold\">)</span>: Disconnected from robot <span style=\"color: #008080; text-decoration-color: #008080; font-weight: bold\">0</span>\n",
       "</pre>\n"
      ],
      "text/plain": [
       "\u001b[1;36m2025\u001b[0m-\u001b[1;36m04\u001b[0m-\u001b[1;36m08\u001b[0m \u001b[1;92m10:32:35\u001b[0m.\u001b[1;36m608377\u001b[0m \u001b[1m(\u001b[0mEventType.LOG_INFO\u001b[1m)\u001b[0m: Disconnected from robot \u001b[1;36m0\u001b[0m\n"
      ]
     },
     "metadata": {},
     "output_type": "display_data"
    },
    {
     "data": {
      "text/html": [
       "<pre style=\"white-space:pre;overflow-x:auto;line-height:normal;font-family:Menlo,'DejaVu Sans Mono',consolas,'Courier New',monospace\"><span style=\"color: #008080; text-decoration-color: #008080; font-weight: bold\">2025</span>-<span style=\"color: #008080; text-decoration-color: #008080; font-weight: bold\">04</span>-<span style=\"color: #008080; text-decoration-color: #008080; font-weight: bold\">08</span> <span style=\"color: #00ff00; text-decoration-color: #00ff00; font-weight: bold\">10:32:35</span>.<span style=\"color: #008080; text-decoration-color: #008080; font-weight: bold\">610957</span> <span style=\"font-weight: bold\">(</span>EventType.LOG_INFO<span style=\"font-weight: bold\">)</span>: Connecting to robot <span style=\"color: #008080; text-decoration-color: #008080; font-weight: bold\">0</span><span style=\"color: #808000; text-decoration-color: #808000\">...</span>\n",
       "</pre>\n"
      ],
      "text/plain": [
       "\u001b[1;36m2025\u001b[0m-\u001b[1;36m04\u001b[0m-\u001b[1;36m08\u001b[0m \u001b[1;92m10:32:35\u001b[0m.\u001b[1;36m610957\u001b[0m \u001b[1m(\u001b[0mEventType.LOG_INFO\u001b[1m)\u001b[0m: Connecting to robot \u001b[1;36m0\u001b[0m\u001b[33m...\u001b[0m\n"
      ]
     },
     "metadata": {},
     "output_type": "display_data"
    },
    {
     "data": {
      "text/html": [
       "<pre style=\"white-space:pre;overflow-x:auto;line-height:normal;font-family:Menlo,'DejaVu Sans Mono',consolas,'Courier New',monospace\"><span style=\"color: #008080; text-decoration-color: #008080; font-weight: bold\">2025</span>-<span style=\"color: #008080; text-decoration-color: #008080; font-weight: bold\">04</span>-<span style=\"color: #008080; text-decoration-color: #008080; font-weight: bold\">08</span> <span style=\"color: #00ff00; text-decoration-color: #00ff00; font-weight: bold\">10:32:35</span>.<span style=\"color: #008080; text-decoration-color: #008080; font-weight: bold\">614283</span> <span style=\"font-weight: bold\">(</span>EventType.LOG_INFO<span style=\"font-weight: bold\">)</span>: Connected to robot <span style=\"color: #008080; text-decoration-color: #008080; font-weight: bold\">0</span>\n",
       "</pre>\n"
      ],
      "text/plain": [
       "\u001b[1;36m2025\u001b[0m-\u001b[1;36m04\u001b[0m-\u001b[1;36m08\u001b[0m \u001b[1;92m10:32:35\u001b[0m.\u001b[1;36m614283\u001b[0m \u001b[1m(\u001b[0mEventType.LOG_INFO\u001b[1m)\u001b[0m: Connected to robot \u001b[1;36m0\u001b[0m\n"
      ]
     },
     "metadata": {},
     "output_type": "display_data"
    },
    {
     "data": {
      "text/html": [
       "<pre style=\"white-space:pre;overflow-x:auto;line-height:normal;font-family:Menlo,'DejaVu Sans Mono',consolas,'Courier New',monospace\"><span style=\"color: #800080; text-decoration-color: #800080; font-weight: bold\">AdminCommandResponse</span><span style=\"font-weight: bold\">(</span><span style=\"color: #808000; text-decoration-color: #808000\">success</span>=<span style=\"color: #00ff00; text-decoration-color: #00ff00; font-style: italic\">True</span>, <span style=\"color: #808000; text-decoration-color: #808000\">errors</span>=<span style=\"font-weight: bold\">[]</span>, <span style=\"color: #808000; text-decoration-color: #808000\">data</span>=<span style=\"color: #800080; text-decoration-color: #800080; font-style: italic\">None</span><span style=\"font-weight: bold\">)</span>\n",
       "</pre>\n"
      ],
      "text/plain": [
       "\u001b[1;35mAdminCommandResponse\u001b[0m\u001b[1m(\u001b[0m\u001b[33msuccess\u001b[0m=\u001b[3;92mTrue\u001b[0m, \u001b[33merrors\u001b[0m=\u001b[1m[\u001b[0m\u001b[1m]\u001b[0m, \u001b[33mdata\u001b[0m=\u001b[3;35mNone\u001b[0m\u001b[1m)\u001b[0m\n"
      ]
     },
     "metadata": {},
     "output_type": "display_data"
    },
    {
     "data": {
      "text/html": [
       "<pre style=\"white-space:pre;overflow-x:auto;line-height:normal;font-family:Menlo,'DejaVu Sans Mono',consolas,'Courier New',monospace\"><span style=\"color: #008080; text-decoration-color: #008080; font-weight: bold\">2025</span>-<span style=\"color: #008080; text-decoration-color: #008080; font-weight: bold\">04</span>-<span style=\"color: #008080; text-decoration-color: #008080; font-weight: bold\">08</span> <span style=\"color: #00ff00; text-decoration-color: #00ff00; font-weight: bold\">10:32:35</span>.<span style=\"color: #008080; text-decoration-color: #008080; font-weight: bold\">618456</span> <span style=\"font-weight: bold\">(</span>EventType.LOG_INFO<span style=\"font-weight: bold\">)</span>: Startup complete for node example_node.\n",
       "</pre>\n"
      ],
      "text/plain": [
       "\u001b[1;36m2025\u001b[0m-\u001b[1;36m04\u001b[0m-\u001b[1;36m08\u001b[0m \u001b[1;92m10:32:35\u001b[0m.\u001b[1;36m618456\u001b[0m \u001b[1m(\u001b[0mEventType.LOG_INFO\u001b[1m)\u001b[0m: Startup complete for node example_node.\n"
      ]
     },
     "metadata": {},
     "output_type": "display_data"
    },
    {
     "data": {
      "text/html": [
       "<pre style=\"white-space:pre;overflow-x:auto;line-height:normal;font-family:Menlo,'DejaVu Sans Mono',consolas,'Courier New',monospace\"><span style=\"font-weight: bold\">{}</span>\n",
       "</pre>\n"
      ],
      "text/plain": [
       "\u001b[1m{\u001b[0m\u001b[1m}\u001b[0m\n"
      ]
     },
     "metadata": {},
     "output_type": "display_data"
    },
    {
     "data": {
      "text/html": [
       "<pre style=\"white-space:pre;overflow-x:auto;line-height:normal;font-family:Menlo,'DejaVu Sans Mono',consolas,'Courier New',monospace\"><span style=\"color: #008080; text-decoration-color: #008080; font-weight: bold\">2025</span>-<span style=\"color: #008080; text-decoration-color: #008080; font-weight: bold\">04</span>-<span style=\"color: #008080; text-decoration-color: #008080; font-weight: bold\">08</span> <span style=\"color: #00ff00; text-decoration-color: #00ff00; font-weight: bold\">10:32:38</span>.<span style=\"color: #008080; text-decoration-color: #008080; font-weight: bold\">632379</span> <span style=\"font-weight: bold\">(</span>EventType.LOG_INFO<span style=\"font-weight: bold\">)</span>: Disconnecting from robot <span style=\"color: #008080; text-decoration-color: #008080; font-weight: bold\">0</span><span style=\"color: #808000; text-decoration-color: #808000\">...</span>\n",
       "</pre>\n"
      ],
      "text/plain": [
       "\u001b[1;36m2025\u001b[0m-\u001b[1;36m04\u001b[0m-\u001b[1;36m08\u001b[0m \u001b[1;92m10:32:38\u001b[0m.\u001b[1;36m632379\u001b[0m \u001b[1m(\u001b[0mEventType.LOG_INFO\u001b[1m)\u001b[0m: Disconnecting from robot \u001b[1;36m0\u001b[0m\u001b[33m...\u001b[0m\n"
      ]
     },
     "metadata": {},
     "output_type": "display_data"
    },
    {
     "data": {
      "text/html": [
       "<pre style=\"white-space:pre;overflow-x:auto;line-height:normal;font-family:Menlo,'DejaVu Sans Mono',consolas,'Courier New',monospace\"><span style=\"color: #008080; text-decoration-color: #008080; font-weight: bold\">2025</span>-<span style=\"color: #008080; text-decoration-color: #008080; font-weight: bold\">04</span>-<span style=\"color: #008080; text-decoration-color: #008080; font-weight: bold\">08</span> <span style=\"color: #00ff00; text-decoration-color: #00ff00; font-weight: bold\">10:32:38</span>.<span style=\"color: #008080; text-decoration-color: #008080; font-weight: bold\">634765</span> <span style=\"font-weight: bold\">(</span>EventType.LOG_INFO<span style=\"font-weight: bold\">)</span>: Disconnected from robot <span style=\"color: #008080; text-decoration-color: #008080; font-weight: bold\">0</span>\n",
       "</pre>\n"
      ],
      "text/plain": [
       "\u001b[1;36m2025\u001b[0m-\u001b[1;36m04\u001b[0m-\u001b[1;36m08\u001b[0m \u001b[1;92m10:32:38\u001b[0m.\u001b[1;36m634765\u001b[0m \u001b[1m(\u001b[0mEventType.LOG_INFO\u001b[1m)\u001b[0m: Disconnected from robot \u001b[1;36m0\u001b[0m\n"
      ]
     },
     "metadata": {},
     "output_type": "display_data"
    }
   ],
   "source": [
    "# * Admin Command Example: Locking, Unlocking, and Reseting the Node\n",
    "with node_client(example_node, RestNodeClient(url=\"http://localhost:2000\")) as client:\n",
    "    while not client.get_status().ready:\n",
    "        # Wait for the node to be ready\n",
    "        time.sleep(0.1)\n",
    "    print(client.send_admin_command(\"lock\"))\n",
    "    request = ActionRequest(\n",
    "        action_name=\"move_joints\",\n",
    "        args={\"joint_angles\": [0.5, 0.5, 0.5, 0.5]},\n",
    "    )\n",
    "    # Send the action request to the node\n",
    "    print(client.send_action(request))\n",
    "    print(client.send_admin_command(\"unlock\"))\n",
    "    # Send the action request to the node again\n",
    "    print(client.send_action(request))\n",
    "\n",
    "    # * Admin Command Example: Resetting the Node\n",
    "    print(client.send_admin_command(\"reset\"))\n",
    "    while not client.get_status().ready:\n",
    "        # Wait for the node to be ready\n",
    "        time.sleep(0.1)\n",
    "    time.sleep(3)\n",
    "    print(client.get_state())"
   ]
  },
  {
   "cell_type": "code",
   "execution_count": null,
   "metadata": {},
   "outputs": [],
   "source": []
  }
 ],
 "metadata": {
  "kernelspec": {
   "display_name": ".venv",
   "language": "python",
   "name": "python3"
  },
  "language_info": {
   "codemirror_mode": {
    "name": "ipython",
    "version": 3
   },
   "file_extension": ".py",
   "mimetype": "text/x-python",
   "name": "python",
   "nbconvert_exporter": "python",
   "pygments_lexer": "ipython3",
   "version": "3.11.8"
  },
  "polyglot_notebook": {
   "kernelInfo": {
    "defaultKernelName": "csharp",
    "items": [
     {
      "aliases": [],
      "name": "csharp"
     }
    ]
   }
  }
 },
 "nbformat": 4,
 "nbformat_minor": 2
}
